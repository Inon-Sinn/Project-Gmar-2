{
 "cells": [
  {
   "cell_type": "markdown",
   "metadata": {},
   "source": [
    "# ------------------------------------------------------------------------------------------------------------"
   ]
  },
  {
   "cell_type": "markdown",
   "metadata": {},
   "source": [
    "# Final Project Year 1 Semester 1"
   ]
  },
  {
   "cell_type": "markdown",
   "metadata": {},
   "source": [
    "# ------------------------------------------------------------------------------------------------------------"
   ]
  },
  {
   "cell_type": "markdown",
   "metadata": {},
   "source": [
    "<center> <h1>Target Classification for a Market Campaign</h1> </center>"
   ]
  },
  {
   "cell_type": "markdown",
   "metadata": {},
   "source": [
    "### What is this dataset trying to predict?<br>\n",
    "If given data about a client we can predict if he will subsrice to a term deposit or not\n",
    "\n",
    "### What is a Term depost?<br>\n",
    "In a normal bank acount the client has the option to witdraw money from the acount at any given time.<br> A Term deposit is a fixed-term investment which means the client has to leave money in the bank without the option to withdraw from it for a fixed period/\n",
    "\n",
    "### What is in it for me and  the bank?\n",
    "The Banks are willing to pay more interest for a term deposit.<br>\n",
    "The money will stay deposited for a fixed time period, This helps them better manage their money."
   ]
  },
  {
   "cell_type": "markdown",
   "metadata": {},
   "source": [
    "## Feature Description"
   ]
  },
  {
   "cell_type": "markdown",
   "metadata": {},
   "source": [
    "### Bank client data\n",
    "\n",
    "Age: age of the client\n",
    "\n",
    "Job: type of job :admin, blue-collar, entrepreneur, housemaid, management, retired, self-employed, services, student, technician, unemployed, unknown\n",
    "\n",
    "Marital: is the martial status of the client:married,single,divorced\n",
    "\n",
    "Education: the level of education of the target: primary(elemetary school),secondary(middle school or high school in US),tertiary (any level of education pursued beyond high school),unknown\n",
    "\n",
    "Default: has credit in default?\n",
    "\n",
    "Balance: The clients saving in the bank\n",
    "\n",
    "Housing: has housing loan?\n",
    "\n",
    "loan: has personal loan?\n",
    "\n",
    "\n",
    "### Related to last contact of current campaign:\n",
    "\n",
    "Contact: contact communication type: cellular, telephone\n",
    "\n",
    "Day:  last contact day of the month : mon, tue, wed , thu , fri\n",
    "\n",
    "Month:  last contact month of year: jan, feb,...., nov, dec.\n",
    "\n",
    "Duration:  last contact duration, in seconds (numeric). this feature affects the model to much cause it basically we want to predict to answer before the last contact.\n",
    "\n",
    "### Other attributes\n",
    "\n",
    "Campaign: number of contacts performed during this campaign and for this client(includes last contact)\n",
    "\n",
    "Pdays: number of days that passed by after the client was last contacted from a previous campaign (-1 means 'was not previously contacted)\n",
    "\n",
    "Previous: number of contacts performed before this campaign and for this client\n",
    "\n",
    "Poutcome: outcome of the previous marketing campaign -failure, nonexistent, success\n",
    "\n",
    "### Target\n",
    "\n",
    "deposit: Tells if the bank client subscribed a term depsit"
   ]
  },
  {
   "cell_type": "markdown",
   "metadata": {},
   "source": [
    "## Libraries :"
   ]
  },
  {
   "cell_type": "code",
   "execution_count": 2,
   "metadata": {},
   "outputs": [],
   "source": [
    "import numpy as np\n",
    "import pandas as pd\n",
    "import matplotlib.pyplot as plt\n",
    "%matplotlib inline\n",
    "from matplotlib import pyplot\n",
    "import seaborn as sns\n",
    "from sklearn.preprocessing import OneHotEncoder, LabelEncoder\n",
    "from sklearn.model_selection import train_test_split\n",
    "from sklearn.neighbors import KNeighborsClassifier\n",
    "from sklearn.linear_model import LogisticRegression\n",
    "from sklearn.metrics import confusion_matrix\n",
    "from sklearn.metrics import classification_report\n",
    "from sklearn.metrics import accuracy_score\n",
    "from sklearn.tree import DecisionTreeClassifier"
   ]
  },
  {
   "cell_type": "markdown",
   "metadata": {},
   "source": [
    "## First look"
   ]
  },
  {
   "cell_type": "code",
   "execution_count": 3,
   "metadata": {
    "scrolled": true
   },
   "outputs": [
    {
     "data": {
      "text/html": [
       "<div>\n",
       "<style scoped>\n",
       "    .dataframe tbody tr th:only-of-type {\n",
       "        vertical-align: middle;\n",
       "    }\n",
       "\n",
       "    .dataframe tbody tr th {\n",
       "        vertical-align: top;\n",
       "    }\n",
       "\n",
       "    .dataframe thead th {\n",
       "        text-align: right;\n",
       "    }\n",
       "</style>\n",
       "<table border=\"1\" class=\"dataframe\">\n",
       "  <thead>\n",
       "    <tr style=\"text-align: right;\">\n",
       "      <th></th>\n",
       "      <th>age</th>\n",
       "      <th>job</th>\n",
       "      <th>marital</th>\n",
       "      <th>education</th>\n",
       "      <th>default</th>\n",
       "      <th>balance</th>\n",
       "      <th>housing</th>\n",
       "      <th>loan</th>\n",
       "      <th>contact</th>\n",
       "      <th>day</th>\n",
       "      <th>month</th>\n",
       "      <th>duration</th>\n",
       "      <th>campaign</th>\n",
       "      <th>pdays</th>\n",
       "      <th>previous</th>\n",
       "      <th>poutcome</th>\n",
       "      <th>deposit</th>\n",
       "    </tr>\n",
       "  </thead>\n",
       "  <tbody>\n",
       "    <tr>\n",
       "      <th>0</th>\n",
       "      <td>59</td>\n",
       "      <td>admin.</td>\n",
       "      <td>married</td>\n",
       "      <td>secondary</td>\n",
       "      <td>no</td>\n",
       "      <td>2343</td>\n",
       "      <td>yes</td>\n",
       "      <td>no</td>\n",
       "      <td>unknown</td>\n",
       "      <td>5</td>\n",
       "      <td>may</td>\n",
       "      <td>1042</td>\n",
       "      <td>1</td>\n",
       "      <td>-1</td>\n",
       "      <td>0</td>\n",
       "      <td>unknown</td>\n",
       "      <td>yes</td>\n",
       "    </tr>\n",
       "    <tr>\n",
       "      <th>1</th>\n",
       "      <td>56</td>\n",
       "      <td>admin.</td>\n",
       "      <td>married</td>\n",
       "      <td>secondary</td>\n",
       "      <td>no</td>\n",
       "      <td>45</td>\n",
       "      <td>no</td>\n",
       "      <td>no</td>\n",
       "      <td>unknown</td>\n",
       "      <td>5</td>\n",
       "      <td>may</td>\n",
       "      <td>1467</td>\n",
       "      <td>1</td>\n",
       "      <td>-1</td>\n",
       "      <td>0</td>\n",
       "      <td>unknown</td>\n",
       "      <td>yes</td>\n",
       "    </tr>\n",
       "    <tr>\n",
       "      <th>2</th>\n",
       "      <td>41</td>\n",
       "      <td>technician</td>\n",
       "      <td>married</td>\n",
       "      <td>secondary</td>\n",
       "      <td>no</td>\n",
       "      <td>1270</td>\n",
       "      <td>yes</td>\n",
       "      <td>no</td>\n",
       "      <td>unknown</td>\n",
       "      <td>5</td>\n",
       "      <td>may</td>\n",
       "      <td>1389</td>\n",
       "      <td>1</td>\n",
       "      <td>-1</td>\n",
       "      <td>0</td>\n",
       "      <td>unknown</td>\n",
       "      <td>yes</td>\n",
       "    </tr>\n",
       "    <tr>\n",
       "      <th>3</th>\n",
       "      <td>55</td>\n",
       "      <td>services</td>\n",
       "      <td>married</td>\n",
       "      <td>secondary</td>\n",
       "      <td>no</td>\n",
       "      <td>2476</td>\n",
       "      <td>yes</td>\n",
       "      <td>no</td>\n",
       "      <td>unknown</td>\n",
       "      <td>5</td>\n",
       "      <td>may</td>\n",
       "      <td>579</td>\n",
       "      <td>1</td>\n",
       "      <td>-1</td>\n",
       "      <td>0</td>\n",
       "      <td>unknown</td>\n",
       "      <td>yes</td>\n",
       "    </tr>\n",
       "    <tr>\n",
       "      <th>4</th>\n",
       "      <td>54</td>\n",
       "      <td>admin.</td>\n",
       "      <td>married</td>\n",
       "      <td>tertiary</td>\n",
       "      <td>no</td>\n",
       "      <td>184</td>\n",
       "      <td>no</td>\n",
       "      <td>no</td>\n",
       "      <td>unknown</td>\n",
       "      <td>5</td>\n",
       "      <td>may</td>\n",
       "      <td>673</td>\n",
       "      <td>2</td>\n",
       "      <td>-1</td>\n",
       "      <td>0</td>\n",
       "      <td>unknown</td>\n",
       "      <td>yes</td>\n",
       "    </tr>\n",
       "  </tbody>\n",
       "</table>\n",
       "</div>"
      ],
      "text/plain": [
       "   age         job  marital  education default  balance housing loan  contact  \\\n",
       "0   59      admin.  married  secondary      no     2343     yes   no  unknown   \n",
       "1   56      admin.  married  secondary      no       45      no   no  unknown   \n",
       "2   41  technician  married  secondary      no     1270     yes   no  unknown   \n",
       "3   55    services  married  secondary      no     2476     yes   no  unknown   \n",
       "4   54      admin.  married   tertiary      no      184      no   no  unknown   \n",
       "\n",
       "   day month  duration  campaign  pdays  previous poutcome deposit  \n",
       "0    5   may      1042         1     -1         0  unknown     yes  \n",
       "1    5   may      1467         1     -1         0  unknown     yes  \n",
       "2    5   may      1389         1     -1         0  unknown     yes  \n",
       "3    5   may       579         1     -1         0  unknown     yes  \n",
       "4    5   may       673         2     -1         0  unknown     yes  "
      ]
     },
     "execution_count": 3,
     "metadata": {},
     "output_type": "execute_result"
    }
   ],
   "source": [
    "bank = pd.read_csv('csv folder/bank.csv')\n",
    "bank.head()"
   ]
  },
  {
   "cell_type": "code",
   "execution_count": 37,
   "metadata": {
    "scrolled": true
   },
   "outputs": [
    {
     "data": {
      "text/plain": [
       "(11162, 17)"
      ]
     },
     "execution_count": 37,
     "metadata": {},
     "output_type": "execute_result"
    }
   ],
   "source": [
    "bank.shape"
   ]
  },
  {
   "cell_type": "markdown",
   "metadata": {},
   "source": [
    "<center> <h1>Data preprocessing</h1> </center>"
   ]
  },
  {
   "cell_type": "markdown",
   "metadata": {},
   "source": [
    "**Steps involves in Data Preprocessing**\n",
    "- Data Cleaning\n",
    "- Identifying and removing outliers(visulazition)\n",
    "- Endcoding categorial variables"
   ]
  },
  {
   "cell_type": "markdown",
   "metadata": {},
   "source": [
    "### Data Cleaning"
   ]
  },
  {
   "cell_type": "code",
   "execution_count": 72,
   "metadata": {},
   "outputs": [
    {
     "name": "stdout",
     "output_type": "stream",
     "text": [
      "<class 'pandas.core.frame.DataFrame'>\n",
      "RangeIndex: 11162 entries, 0 to 11161\n",
      "Data columns (total 17 columns):\n",
      " #   Column     Non-Null Count  Dtype \n",
      "---  ------     --------------  ----- \n",
      " 0   age        11162 non-null  int64 \n",
      " 1   job        11162 non-null  object\n",
      " 2   marital    11162 non-null  object\n",
      " 3   education  11162 non-null  object\n",
      " 4   default    11162 non-null  object\n",
      " 5   balance    11162 non-null  int64 \n",
      " 6   housing    11162 non-null  object\n",
      " 7   loan       11162 non-null  object\n",
      " 8   contact    11162 non-null  object\n",
      " 9   day        11162 non-null  int64 \n",
      " 10  month      11162 non-null  object\n",
      " 11  duration   11162 non-null  int64 \n",
      " 12  campaign   11162 non-null  int64 \n",
      " 13  pdays      11162 non-null  int64 \n",
      " 14  previous   11162 non-null  int64 \n",
      " 15  poutcome   11162 non-null  object\n",
      " 16  deposit    11162 non-null  object\n",
      "dtypes: int64(7), object(10)\n",
      "memory usage: 1.4+ MB\n"
     ]
    }
   ],
   "source": [
    "bank.info()"
   ]
  },
  {
   "cell_type": "markdown",
   "metadata": {},
   "source": [
    "There data seems already clean, lets check!"
   ]
  },
  {
   "cell_type": "code",
   "execution_count": 73,
   "metadata": {
    "scrolled": true
   },
   "outputs": [
    {
     "data": {
      "text/plain": [
       "age          0\n",
       "job          0\n",
       "marital      0\n",
       "education    0\n",
       "default      0\n",
       "balance      0\n",
       "housing      0\n",
       "loan         0\n",
       "contact      0\n",
       "day          0\n",
       "month        0\n",
       "duration     0\n",
       "campaign     0\n",
       "pdays        0\n",
       "previous     0\n",
       "poutcome     0\n",
       "deposit      0\n",
       "dtype: int64"
      ]
     },
     "execution_count": 73,
     "metadata": {},
     "output_type": "execute_result"
    }
   ],
   "source": [
    "bank.isnull().sum()"
   ]
  },
  {
   "cell_type": "markdown",
   "metadata": {},
   "source": [
    "Yes, the data is alreday clean"
   ]
  },
  {
   "cell_type": "markdown",
   "metadata": {},
   "source": [
    "### Identifying and removing outliers"
   ]
  },
  {
   "cell_type": "markdown",
   "metadata": {},
   "source": [
    "The first thing we have to do is to drop the feature 'duration' which is the duration of the last contact\n",
    "which gives us too much knowledge of the answer and as same time we want to predict if the client subscribes for term deposit before our last contact with him."
   ]
  },
  {
   "cell_type": "code",
   "execution_count": 210,
   "metadata": {},
   "outputs": [
    {
     "name": "stdout",
     "output_type": "stream",
     "text": [
      "<class 'pandas.core.frame.DataFrame'>\n",
      "RangeIndex: 11162 entries, 0 to 11161\n",
      "Data columns (total 16 columns):\n",
      " #   Column     Non-Null Count  Dtype \n",
      "---  ------     --------------  ----- \n",
      " 0   age        11162 non-null  int64 \n",
      " 1   job        11162 non-null  object\n",
      " 2   marital    11162 non-null  object\n",
      " 3   education  11162 non-null  object\n",
      " 4   default    11162 non-null  object\n",
      " 5   balance    11162 non-null  int64 \n",
      " 6   housing    11162 non-null  object\n",
      " 7   loan       11162 non-null  object\n",
      " 8   contact    11162 non-null  object\n",
      " 9   day        11162 non-null  int64 \n",
      " 10  month      11162 non-null  object\n",
      " 11  campaign   11162 non-null  int64 \n",
      " 12  pdays      11162 non-null  int64 \n",
      " 13  previous   11162 non-null  int64 \n",
      " 14  poutcome   11162 non-null  object\n",
      " 15  deposit    11162 non-null  object\n",
      "dtypes: int64(6), object(10)\n",
      "memory usage: 1.4+ MB\n"
     ]
    }
   ],
   "source": [
    "bank = bank.drop(['duration'], axis = 1)\n",
    "bank.info()"
   ]
  },
  {
   "cell_type": "code",
   "execution_count": 211,
   "metadata": {},
   "outputs": [
    {
     "data": {
      "text/html": [
       "<div>\n",
       "<style scoped>\n",
       "    .dataframe tbody tr th:only-of-type {\n",
       "        vertical-align: middle;\n",
       "    }\n",
       "\n",
       "    .dataframe tbody tr th {\n",
       "        vertical-align: top;\n",
       "    }\n",
       "\n",
       "    .dataframe thead th {\n",
       "        text-align: right;\n",
       "    }\n",
       "</style>\n",
       "<table border=\"1\" class=\"dataframe\">\n",
       "  <thead>\n",
       "    <tr style=\"text-align: right;\">\n",
       "      <th></th>\n",
       "      <th>age</th>\n",
       "      <th>balance</th>\n",
       "      <th>day</th>\n",
       "      <th>campaign</th>\n",
       "      <th>pdays</th>\n",
       "      <th>previous</th>\n",
       "    </tr>\n",
       "  </thead>\n",
       "  <tbody>\n",
       "    <tr>\n",
       "      <th>count</th>\n",
       "      <td>11162.000000</td>\n",
       "      <td>11162.000000</td>\n",
       "      <td>11162.000000</td>\n",
       "      <td>11162.000000</td>\n",
       "      <td>11162.000000</td>\n",
       "      <td>11162.000000</td>\n",
       "    </tr>\n",
       "    <tr>\n",
       "      <th>mean</th>\n",
       "      <td>41.231948</td>\n",
       "      <td>1528.538524</td>\n",
       "      <td>15.658036</td>\n",
       "      <td>2.508421</td>\n",
       "      <td>51.330407</td>\n",
       "      <td>0.832557</td>\n",
       "    </tr>\n",
       "    <tr>\n",
       "      <th>std</th>\n",
       "      <td>11.913369</td>\n",
       "      <td>3225.413326</td>\n",
       "      <td>8.420740</td>\n",
       "      <td>2.722077</td>\n",
       "      <td>108.758282</td>\n",
       "      <td>2.292007</td>\n",
       "    </tr>\n",
       "    <tr>\n",
       "      <th>min</th>\n",
       "      <td>18.000000</td>\n",
       "      <td>-6847.000000</td>\n",
       "      <td>1.000000</td>\n",
       "      <td>1.000000</td>\n",
       "      <td>-1.000000</td>\n",
       "      <td>0.000000</td>\n",
       "    </tr>\n",
       "    <tr>\n",
       "      <th>25%</th>\n",
       "      <td>32.000000</td>\n",
       "      <td>122.000000</td>\n",
       "      <td>8.000000</td>\n",
       "      <td>1.000000</td>\n",
       "      <td>-1.000000</td>\n",
       "      <td>0.000000</td>\n",
       "    </tr>\n",
       "    <tr>\n",
       "      <th>50%</th>\n",
       "      <td>39.000000</td>\n",
       "      <td>550.000000</td>\n",
       "      <td>15.000000</td>\n",
       "      <td>2.000000</td>\n",
       "      <td>-1.000000</td>\n",
       "      <td>0.000000</td>\n",
       "    </tr>\n",
       "    <tr>\n",
       "      <th>75%</th>\n",
       "      <td>49.000000</td>\n",
       "      <td>1708.000000</td>\n",
       "      <td>22.000000</td>\n",
       "      <td>3.000000</td>\n",
       "      <td>20.750000</td>\n",
       "      <td>1.000000</td>\n",
       "    </tr>\n",
       "    <tr>\n",
       "      <th>max</th>\n",
       "      <td>95.000000</td>\n",
       "      <td>81204.000000</td>\n",
       "      <td>31.000000</td>\n",
       "      <td>63.000000</td>\n",
       "      <td>854.000000</td>\n",
       "      <td>58.000000</td>\n",
       "    </tr>\n",
       "  </tbody>\n",
       "</table>\n",
       "</div>"
      ],
      "text/plain": [
       "                age       balance           day      campaign         pdays  \\\n",
       "count  11162.000000  11162.000000  11162.000000  11162.000000  11162.000000   \n",
       "mean      41.231948   1528.538524     15.658036      2.508421     51.330407   \n",
       "std       11.913369   3225.413326      8.420740      2.722077    108.758282   \n",
       "min       18.000000  -6847.000000      1.000000      1.000000     -1.000000   \n",
       "25%       32.000000    122.000000      8.000000      1.000000     -1.000000   \n",
       "50%       39.000000    550.000000     15.000000      2.000000     -1.000000   \n",
       "75%       49.000000   1708.000000     22.000000      3.000000     20.750000   \n",
       "max       95.000000  81204.000000     31.000000     63.000000    854.000000   \n",
       "\n",
       "           previous  \n",
       "count  11162.000000  \n",
       "mean       0.832557  \n",
       "std        2.292007  \n",
       "min        0.000000  \n",
       "25%        0.000000  \n",
       "50%        0.000000  \n",
       "75%        1.000000  \n",
       "max       58.000000  "
      ]
     },
     "execution_count": 211,
     "metadata": {},
     "output_type": "execute_result"
    }
   ],
   "source": [
    "bank.describe()"
   ]
  },
  {
   "cell_type": "code",
   "execution_count": 306,
   "metadata": {},
   "outputs": [
    {
     "data": {
      "text/plain": [
       "11118"
      ]
     },
     "execution_count": 306,
     "metadata": {},
     "output_type": "execute_result"
    }
   ],
   "source": [
    "bank.age.count()"
   ]
  },
  {
   "cell_type": "markdown",
   "metadata": {},
   "source": [
    "This guves us an even better picture about the datasets and the clients\n",
    "1. About Age we can tell that most clients are between 30 and 50 with the mean and std \n",
    "2. We know all clients are at a legal age(18 and above)thanks to min\n",
    "3. The mean in ballance is 1528 while median is just 550 and max is at 81k this is still in the realm of possibility\n",
    "4. most clients havent been contacted for at least half a month(day, mean)\n",
    "5. all clients have been contacted at least 1 time (campaign, min)\n",
    "6. mean of pdays is at 51 yet median at -1 which even 75% is just at 20, some clients had a lot of inluenc of the mean, some cap has to be put\n",
    "7. more than half of the clients have never been contacted in the previous campaign (pdays, 50%)"
   ]
  },
  {
   "cell_type": "code",
   "execution_count": 268,
   "metadata": {
    "scrolled": false
   },
   "outputs": [
    {
     "data": {
      "text/plain": [
       "age            76\n",
       "job            12\n",
       "marital         3\n",
       "education       4\n",
       "default         2\n",
       "balance      3798\n",
       "housing         2\n",
       "loan            2\n",
       "contact         3\n",
       "day            31\n",
       "month          12\n",
       "campaign       36\n",
       "pdays         431\n",
       "previous       32\n",
       "poutcome        4\n",
       "deposit         2\n",
       "dtype: int64"
      ]
     },
     "execution_count": 268,
     "metadata": {},
     "output_type": "execute_result"
    }
   ],
   "source": [
    "#lest check if there is a Feature with only one value\n",
    "bank.nunique()"
   ]
  },
  {
   "cell_type": "code",
   "execution_count": 212,
   "metadata": {
    "scrolled": false
   },
   "outputs": [
    {
     "data": {
      "image/png": "[encoded data removed]",
      "text/plain": [
       "<Figure size 1440x1080 with 6 Axes>"
      ]
     },
     "metadata": {
      "needs_background": "light"
     },
     "output_type": "display_data"
    }
   ],
   "source": [
    "bank.hist(bins=50, figsize = (20,15))\n",
    "plt.show()"
   ]
  },
  {
   "cell_type": "markdown",
   "metadata": {},
   "source": [
    "Some thinks seem to be diffrent when we watch the histograms\n",
    "1. The mean for balance seems to be influced by people with a lot money \n",
    "2. we can clearly see that most have probably never been contacted and the ones with over half a year of no contact wil probaly not want one any more.\n",
    "3. Prevous seems to have some anomolys\n"
   ]
  },
  {
   "cell_type": "code",
   "execution_count": 318,
   "metadata": {
    "scrolled": true
   },
   "outputs": [
    {
     "data": {
      "text/plain": [
       "<AxesSubplot:xlabel='age'>"
      ]
     },
     "execution_count": 318,
     "metadata": {},
     "output_type": "execute_result"
    },
    {
     "data": {
      "image/png": "[encoded data removed]",
      "text/plain": [
       "<Figure size 432x288 with 1 Axes>"
      ]
     },
     "metadata": {
      "needs_background": "light"
     },
     "output_type": "display_data"
    }
   ],
   "source": [
    "#we need to know what is the amount of anomolys\n",
    "sns.boxplot(x = 'age', data = bank)"
   ]
  },
  {
   "cell_type": "code",
   "execution_count": 345,
   "metadata": {
    "scrolled": false
   },
   "outputs": [
    {
     "name": "stdout",
     "output_type": "stream",
     "text": [
      "numer of anomolys above and 75: 171\n",
      "numer of anomolys above and 80: 72\n",
      "numer of anomolys above and 85: 24\n",
      "numer of anomolys above and 90: 7\n"
     ]
    }
   ],
   "source": [
    "print(\"numer of anomolys above and 75:\",format((bank.age >=75).sum()))\n",
    "print(\"numer of anomolys above and 80:\",format((bank.age >=80).sum()))\n",
    "print(\"numer of anomolys above and 85:\",format((bank.age >=85).sum()))\n",
    "print(\"numer of anomolys above and 90:\",format((bank.age >=90).sum()))"
   ]
  },
  {
   "cell_type": "code",
   "execution_count": 326,
   "metadata": {},
   "outputs": [
    {
     "data": {
      "text/plain": [
       "<AxesSubplot:xlabel='balance'>"
      ]
     },
     "execution_count": 326,
     "metadata": {},
     "output_type": "execute_result"
    },
    {
     "data": {
      "image/png": "[encoded data removed]",
      "text/plain": [
       "<Figure size 432x288 with 1 Axes>"
      ]
     },
     "metadata": {
      "needs_background": "light"
     },
     "output_type": "display_data"
    }
   ],
   "source": [
    "sns.boxplot(x = 'balance', data=bank)"
   ]
  },
  {
   "cell_type": "code",
   "execution_count": 328,
   "metadata": {},
   "outputs": [
    {
     "name": "stdout",
     "output_type": "stream",
     "text": [
      "numer of anomolys above 40k: 8\n",
      "numer of anomolys above 30k: 16\n",
      "numer of anomolys above 20k: 57\n",
      "numer of anomolys above 10k: 227 which is  0.02 % of the data set\n"
     ]
    }
   ],
   "source": [
    "#there seem to be some heavier anomolys from 40k and on\n",
    "print(\"numer of anomolys above 40k:\",format((bank.balance >40000).sum()))\n",
    "print(\"numer of anomolys above 30k:\",format((bank.balance >30000).sum()))\n",
    "print(\"numer of anomolys above 20k:\",format((bank.balance >20000).sum()))\n",
    "print(\"numer of anomolys above 10k:\",format((bank.balance >10000).sum()),\"which is \",round((bank.balance >10000).sum()/bank.age.count(),3),\"% of the data set\")"
   ]
  },
  {
   "cell_type": "code",
   "execution_count": 329,
   "metadata": {},
   "outputs": [
    {
     "data": {
      "text/plain": [
       "<AxesSubplot:xlabel='campaign'>"
      ]
     },
     "execution_count": 329,
     "metadata": {},
     "output_type": "execute_result"
    },
    {
     "data": {
      "image/png": "[encoded data removed]",
      "text/plain": [
       "<Figure size 432x288 with 1 Axes>"
      ]
     },
     "metadata": {
      "needs_background": "light"
     },
     "output_type": "display_data"
    }
   ],
   "source": [
    "sns.boxplot(x = 'campaign', data=bank)"
   ]
  },
  {
   "cell_type": "code",
   "execution_count": 336,
   "metadata": {},
   "outputs": [
    {
     "name": "stdout",
     "output_type": "stream",
     "text": [
      "numer of anomolys above 30: 8\n",
      "numer of anomolys above 20: 42\n",
      "numer of anomolys above 10: 210\n"
     ]
    }
   ],
   "source": [
    "print(\"numer of anomolys above 30:\",format((bank.campaign >30).sum()))\n",
    "print(\"numer of anomolys above 20:\",format((bank.campaign >20).sum()))\n",
    "print(\"numer of anomolys above 10:\",format((bank.campaign >10).sum()))"
   ]
  },
  {
   "cell_type": "code",
   "execution_count": 346,
   "metadata": {},
   "outputs": [
    {
     "data": {
      "text/plain": [
       "<AxesSubplot:xlabel='previous'>"
      ]
     },
     "execution_count": 346,
     "metadata": {},
     "output_type": "execute_result"
    },
    {
     "data": {
      "image/png": "[encoded data removed]",
      "text/plain": [
       "<Figure size 432x288 with 1 Axes>"
      ]
     },
     "metadata": {
      "needs_background": "light"
     },
     "output_type": "display_data"
    }
   ],
   "source": [
    "sns.boxplot(x = 'previous', data=bank)"
   ]
  },
  {
   "cell_type": "code",
   "execution_count": 354,
   "metadata": {},
   "outputs": [
    {
     "name": "stdout",
     "output_type": "stream",
     "text": [
      "numer of anomolys above 30: 5\n",
      "numer of anomolys above 20: 15\n",
      "numer of anomolys above 10: 96\n"
     ]
    }
   ],
   "source": [
    "print(\"numer of anomolys above 30:\",format((bank.previous >30).sum()))\n",
    "print(\"numer of anomolys above 20:\",format((bank.previous >20).sum()))\n",
    "print(\"numer of anomolys above 10:\",format((bank.previous >10).sum()))"
   ]
  },
  {
   "cell_type": "code",
   "execution_count": 351,
   "metadata": {},
   "outputs": [
    {
     "data": {
      "text/plain": [
       "<AxesSubplot:xlabel='pdays'>"
      ]
     },
     "execution_count": 351,
     "metadata": {},
     "output_type": "execute_result"
    },
    {
     "data": {
      "image/png": "[encoded data removed]",
      "text/plain": [
       "<Figure size 432x288 with 1 Axes>"
      ]
     },
     "metadata": {
      "needs_background": "light"
     },
     "output_type": "display_data"
    }
   ],
   "source": [
    "sns.boxplot(x = 'pdays', data=bank)"
   ]
  },
  {
   "cell_type": "code",
   "execution_count": 353,
   "metadata": {},
   "outputs": [
    {
     "name": "stdout",
     "output_type": "stream",
     "text": [
      "number of anomolys with pday above half a year: 44\n",
      "number of anomolys with pday above w year: 19\n"
     ]
    }
   ],
   "source": [
    "print(\"number of anomolys with pday above half a year:\",format((bank.pdays > 534).sum()))\n",
    "print(\"number of anomolys with pday above w year:\",format((bank.pdays > 712).sum()))"
   ]
  },
  {
   "cell_type": "markdown",
   "metadata": {},
   "source": [
    "We have seen that the Data set has huge amount anomolys but that only means when probably cant look at them like anomolys, but i still want to put some cap on the data set because there seem to be anomolys in anomolys\n",
    "\n",
    "**Who will be removed by the cap**\n",
    "- Age: clients above 90\n",
    "- Balance: clients with balance higher than 40k\n",
    "- Campaign: clients above 30\n",
    "- Previous: clients above 30\n",
    "- Pdays: clients above 2 years"
   ]
  },
  {
   "cell_type": "code",
   "execution_count": 355,
   "metadata": {},
   "outputs": [],
   "source": [
    "bank = bank.drop(bank[bank['age'] > 90].index)\n",
    "bank = bank.drop(bank[bank['balance'] > 40000].index)\n",
    "bank = bank.drop(bank[bank['campaign'] > 30].index)\n",
    "bank = bank.drop(bank[bank['previous'] > 30].index)\n",
    "bank = bank.drop(bank[bank['pdays'] > 712].index)"
   ]
  },
  {
   "cell_type": "markdown",
   "metadata": {},
   "source": [
    "### Lets look at categoric data"
   ]
  },
  {
   "cell_type": "code",
   "execution_count": 358,
   "metadata": {},
   "outputs": [
    {
     "data": {
      "text/plain": [
       "<seaborn.axisgrid.FacetGrid at 0x208b8782af0>"
      ]
     },
     "execution_count": 358,
     "metadata": {},
     "output_type": "execute_result"
    },
    {
     "data": {
      "image/png": "[encoded data removed]",
      "text/plain": [
       "<Figure size 360x360 with 1 Axes>"
      ]
     },
     "metadata": {
      "needs_background": "light"
     },
     "output_type": "display_data"
    }
   ],
   "source": [
    "sns.catplot(x = \"deposit\", kind = \"count\", palette = \"YlOrBr\" , data = bank)"
   ]
  },
  {
   "cell_type": "markdown",
   "metadata": {},
   "source": [
    "The data set seem the be fairly distrubaited in terms of deposit"
   ]
  },
  {
   "cell_type": "code",
   "execution_count": 402,
   "metadata": {},
   "outputs": [
    {
     "data": {
      "text/plain": [
       "<seaborn.axisgrid.FacetGrid at 0x208b65c4280>"
      ]
     },
     "execution_count": 402,
     "metadata": {},
     "output_type": "execute_result"
    },
    {
     "data": {
      "image/png": "[encoded data removed]",
      "text/plain": [
       "<Figure size 413.25x360 with 1 Axes>"
      ]
     },
     "metadata": {
      "needs_background": "light"
     },
     "output_type": "display_data"
    }
   ],
   "source": [
    "sns.catplot(x = \"marital\", kind = \"count\",hue=\"deposit\", palette = \"YlOrBr\" , data = bank)"
   ]
  },
  {
   "cell_type": "markdown",
   "metadata": {},
   "source": [
    "- Single people are actullay the most likely to term a deposit\n",
    "- More than half of Married and divored people dont got a deposit"
   ]
  },
  {
   "cell_type": "code",
   "execution_count": 405,
   "metadata": {},
   "outputs": [
    {
     "data": {
      "text/plain": [
       "<seaborn.axisgrid.FacetGrid at 0x208b5c1da30>"
      ]
     },
     "execution_count": 405,
     "metadata": {},
     "output_type": "execute_result"
    },
    {
     "data": {
      "image/png": "[encoded data removed]",
      "text/plain": [
       "<Figure size 413.25x360 with 1 Axes>"
      ]
     },
     "metadata": {
      "needs_background": "light"
     },
     "output_type": "display_data"
    }
   ],
   "source": [
    "sns.catplot(x = \"education\", kind = \"count\",hue=\"deposit\", palette = \"YlOrBr\" , data = bank)"
   ]
  },
  {
   "cell_type": "markdown",
   "metadata": {},
   "source": [
    "A higher education rises the probablity to subcribe to a term deposit"
   ]
  },
  {
   "cell_type": "code",
   "execution_count": 408,
   "metadata": {},
   "outputs": [
    {
     "data": {
      "text/plain": [
       "<seaborn.axisgrid.FacetGrid at 0x208b65c4d60>"
      ]
     },
     "execution_count": 408,
     "metadata": {},
     "output_type": "execute_result"
    },
    {
     "data": {
      "image/png": "[encoded data removed]",
      "text/plain": [
       "<Figure size 360x360 with 1 Axes>"
      ]
     },
     "metadata": {
      "needs_background": "light"
     },
     "output_type": "display_data"
    }
   ],
   "source": [
    "sns.catplot(x = \"education\",y='balance', palette = \"YlOrBr\" , data = bank)"
   ]
  },
  {
   "cell_type": "markdown",
   "metadata": {},
   "source": [
    "- people with teritary and secondary education have more or less the same balance\n",
    "- while primary seems to be less in balance we cant really know, maybe its just because we a lesser amount of them"
   ]
  },
  {
   "cell_type": "code",
   "execution_count": 409,
   "metadata": {},
   "outputs": [
    {
     "data": {
      "text/plain": [
       "<seaborn.axisgrid.FacetGrid at 0x208b59d1220>"
      ]
     },
     "execution_count": 409,
     "metadata": {},
     "output_type": "execute_result"
    },
    {
     "data": {
      "image/png": "[encoded data removed]",
      "text/plain": [
       "<Figure size 360x360 with 1 Axes>"
      ]
     },
     "metadata": {
      "needs_background": "light"
     },
     "output_type": "display_data"
    }
   ],
   "source": [
    "sns.catplot(x = \"education\", y = 'age', palette = \"YlOrBr\" , data = bank)"
   ]
  },
  {
   "cell_type": "markdown",
   "metadata": {},
   "source": [
    "- expect for unknown it seem the amount of people in the 70's and 80's matter\n",
    "- people with  primry education come with all ages.\n",
    "- it seem most clients of 18 and higher have a secondary education\n",
    "- teritary education actully has the least people"
   ]
  },
  {
   "cell_type": "code",
   "execution_count": 412,
   "metadata": {},
   "outputs": [
    {
     "data": {
      "text/plain": [
       "<seaborn.axisgrid.FacetGrid at 0x208b88b1280>"
      ]
     },
     "execution_count": 412,
     "metadata": {},
     "output_type": "execute_result"
    },
    {
     "data": {
      "image/png": "[encoded data removed]",
      "text/plain": [
       "<Figure size 413.25x360 with 1 Axes>"
      ]
     },
     "metadata": {
      "needs_background": "light"
     },
     "output_type": "display_data"
    }
   ],
   "source": [
    "sns.catplot(x = \"education\", kind = \"count\",hue=\"housing\", palette = \"YlOrBr\" , data = bank)"
   ]
  },
  {
   "cell_type": "markdown",
   "metadata": {},
   "source": [
    "Very logical"
   ]
  },
  {
   "cell_type": "code",
   "execution_count": 385,
   "metadata": {},
   "outputs": [
    {
     "data": {
      "text/plain": [
       "<seaborn.axisgrid.FacetGrid at 0x208b5623ee0>"
      ]
     },
     "execution_count": 385,
     "metadata": {},
     "output_type": "execute_result"
    },
    {
     "data": {
      "image/png": "[encoded data removed]",
      "text/plain": [
       "<Figure size 1440x360 with 1 Axes>"
      ]
     },
     "metadata": {
      "needs_background": "light"
     },
     "output_type": "display_data"
    }
   ],
   "source": [
    "sns.catplot(x = \"month\", kind = \"count\", palette = \"YlOrBr\" , data = bank, height=5,aspect=4)"
   ]
  },
  {
   "cell_type": "markdown",
   "metadata": {},
   "source": [
    "Most people get contacted between may to aug and nov"
   ]
  },
  {
   "cell_type": "code",
   "execution_count": 396,
   "metadata": {},
   "outputs": [
    {
     "data": {
      "text/plain": [
       "<seaborn.axisgrid.FacetGrid at 0x208bf23e9a0>"
      ]
     },
     "execution_count": 396,
     "metadata": {},
     "output_type": "execute_result"
    },
    {
     "data": {
      "image/png": "[encoded data removed]",
      "text/plain": [
       "<Figure size 1493.25x360 with 1 Axes>"
      ]
     },
     "metadata": {
      "needs_background": "light"
     },
     "output_type": "display_data"
    }
   ],
   "source": [
    "sns.catplot(x = \"month\", hue=\"deposit\", kind = \"count\", palette = \"YlOrBr\" , data = bank, height=5,aspect=4)"
   ]
  },
  {
   "cell_type": "markdown",
   "metadata": {},
   "source": [
    "We can see that may to aug and nov also has the lowest chance to get people to subscribe to a Term Deposit espically may<br>And actually the other months have a much ratio"
   ]
  },
  {
   "cell_type": "code",
   "execution_count": 384,
   "metadata": {},
   "outputs": [
    {
     "data": {
      "text/plain": [
       "<seaborn.axisgrid.FacetGrid at 0x208b7505850>"
      ]
     },
     "execution_count": 384,
     "metadata": {},
     "output_type": "execute_result"
    },
    {
     "data": {
      "image/png": "[encoded data removed]",
      "text/plain": [
       "<Figure size 1440x360 with 1 Axes>"
      ]
     },
     "metadata": {
      "needs_background": "light"
     },
     "output_type": "display_data"
    }
   ],
   "source": [
    "sns.catplot(x = \"job\", kind = \"count\", palette = \"YlOrBr\" , data = bank, height=5,aspect=4)"
   ]
  },
  {
   "cell_type": "markdown",
   "metadata": {},
   "source": [
    "admin,technician,managmenta and bluecollar seem to get most contact with the campaing"
   ]
  },
  {
   "cell_type": "code",
   "execution_count": 395,
   "metadata": {},
   "outputs": [
    {
     "data": {
      "text/plain": [
       "<seaborn.axisgrid.FacetGrid at 0x208bf386cd0>"
      ]
     },
     "execution_count": 395,
     "metadata": {},
     "output_type": "execute_result"
    },
    {
     "data": {
      "image/png": "[encoded data removed]",
      "text/plain": [
       "<Figure size 1493.25x360 with 1 Axes>"
      ]
     },
     "metadata": {
      "needs_background": "light"
     },
     "output_type": "display_data"
    }
   ],
   "source": [
    "sns.catplot(x=\"job\", hue=\"deposit\", kind=\"count\", palette = \"YlOrBr\" , data = bank, height=5,aspect=4)"
   ]
  },
  {
   "cell_type": "code",
   "execution_count": 415,
   "metadata": {},
   "outputs": [
    {
     "data": {
      "text/plain": [
       "<seaborn.axisgrid.FacetGrid at 0x208b878fb50>"
      ]
     },
     "execution_count": 415,
     "metadata": {},
     "output_type": "execute_result"
    },
    {
     "data": {
      "image/png": "[encoded data removed]",
      "text/plain": [
       "<Figure size 1527.75x360 with 1 Axes>"
      ]
     },
     "metadata": {
      "needs_background": "light"
     },
     "output_type": "display_data"
    }
   ],
   "source": [
    "sns.catplot(x=\"job\", hue=\"education\", kind=\"count\", palette = \"YlOrBr\" , data = bank, height=5,aspect=4)"
   ]
  },
  {
   "cell_type": "markdown",
   "metadata": {},
   "source": [
    "- blue collar has highest amount of people with primary education which explains the low  amount of people with a term deposit\n",
    "- We can understand why admin,technichian, and servies have a higher probabilty to get a term deposit\n",
    "- managment has the highest ratio of people with higher education(tertiary)\n",
    "- Students have the best ratio for getting Term deposits"
   ]
  },
  {
   "cell_type": "markdown",
   "metadata": {},
   "source": [
    "**Small Summary**\n",
    "- The higher the education the higher probabilty to get a term deposit\n",
    "- People who married or were married are less to get a deposit\n",
    "- May to Aug is the worst time to contact clients for a deposit\n",
    "- People with a teritiary education are less likly to hava house loan\n",
    "- Of the given jobs Managment has the highest amount of people with a teritiary education\n",
    "- It seems people with lower responsibilties are more likely to term a deposit"
   ]
  },
  {
   "cell_type": "markdown",
   "metadata": {},
   "source": [
    "### Encoding categorical variables"
   ]
  },
  {
   "cell_type": "code",
   "execution_count": 5,
   "metadata": {},
   "outputs": [
    {
     "data": {
      "text/html": [
       "<div>\n",
       "<style scoped>\n",
       "    .dataframe tbody tr th:only-of-type {\n",
       "        vertical-align: middle;\n",
       "    }\n",
       "\n",
       "    .dataframe tbody tr th {\n",
       "        vertical-align: top;\n",
       "    }\n",
       "\n",
       "    .dataframe thead th {\n",
       "        text-align: right;\n",
       "    }\n",
       "</style>\n",
       "<table border=\"1\" class=\"dataframe\">\n",
       "  <thead>\n",
       "    <tr style=\"text-align: right;\">\n",
       "      <th></th>\n",
       "      <th>age</th>\n",
       "      <th>job</th>\n",
       "      <th>marital</th>\n",
       "      <th>education</th>\n",
       "      <th>default</th>\n",
       "      <th>balance</th>\n",
       "      <th>housing</th>\n",
       "      <th>loan</th>\n",
       "      <th>contact</th>\n",
       "      <th>day</th>\n",
       "      <th>month</th>\n",
       "      <th>duration</th>\n",
       "      <th>campaign</th>\n",
       "      <th>pdays</th>\n",
       "      <th>previous</th>\n",
       "      <th>poutcome</th>\n",
       "      <th>deposit</th>\n",
       "    </tr>\n",
       "  </thead>\n",
       "  <tbody>\n",
       "    <tr>\n",
       "      <th>0</th>\n",
       "      <td>59</td>\n",
       "      <td>0</td>\n",
       "      <td>1</td>\n",
       "      <td>1</td>\n",
       "      <td>0</td>\n",
       "      <td>2343</td>\n",
       "      <td>1</td>\n",
       "      <td>0</td>\n",
       "      <td>2</td>\n",
       "      <td>5</td>\n",
       "      <td>8</td>\n",
       "      <td>1042</td>\n",
       "      <td>1</td>\n",
       "      <td>-1</td>\n",
       "      <td>0</td>\n",
       "      <td>3</td>\n",
       "      <td>1</td>\n",
       "    </tr>\n",
       "    <tr>\n",
       "      <th>1</th>\n",
       "      <td>56</td>\n",
       "      <td>0</td>\n",
       "      <td>1</td>\n",
       "      <td>1</td>\n",
       "      <td>0</td>\n",
       "      <td>45</td>\n",
       "      <td>0</td>\n",
       "      <td>0</td>\n",
       "      <td>2</td>\n",
       "      <td>5</td>\n",
       "      <td>8</td>\n",
       "      <td>1467</td>\n",
       "      <td>1</td>\n",
       "      <td>-1</td>\n",
       "      <td>0</td>\n",
       "      <td>3</td>\n",
       "      <td>1</td>\n",
       "    </tr>\n",
       "    <tr>\n",
       "      <th>2</th>\n",
       "      <td>41</td>\n",
       "      <td>9</td>\n",
       "      <td>1</td>\n",
       "      <td>1</td>\n",
       "      <td>0</td>\n",
       "      <td>1270</td>\n",
       "      <td>1</td>\n",
       "      <td>0</td>\n",
       "      <td>2</td>\n",
       "      <td>5</td>\n",
       "      <td>8</td>\n",
       "      <td>1389</td>\n",
       "      <td>1</td>\n",
       "      <td>-1</td>\n",
       "      <td>0</td>\n",
       "      <td>3</td>\n",
       "      <td>1</td>\n",
       "    </tr>\n",
       "    <tr>\n",
       "      <th>3</th>\n",
       "      <td>55</td>\n",
       "      <td>7</td>\n",
       "      <td>1</td>\n",
       "      <td>1</td>\n",
       "      <td>0</td>\n",
       "      <td>2476</td>\n",
       "      <td>1</td>\n",
       "      <td>0</td>\n",
       "      <td>2</td>\n",
       "      <td>5</td>\n",
       "      <td>8</td>\n",
       "      <td>579</td>\n",
       "      <td>1</td>\n",
       "      <td>-1</td>\n",
       "      <td>0</td>\n",
       "      <td>3</td>\n",
       "      <td>1</td>\n",
       "    </tr>\n",
       "    <tr>\n",
       "      <th>4</th>\n",
       "      <td>54</td>\n",
       "      <td>0</td>\n",
       "      <td>1</td>\n",
       "      <td>2</td>\n",
       "      <td>0</td>\n",
       "      <td>184</td>\n",
       "      <td>0</td>\n",
       "      <td>0</td>\n",
       "      <td>2</td>\n",
       "      <td>5</td>\n",
       "      <td>8</td>\n",
       "      <td>673</td>\n",
       "      <td>2</td>\n",
       "      <td>-1</td>\n",
       "      <td>0</td>\n",
       "      <td>3</td>\n",
       "      <td>1</td>\n",
       "    </tr>\n",
       "  </tbody>\n",
       "</table>\n",
       "</div>"
      ],
      "text/plain": [
       "   age  job  marital  education  default  balance  housing  loan  contact  \\\n",
       "0   59    0        1          1        0     2343        1     0        2   \n",
       "1   56    0        1          1        0       45        0     0        2   \n",
       "2   41    9        1          1        0     1270        1     0        2   \n",
       "3   55    7        1          1        0     2476        1     0        2   \n",
       "4   54    0        1          2        0      184        0     0        2   \n",
       "\n",
       "   day  month  duration  campaign  pdays  previous  poutcome  deposit  \n",
       "0    5      8      1042         1     -1         0         3        1  \n",
       "1    5      8      1467         1     -1         0         3        1  \n",
       "2    5      8      1389         1     -1         0         3        1  \n",
       "3    5      8       579         1     -1         0         3        1  \n",
       "4    5      8       673         2     -1         0         3        1  "
      ]
     },
     "execution_count": 5,
     "metadata": {},
     "output_type": "execute_result"
    }
   ],
   "source": [
    "# Get list of categorical variables\n",
    "cat = (bank.dtypes ==\"object\")\n",
    "object_cols = list(cat[cat].index)\n",
    "\n",
    "# Make copy to avoid changing original data\n",
    "label_bank = bank.copy()\n",
    "\n",
    "# Apply label encoder to each column with categorical data\n",
    "label_encoder = LabelEncoder()\n",
    "for col in object_cols:\n",
    "    label_bank[col] = label_encoder.fit_transform(label_bank[col])\n",
    "label_bank.head()"
   ]
  },
  {
   "cell_type": "markdown",
   "metadata": {},
   "source": [
    "<center><h1>Model Training<h1><center>"
   ]
  },
  {
   "cell_type": "code",
   "execution_count": 6,
   "metadata": {},
   "outputs": [],
   "source": [
    "X= label_bank.drop([\"deposit\"],axis =1)\n",
    "y= label_bank[\"deposit\"]\n",
    "X_train, X_test, y_train, y_test = train_test_split(X, y,test_size=0.3, random_state=7)"
   ]
  },
  {
   "cell_type": "markdown",
   "metadata": {},
   "source": [
    "### K-Nearest-Neighbor"
   ]
  },
  {
   "cell_type": "code",
   "execution_count": 233,
   "metadata": {
    "scrolled": false
   },
   "outputs": [
    {
     "name": "stdout",
     "output_type": "stream",
     "text": [
      "              precision    recall  f1-score   support\n",
      "\n",
      "           0       0.76      0.77      0.77      1765\n",
      "           1       0.74      0.73      0.74      1584\n",
      "\n",
      "    accuracy                           0.75      3349\n",
      "   macro avg       0.75      0.75      0.75      3349\n",
      "weighted avg       0.75      0.75      0.75      3349\n",
      "\n",
      "Accuracy:  0.7539564048969841\n"
     ]
    },
    {
     "data": {
      "image/png": "[encoded data removed]",
      "text/plain": [
       "<Figure size 432x288 with 2 Axes>"
      ]
     },
     "metadata": {
      "needs_background": "light"
     },
     "output_type": "display_data"
    }
   ],
   "source": [
    "#fit the model\n",
    "knn = KNeighborsClassifier(n_neighbors=13)\n",
    "knn.fit(X_train,y_train)\n",
    "#make predictions\n",
    "Y_pred1 = knn.predict(X_test)\n",
    "#evaluate predictions\n",
    "confmat = confusion_matrix(y_test, Y_pred1)\n",
    "sns.heatmap(confmat, annot = True, fmt = \"d\")\n",
    "class_rep1 = classification_report(y_test, Y_pred1)\n",
    "acc_score1 = accuracy_score(y_test, Y_pred1)\n",
    "print(class_rep1)\n",
    "print(\"Accuracy: \", acc_score1)\n",
    "\n",
    "#for comparison\n",
    "Knn_old_Result = acc_score1"
   ]
  },
  {
   "cell_type": "markdown",
   "metadata": {},
   "source": [
    "### DecisionTreeClassifier"
   ]
  },
  {
   "cell_type": "code",
   "execution_count": 234,
   "metadata": {},
   "outputs": [
    {
     "name": "stdout",
     "output_type": "stream",
     "text": [
      "              precision    recall  f1-score   support\n",
      "\n",
      "           0       0.79      0.79      0.79      1765\n",
      "           1       0.76      0.76      0.76      1584\n",
      "\n",
      "    accuracy                           0.77      3349\n",
      "   macro avg       0.77      0.77      0.77      3349\n",
      "weighted avg       0.77      0.77      0.77      3349\n",
      "\n",
      "Accuracy:  0.774260973424903\n"
     ]
    },
    {
     "data": {
      "image/png": "[encoded data removed]",
      "text/plain": [
       "<Figure size 432x288 with 2 Axes>"
      ]
     },
     "metadata": {
      "needs_background": "light"
     },
     "output_type": "display_data"
    }
   ],
   "source": [
    "#fit the model\n",
    "dtree = DecisionTreeClassifier()\n",
    "dtree.fit(X_train,y_train)\n",
    "#make predictions\n",
    "Y_pred3 = dtree.predict(X_test)\n",
    "#evaluate predictions\n",
    "confmat = confusion_matrix(y_test, Y_pred3)\n",
    "sns.heatmap(confmat, annot = True, fmt = \"d\")\n",
    "class_rep1 = classification_report(y_test, Y_pred3)\n",
    "acc_score1 = accuracy_score(y_test, Y_pred3)\n",
    "print(class_rep1)\n",
    "print(\"Accuracy: \", acc_score1)\n",
    "\n",
    "#for comparison\n",
    "dtree_old_Result = acc_score1"
   ]
  },
  {
   "cell_type": "markdown",
   "metadata": {},
   "source": [
    "### Logistic Regression"
   ]
  },
  {
   "cell_type": "code",
   "execution_count": 238,
   "metadata": {
    "scrolled": false
   },
   "outputs": [
    {
     "name": "stdout",
     "output_type": "stream",
     "text": [
      "              precision    recall  f1-score   support\n",
      "\n",
      "           0       0.76      0.81      0.78      1765\n",
      "           1       0.77      0.71      0.74      1584\n",
      "\n",
      "    accuracy                           0.76      3349\n",
      "   macro avg       0.77      0.76      0.76      3349\n",
      "weighted avg       0.76      0.76      0.76      3349\n",
      "\n",
      "Accuracy:  0.7644072857569424\n"
     ]
    },
    {
     "name": "stderr",
     "output_type": "stream",
     "text": [
      "C:\\Users\\Inons\\anaconda3\\lib\\site-packages\\sklearn\\linear_model\\_logistic.py:762: ConvergenceWarning: lbfgs failed to converge (status=1):\n",
      "STOP: TOTAL NO. of ITERATIONS REACHED LIMIT.\n",
      "\n",
      "Increase the number of iterations (max_iter) or scale the data as shown in:\n",
      "    https://scikit-learn.org/stable/modules/preprocessing.html\n",
      "Please also refer to the documentation for alternative solver options:\n",
      "    https://scikit-learn.org/stable/modules/linear_model.html#logistic-regression\n",
      "  n_iter_i = _check_optimize_result(\n"
     ]
    },
    {
     "data": {
      "image/png": "[encoded data removed]",
      "text/plain": [
       "<Figure size 432x288 with 2 Axes>"
      ]
     },
     "metadata": {
      "needs_background": "light"
     },
     "output_type": "display_data"
    }
   ],
   "source": [
    "#fit the model\n",
    "logisticR = LogisticRegression()\n",
    "logisticR.fit(X_train,y_train)\n",
    "#make predictions\n",
    "Y_pred2 = logisticR.predict(X_test)\n",
    "#evaluate predictions\n",
    "confmat = confusion_matrix(y_test, Y_pred2)\n",
    "sns.heatmap(confmat, annot = True, fmt = \"d\")\n",
    "class_rep1 = classification_report(y_test, Y_pred2)\n",
    "acc_score1 = accuracy_score(y_test, Y_pred2)\n",
    "print(class_rep1)\n",
    "print(\"Accuracy: \", acc_score1)\n",
    "\n",
    "#for comparison\n",
    "logR_old_Result = acc_score1"
   ]
  },
  {
   "cell_type": "code",
   "execution_count": 242,
   "metadata": {},
   "outputs": [],
   "source": [
    "#Getting all scores\n",
    "old_Results = [Knn_old_Result,dtree_old_Result,logR_old_Result]"
   ]
  },
  {
   "cell_type": "markdown",
   "metadata": {},
   "source": [
    "# ------------------------------------------------------------------------------------------------------------"
   ]
  },
  {
   "cell_type": "markdown",
   "metadata": {},
   "source": [
    "# Final Project Year 1 Semester 2"
   ]
  },
  {
   "cell_type": "markdown",
   "metadata": {},
   "source": [
    "# ------------------------------------------------------------------------------------------------------------"
   ]
  },
  {
   "cell_type": "markdown",
   "metadata": {},
   "source": [
    "## Libraries :"
   ]
  },
  {
   "cell_type": "code",
   "execution_count": 51,
   "metadata": {},
   "outputs": [],
   "source": [
    "import pandas as pd\n",
    "import numpy as np\n",
    "import seaborn as sns\n",
    "\n",
    "from sklearn.compose import ColumnTransformer\n",
    "from sklearn.preprocessing import OneHotEncoder\n",
    "from sklearn.pipeline import Pipeline\n",
    "from sklearn.model_selection import train_test_split\n",
    "from sklearn.preprocessing import MinMaxScaler"
   ]
  },
  {
   "cell_type": "markdown",
   "metadata": {},
   "source": [
    "### Data Preprocessing"
   ]
  },
  {
   "cell_type": "code",
   "execution_count": 21,
   "metadata": {},
   "outputs": [],
   "source": [
    "# Make a copy to avoid changing original data\n",
    "bankCopy = bank.copy()\n",
    "\n",
    "#first lets split the data for training and testing\n",
    "X= bankCopy.drop([\"deposit\"],axis =1)\n",
    "y= bankCopy[\"deposit\"]\\\n",
    "\n",
    "X_train, X_test, y_train, y_test = train_test_split(X, y,test_size=0.3, random_state=7)"
   ]
  },
  {
   "cell_type": "markdown",
   "metadata": {},
   "source": [
    "We need the list of all categorial and numeric features for the column transformation"
   ]
  },
  {
   "cell_type": "code",
   "execution_count": 116,
   "metadata": {
    "scrolled": true
   },
   "outputs": [
    {
     "data": {
      "text/plain": [
       "(['job',\n",
       "  'marital',\n",
       "  'education',\n",
       "  'default',\n",
       "  'housing',\n",
       "  'loan',\n",
       "  'contact',\n",
       "  'month',\n",
       "  'poutcome'],\n",
       " ['age', 'balance', 'day', 'duration', 'campaign', 'pdays', 'previous'])"
      ]
     },
     "execution_count": 116,
     "metadata": {},
     "output_type": "execute_result"
    }
   ],
   "source": [
    "# Get all features\n",
    "feature_columns = list(X.columns)\n",
    "\n",
    "# Get a list of all categorical features\n",
    "cat = (X.dtypes ==\"object\")\n",
    "cat_features = list(cat[cat].index)\n",
    "\n",
    "# Get a list of all numerical features\n",
    "num_features = [ col for col in feature_columns if not col in cat_features ]\n",
    "\n",
    "\n",
    "cat_features, num_features"
   ]
  },
  {
   "cell_type": "markdown",
   "metadata": {},
   "source": [
    "We will first create a preprocessing pipeline"
   ]
  },
  {
   "cell_type": "code",
   "execution_count": 117,
   "metadata": {},
   "outputs": [],
   "source": [
    "preprocessor = ColumnTransformer(transformers = [\n",
    "    ('num',MinMaxScaler(),num_features),\n",
    "    ('cat',OneHotEncoder(),cat_features)])"
   ]
  },
  {
   "cell_type": "markdown",
   "metadata": {},
   "source": [
    "I made a another pipeline which used in addition PCA but because the data itself doesnt have a lot of features or data so that much data is getting lost durn the transfomation, all training models got a very bad accruac. So i Removed it"
   ]
  },
  {
   "cell_type": "markdown",
   "metadata": {},
   "source": [
    "### Transforming the Data"
   ]
  },
  {
   "cell_type": "markdown",
   "metadata": {},
   "source": [
    "We will transform the data using the pipeline"
   ]
  },
  {
   "cell_type": "code",
   "execution_count": 118,
   "metadata": {
    "scrolled": true
   },
   "outputs": [
    {
     "data": {
      "text/plain": [
       "array([[0.58666667, 0.0900728 , 0.43333333, ..., 0.        , 0.        ,\n",
       "        1.        ],\n",
       "       [0.49333333, 0.07776175, 0.56666667, ..., 0.        , 0.        ,\n",
       "        1.        ],\n",
       "       [0.26666667, 0.10577961, 0.03333333, ..., 0.        , 0.        ,\n",
       "        1.        ],\n",
       "       ...,\n",
       "       [0.13333333, 0.07779582, 0.43333333, ..., 1.        , 0.        ,\n",
       "        0.        ],\n",
       "       [0.30666667, 0.08304278, 0.7       , ..., 0.        , 0.        ,\n",
       "        1.        ],\n",
       "       [0.36      , 0.08202065, 0.7       , ..., 0.        , 0.        ,\n",
       "        0.        ]])"
      ]
     },
     "execution_count": 118,
     "metadata": {},
     "output_type": "execute_result"
    }
   ],
   "source": [
    "# we will preprocess the data\n",
    "X_train_transformed = preprocessor.fit_transform(X_train)\n",
    "X_test_transformed = preprocessor.transform(X_test)\n",
    "X_train_transformed"
   ]
  },
  {
   "cell_type": "markdown",
   "metadata": {},
   "source": [
    "## Model training"
   ]
  },
  {
   "cell_type": "code",
   "execution_count": 150,
   "metadata": {},
   "outputs": [],
   "source": [
    "from sklearn.neighbors import KNeighborsClassifier\n",
    "from sklearn.linear_model import LogisticRegression\n",
    "from sklearn.tree import DecisionTreeClassifier\n",
    "from sklearn.ensemble import RandomForestClassifier\n",
    "from sklearn.ensemble import GradientBoostingClassifier\n",
    "from xgboost import XGBClassifier\n",
    "\n",
    "from sklearn.metrics import confusion_matrix\n",
    "from sklearn.metrics import classification_report\n",
    "from sklearn.metrics import accuracy_score\n",
    "\n",
    "from sklearn.model_selection import cross_val_score\n",
    "from sklearn.model_selection import GridSearchCV, KFold"
   ]
  },
  {
   "cell_type": "markdown",
   "metadata": {},
   "source": [
    "This next function prints out the Result of the grid search in an orderly manner\n",
    "- On the list of all the result, the first acuracy score is of the train set and the second of the test set, so that it is possible to see if there is overfitting"
   ]
  },
  {
   "cell_type": "code",
   "execution_count": 164,
   "metadata": {},
   "outputs": [],
   "source": [
    "kf = KFold(n_splits=5, shuffle=True, random_state=42)\n",
    "\n",
    "def grid_search(model, grid_param):\n",
    "    print(\"Obtaining Best Model for {}\".format(model.__class__.__name__))\n",
    "    grid_search = GridSearchCV(model, grid_param, cv=kf, scoring='accuracy', return_train_score=True, n_jobs=-1)\n",
    "    grid_search.fit(X_train_transformed, y_train)\n",
    "    \n",
    "    print(\"Best Parameters: \", grid_search.best_params_)\n",
    "    print(\"Best Scores: \", grid_search.best_score_)\n",
    "    \n",
    "    cvres = grid_search.cv_results_\n",
    "    print(\"\\nResults for each run of {}...\".format(model.__class__.__name__))\n",
    "    for train_mean_score, test_mean_score, params in zip(cvres[\"mean_train_score\"], cvres[\"mean_test_score\"], cvres[\"params\"]):\n",
    "        print(train_mean_score, test_mean_score, params)\n",
    "        \n",
    "    return grid_search.best_estimator_"
   ]
  },
  {
   "cell_type": "markdown",
   "metadata": {},
   "source": [
    "###### Workflow:\n",
    "\n",
    "- We will have a first look at the accruacy score for every training model without fine tuning the model\n",
    "\n",
    "- Get a better estimation of the model using Cross Validation\n",
    "\n",
    "- Use grid Search to fine tune the model\n"
   ]
  },
  {
   "cell_type": "markdown",
   "metadata": {},
   "source": [
    "### Logistic Regression"
   ]
  },
  {
   "cell_type": "markdown",
   "metadata": {},
   "source": [
    "###### First look\n",
    "\n",
    "Accuracy went from 77 last year to 81.9 so the preprocessing led to a huge improvment\n"
   ]
  },
  {
   "cell_type": "code",
   "execution_count": 147,
   "metadata": {
    "scrolled": false
   },
   "outputs": [
    {
     "name": "stdout",
     "output_type": "stream",
     "text": [
      "              precision    recall  f1-score   support\n",
      "\n",
      "          no       0.82      0.85      0.83      1765\n",
      "         yes       0.82      0.79      0.80      1584\n",
      "\n",
      "    accuracy                           0.82      3349\n",
      "   macro avg       0.82      0.82      0.82      3349\n",
      "weighted avg       0.82      0.82      0.82      3349\n",
      "\n",
      "Accuracy:  0.8190504628247238\n"
     ]
    },
    {
     "data": {
      "image/png": "[encoded data removed]",
      "text/plain": [
       "<Figure size 432x288 with 2 Axes>"
      ]
     },
     "metadata": {
      "needs_background": "light"
     },
     "output_type": "display_data"
    }
   ],
   "source": [
    "#fit the model\n",
    "logR = LogisticRegression(random_state=42, n_jobs=-1)\n",
    "logR.fit(X_train_transformed,y_train)\n",
    "\n",
    "#make predictions\n",
    "PredicLogR = logR.predict(X_test_transformed)\n",
    "\n",
    "#evaluate predictions\n",
    "confmat = confusion_matrix(y_test, PredicLogR)\n",
    "sns.heatmap(confmat, annot = True, fmt = \"d\")\n",
    "class_rep1 = classification_report(y_test, PredicLogR)\n",
    "acc_score1 = accuracy_score(y_test, PredicLogR)\n",
    "print(class_rep1)\n",
    "print(\"Accuracy: \", acc_score1)"
   ]
  },
  {
   "cell_type": "markdown",
   "metadata": {},
   "source": [
    "###### Cross Validation"
   ]
  },
  {
   "cell_type": "code",
   "execution_count": 148,
   "metadata": {
    "scrolled": true
   },
   "outputs": [
    {
     "name": "stdout",
     "output_type": "stream",
     "text": [
      "Mean Accuracy:  0.8217077372628723\n"
     ]
    }
   ],
   "source": [
    "logR_meanVscore = cross_val_score(logR, X_train_transformed, y_train, cv=5, scoring='accuracy').mean()\n",
    "print(\"Mean Accuracy: \", logR_meanVscore)"
   ]
  },
  {
   "cell_type": "markdown",
   "metadata": {},
   "source": [
    "###### Grid Search"
   ]
  },
  {
   "cell_type": "code",
   "execution_count": 178,
   "metadata": {
    "scrolled": false
   },
   "outputs": [
    {
     "name": "stdout",
     "output_type": "stream",
     "text": [
      "Obtaining Best Model for LogisticRegression\n",
      "Best Parameters:  {'C': 10, 'penalty': 'l2'}\n",
      "Best Scores:  0.826313116294463\n",
      "\n",
      "Results for each run of LogisticRegression...\n",
      "0.7291372823548233 0.7248170931012703 {'C': 0.01, 'penalty': 'l2'}\n",
      "0.799820608542633 0.7966192431738104 {'C': 0.1, 'penalty': 'l2'}\n",
      "0.82557899600064 0.8215778121295679 {'C': 1, 'penalty': 'l2'}\n",
      "0.8293548987362023 0.826313116294463 {'C': 10, 'penalty': 'l2'}\n"
     ]
    }
   ],
   "source": [
    "logR_param_grid = [{'C':[0.01, 0.1, 1, 10], 'penalty':['l2']}]\n",
    "logR_grid_Search = grid_search(logR, logR_param_grid)"
   ]
  },
  {
   "cell_type": "markdown",
   "metadata": {},
   "source": [
    "### KNN"
   ]
  },
  {
   "cell_type": "markdown",
   "metadata": {},
   "source": [
    "###### First look\n",
    "\n",
    "Accuracy went from 75 last year to 73 so the preprocessing made it worse"
   ]
  },
  {
   "cell_type": "code",
   "execution_count": 155,
   "metadata": {},
   "outputs": [
    {
     "name": "stdout",
     "output_type": "stream",
     "text": [
      "              precision    recall  f1-score   support\n",
      "\n",
      "          no       0.72      0.81      0.76      1765\n",
      "         yes       0.76      0.65      0.70      1584\n",
      "\n",
      "    accuracy                           0.74      3349\n",
      "   macro avg       0.74      0.73      0.73      3349\n",
      "weighted avg       0.74      0.74      0.73      3349\n",
      "\n",
      "Accuracy:  0.7351448193490594\n"
     ]
    },
    {
     "data": {
      "image/png": "[encoded data removed]",
      "text/plain": [
       "<Figure size 432x288 with 2 Axes>"
      ]
     },
     "metadata": {
      "needs_background": "light"
     },
     "output_type": "display_data"
    }
   ],
   "source": [
    "#fit the model\n",
    "Knn = KNeighborsClassifier(n_neighbors=5,n_jobs=-1)\n",
    "Knn.fit(X_train_transformed,y_train)\n",
    "\n",
    "#make predictions\n",
    "PredicKnn = Knn.predict(X_test_transformed)\n",
    "\n",
    "#evaluate predictions\n",
    "confmat = confusion_matrix(y_test, PredicKnn)\n",
    "sns.heatmap(confmat, annot = True, fmt = \"d\")\n",
    "class_rep1 = classification_report(y_test, PredicKnn)\n",
    "acc_score1 = accuracy_score(y_test, PredicKnn)\n",
    "print(class_rep1)\n",
    "print(\"Accuracy: \", acc_score1)"
   ]
  },
  {
   "cell_type": "markdown",
   "metadata": {},
   "source": [
    "###### Cross Validation"
   ]
  },
  {
   "cell_type": "code",
   "execution_count": 137,
   "metadata": {
    "scrolled": true
   },
   "outputs": [
    {
     "name": "stdout",
     "output_type": "stream",
     "text": [
      "Mean Accuracy:  0.727631864589503\n"
     ]
    }
   ],
   "source": [
    "Knn_meanVscore = cross_val_score(Knn, X_train_transformed, y_train, cv=5, scoring='accuracy').mean()\n",
    "print(\"Mean Accuracy: \", Knn_meanVscore)"
   ]
  },
  {
   "cell_type": "markdown",
   "metadata": {},
   "source": [
    "###### Grid Search"
   ]
  },
  {
   "cell_type": "code",
   "execution_count": 180,
   "metadata": {},
   "outputs": [
    {
     "name": "stdout",
     "output_type": "stream",
     "text": [
      "Obtaining Best Model for KNeighborsClassifier\n",
      "Best Parameters:  {'algorithm': 'auto', 'n_neighbors': 18}\n",
      "Best Scores:  0.7266072091245782\n",
      "\n",
      "Results for each run of KNeighborsClassifier...\n",
      "0.7699665691889297 0.7200798228561739 {'algorithm': 'auto', 'n_neighbors': 10}\n",
      "0.7634069070548712 0.7205913313885522 {'algorithm': 'auto', 'n_neighbors': 12}\n",
      "0.7601111067029276 0.7244311679417516 {'algorithm': 'auto', 'n_neighbors': 14}\n",
      "0.7571672398016318 0.7246879052480415 {'algorithm': 'auto', 'n_neighbors': 16}\n",
      "0.7546074087346024 0.7266072091245782 {'algorithm': 'auto', 'n_neighbors': 18}\n",
      "0.7699665691889297 0.7200798228561739 {'algorithm': 'kd_tree', 'n_neighbors': 10}\n",
      "0.7634069070548712 0.7205913313885522 {'algorithm': 'kd_tree', 'n_neighbors': 12}\n",
      "0.7601111067029276 0.7244311679417516 {'algorithm': 'kd_tree', 'n_neighbors': 14}\n",
      "0.7571672398016318 0.7246879052480415 {'algorithm': 'kd_tree', 'n_neighbors': 16}\n",
      "0.7546074087346024 0.7266072091245782 {'algorithm': 'kd_tree', 'n_neighbors': 18}\n"
     ]
    }
   ],
   "source": [
    "Knn_param_grid = [{'n_neighbors':[10,12,14,16,18], 'algorithm':['auto', 'kd_tree']}]\n",
    "Knn_grid_Search = grid_search(Knn, Knn_param_grid)"
   ]
  },
  {
   "cell_type": "markdown",
   "metadata": {},
   "source": [
    "### Desicion tree"
   ]
  },
  {
   "cell_type": "markdown",
   "metadata": {},
   "source": [
    "###### First look\n",
    "\n",
    "Accuracy went from 76 last to 78 so the preprocessing did help"
   ]
  },
  {
   "cell_type": "code",
   "execution_count": 100,
   "metadata": {},
   "outputs": [
    {
     "name": "stdout",
     "output_type": "stream",
     "text": [
      "              precision    recall  f1-score   support\n",
      "\n",
      "           0       0.80      0.77      0.79      1765\n",
      "           1       0.76      0.79      0.77      1584\n",
      "\n",
      "    accuracy                           0.78      3349\n",
      "   macro avg       0.78      0.78      0.78      3349\n",
      "weighted avg       0.78      0.78      0.78      3349\n",
      "\n",
      "Accuracy:  0.7799343087488803\n"
     ]
    },
    {
     "data": {
      "image/png": "[encoded data removed]",
      "text/plain": [
       "<Figure size 432x288 with 2 Axes>"
      ]
     },
     "metadata": {
      "needs_background": "light"
     },
     "output_type": "display_data"
    }
   ],
   "source": [
    "#fit the model\n",
    "dTree = DecisionTreeClassifier(random_state=42)\n",
    "dTree.fit(X_train_transformed,y_train)\n",
    "\n",
    "#make predictions\n",
    "PredicDeTree = dTree.predict(X_test_transformed)\n",
    "\n",
    "#evaluate predictions\n",
    "confmat = confusion_matrix(y_test, PredicDeTree)\n",
    "sns.heatmap(confmat, annot = True, fmt = \"d\")\n",
    "class_rep1 = classification_report(y_test, PredicDeTree)\n",
    "acc_score1 = accuracy_score(y_test, PredicDeTree)\n",
    "print(class_rep1)\n",
    "print(\"Accuracy: \", acc_score1)"
   ]
  },
  {
   "cell_type": "markdown",
   "metadata": {},
   "source": [
    "###### Cross Validation"
   ]
  },
  {
   "cell_type": "code",
   "execution_count": 136,
   "metadata": {
    "scrolled": true
   },
   "outputs": [
    {
     "name": "stdout",
     "output_type": "stream",
     "text": [
      "Mean Accuracy:  0.7825393236520267\n"
     ]
    }
   ],
   "source": [
    "dTree_meanVscore = cross_val_score(dTree, X_train_transformed, y_train, cv=5, scoring='accuracy').mean()\n",
    "print(\"Mean Accuracy: \", dTree_meanVscore)"
   ]
  },
  {
   "cell_type": "markdown",
   "metadata": {},
   "source": [
    "###### Grid Search"
   ]
  },
  {
   "cell_type": "code",
   "execution_count": 183,
   "metadata": {
    "scrolled": true
   },
   "outputs": [
    {
     "name": "stdout",
     "output_type": "stream",
     "text": [
      "Obtaining Best Model for DecisionTreeClassifier\n",
      "Best Parameters:  {'criterion': 'gini', 'max_depth': 8}\n",
      "Best Scores:  0.8224734435812806\n",
      "\n",
      "Results for each run of DecisionTreeClassifier...\n",
      "0.828394919212926 0.8130046374916748 {'criterion': 'gini', 'max_depth': 6}\n",
      "0.8560414039353702 0.8224734435812806 {'criterion': 'gini', 'max_depth': 8}\n",
      "0.8860554228123501 0.8195318599200625 {'criterion': 'gini', 'max_depth': 10}\n",
      "0.9628504060150375 0.7994365541823031 {'criterion': 'gini', 'max_depth': 16}\n",
      "0.9878088497840345 0.7899670927326302 {'criterion': 'gini', 'max_depth': 20}\n",
      "0.8131957536394177 0.7954698235361098 {'criterion': 'entropy', 'max_depth': 6}\n",
      "0.8418338953767398 0.8068600634224705 {'criterion': 'entropy', 'max_depth': 8}\n",
      "0.8700560831866901 0.8076274081410466 {'criterion': 'entropy', 'max_depth': 10}\n",
      "0.9423713172292434 0.8004605542871609 {'criterion': 'entropy', 'max_depth': 16}\n",
      "0.9757134282514798 0.7907343555311981 {'criterion': 'entropy', 'max_depth': 20}\n"
     ]
    }
   ],
   "source": [
    "dTree_param_grid = [{'criterion':['gini','entropy'],'max_depth':[6,8,10,16,20]}]\n",
    "dTree_grid_Search = grid_search(dTree, dTree_param_grid)"
   ]
  },
  {
   "cell_type": "markdown",
   "metadata": {},
   "source": [
    "### Random Forest"
   ]
  },
  {
   "cell_type": "markdown",
   "metadata": {},
   "source": [
    "###### First look\n",
    "\n",
    "Accuracy is at 85.8 which very high considring 86.4 is the highest i have seen on kaggle"
   ]
  },
  {
   "cell_type": "code",
   "execution_count": 101,
   "metadata": {
    "scrolled": false
   },
   "outputs": [
    {
     "name": "stdout",
     "output_type": "stream",
     "text": [
      "              precision    recall  f1-score   support\n",
      "\n",
      "           0       0.89      0.83      0.86      1765\n",
      "           1       0.82      0.89      0.86      1584\n",
      "\n",
      "    accuracy                           0.86      3349\n",
      "   macro avg       0.86      0.86      0.86      3349\n",
      "weighted avg       0.86      0.86      0.86      3349\n",
      "\n",
      "Accuracy:  0.8581666169005673\n"
     ]
    },
    {
     "data": {
      "image/png": "[encoded data removed]",
      "text/plain": [
       "<Figure size 432x288 with 2 Axes>"
      ]
     },
     "metadata": {
      "needs_background": "light"
     },
     "output_type": "display_data"
    }
   ],
   "source": [
    "#fit the model\n",
    "RFor = RandomForestClassifier(random_state=42)\n",
    "RFor.fit(X_train_transformed,y_train)\n",
    "\n",
    "#make predictions\n",
    "PredicRFor = RFor.predict(X_test_transformed)\n",
    "\n",
    "#evaluate predictions\n",
    "confmat = confusion_matrix(y_test, PredicRFor)\n",
    "sns.heatmap(confmat, annot = True, fmt = \"d\")\n",
    "class_rep1 = classification_report(y_test, PredicRFor)\n",
    "acc_score1 = accuracy_score(y_test, PredicRFor)\n",
    "print(class_rep1)\n",
    "print(\"Accuracy: \", acc_score1)"
   ]
  },
  {
   "cell_type": "markdown",
   "metadata": {},
   "source": [
    "###### Cross Validation"
   ]
  },
  {
   "cell_type": "code",
   "execution_count": 135,
   "metadata": {},
   "outputs": [
    {
     "name": "stdout",
     "output_type": "stream",
     "text": [
      "Mean Accuracy:  0.8476881764032692\n"
     ]
    }
   ],
   "source": [
    "Rfor_meanVscore = cross_val_score(RFor, X_train_transformed, y_train, cv=5, scoring='accuracy').mean()\n",
    "print(\"Mean Accuracy: \", Rfor_meanVscore)"
   ]
  },
  {
   "cell_type": "markdown",
   "metadata": {},
   "source": [
    "###### Grid Search"
   ]
  },
  {
   "cell_type": "code",
   "execution_count": 166,
   "metadata": {},
   "outputs": [
    {
     "name": "stdout",
     "output_type": "stream",
     "text": [
      "Obtaining Best Model for RandomForestClassifier\n",
      "Best Parameters:  {'max_depth': 16, 'max_features': None}\n",
      "Best Scores:  0.8539598084054845\n",
      "\n",
      "Results for each run of RandomForestClassifier...\n",
      "0.8732559654455286 0.8393694453114312 {'max_depth': 8, 'max_features': None}\n",
      "0.8744079040153576 0.8360406257705602 {'max_depth': 8, 'max_features': 'sqrt'}\n",
      "0.8744079040153576 0.8360406257705602 {'max_depth': 8, 'max_features': 'auto'}\n",
      "0.9439074144936811 0.8492238488805223 {'max_depth': 12, 'max_features': None}\n",
      "0.9274606533354663 0.8455114798603756 {'max_depth': 12, 'max_features': 'sqrt'}\n",
      "0.9274606533354663 0.8455114798603756 {'max_depth': 12, 'max_features': 'auto'}\n",
      "0.9857928600223964 0.8539598084054845 {'max_depth': 16, 'max_features': None}\n",
      "0.9771854999200127 0.8507587840776996 {'max_depth': 16, 'max_features': 'sqrt'}\n",
      "0.9771854999200127 0.8507587840776996 {'max_depth': 16, 'max_features': 'auto'}\n",
      "0.9979521484562468 0.8529357263806183 {'max_depth': 20, 'max_features': None}\n",
      "0.997408148456247 0.8474311933369542 {'max_depth': 20, 'max_features': 'sqrt'}\n",
      "0.997408148456247 0.8474311933369542 {'max_depth': 20, 'max_features': 'auto'}\n"
     ]
    }
   ],
   "source": [
    "RFor_param_grid = [{'max_depth':[8, 12, 16, 20], 'max_features':[None, 'sqrt', 'auto']}]\n",
    "RFor_grid_Search = grid_search(RFor, RFor_param_grid)"
   ]
  },
  {
   "cell_type": "markdown",
   "metadata": {},
   "source": [
    "if we took the best paramaters there will be overfitting lets take other paramaters"
   ]
  },
  {
   "cell_type": "code",
   "execution_count": 194,
   "metadata": {},
   "outputs": [
    {
     "data": {
      "text/plain": [
       "RandomForestClassifier(max_depth=8, random_state=42)"
      ]
     },
     "execution_count": 194,
     "metadata": {},
     "output_type": "execute_result"
    }
   ],
   "source": [
    "RFor_grid_Search.max_depth = 8\n",
    "RFor_grid_Search.max_features = 'auto'\n",
    "RFor_grid_Search.fit(X_train_transformed,y_train)"
   ]
  },
  {
   "cell_type": "markdown",
   "metadata": {},
   "source": [
    "### Gradient boost"
   ]
  },
  {
   "cell_type": "markdown",
   "metadata": {},
   "source": [
    "###### First look\n",
    "\n",
    "Accuracy is at 84.95 which very high considring 86.4 is the highest i have seen on kaggle\n",
    "almost as good as RandomForest"
   ]
  },
  {
   "cell_type": "code",
   "execution_count": 157,
   "metadata": {},
   "outputs": [
    {
     "name": "stdout",
     "output_type": "stream",
     "text": [
      "              precision    recall  f1-score   support\n",
      "\n",
      "          no       0.87      0.84      0.85      1765\n",
      "         yes       0.83      0.86      0.84      1584\n",
      "\n",
      "    accuracy                           0.85      3349\n",
      "   macro avg       0.85      0.85      0.85      3349\n",
      "weighted avg       0.85      0.85      0.85      3349\n",
      "\n",
      "Accuracy:  0.849507315616602\n"
     ]
    },
    {
     "data": {
      "image/png": "[encoded data removed]",
      "text/plain": [
       "<Figure size 432x288 with 2 Axes>"
      ]
     },
     "metadata": {
      "needs_background": "light"
     },
     "output_type": "display_data"
    }
   ],
   "source": [
    "#fit the model\n",
    "gradB = GradientBoostingClassifier(random_state=42)\n",
    "gradB.fit(X_train_transformed,y_train)\n",
    "\n",
    "#make predictions\n",
    "PredicGradB = gradB.predict(X_test_transformed)\n",
    "\n",
    "#evaluate predictions\n",
    "confmat = confusion_matrix(y_test, PredicGradB)\n",
    "sns.heatmap(confmat, annot = True, fmt = \"d\")\n",
    "class_rep1 = classification_report(y_test, PredicGradB)\n",
    "acc_score1 = accuracy_score(y_test, PredicGradB)\n",
    "print(class_rep1)\n",
    "print(\"Accuracy: \", acc_score1)"
   ]
  },
  {
   "cell_type": "markdown",
   "metadata": {},
   "source": [
    "###### Cross Validation"
   ]
  },
  {
   "cell_type": "code",
   "execution_count": 134,
   "metadata": {},
   "outputs": [
    {
     "name": "stdout",
     "output_type": "stream",
     "text": [
      "Mean Accuracy:  0.8460253640729973\n"
     ]
    }
   ],
   "source": [
    "gradB_meanVscore = cross_val_score(gradB, X_train_transformed, y_train, cv=5, scoring='accuracy').mean()\n",
    "print(\"Mean Accuracy: \", gradB_meanVscore)"
   ]
  },
  {
   "cell_type": "markdown",
   "metadata": {},
   "source": [
    "###### Grid Search"
   ]
  },
  {
   "cell_type": "code",
   "execution_count": 167,
   "metadata": {
    "scrolled": true
   },
   "outputs": [
    {
     "name": "stdout",
     "output_type": "stream",
     "text": [
      "Obtaining Best Model for GradientBoostingClassifier\n",
      "Best Parameters:  {'max_depth': 8, 'max_features': None}\n",
      "Best Scores:  0.8583125461312047\n",
      "\n",
      "Results for each run of GradientBoostingClassifier...\n",
      "0.8625046207006879 0.8437192339168496 {'max_depth': 3, 'max_features': None}\n",
      "0.8555611070228764 0.8406471516822684 {'max_depth': 3, 'max_features': 'sqrt'}\n",
      "0.8625046207006879 0.8437192339168496 {'max_depth': 3, 'max_features': 'auto'}\n",
      "0.9866887985922255 0.8583125461312047 {'max_depth': 8, 'max_features': None}\n",
      "0.9636182063669813 0.8580554811448813 {'max_depth': 8, 'max_features': 'sqrt'}\n",
      "0.9866887985922255 0.8583125461312047 {'max_depth': 8, 'max_features': 'auto'}\n",
      "1.0 0.8483301015890025 {'max_depth': 16, 'max_features': None}\n",
      "1.0 0.8553672760696092 {'max_depth': 16, 'max_features': 'sqrt'}\n",
      "1.0 0.8483301015890025 {'max_depth': 16, 'max_features': 'auto'}\n"
     ]
    }
   ],
   "source": [
    "gradB_param_grid = [{'max_depth':[3, 8, 16], 'max_features':[None, 'sqrt', 'auto']}]\n",
    "gradB_grid_Search = grid_search(gradB, gradB_param_grid)"
   ]
  },
  {
   "cell_type": "markdown",
   "metadata": {},
   "source": [
    "if we took the best paramaters there will be overfitting lets take other paramaters"
   ]
  },
  {
   "cell_type": "code",
   "execution_count": 272,
   "metadata": {},
   "outputs": [
    {
     "data": {
      "text/plain": [
       "GradientBoostingClassifier(max_features='auto', random_state=42)"
      ]
     },
     "execution_count": 272,
     "metadata": {},
     "output_type": "execute_result"
    }
   ],
   "source": [
    "gradB_grid_Search.max_depth=3\n",
    "gradB_grid_Search.max_features='auto'\n",
    "gradB_grid_Search.fit(X_train_transformed, y_train)"
   ]
  },
  {
   "cell_type": "markdown",
   "metadata": {},
   "source": [
    "### XG Boost"
   ]
  },
  {
   "cell_type": "markdown",
   "metadata": {},
   "source": [
    "###### First look\n",
    "\n",
    "Accuracy is at 86 which very high considring 86.4 is the highest i have seen on kaggle\n",
    "the best one here"
   ]
  },
  {
   "cell_type": "code",
   "execution_count": 160,
   "metadata": {},
   "outputs": [
    {
     "name": "stdout",
     "output_type": "stream",
     "text": [
      "[02:50:52] WARNING: C:/Users/Administrator/workspace/xgboost-win64_release_1.4.0/src/learner.cc:1095: Starting in XGBoost 1.3.0, the default evaluation metric used with the objective 'binary:logistic' was changed from 'error' to 'logloss'. Explicitly set eval_metric if you'd like to restore the old behavior.\n",
      "              precision    recall  f1-score   support\n",
      "\n",
      "          no       0.89      0.83      0.86      1765\n",
      "         yes       0.83      0.89      0.86      1584\n",
      "\n",
      "    accuracy                           0.86      3349\n",
      "   macro avg       0.86      0.86      0.86      3349\n",
      "weighted avg       0.86      0.86      0.86      3349\n",
      "\n",
      "Accuracy:  0.860256793072559\n"
     ]
    },
    {
     "data": {
      "image/png": "[encoded data removed]",
      "text/plain": [
       "<Figure size 432x288 with 2 Axes>"
      ]
     },
     "metadata": {
      "needs_background": "light"
     },
     "output_type": "display_data"
    }
   ],
   "source": [
    "#fit the model\n",
    "xgb = XGBClassifier(random_state=42,n_jobs=-1)\n",
    "xgb.fit(X_train_transformed,y_train)\n",
    "\n",
    "#make predictions\n",
    "PredicXgb = xgb.predict(X_test_transformed)\n",
    "\n",
    "#evaluate predictions\n",
    "confmat = confusion_matrix(y_test, PredicXgb)\n",
    "sns.heatmap(confmat, annot = True, fmt = \"d\")\n",
    "class_rep1 = classification_report(y_test, PredicXgb)\n",
    "acc_score1 = accuracy_score(y_test, PredicXgb)\n",
    "print(class_rep1)\n",
    "print(\"Accuracy: \", acc_score1)"
   ]
  },
  {
   "cell_type": "markdown",
   "metadata": {},
   "source": [
    "###### Cross Validation"
   ]
  },
  {
   "cell_type": "code",
   "execution_count": 143,
   "metadata": {
    "collapsed": true
   },
   "outputs": [
    {
     "name": "stderr",
     "output_type": "stream",
     "text": [
      "C:\\Users\\Inons\\anaconda3\\lib\\site-packages\\xgboost\\sklearn.py:1146: UserWarning: The use of label encoder in XGBClassifier is deprecated and will be removed in a future release. To remove this warning, do the following: 1) Pass option use_label_encoder=False when constructing XGBClassifier object; and 2) Encode your labels (y) as integers starting with 0, i.e. 0, 1, 2, ..., [num_class - 1].\n",
      "  warnings.warn(label_encoder_deprecation_msg, UserWarning)\n"
     ]
    },
    {
     "name": "stdout",
     "output_type": "stream",
     "text": [
      "[02:36:30] WARNING: C:/Users/Administrator/workspace/xgboost-win64_release_1.4.0/src/learner.cc:1095: Starting in XGBoost 1.3.0, the default evaluation metric used with the objective 'binary:logistic' was changed from 'error' to 'logloss'. Explicitly set eval_metric if you'd like to restore the old behavior.\n",
      "[02:36:30] WARNING: C:/Users/Administrator/workspace/xgboost-win64_release_1.4.0/src/learner.cc:1095: Starting in XGBoost 1.3.0, the default evaluation metric used with the objective 'binary:logistic' was changed from 'error' to 'logloss'. Explicitly set eval_metric if you'd like to restore the old behavior.\n",
      "[02:36:30] WARNING: C:/Users/Administrator/workspace/xgboost-win64_release_1.4.0/src/learner.cc:1095: Starting in XGBoost 1.3.0, the default evaluation metric used with the objective 'binary:logistic' was changed from 'error' to 'logloss'. Explicitly set eval_metric if you'd like to restore the old behavior.\n",
      "[02:36:31] WARNING: C:/Users/Administrator/workspace/xgboost-win64_release_1.4.0/src/learner.cc:1095: Starting in XGBoost 1.3.0, the default evaluation metric used with the objective 'binary:logistic' was changed from 'error' to 'logloss'. Explicitly set eval_metric if you'd like to restore the old behavior.\n",
      "[02:36:31] WARNING: C:/Users/Administrator/workspace/xgboost-win64_release_1.4.0/src/learner.cc:1095: Starting in XGBoost 1.3.0, the default evaluation metric used with the objective 'binary:logistic' was changed from 'error' to 'logloss'. Explicitly set eval_metric if you'd like to restore the old behavior.\n",
      "Mean Accuracy:  0.8558805049221636\n"
     ]
    }
   ],
   "source": [
    "xgb_meanVscore = cross_val_score(xgb, X_train_transformed, y_train, cv=5, scoring='accuracy').mean()\n",
    "print(\"Mean Accuracy: \", xgb_meanVscore)"
   ]
  },
  {
   "cell_type": "markdown",
   "metadata": {},
   "source": [
    "Mean Accuracy:  0.8558805049221636"
   ]
  },
  {
   "cell_type": "markdown",
   "metadata": {},
   "source": [
    "###### Grid Search"
   ]
  },
  {
   "cell_type": "code",
   "execution_count": 168,
   "metadata": {},
   "outputs": [
    {
     "name": "stdout",
     "output_type": "stream",
     "text": [
      "Obtaining Best Model for XGBClassifier\n"
     ]
    },
    {
     "name": "stderr",
     "output_type": "stream",
     "text": [
      "C:\\Users\\Inons\\anaconda3\\lib\\site-packages\\xgboost\\sklearn.py:1146: UserWarning: The use of label encoder in XGBClassifier is deprecated and will be removed in a future release. To remove this warning, do the following: 1) Pass option use_label_encoder=False when constructing XGBClassifier object; and 2) Encode your labels (y) as integers starting with 0, i.e. 0, 1, 2, ..., [num_class - 1].\n",
      "  warnings.warn(label_encoder_deprecation_msg, UserWarning)\n"
     ]
    },
    {
     "name": "stdout",
     "output_type": "stream",
     "text": [
      "[16:44:14] WARNING: C:/Users/Administrator/workspace/xgboost-win64_release_1.4.0/src/learner.cc:1095: Starting in XGBoost 1.3.0, the default evaluation metric used with the objective 'binary:logistic' was changed from 'error' to 'logloss'. Explicitly set eval_metric if you'd like to restore the old behavior.\n",
      "Best Parameters:  {'learning_rate': 0.1, 'max_depth': 8}\n",
      "Best Scores:  0.8581834401979842\n",
      "\n",
      "Results for each run of XGBClassifier...\n",
      "0.8113719481682932 0.8032754896154101 {'learning_rate': 0.01, 'max_depth': 4}\n",
      "0.8746639603263479 0.8414172816811296 {'learning_rate': 0.01, 'max_depth': 8}\n",
      "0.9439394708046713 0.8432088722645886 {'learning_rate': 0.01, 'max_depth': 16}\n",
      "0.8757197862741961 0.849735439332909 {'learning_rate': 0.1, 'max_depth': 4}\n",
      "0.945219342825148 0.8581834401979842 {'learning_rate': 0.1, 'max_depth': 8}\n",
      "0.9997440307150857 0.8525511938612423 {'learning_rate': 0.1, 'max_depth': 16}\n",
      "0.9822731722924332 0.8369380594624574 {'learning_rate': 1, 'max_depth': 4}\n",
      "1.0 0.8361679294635961 {'learning_rate': 1, 'max_depth': 8}\n",
      "1.0 0.8386009537127377 {'learning_rate': 1, 'max_depth': 16}\n"
     ]
    }
   ],
   "source": [
    "xgb_param_grid = [{'max_depth':[4, 8, 16], 'learning_rate':[0.01, 0.1, 1]}]\n",
    "xgb_grid_Search = grid_search(xgb, xgb_param_grid)"
   ]
  },
  {
   "cell_type": "markdown",
   "metadata": {},
   "source": [
    "## Model Evaluation"
   ]
  },
  {
   "cell_type": "code",
   "execution_count": 209,
   "metadata": {},
   "outputs": [
    {
     "name": "stdout",
     "output_type": "stream",
     "text": [
      "Logistic Regression Result:  0.825\n",
      "Knn Result:  0.7289\n",
      "Desicion Tree Result:  0.8164\n",
      "Random Forest Result:  0.8435\n",
      "Gradient Boost Result:  0.8495\n",
      "XGBoost Result:  0.8656\n"
     ]
    }
   ],
   "source": [
    "logR_Result = logR_grid_Search.score(X_test_transformed,y_test)\n",
    "Knn_Result = Knn_grid_Search.score(X_test_transformed,y_test)\n",
    "dTree_Result = dTree_grid_Search.score(X_test_transformed,y_test)\n",
    "RFor_Result = RFor_grid_Search.score(X_test_transformed,y_test)\n",
    "gradB_Result = gradB_grid_Search.score(X_test_transformed,y_test)\n",
    "xgb_Result = xgb_grid_Search.score(X_test_transformed,y_test)\n",
    "new_Result = [logR_Result,Knn_Result,dTree_Result,RFor_Result,gradB_Result,xgb_Result]\n",
    "\n",
    "print(\"Logistic Regression Result: \",np.around(logR_Result, decimals=4))\n",
    "print(\"Knn Result: \",np.around(Knn_Result, decimals=4))\n",
    "print(\"Desicion Tree Result: \",np.around(dTree_Result, decimals=4))\n",
    "print(\"Random Forest Result: \",np.around(RFor_Result, decimals=4))\n",
    "print(\"Gradient Boost Result: \",np.around(gradB_Result, decimals=4))\n",
    "print(\"XGBoost Result: \",np.around(xgb_Result, decimals=4))\n",
    "\n"
   ]
  },
  {
   "cell_type": "markdown",
   "metadata": {},
   "source": [
    "## Comparison Between Model Scores"
   ]
  },
  {
   "cell_type": "markdown",
   "metadata": {},
   "source": [
    "We will compare the result of last year final project and this years updates that have been made to the dataset:\n",
    "\n",
    "Lest start with the comparing the best training models results"
   ]
  },
  {
   "cell_type": "code",
   "execution_count": 244,
   "metadata": {
    "scrolled": true
   },
   "outputs": [
    {
     "name": "stdout",
     "output_type": "stream",
     "text": [
      "Last years best result:  0.7743\n",
      "This years best result:  0.8656\n"
     ]
    }
   ],
   "source": [
    "print(\"Last years best result: \", np.around(max(old_Results), decimals=4))\n",
    "print(\"This years best result: \", np.around(max(new_Result), decimals=4))"
   ]
  },
  {
   "cell_type": "markdown",
   "metadata": {},
   "source": [
    "There was an improvment of 9 which is a very big improvment and if i were to compare it to kaggle its very high (I saw 86, but i dont know what is the highest one)"
   ]
  },
  {
   "cell_type": "markdown",
   "metadata": {},
   "source": [
    "And Now compare the result fot the same kind of training models"
   ]
  },
  {
   "cell_type": "code",
   "execution_count": 252,
   "metadata": {},
   "outputs": [
    {
     "name": "stdout",
     "output_type": "stream",
     "text": [
      "Logistic Regression went from  0.7644  to  0.825\n",
      "Knn went from  0.754  to  0.7289\n",
      "Desicion Tree went from  0.7743  to  0.8164\n"
     ]
    }
   ],
   "source": [
    "print(\"Logistic Regression went from \",np.around(logR_old_Result, decimals=4),\" to \",np.around(logR_Result, decimals=4))\n",
    "print(\"Knn went from \",np.around(Knn_old_Result, decimals=4),\" to \",np.around(Knn_Result, decimals=4) )\n",
    "print(\"Desicion Tree went from \",np.around(dtree_old_Result, decimals=4),\" to \",np.around(dTree_Result, decimals=4) )"
   ]
  },
  {
   "cell_type": "markdown",
   "metadata": {},
   "source": [
    "Logistic Regression had the highest improvemnt, thanks to better propressing and Grid Search\n",
    "\n",
    "Knn actually went down, the preproccesing had a bad effect on knn\n",
    "\n",
    "Desicion Tree also had a big improvment, thanks to Grid Search"
   ]
  },
  {
   "cell_type": "markdown",
   "metadata": {},
   "source": [
    "###### Conclusion\n",
    "\n",
    "The things i learned this year made a huge improvment for example essembly led to a huge improvment,\n",
    "but I think in addition my understanding of how to realy train a model was very bad last year and thanks to learning how to use pipeline, cross variance and grid search right the improvment was even bigger.\n",
    "\n"
   ]
  }
 ],
 "metadata": {
  "kernelspec": {
   "display_name": "Python 3",
   "language": "python",
   "name": "python3"
  },
  "language_info": {
   "codemirror_mode": {
    "name": "ipython",
    "version": 3
   },
   "file_extension": ".py",
   "mimetype": "text/x-python",
   "name": "python",
   "nbconvert_exporter": "python",
   "pygments_lexer": "ipython3",
   "version": "3.8.5"
  }
 },
 "nbformat": 4,
 "nbformat_minor": 4
}
