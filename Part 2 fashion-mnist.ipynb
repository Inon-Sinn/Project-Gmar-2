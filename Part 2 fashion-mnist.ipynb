{
 "cells": [
  {
   "cell_type": "markdown",
   "metadata": {},
   "source": [
    "<center> <h1>Fashion - MNIST</h1> </center>"
   ]
  },
  {
   "cell_type": "markdown",
   "metadata": {},
   "source": [
    "#### What is the FMNIST?\n",
    "\n",
    "Fashion-MNIST is a dataset of Zalando's article images, consisting of a training set of 60,000 examples and a test set of 10,000 examples\n",
    "\n",
    "#### What is the training Model trying to predict?\n",
    "\n",
    "The Model should understand the type of fashion object seen on a picture if given a picture of a 28x28 grayscale image of a Zalando's fashio article image.\n",
    "The are 10 types of fashion objects, so ths is a multi-classifaction problem"
   ]
  },
  {
   "cell_type": "markdown",
   "metadata": {},
   "source": [
    "### Feature description\n",
    "\n",
    "we got the 2 diffrent tyes of features, the first represents pixels on the picture and the second says which type of fashion object it is\n",
    "\n",
    "#### pixel1 - pixel784\n",
    "each feature contain a number between 0 and 256 representing a color the grayscale, all pixel togheter make the whole picture of 28*28\n",
    "\n",
    "#### Label\n",
    "contains a number between 0 and 9 each representing of the following types of a fashion object\n",
    "\n",
    "- T-shirt/top\n",
    "- Trouser\n",
    "- Pullover\n",
    "- Dress\n",
    "- Coat\n",
    "- Sandal\n",
    "- Shirt\n",
    "- Sneaker\n",
    "- Bag\n",
    "- Ankle boot\n",
    "\n",
    "The model will try to predict the label of each picture"
   ]
  },
  {
   "cell_type": "markdown",
   "metadata": {},
   "source": [
    "## Libraries"
   ]
  },
  {
   "cell_type": "code",
   "execution_count": 2,
   "metadata": {},
   "outputs": [],
   "source": [
    "import numpy as np\n",
    "import pandas as pd\n",
    "import seaborn as sns\n",
    "%matplotlib inline\n",
    "import matplotlib\n",
    "import matplotlib.pyplot as plt"
   ]
  },
  {
   "cell_type": "markdown",
   "metadata": {},
   "source": [
    "## Get the Data"
   ]
  },
  {
   "cell_type": "code",
   "execution_count": 3,
   "metadata": {},
   "outputs": [],
   "source": [
    "data_train_file = \"csv folder/fashion-mnist_train.csv\"\n",
    "data_test_file = \"csv folder/fashion-mnist_test.csv\"\n",
    "\n",
    "df_train = pd.read_csv(data_train_file)\n",
    "df_test = pd.read_csv(data_test_file)"
   ]
  },
  {
   "cell_type": "markdown",
   "metadata": {},
   "source": [
    "### First Look"
   ]
  },
  {
   "cell_type": "code",
   "execution_count": 4,
   "metadata": {
    "scrolled": false
   },
   "outputs": [
    {
     "data": {
      "text/html": [
       "<div>\n",
       "<style scoped>\n",
       "    .dataframe tbody tr th:only-of-type {\n",
       "        vertical-align: middle;\n",
       "    }\n",
       "\n",
       "    .dataframe tbody tr th {\n",
       "        vertical-align: top;\n",
       "    }\n",
       "\n",
       "    .dataframe thead th {\n",
       "        text-align: right;\n",
       "    }\n",
       "</style>\n",
       "<table border=\"1\" class=\"dataframe\">\n",
       "  <thead>\n",
       "    <tr style=\"text-align: right;\">\n",
       "      <th></th>\n",
       "      <th>label</th>\n",
       "      <th>pixel1</th>\n",
       "      <th>pixel2</th>\n",
       "      <th>pixel3</th>\n",
       "      <th>pixel4</th>\n",
       "      <th>pixel5</th>\n",
       "      <th>pixel6</th>\n",
       "      <th>pixel7</th>\n",
       "      <th>pixel8</th>\n",
       "      <th>pixel9</th>\n",
       "      <th>...</th>\n",
       "      <th>pixel775</th>\n",
       "      <th>pixel776</th>\n",
       "      <th>pixel777</th>\n",
       "      <th>pixel778</th>\n",
       "      <th>pixel779</th>\n",
       "      <th>pixel780</th>\n",
       "      <th>pixel781</th>\n",
       "      <th>pixel782</th>\n",
       "      <th>pixel783</th>\n",
       "      <th>pixel784</th>\n",
       "    </tr>\n",
       "  </thead>\n",
       "  <tbody>\n",
       "    <tr>\n",
       "      <th>0</th>\n",
       "      <td>2</td>\n",
       "      <td>0</td>\n",
       "      <td>0</td>\n",
       "      <td>0</td>\n",
       "      <td>0</td>\n",
       "      <td>0</td>\n",
       "      <td>0</td>\n",
       "      <td>0</td>\n",
       "      <td>0</td>\n",
       "      <td>0</td>\n",
       "      <td>...</td>\n",
       "      <td>0</td>\n",
       "      <td>0</td>\n",
       "      <td>0</td>\n",
       "      <td>0</td>\n",
       "      <td>0</td>\n",
       "      <td>0</td>\n",
       "      <td>0</td>\n",
       "      <td>0</td>\n",
       "      <td>0</td>\n",
       "      <td>0</td>\n",
       "    </tr>\n",
       "    <tr>\n",
       "      <th>1</th>\n",
       "      <td>9</td>\n",
       "      <td>0</td>\n",
       "      <td>0</td>\n",
       "      <td>0</td>\n",
       "      <td>0</td>\n",
       "      <td>0</td>\n",
       "      <td>0</td>\n",
       "      <td>0</td>\n",
       "      <td>0</td>\n",
       "      <td>0</td>\n",
       "      <td>...</td>\n",
       "      <td>0</td>\n",
       "      <td>0</td>\n",
       "      <td>0</td>\n",
       "      <td>0</td>\n",
       "      <td>0</td>\n",
       "      <td>0</td>\n",
       "      <td>0</td>\n",
       "      <td>0</td>\n",
       "      <td>0</td>\n",
       "      <td>0</td>\n",
       "    </tr>\n",
       "    <tr>\n",
       "      <th>2</th>\n",
       "      <td>6</td>\n",
       "      <td>0</td>\n",
       "      <td>0</td>\n",
       "      <td>0</td>\n",
       "      <td>0</td>\n",
       "      <td>0</td>\n",
       "      <td>0</td>\n",
       "      <td>0</td>\n",
       "      <td>5</td>\n",
       "      <td>0</td>\n",
       "      <td>...</td>\n",
       "      <td>0</td>\n",
       "      <td>0</td>\n",
       "      <td>0</td>\n",
       "      <td>30</td>\n",
       "      <td>43</td>\n",
       "      <td>0</td>\n",
       "      <td>0</td>\n",
       "      <td>0</td>\n",
       "      <td>0</td>\n",
       "      <td>0</td>\n",
       "    </tr>\n",
       "    <tr>\n",
       "      <th>3</th>\n",
       "      <td>0</td>\n",
       "      <td>0</td>\n",
       "      <td>0</td>\n",
       "      <td>0</td>\n",
       "      <td>1</td>\n",
       "      <td>2</td>\n",
       "      <td>0</td>\n",
       "      <td>0</td>\n",
       "      <td>0</td>\n",
       "      <td>0</td>\n",
       "      <td>...</td>\n",
       "      <td>3</td>\n",
       "      <td>0</td>\n",
       "      <td>0</td>\n",
       "      <td>0</td>\n",
       "      <td>0</td>\n",
       "      <td>1</td>\n",
       "      <td>0</td>\n",
       "      <td>0</td>\n",
       "      <td>0</td>\n",
       "      <td>0</td>\n",
       "    </tr>\n",
       "    <tr>\n",
       "      <th>4</th>\n",
       "      <td>3</td>\n",
       "      <td>0</td>\n",
       "      <td>0</td>\n",
       "      <td>0</td>\n",
       "      <td>0</td>\n",
       "      <td>0</td>\n",
       "      <td>0</td>\n",
       "      <td>0</td>\n",
       "      <td>0</td>\n",
       "      <td>0</td>\n",
       "      <td>...</td>\n",
       "      <td>0</td>\n",
       "      <td>0</td>\n",
       "      <td>0</td>\n",
       "      <td>0</td>\n",
       "      <td>0</td>\n",
       "      <td>0</td>\n",
       "      <td>0</td>\n",
       "      <td>0</td>\n",
       "      <td>0</td>\n",
       "      <td>0</td>\n",
       "    </tr>\n",
       "  </tbody>\n",
       "</table>\n",
       "<p>5 rows × 785 columns</p>\n",
       "</div>"
      ],
      "text/plain": [
       "   label  pixel1  pixel2  pixel3  pixel4  pixel5  pixel6  pixel7  pixel8  \\\n",
       "0      2       0       0       0       0       0       0       0       0   \n",
       "1      9       0       0       0       0       0       0       0       0   \n",
       "2      6       0       0       0       0       0       0       0       5   \n",
       "3      0       0       0       0       1       2       0       0       0   \n",
       "4      3       0       0       0       0       0       0       0       0   \n",
       "\n",
       "   pixel9  ...  pixel775  pixel776  pixel777  pixel778  pixel779  pixel780  \\\n",
       "0       0  ...         0         0         0         0         0         0   \n",
       "1       0  ...         0         0         0         0         0         0   \n",
       "2       0  ...         0         0         0        30        43         0   \n",
       "3       0  ...         3         0         0         0         0         1   \n",
       "4       0  ...         0         0         0         0         0         0   \n",
       "\n",
       "   pixel781  pixel782  pixel783  pixel784  \n",
       "0         0         0         0         0  \n",
       "1         0         0         0         0  \n",
       "2         0         0         0         0  \n",
       "3         0         0         0         0  \n",
       "4         0         0         0         0  \n",
       "\n",
       "[5 rows x 785 columns]"
      ]
     },
     "execution_count": 4,
     "metadata": {},
     "output_type": "execute_result"
    }
   ],
   "source": [
    "df_train.head()"
   ]
  },
  {
   "cell_type": "code",
   "execution_count": 7,
   "metadata": {
    "scrolled": false
   },
   "outputs": [
    {
     "data": {
      "text/html": [
       "<div>\n",
       "<style scoped>\n",
       "    .dataframe tbody tr th:only-of-type {\n",
       "        vertical-align: middle;\n",
       "    }\n",
       "\n",
       "    .dataframe tbody tr th {\n",
       "        vertical-align: top;\n",
       "    }\n",
       "\n",
       "    .dataframe thead th {\n",
       "        text-align: right;\n",
       "    }\n",
       "</style>\n",
       "<table border=\"1\" class=\"dataframe\">\n",
       "  <thead>\n",
       "    <tr style=\"text-align: right;\">\n",
       "      <th></th>\n",
       "      <th>label</th>\n",
       "      <th>pixel1</th>\n",
       "      <th>pixel2</th>\n",
       "      <th>pixel3</th>\n",
       "      <th>pixel4</th>\n",
       "      <th>pixel5</th>\n",
       "      <th>pixel6</th>\n",
       "      <th>pixel7</th>\n",
       "      <th>pixel8</th>\n",
       "      <th>pixel9</th>\n",
       "      <th>...</th>\n",
       "      <th>pixel775</th>\n",
       "      <th>pixel776</th>\n",
       "      <th>pixel777</th>\n",
       "      <th>pixel778</th>\n",
       "      <th>pixel779</th>\n",
       "      <th>pixel780</th>\n",
       "      <th>pixel781</th>\n",
       "      <th>pixel782</th>\n",
       "      <th>pixel783</th>\n",
       "      <th>pixel784</th>\n",
       "    </tr>\n",
       "  </thead>\n",
       "  <tbody>\n",
       "    <tr>\n",
       "      <th>0</th>\n",
       "      <td>0</td>\n",
       "      <td>0</td>\n",
       "      <td>0</td>\n",
       "      <td>0</td>\n",
       "      <td>0</td>\n",
       "      <td>0</td>\n",
       "      <td>0</td>\n",
       "      <td>0</td>\n",
       "      <td>9</td>\n",
       "      <td>8</td>\n",
       "      <td>...</td>\n",
       "      <td>103</td>\n",
       "      <td>87</td>\n",
       "      <td>56</td>\n",
       "      <td>0</td>\n",
       "      <td>0</td>\n",
       "      <td>0</td>\n",
       "      <td>0</td>\n",
       "      <td>0</td>\n",
       "      <td>0</td>\n",
       "      <td>0</td>\n",
       "    </tr>\n",
       "    <tr>\n",
       "      <th>1</th>\n",
       "      <td>1</td>\n",
       "      <td>0</td>\n",
       "      <td>0</td>\n",
       "      <td>0</td>\n",
       "      <td>0</td>\n",
       "      <td>0</td>\n",
       "      <td>0</td>\n",
       "      <td>0</td>\n",
       "      <td>0</td>\n",
       "      <td>0</td>\n",
       "      <td>...</td>\n",
       "      <td>34</td>\n",
       "      <td>0</td>\n",
       "      <td>0</td>\n",
       "      <td>0</td>\n",
       "      <td>0</td>\n",
       "      <td>0</td>\n",
       "      <td>0</td>\n",
       "      <td>0</td>\n",
       "      <td>0</td>\n",
       "      <td>0</td>\n",
       "    </tr>\n",
       "    <tr>\n",
       "      <th>2</th>\n",
       "      <td>2</td>\n",
       "      <td>0</td>\n",
       "      <td>0</td>\n",
       "      <td>0</td>\n",
       "      <td>0</td>\n",
       "      <td>0</td>\n",
       "      <td>0</td>\n",
       "      <td>14</td>\n",
       "      <td>53</td>\n",
       "      <td>99</td>\n",
       "      <td>...</td>\n",
       "      <td>0</td>\n",
       "      <td>0</td>\n",
       "      <td>0</td>\n",
       "      <td>0</td>\n",
       "      <td>63</td>\n",
       "      <td>53</td>\n",
       "      <td>31</td>\n",
       "      <td>0</td>\n",
       "      <td>0</td>\n",
       "      <td>0</td>\n",
       "    </tr>\n",
       "    <tr>\n",
       "      <th>3</th>\n",
       "      <td>2</td>\n",
       "      <td>0</td>\n",
       "      <td>0</td>\n",
       "      <td>0</td>\n",
       "      <td>0</td>\n",
       "      <td>0</td>\n",
       "      <td>0</td>\n",
       "      <td>0</td>\n",
       "      <td>0</td>\n",
       "      <td>0</td>\n",
       "      <td>...</td>\n",
       "      <td>137</td>\n",
       "      <td>126</td>\n",
       "      <td>140</td>\n",
       "      <td>0</td>\n",
       "      <td>133</td>\n",
       "      <td>224</td>\n",
       "      <td>222</td>\n",
       "      <td>56</td>\n",
       "      <td>0</td>\n",
       "      <td>0</td>\n",
       "    </tr>\n",
       "    <tr>\n",
       "      <th>4</th>\n",
       "      <td>3</td>\n",
       "      <td>0</td>\n",
       "      <td>0</td>\n",
       "      <td>0</td>\n",
       "      <td>0</td>\n",
       "      <td>0</td>\n",
       "      <td>0</td>\n",
       "      <td>0</td>\n",
       "      <td>0</td>\n",
       "      <td>0</td>\n",
       "      <td>...</td>\n",
       "      <td>0</td>\n",
       "      <td>0</td>\n",
       "      <td>0</td>\n",
       "      <td>0</td>\n",
       "      <td>0</td>\n",
       "      <td>0</td>\n",
       "      <td>0</td>\n",
       "      <td>0</td>\n",
       "      <td>0</td>\n",
       "      <td>0</td>\n",
       "    </tr>\n",
       "  </tbody>\n",
       "</table>\n",
       "<p>5 rows × 785 columns</p>\n",
       "</div>"
      ],
      "text/plain": [
       "   label  pixel1  pixel2  pixel3  pixel4  pixel5  pixel6  pixel7  pixel8  \\\n",
       "0      0       0       0       0       0       0       0       0       9   \n",
       "1      1       0       0       0       0       0       0       0       0   \n",
       "2      2       0       0       0       0       0       0      14      53   \n",
       "3      2       0       0       0       0       0       0       0       0   \n",
       "4      3       0       0       0       0       0       0       0       0   \n",
       "\n",
       "   pixel9  ...  pixel775  pixel776  pixel777  pixel778  pixel779  pixel780  \\\n",
       "0       8  ...       103        87        56         0         0         0   \n",
       "1       0  ...        34         0         0         0         0         0   \n",
       "2      99  ...         0         0         0         0        63        53   \n",
       "3       0  ...       137       126       140         0       133       224   \n",
       "4       0  ...         0         0         0         0         0         0   \n",
       "\n",
       "   pixel781  pixel782  pixel783  pixel784  \n",
       "0         0         0         0         0  \n",
       "1         0         0         0         0  \n",
       "2        31         0         0         0  \n",
       "3       222        56         0         0  \n",
       "4         0         0         0         0  \n",
       "\n",
       "[5 rows x 785 columns]"
      ]
     },
     "execution_count": 7,
     "metadata": {},
     "output_type": "execute_result"
    }
   ],
   "source": [
    "df_test.head()"
   ]
  },
  {
   "cell_type": "code",
   "execution_count": 5,
   "metadata": {
    "scrolled": true
   },
   "outputs": [
    {
     "name": "stdout",
     "output_type": "stream",
     "text": [
      "Shape of the Train Set:  (60000, 785)\n",
      "Shape of the Test Set:  (10000, 785)\n"
     ]
    }
   ],
   "source": [
    "print(\"Shape of the Train Set: \", df_train.shape)\n",
    "print(\"Shape of the Test Set: \", df_test.shape)"
   ]
  },
  {
   "cell_type": "markdown",
   "metadata": {},
   "source": [
    "Lets Check if the data set has any null values"
   ]
  },
  {
   "cell_type": "code",
   "execution_count": 6,
   "metadata": {
    "scrolled": false
   },
   "outputs": [
    {
     "data": {
      "text/plain": [
       "0"
      ]
     },
     "execution_count": 6,
     "metadata": {},
     "output_type": "execute_result"
    }
   ],
   "source": [
    "df_train.isnull().sum().sum()"
   ]
  },
  {
   "cell_type": "code",
   "execution_count": 7,
   "metadata": {
    "scrolled": true
   },
   "outputs": [
    {
     "data": {
      "text/plain": [
       "0"
      ]
     },
     "execution_count": 7,
     "metadata": {},
     "output_type": "execute_result"
    }
   ],
   "source": [
    "df_test.isnull().sum().sum()"
   ]
  },
  {
   "cell_type": "markdown",
   "metadata": {},
   "source": [
    "Lets plot some of the pictures to see what we are working with"
   ]
  },
  {
   "cell_type": "code",
   "execution_count": 8,
   "metadata": {},
   "outputs": [
    {
     "data": {
      "text/plain": [
       "'Dress'"
      ]
     },
     "execution_count": 8,
     "metadata": {},
     "output_type": "execute_result"
    }
   ],
   "source": [
    "class_table = [\n",
    "    \"T-shirt/top\",\n",
    "    \"Trouser\",\n",
    "    \"Pullover\",\n",
    "    \"Dress\",\n",
    "    \"Coat\",\n",
    "    \"Sandal\",\n",
    "    \"Shirt\",\n",
    "    \"Sneaker\",\n",
    "    \"Bag\",\n",
    "    \"Ankle boot\"]\n",
    "\n",
    "#given an int in the range of 0 to 9 and return the name of that label\n",
    "def get_label_cls(label):\n",
    "    return class_table[label]\n",
    "\n",
    "#example\n",
    "get_label_cls(3)"
   ]
  },
  {
   "cell_type": "code",
   "execution_count": 9,
   "metadata": {
    "scrolled": false
   },
   "outputs": [
    {
     "data": {
      "image/png": "[encoded data removed]",
      "text/plain": [
       "<Figure size 1440x1440 with 20 Axes>"
      ]
     },
     "metadata": {
      "needs_background": "light"
     },
     "output_type": "display_data"
    }
   ],
   "source": [
    "plt.figure(figsize=(20,20))\n",
    "for i in range(20): \n",
    "    plt.subplot(6,5, i+1)\n",
    "    sample = np.reshape(df_test[df_test.columns[1:]].iloc[i].values/255, (28,28))\n",
    "    plt.axis('off')\n",
    "    plt.title(\"labeled class: {}\".format(get_label_cls(df_test[\"label\"].iloc[i])))\n",
    "    plt.imshow(sample, cmap=plt.cm.binary)"
   ]
  },
  {
   "cell_type": "markdown",
   "metadata": {},
   "source": [
    "## Create a Test set"
   ]
  },
  {
   "cell_type": "markdown",
   "metadata": {},
   "source": [
    "We will first compare the distrubtion of the Test and Training set to see if there is any bias.\n",
    "\n",
    "Lets Strat with the distibution of training set:"
   ]
  },
  {
   "cell_type": "code",
   "execution_count": 10,
   "metadata": {
    "scrolled": true
   },
   "outputs": [
    {
     "data": {
      "image/png": "[encoded data removed]",
      "text/plain": [
       "<Figure size 432x288 with 1 Axes>"
      ]
     },
     "metadata": {
      "needs_background": "light"
     },
     "output_type": "display_data"
    }
   ],
   "source": [
    "df_train['label'].hist()\n",
    "plt.show()"
   ]
  },
  {
   "cell_type": "markdown",
   "metadata": {},
   "source": [
    "The Data is Completely balanced!\n",
    "\n",
    "And now we will make a comparison between the distrubtion of the training and test set"
   ]
  },
  {
   "cell_type": "code",
   "execution_count": 11,
   "metadata": {
    "scrolled": true
   },
   "outputs": [
    {
     "data": {
      "image/png": "[encoded data removed]",
      "text/plain": [
       "<Figure size 432x288 with 1 Axes>"
      ]
     },
     "metadata": {
      "needs_background": "light"
     },
     "output_type": "display_data"
    }
   ],
   "source": [
    "df_train['label'].hist()\n",
    "df_test['label'].hist()\n",
    "plt.show()"
   ]
  },
  {
   "cell_type": "markdown",
   "metadata": {},
   "source": [
    "both have the same distribution, which means it is very balanced and we dont have to worry about a bias in the distribution.\n",
    "\n",
    "The Data is alreday split between Test and train, so we only have to determine the X,Y"
   ]
  },
  {
   "cell_type": "code",
   "execution_count": 12,
   "metadata": {},
   "outputs": [],
   "source": [
    "# Make a copy to avoid changing original data\n",
    "TrainCopy = df_train.copy()\n",
    "TestCopy = df_test.copy()\n",
    "\n",
    "#split the Training set\n",
    "X_train= TrainCopy.drop([\"label\"],axis =1)\n",
    "y_train= TrainCopy[\"label\"]\n",
    "\n",
    "#split the Test set\n",
    "X_test= TestCopy.drop([\"label\"],axis =1)\n",
    "y_test= TestCopy[\"label\"]"
   ]
  },
  {
   "cell_type": "code",
   "execution_count": 13,
   "metadata": {},
   "outputs": [
    {
     "name": "stdout",
     "output_type": "stream",
     "text": [
      "Shape of X_train:  (60000, 784)\n",
      "Shape of y_train:  (60000,)\n",
      "Shape of X_test:  (10000, 784)\n",
      "Shape of y_test:  (10000,)\n"
     ]
    }
   ],
   "source": [
    "#A check to see that nothing went wrong\n",
    "print(\"Shape of X_train: \", X_train.shape)\n",
    "print(\"Shape of y_train: \", y_train.shape)\n",
    "print(\"Shape of X_test: \", X_test.shape)\n",
    "print(\"Shape of y_test: \", y_test.shape)"
   ]
  },
  {
   "cell_type": "markdown",
   "metadata": {},
   "source": [
    "## Data Preprocessing"
   ]
  },
  {
   "cell_type": "code",
   "execution_count": 14,
   "metadata": {},
   "outputs": [],
   "source": [
    "from sklearn.pipeline import Pipeline\n",
    "from sklearn.preprocessing import MinMaxScaler\n",
    "from sklearn.decomposition import PCA\n",
    "from sklearn.cluster import KMeans"
   ]
  },
  {
   "cell_type": "markdown",
   "metadata": {},
   "source": [
    "We only have numeric features, there no null values in the set and all features represent a pixel so no new feature to add. So the only preproccesing steps we can take are:\n",
    "\n",
    "1. Scaling: The scaler will have to be a MinMaxScaler to normalize the data if we want to use PCA.\n",
    "2. Pca: the number n_components will change arcoding to what the goal is (highest accuracy possible or highest accuracy possible with the a low amount of features/pixels/dimensions).\n",
    "3. Clustering: we will go with K-Means and make 100 clusters.\n",
    "\n",
    "We will create a 2 main pipelines, both will have no clustering build in\n",
    "\n",
    "- Pca95: meaning for pca n_components=0.95.\n",
    "- PCA49: meaning for pca n_components=49,49 features/dimensions.\n",
    "\n",
    "i didnt add clustering because we dont know if it will help or not so for every training model i will make a pipeline with clustering to see the results."
   ]
  },
  {
   "cell_type": "markdown",
   "metadata": {},
   "source": [
    "##### Preprocessing Pipeline"
   ]
  },
  {
   "cell_type": "code",
   "execution_count": 15,
   "metadata": {},
   "outputs": [],
   "source": [
    "#Pca - 0.95%: we will los only 5% of the data\n",
    "PCA95 = Pipeline(steps=[\n",
    "    ('scaler',MinMaxScaler()), \n",
    "    ('pca',PCA(n_components=0.95))])\n",
    "\n",
    "#Pca - 49 n_components: we will turn the picture from 748 dimesions to 49 dimensions, form 28*28 to 7*7\n",
    "PCA49 = Pipeline(steps=[\n",
    "    ('scaler',MinMaxScaler()), \n",
    "    ('pca',PCA(n_components=49))])"
   ]
  },
  {
   "cell_type": "markdown",
   "metadata": {},
   "source": [
    "##### Transforming the data"
   ]
  },
  {
   "cell_type": "markdown",
   "metadata": {},
   "source": [
    "###### Pipeline: PCA95"
   ]
  },
  {
   "cell_type": "code",
   "execution_count": 16,
   "metadata": {
    "scrolled": false
   },
   "outputs": [
    {
     "data": {
      "text/plain": [
       "array([[ 3.68571599,  4.96088434, -0.05065857, ...,  0.03425133,\n",
       "        -0.2177666 , -0.01856265],\n",
       "       [-4.37652362,  3.86024446, -1.948038  , ..., -0.15241454,\n",
       "        -0.28524276,  0.01230069],\n",
       "       [ 7.26511378,  1.56887786,  2.31516324, ...,  0.08980214,\n",
       "         0.01288154, -0.15642506],\n",
       "       ...,\n",
       "       [ 2.18171709,  0.45160091, -0.55613746, ..., -0.05673658,\n",
       "        -0.10905813, -0.28895425],\n",
       "       [ 1.46950676,  6.06358945, -0.6244239 , ..., -0.51104822,\n",
       "         0.42540262, -0.26671481],\n",
       "       [-3.57273496,  4.7715986 , -0.26523304, ..., -0.01269432,\n",
       "        -0.07790681,  0.01997427]])"
      ]
     },
     "execution_count": 16,
     "metadata": {},
     "output_type": "execute_result"
    }
   ],
   "source": [
    "# we will preprocess the data\n",
    "X_train_transformed = PCA95.fit_transform(X_train)\n",
    "X_test_transformed = PCA95.transform(X_test)\n",
    "X_train_transformed"
   ]
  },
  {
   "cell_type": "markdown",
   "metadata": {},
   "source": [
    "###### Pipeline: PCA49"
   ]
  },
  {
   "cell_type": "code",
   "execution_count": 17,
   "metadata": {},
   "outputs": [],
   "source": [
    "# Make a copy to avoid changing original data\n",
    "TrainCopy_49d = df_train.copy()\n",
    "TestCopy_49d = df_test.copy()\n",
    "\n",
    "#split the Training set\n",
    "X_train_49d= TrainCopy_49d.drop([\"label\"],axis =1)\n",
    "y_train_49d= TrainCopy_49d[\"label\"]\n",
    "\n",
    "#split the Test set\n",
    "X_test_49d= TestCopy_49d.drop([\"label\"],axis =1)\n",
    "y_test_49d= TestCopy_49d[\"label\"]"
   ]
  },
  {
   "cell_type": "code",
   "execution_count": 18,
   "metadata": {},
   "outputs": [
    {
     "data": {
      "text/plain": [
       "array([[ 3.68571599,  4.96088434, -0.05065857, ...,  0.94566331,\n",
       "         0.02439757,  0.08618657],\n",
       "       [-4.37652362,  3.86024446, -1.948038  , ...,  0.39417834,\n",
       "         0.57146017,  0.15699266],\n",
       "       [ 7.26511378,  1.56887786,  2.31516324, ...,  0.2719184 ,\n",
       "         0.15476864,  0.16124379],\n",
       "       ...,\n",
       "       [ 2.18171709,  0.45160091, -0.55613746, ..., -0.12433588,\n",
       "        -0.27173498, -0.66265886],\n",
       "       [ 1.46950676,  6.06358945, -0.6244239 , ...,  0.17787961,\n",
       "         0.13084123,  0.33915798],\n",
       "       [-3.57273496,  4.7715986 , -0.26523304, ..., -0.9987753 ,\n",
       "        -0.38908009,  0.04987442]])"
      ]
     },
     "execution_count": 18,
     "metadata": {},
     "output_type": "execute_result"
    }
   ],
   "source": [
    "# we will preprocess the data\n",
    "X_train_transformed_49d = PCA49.fit_transform(X_train_49d)\n",
    "X_test_transformed_49d = PCA49.transform(X_test_49d)\n",
    "X_train_transformed_49d"
   ]
  },
  {
   "cell_type": "markdown",
   "metadata": {},
   "source": [
    "## Model exploration\n",
    "Lets Look at the difrence of the picture before and after pca"
   ]
  },
  {
   "cell_type": "code",
   "execution_count": null,
   "metadata": {},
   "outputs": [],
   "source": []
  },
  {
   "cell_type": "markdown",
   "metadata": {},
   "source": [
    "## Model training"
   ]
  },
  {
   "cell_type": "code",
   "execution_count": 60,
   "metadata": {},
   "outputs": [],
   "source": [
    "from sklearn.neighbors import KNeighborsClassifier\n",
    "from sklearn.linear_model import LogisticRegression\n",
    "from sklearn.tree import DecisionTreeClassifier\n",
    "from sklearn.ensemble import RandomForestClassifier\n",
    "from sklearn.ensemble import GradientBoostingClassifier\n",
    "from sklearn.ensemble import AdaBoostClassifier\n",
    "from xgboost import XGBClassifier\n",
    "from sklearn.ensemble import StackingClassifier\n",
    "\n",
    "from sklearn.metrics import confusion_matrix\n",
    "from sklearn.metrics import classification_report\n",
    "from sklearn.metrics import accuracy_score"
   ]
  },
  {
   "cell_type": "markdown",
   "metadata": {},
   "source": [
    "###### Before you Contuine:\n",
    "Each Classifier has at the end a small dataframe with all the accuracy scores for all the pipelines used in addition after Model training is **Model evaluation** which has all results of **Model training** in an orderly manner.\n",
    "\n",
    "**Model training** is at the end of this notebook"
   ]
  },
  {
   "cell_type": "markdown",
   "metadata": {},
   "source": [
    "### KNN"
   ]
  },
  {
   "cell_type": "markdown",
   "metadata": {},
   "source": [
    "##### First Look: Without touching the data at all\n",
    "I have to do at least one run without any changes to see if i even have time for a gridsearch."
   ]
  },
  {
   "cell_type": "code",
   "execution_count": 24,
   "metadata": {},
   "outputs": [
    {
     "name": "stdout",
     "output_type": "stream",
     "text": [
      "              precision    recall  f1-score   support\n",
      "\n",
      "           0       0.75      0.87      0.80      1000\n",
      "           1       0.99      0.97      0.98      1000\n",
      "           2       0.74      0.82      0.78      1000\n",
      "           3       0.91      0.87      0.89      1000\n",
      "           4       0.81      0.77      0.79      1000\n",
      "           5       0.99      0.82      0.90      1000\n",
      "           6       0.68      0.59      0.63      1000\n",
      "           7       0.88      0.94      0.91      1000\n",
      "           8       0.98      0.95      0.97      1000\n",
      "           9       0.88      0.97      0.92      1000\n",
      "\n",
      "    accuracy                           0.86     10000\n",
      "   macro avg       0.86      0.86      0.86     10000\n",
      "weighted avg       0.86      0.86      0.86     10000\n",
      "\n",
      "Accuracy:  0.8584\n"
     ]
    },
    {
     "data": {
      "image/png": "[encoded data removed]",
      "text/plain": [
       "<Figure size 432x288 with 2 Axes>"
      ]
     },
     "metadata": {
      "needs_background": "light"
     },
     "output_type": "display_data"
    }
   ],
   "source": [
    "#fit the model\n",
    "Knn = KNeighborsClassifier(n_neighbors=3)\n",
    "Knn.fit(X_train,y_train)\n",
    "\n",
    "#make predictions\n",
    "Predic_Knn = Knn.predict(X_test)\n",
    "\n",
    "#evaluate predictions\n",
    "confmat = confusion_matrix(y_test, Predic_Knn)\n",
    "sns.heatmap(confmat, annot = True, fmt = \"d\")\n",
    "class_rep1 = classification_report(y_test, Predic_Knn)\n",
    "acc_score1 = accuracy_score(y_test, Predic_Knn)\n",
    "print(class_rep1)\n",
    "print(\"Accuracy: \", acc_score1)"
   ]
  },
  {
   "cell_type": "code",
   "execution_count": 25,
   "metadata": {},
   "outputs": [
    {
     "name": "stdout",
     "output_type": "stream",
     "text": [
      "Accuracy:  0.8003\n"
     ]
    }
   ],
   "source": [
    "Clustering = Pipeline([\n",
    "    (\"kmeans\", KMeans(n_clusters=100, random_state=42)),\n",
    "    (\"Knn\", KNeighborsClassifier(n_neighbors=3)),])\n",
    "Clustering.fit(X_train, y_train)\n",
    "Clustering_score = Clustering.score(X_test, y_test)\n",
    "print(\"Accuracy: \", Clustering_score)"
   ]
  },
  {
   "cell_type": "markdown",
   "metadata": {},
   "source": [
    "##### PCA95 - n_components=0.95"
   ]
  },
  {
   "cell_type": "code",
   "execution_count": 22,
   "metadata": {},
   "outputs": [
    {
     "name": "stdout",
     "output_type": "stream",
     "text": [
      "Accuracy of PCA95 without clustering:  0.8652\n",
      "Accuracy of PCA95 with clustering:  0.7983\n"
     ]
    }
   ],
   "source": [
    "Knn = KNeighborsClassifier(n_neighbors=3)\n",
    "Knn.fit(X_train_transformed,y_train)\n",
    "Knn_score =  Knn.score(X_test_transformed,y_test)\n",
    "print(\"Accuracy of PCA95 without clustering: \",Knn_score)\n",
    "\n",
    "Knn_pipe = Pipeline([(\"kmeans\", KMeans(n_clusters=100, random_state=42)),\n",
    "                    (\"Knn\", KNeighborsClassifier(n_neighbors=3)),])\n",
    "Knn_pipe.fit(X_train_transformed, y_train)\n",
    "Knn_pipe_score = Knn_pipe.score(X_test_transformed, y_test)\n",
    "print(\"Accuracy of PCA95 with clustering: \",Knn_pipe_score)"
   ]
  },
  {
   "cell_type": "markdown",
   "metadata": {},
   "source": [
    "##### PCA49 - 49 dimensions"
   ]
  },
  {
   "cell_type": "code",
   "execution_count": 21,
   "metadata": {},
   "outputs": [
    {
     "name": "stdout",
     "output_type": "stream",
     "text": [
      "Accuracy of PCA49 without clustering:  0.8561\n",
      "Accuracy of PCA49 with clustering:  0.7968\n"
     ]
    }
   ],
   "source": [
    "Knn_49d = KNeighborsClassifier(n_neighbors=3)\n",
    "Knn_49d.fit(X_train_transformed_49d,y_train)\n",
    "Knn_49d_score=Knn_49d.score(X_test_transformed_49d,y_test)\n",
    "print(\"Accuracy of PCA49 without clustering: \", Knn_49d_score)\n",
    "\n",
    "Knn_49d_pipe = Pipeline([(\"kmeans\", KMeans(n_clusters=100, random_state=42)),\n",
    "                    (\"Knn\", KNeighborsClassifier(n_neighbors=3)),])\n",
    "Knn_49d_pipe.fit(X_train_transformed_49d, y_train)\n",
    "Knn_49d_pipe_score=Knn_49d_pipe.score(X_test_transformed_49d, y_test)\n",
    "print(\"Accuracy of PCA49 with clustering: \", Knn_49d_pipe_score)"
   ]
  },
  {
   "cell_type": "markdown",
   "metadata": {},
   "source": [
    "##### Clasifier evaluation"
   ]
  },
  {
   "cell_type": "code",
   "execution_count": 26,
   "metadata": {
    "scrolled": true
   },
   "outputs": [
    {
     "data": {
      "text/html": [
       "<div>\n",
       "<style scoped>\n",
       "    .dataframe tbody tr th:only-of-type {\n",
       "        vertical-align: middle;\n",
       "    }\n",
       "\n",
       "    .dataframe tbody tr th {\n",
       "        vertical-align: top;\n",
       "    }\n",
       "\n",
       "    .dataframe thead th {\n",
       "        text-align: right;\n",
       "    }\n",
       "</style>\n",
       "<table border=\"1\" class=\"dataframe\">\n",
       "  <thead>\n",
       "    <tr style=\"text-align: right;\">\n",
       "      <th></th>\n",
       "      <th>Model</th>\n",
       "      <th>PCA95</th>\n",
       "      <th>PCA49</th>\n",
       "      <th>Clean</th>\n",
       "      <th>PCA95 &amp; K-Means</th>\n",
       "      <th>PCA49 &amp; K-Means</th>\n",
       "      <th>Clean &amp; K-Means</th>\n",
       "    </tr>\n",
       "  </thead>\n",
       "  <tbody>\n",
       "    <tr>\n",
       "      <th>0</th>\n",
       "      <td>KNeighborsClassifier</td>\n",
       "      <td>0.8652</td>\n",
       "      <td>0.8561</td>\n",
       "      <td>0.8584</td>\n",
       "      <td>0.7983</td>\n",
       "      <td>0.7968</td>\n",
       "      <td>0.8003</td>\n",
       "    </tr>\n",
       "  </tbody>\n",
       "</table>\n",
       "</div>"
      ],
      "text/plain": [
       "                  Model   PCA95   PCA49   Clean  PCA95 & K-Means  \\\n",
       "0  KNeighborsClassifier  0.8652  0.8561  0.8584           0.7983   \n",
       "\n",
       "   PCA49 & K-Means  Clean & K-Means  \n",
       "0           0.7968           0.8003  "
      ]
     },
     "execution_count": 26,
     "metadata": {},
     "output_type": "execute_result"
    }
   ],
   "source": [
    "KnnScores = pd.DataFrame({\n",
    "    'Model':['KNeighborsClassifier'],\n",
    "    'PCA95':[Knn_score],\n",
    "    'PCA49':[Knn_49d_score],\n",
    "    'Clean':[acc_score1],\n",
    "    'PCA95 & K-Means':[Knn_pipe_score],\n",
    "    'PCA49 & K-Means':[Knn_49d_pipe_score],\n",
    "    'Clean & K-Means':[Clustering_score]})\n",
    "KnnScores"
   ]
  },
  {
   "cell_type": "markdown",
   "metadata": {},
   "source": [
    "## Logistic Regression"
   ]
  },
  {
   "cell_type": "markdown",
   "metadata": {},
   "source": [
    "##### PCA95 - n_components=0.95"
   ]
  },
  {
   "cell_type": "code",
   "execution_count": 47,
   "metadata": {},
   "outputs": [
    {
     "name": "stdout",
     "output_type": "stream",
     "text": [
      "Accuracy of PCA95 without clustering:  0.8554\n",
      "Accuracy of PCA95 with clustering:  0.7621\n"
     ]
    }
   ],
   "source": [
    "logR = LogisticRegression(random_state=42, n_jobs=-1)\n",
    "logR.fit(X_train_transformed,y_train)\n",
    "logR_score =  logR.score(X_test_transformed,y_test)\n",
    "print(\"Accuracy of PCA95 without clustering: \",logR_score)\n",
    "\n",
    "logR_pipe = Pipeline([(\"kmeans\", KMeans(n_clusters=100, random_state=42)),\n",
    "                    (\"Logistic Regression\", LogisticRegression(random_state=42, n_jobs=-1)),])\n",
    "logR_pipe.fit(X_train_transformed, y_train)\n",
    "logR_pipe_score = logR_pipe.score(X_test_transformed, y_test)\n",
    "print(\"Accuracy of PCA95 with clustering: \",logR_pipe_score)"
   ]
  },
  {
   "cell_type": "markdown",
   "metadata": {},
   "source": [
    "##### PCA49 - 49 dimensions"
   ]
  },
  {
   "cell_type": "code",
   "execution_count": 48,
   "metadata": {},
   "outputs": [
    {
     "name": "stdout",
     "output_type": "stream",
     "text": [
      "Accuracy of PCA49 without clustering:  0.8419\n",
      "Accuracy of PCA49 with clustering:  0.7684\n"
     ]
    }
   ],
   "source": [
    "logR_49d = LogisticRegression(random_state=42, n_jobs=-1)\n",
    "logR_49d.fit(X_train_transformed_49d,y_train)\n",
    "logR_49d_score=logR_49d.score(X_test_transformed_49d,y_test)\n",
    "print(\"Accuracy of PCA49 without clustering: \", logR_49d_score)\n",
    "\n",
    "logR_49d_pipe = Pipeline([(\"kmeans\", KMeans(n_clusters=100, random_state=42)),\n",
    "                    (\"Logistic Regression\", LogisticRegression(random_state=42, n_jobs=-1)),])\n",
    "logR_49d_pipe.fit(X_train_transformed_49d, y_train)\n",
    "logR_49d_pipe_score=logR_49d_pipe.score(X_test_transformed_49d, y_test)\n",
    "print(\"Accuracy of PCA49 with clustering: \", logR_49d_pipe_score)"
   ]
  },
  {
   "cell_type": "markdown",
   "metadata": {},
   "source": [
    "##### Clasifier evaluation"
   ]
  },
  {
   "cell_type": "code",
   "execution_count": 63,
   "metadata": {},
   "outputs": [
    {
     "data": {
      "text/html": [
       "<div>\n",
       "<style scoped>\n",
       "    .dataframe tbody tr th:only-of-type {\n",
       "        vertical-align: middle;\n",
       "    }\n",
       "\n",
       "    .dataframe tbody tr th {\n",
       "        vertical-align: top;\n",
       "    }\n",
       "\n",
       "    .dataframe thead th {\n",
       "        text-align: right;\n",
       "    }\n",
       "</style>\n",
       "<table border=\"1\" class=\"dataframe\">\n",
       "  <thead>\n",
       "    <tr style=\"text-align: right;\">\n",
       "      <th></th>\n",
       "      <th>Model</th>\n",
       "      <th>PCA95</th>\n",
       "      <th>PCA49</th>\n",
       "      <th>PCA95 &amp; K-Means</th>\n",
       "      <th>PCA49 &amp; K-Means</th>\n",
       "    </tr>\n",
       "  </thead>\n",
       "  <tbody>\n",
       "    <tr>\n",
       "      <th>0</th>\n",
       "      <td>LogisticRegressionClassifier</td>\n",
       "      <td>0.8554</td>\n",
       "      <td>0.8419</td>\n",
       "      <td>0.7621</td>\n",
       "      <td>0.7684</td>\n",
       "    </tr>\n",
       "  </tbody>\n",
       "</table>\n",
       "</div>"
      ],
      "text/plain": [
       "                          Model   PCA95   PCA49  PCA95 & K-Means  \\\n",
       "0  LogisticRegressionClassifier  0.8554  0.8419           0.7621   \n",
       "\n",
       "   PCA49 & K-Means  \n",
       "0           0.7684  "
      ]
     },
     "execution_count": 63,
     "metadata": {},
     "output_type": "execute_result"
    }
   ],
   "source": [
    "logRScores = pd.DataFrame({\n",
    "    'Model':['LogisticRegressionClassifier'],\n",
    "    'PCA95':[logR_score],\n",
    "    'PCA49':[logR_49d_score],\n",
    "    'PCA95 & K-Means':[logR_pipe_score],\n",
    "    'PCA49 & K-Means':[logR_49d_pipe_score]})\n",
    "logRScores"
   ]
  },
  {
   "cell_type": "markdown",
   "metadata": {},
   "source": [
    "### Desicion Trees"
   ]
  },
  {
   "cell_type": "markdown",
   "metadata": {},
   "source": [
    "##### PCA95 - n_components=0.95"
   ]
  },
  {
   "cell_type": "code",
   "execution_count": 28,
   "metadata": {},
   "outputs": [
    {
     "name": "stdout",
     "output_type": "stream",
     "text": [
      "Accuracy of PCA95 without clustering:  0.7664\n",
      "Accuracy of PCA95 with clustering:  0.7558\n"
     ]
    }
   ],
   "source": [
    "dTree = DecisionTreeClassifier(random_state=42)\n",
    "dTree.fit(X_train_transformed,y_train)\n",
    "dTree_score =  dTree.score(X_test_transformed,y_test)\n",
    "print(\"Accuracy of PCA95 without clustering: \",dTree_score)\n",
    "\n",
    "dTree_pipe = Pipeline([(\"kmeans\", KMeans(n_clusters=100, random_state=42)),\n",
    "                    (\"Desicion Tree\", DecisionTreeClassifier(random_state=42)),])\n",
    "dTree_pipe.fit(X_train_transformed, y_train)\n",
    "dTree_pipe_score = dTree_pipe.score(X_test_transformed, y_test)\n",
    "print(\"Accuracy of PCA95 with clustering: \",dTree_pipe_score)"
   ]
  },
  {
   "cell_type": "markdown",
   "metadata": {},
   "source": [
    "##### PCA49 - 49 dimensions"
   ]
  },
  {
   "cell_type": "code",
   "execution_count": 37,
   "metadata": {},
   "outputs": [
    {
     "name": "stdout",
     "output_type": "stream",
     "text": [
      "Accuracy of PCA49 without clustering:  0.7766\n",
      "Accuracy of PCA49 with clustering:  0.7523\n"
     ]
    }
   ],
   "source": [
    "dTree_49d = DecisionTreeClassifier(random_state=42)\n",
    "dTree_49d.fit(X_train_transformed_49d,y_train)\n",
    "dTree_49d_score=dTree_49d.score(X_test_transformed_49d,y_test)\n",
    "print(\"Accuracy of PCA49 without clustering: \", dTree_49d_score)\n",
    "\n",
    "dTree_49d_pipe = Pipeline([(\"kmeans\", KMeans(n_clusters=100, random_state=42)),\n",
    "                    (\"Desicion Tree\", DecisionTreeClassifier(random_state=42)),])\n",
    "dTree_49d_pipe.fit(X_train_transformed_49d, y_train)\n",
    "dTree_49d_pipe_score=dTree_49d_pipe.score(X_test_transformed_49d, y_test)\n",
    "print(\"Accuracy of PCA49 with clustering: \", dTree_49d_pipe_score)"
   ]
  },
  {
   "cell_type": "markdown",
   "metadata": {},
   "source": [
    "##### Clasifier evaluation"
   ]
  },
  {
   "cell_type": "code",
   "execution_count": 33,
   "metadata": {},
   "outputs": [
    {
     "data": {
      "text/html": [
       "<div>\n",
       "<style scoped>\n",
       "    .dataframe tbody tr th:only-of-type {\n",
       "        vertical-align: middle;\n",
       "    }\n",
       "\n",
       "    .dataframe tbody tr th {\n",
       "        vertical-align: top;\n",
       "    }\n",
       "\n",
       "    .dataframe thead th {\n",
       "        text-align: right;\n",
       "    }\n",
       "</style>\n",
       "<table border=\"1\" class=\"dataframe\">\n",
       "  <thead>\n",
       "    <tr style=\"text-align: right;\">\n",
       "      <th></th>\n",
       "      <th>Model</th>\n",
       "      <th>PCA95</th>\n",
       "      <th>PCA49</th>\n",
       "      <th>PCA95 &amp; K-Means</th>\n",
       "      <th>PCA49 &amp; K-Means</th>\n",
       "    </tr>\n",
       "  </thead>\n",
       "  <tbody>\n",
       "    <tr>\n",
       "      <th>0</th>\n",
       "      <td>DecisionTreeClassifier</td>\n",
       "      <td>0.7664</td>\n",
       "      <td>0.7766</td>\n",
       "      <td>0.7558</td>\n",
       "      <td>0.7523</td>\n",
       "    </tr>\n",
       "  </tbody>\n",
       "</table>\n",
       "</div>"
      ],
      "text/plain": [
       "                    Model   PCA95   PCA49  PCA95 & K-Means  PCA49 & K-Means\n",
       "0  DecisionTreeClassifier  0.7664  0.7766           0.7558           0.7523"
      ]
     },
     "execution_count": 33,
     "metadata": {},
     "output_type": "execute_result"
    }
   ],
   "source": [
    "dTreeScores = pd.DataFrame({\n",
    "    'Model':['DecisionTreeClassifier'],\n",
    "    'PCA95':[dTree_score],\n",
    "    'PCA49':[dTree_49d_score],\n",
    "    'PCA95 & K-Means':[dTree_pipe_score],\n",
    "    'PCA49 & K-Means':[dTree_49d_pipe_score]})\n",
    "dTreeScores"
   ]
  },
  {
   "cell_type": "markdown",
   "metadata": {},
   "source": [
    "### Random Forest"
   ]
  },
  {
   "cell_type": "markdown",
   "metadata": {},
   "source": [
    "##### PCA95 - n_components=0.95"
   ]
  },
  {
   "cell_type": "code",
   "execution_count": 38,
   "metadata": {},
   "outputs": [
    {
     "name": "stdout",
     "output_type": "stream",
     "text": [
      "Accuracy of PCA95 without clustering:  0.8648\n",
      "Accuracy of PCA95 with clustering:  0.822\n"
     ]
    }
   ],
   "source": [
    "RFor = RandomForestClassifier(random_state=42)\n",
    "RFor.fit(X_train_transformed,y_train)\n",
    "RFor_score =  RFor.score(X_test_transformed,y_test)\n",
    "print(\"Accuracy of PCA95 without clustering: \",RFor_score)\n",
    "\n",
    "RFor_pipe = Pipeline([(\"kmeans\", KMeans(n_clusters=100, random_state=42)),\n",
    "                    (\"Random Forest\", RandomForestClassifier(random_state=42)),])\n",
    "RFor_pipe.fit(X_train_transformed, y_train)\n",
    "RFor_pipe_score = RFor_pipe.score(X_test_transformed, y_test)\n",
    "print(\"Accuracy of PCA95 with clustering: \",RFor_pipe_score)"
   ]
  },
  {
   "cell_type": "markdown",
   "metadata": {},
   "source": [
    "##### PCA49 - 49 dimensions"
   ]
  },
  {
   "cell_type": "code",
   "execution_count": 39,
   "metadata": {},
   "outputs": [
    {
     "name": "stdout",
     "output_type": "stream",
     "text": [
      "Accuracy of PCA49 without clustering:  0.8679\n",
      "Accuracy of PCA49 with clustering:  0.8137\n"
     ]
    }
   ],
   "source": [
    "RFor_49d = RandomForestClassifier(random_state=42)\n",
    "RFor_49d.fit(X_train_transformed_49d,y_train)\n",
    "RFor_49d_score=RFor_49d.score(X_test_transformed_49d,y_test)\n",
    "print(\"Accuracy of PCA49 without clustering: \", RFor_49d_score)\n",
    "\n",
    "RFor_49d_pipe = Pipeline([(\"kmeans\", KMeans(n_clusters=100, random_state=42)),\n",
    "                    (\"Random Forest\", RandomForestClassifier(random_state=42)),])\n",
    "RFor_49d_pipe.fit(X_train_transformed_49d, y_train)\n",
    "RFor_49d_pipe_score=RFor_49d_pipe.score(X_test_transformed_49d, y_test)\n",
    "print(\"Accuracy of PCA49 with clustering: \", RFor_49d_pipe_score)"
   ]
  },
  {
   "cell_type": "markdown",
   "metadata": {},
   "source": [
    "##### Clasifier evaluation"
   ]
  },
  {
   "cell_type": "code",
   "execution_count": 62,
   "metadata": {},
   "outputs": [
    {
     "data": {
      "text/html": [
       "<div>\n",
       "<style scoped>\n",
       "    .dataframe tbody tr th:only-of-type {\n",
       "        vertical-align: middle;\n",
       "    }\n",
       "\n",
       "    .dataframe tbody tr th {\n",
       "        vertical-align: top;\n",
       "    }\n",
       "\n",
       "    .dataframe thead th {\n",
       "        text-align: right;\n",
       "    }\n",
       "</style>\n",
       "<table border=\"1\" class=\"dataframe\">\n",
       "  <thead>\n",
       "    <tr style=\"text-align: right;\">\n",
       "      <th></th>\n",
       "      <th>Model</th>\n",
       "      <th>PCA95</th>\n",
       "      <th>PCA49</th>\n",
       "      <th>PCA95 &amp; K-Means</th>\n",
       "      <th>PCA49 &amp; K-Means</th>\n",
       "    </tr>\n",
       "  </thead>\n",
       "  <tbody>\n",
       "    <tr>\n",
       "      <th>0</th>\n",
       "      <td>RandomForestClassifier</td>\n",
       "      <td>0.8648</td>\n",
       "      <td>0.8679</td>\n",
       "      <td>0.822</td>\n",
       "      <td>0.8137</td>\n",
       "    </tr>\n",
       "  </tbody>\n",
       "</table>\n",
       "</div>"
      ],
      "text/plain": [
       "                    Model   PCA95   PCA49  PCA95 & K-Means  PCA49 & K-Means\n",
       "0  RandomForestClassifier  0.8648  0.8679            0.822           0.8137"
      ]
     },
     "execution_count": 62,
     "metadata": {},
     "output_type": "execute_result"
    }
   ],
   "source": [
    "RForScores = pd.DataFrame({\n",
    "    'Model':['RandomForestClassifier'],\n",
    "    'PCA95':[RFor_score],\n",
    "    'PCA49':[RFor_49d_score],\n",
    "    'PCA95 & K-Means':[RFor_pipe_score],\n",
    "    'PCA49 & K-Means':[RFor_49d_pipe_score]})\n",
    "RForScores"
   ]
  },
  {
   "cell_type": "markdown",
   "metadata": {},
   "source": [
    "### Gradient boosting"
   ]
  },
  {
   "cell_type": "markdown",
   "metadata": {},
   "source": [
    "##### PCA95 - n_components=0.95"
   ]
  },
  {
   "cell_type": "code",
   "execution_count": 41,
   "metadata": {},
   "outputs": [
    {
     "name": "stdout",
     "output_type": "stream",
     "text": [
      "Accuracy of PCA95 without clustering:  0.8498\n",
      "Accuracy of PCA95 with clustering:  0.8088\n"
     ]
    }
   ],
   "source": [
    "gradB = GradientBoostingClassifier(random_state=42)\n",
    "gradB.fit(X_train_transformed,y_train)\n",
    "gradB_score =  gradB.score(X_test_transformed,y_test)\n",
    "print(\"Accuracy of PCA95 without clustering: \",gradB_score)\n",
    "\n",
    "gradB_pipe = Pipeline([(\"kmeans\", KMeans(n_clusters=100, random_state=42)),\n",
    "                    (\"Gradient boosting\",GradientBoostingClassifier(random_state=42)),])\n",
    "gradB_pipe.fit(X_train_transformed, y_train)\n",
    "gradB_pipe_score = gradB_pipe.score(X_test_transformed, y_test)\n",
    "print(\"Accuracy of PCA95 with clustering: \",gradB_pipe_score)"
   ]
  },
  {
   "cell_type": "markdown",
   "metadata": {},
   "source": [
    "##### PCA49 - 49 dimensions"
   ]
  },
  {
   "cell_type": "code",
   "execution_count": 42,
   "metadata": {},
   "outputs": [
    {
     "name": "stdout",
     "output_type": "stream",
     "text": [
      "Accuracy of PCA49 without clustering:  0.8491\n",
      "Accuracy of PCA49 with clustering:  0.7933\n"
     ]
    }
   ],
   "source": [
    "gradB_49d = GradientBoostingClassifier(random_state=42)\n",
    "gradB_49d.fit(X_train_transformed_49d,y_train)\n",
    "gradB_49d_score=gradB_49d.score(X_test_transformed_49d,y_test)\n",
    "print(\"Accuracy of PCA49 without clustering: \", gradB_49d_score)\n",
    "\n",
    "gradB_49d_pipe = Pipeline([(\"kmeans\", KMeans(n_clusters=100, random_state=42)),\n",
    "                      (\"Gradient boosting\",GradientBoostingClassifier(random_state=42)),])\n",
    "gradB_49d_pipe.fit(X_train_transformed_49d, y_train)\n",
    "gradB_49d_pipe_score=gradB_49d_pipe.score(X_test_transformed_49d, y_test)\n",
    "print(\"Accuracy of PCA49 with clustering: \", gradB_49d_pipe_score)"
   ]
  },
  {
   "cell_type": "markdown",
   "metadata": {},
   "source": [
    "##### Clasifier evaluation"
   ]
  },
  {
   "cell_type": "code",
   "execution_count": 61,
   "metadata": {
    "scrolled": true
   },
   "outputs": [
    {
     "data": {
      "text/html": [
       "<div>\n",
       "<style scoped>\n",
       "    .dataframe tbody tr th:only-of-type {\n",
       "        vertical-align: middle;\n",
       "    }\n",
       "\n",
       "    .dataframe tbody tr th {\n",
       "        vertical-align: top;\n",
       "    }\n",
       "\n",
       "    .dataframe thead th {\n",
       "        text-align: right;\n",
       "    }\n",
       "</style>\n",
       "<table border=\"1\" class=\"dataframe\">\n",
       "  <thead>\n",
       "    <tr style=\"text-align: right;\">\n",
       "      <th></th>\n",
       "      <th>Model</th>\n",
       "      <th>PCA95</th>\n",
       "      <th>PCA49</th>\n",
       "      <th>PCA95 &amp; K-Means</th>\n",
       "      <th>PCA49 &amp; K-Means</th>\n",
       "    </tr>\n",
       "  </thead>\n",
       "  <tbody>\n",
       "    <tr>\n",
       "      <th>0</th>\n",
       "      <td>GradientBoostClassifier</td>\n",
       "      <td>0.8498</td>\n",
       "      <td>0.8491</td>\n",
       "      <td>0.8088</td>\n",
       "      <td>0.7933</td>\n",
       "    </tr>\n",
       "  </tbody>\n",
       "</table>\n",
       "</div>"
      ],
      "text/plain": [
       "                     Model   PCA95   PCA49  PCA95 & K-Means  PCA49 & K-Means\n",
       "0  GradientBoostClassifier  0.8498  0.8491           0.8088           0.7933"
      ]
     },
     "execution_count": 61,
     "metadata": {},
     "output_type": "execute_result"
    }
   ],
   "source": [
    "gradBScores = pd.DataFrame({\n",
    "    'Model':['GradientBoostClassifier'],\n",
    "    'PCA95':[gradB_score],\n",
    "    'PCA49':[gradB_49d_score],\n",
    "    'PCA95 & K-Means':[gradB_pipe_score],\n",
    "    'PCA49 & K-Means':[gradB_49d_pipe_score]})\n",
    "gradBScores"
   ]
  },
  {
   "cell_type": "markdown",
   "metadata": {},
   "source": [
    "### Ada Boosting"
   ]
  },
  {
   "cell_type": "markdown",
   "metadata": {},
   "source": [
    "##### PCA95 - n_components=0.95"
   ]
  },
  {
   "cell_type": "code",
   "execution_count": 55,
   "metadata": {},
   "outputs": [
    {
     "name": "stdout",
     "output_type": "stream",
     "text": [
      "Accuracy of PCA95 without clustering:  0.4979\n",
      "Accuracy of PCA95 with clustering:  0.4183\n"
     ]
    }
   ],
   "source": [
    "adaB = AdaBoostClassifier(random_state=42)\n",
    "adaB.fit(X_train_transformed,y_train)\n",
    "adaB_score =  adaB.score(X_test_transformed,y_test)\n",
    "print(\"Accuracy of PCA95 without clustering: \",adaB_score)\n",
    "\n",
    "adaB_pipe = Pipeline([(\"kmeans\", KMeans(n_clusters=100, random_state=42)),\n",
    "                    (\"Ada boosting\",AdaBoostClassifier(random_state=42)),])\n",
    "adaB_pipe.fit(X_train_transformed, y_train)\n",
    "adaB_pipe_score = adaB_pipe.score(X_test_transformed, y_test)\n",
    "print(\"Accuracy of PCA95 with clustering: \",adaB_pipe_score)"
   ]
  },
  {
   "cell_type": "markdown",
   "metadata": {},
   "source": [
    "##### PCA49 - 49 dimensions"
   ]
  },
  {
   "cell_type": "code",
   "execution_count": 56,
   "metadata": {},
   "outputs": [
    {
     "name": "stdout",
     "output_type": "stream",
     "text": [
      "Accuracy of PCA49 without clustering:  0.5098\n",
      "Accuracy of PCA49 with clustering:  0.4612\n"
     ]
    }
   ],
   "source": [
    "adaB_49d = AdaBoostClassifier(random_state=42)\n",
    "adaB_49d.fit(X_train_transformed_49d,y_train)\n",
    "adaB_49d_score=adaB_49d.score(X_test_transformed_49d,y_test)\n",
    "print(\"Accuracy of PCA49 without clustering: \", adaB_49d_score)\n",
    "\n",
    "adaB_49d_pipe = Pipeline([(\"kmeans\", KMeans(n_clusters=100, random_state=42)),\n",
    "                      (\"Ada boosting\",AdaBoostClassifier(random_state=42)),])\n",
    "adaB_49d_pipe.fit(X_train_transformed_49d, y_train)\n",
    "adaB_49d_pipe_score=adaB_49d_pipe.score(X_test_transformed_49d, y_test)\n",
    "print(\"Accuracy of PCA49 with clustering: \", adaB_49d_pipe_score)"
   ]
  },
  {
   "cell_type": "markdown",
   "metadata": {},
   "source": [
    "##### Clasifier evaluation"
   ]
  },
  {
   "cell_type": "code",
   "execution_count": 57,
   "metadata": {},
   "outputs": [
    {
     "data": {
      "text/html": [
       "<div>\n",
       "<style scoped>\n",
       "    .dataframe tbody tr th:only-of-type {\n",
       "        vertical-align: middle;\n",
       "    }\n",
       "\n",
       "    .dataframe tbody tr th {\n",
       "        vertical-align: top;\n",
       "    }\n",
       "\n",
       "    .dataframe thead th {\n",
       "        text-align: right;\n",
       "    }\n",
       "</style>\n",
       "<table border=\"1\" class=\"dataframe\">\n",
       "  <thead>\n",
       "    <tr style=\"text-align: right;\">\n",
       "      <th></th>\n",
       "      <th>Model</th>\n",
       "      <th>PCA95</th>\n",
       "      <th>PCA49</th>\n",
       "      <th>PCA95 &amp; K-Means</th>\n",
       "      <th>PCA49 &amp; K-Means</th>\n",
       "    </tr>\n",
       "  </thead>\n",
       "  <tbody>\n",
       "    <tr>\n",
       "      <th>0</th>\n",
       "      <td>AdaBoostClassifier</td>\n",
       "      <td>0.4979</td>\n",
       "      <td>0.5098</td>\n",
       "      <td>0.4183</td>\n",
       "      <td>0.4612</td>\n",
       "    </tr>\n",
       "  </tbody>\n",
       "</table>\n",
       "</div>"
      ],
      "text/plain": [
       "                Model   PCA95   PCA49  PCA95 & K-Means  PCA49 & K-Means\n",
       "0  AdaBoostClassifier  0.4979  0.5098           0.4183           0.4612"
      ]
     },
     "execution_count": 57,
     "metadata": {},
     "output_type": "execute_result"
    }
   ],
   "source": [
    "adaBScores = pd.DataFrame({\n",
    "    'Model':['AdaBoostClassifier'],\n",
    "    'PCA95':[adaB_score],\n",
    "    'PCA49':[adaB_49d_score],\n",
    "    'PCA95 & K-Means':[adaB_pipe_score],\n",
    "    'PCA49 & K-Means':[adaB_49d_pipe_score]})\n",
    "adaBScores"
   ]
  },
  {
   "cell_type": "markdown",
   "metadata": {},
   "source": [
    "I will remove the clustering, it never made the Model better but i wanted to see if for essembly it will be diffrent.\n",
    "Gradient boosting showed that the clustering isnt helping so Xgboost wont be any diffrent and it will take to long."
   ]
  },
  {
   "cell_type": "markdown",
   "metadata": {},
   "source": [
    "### XG Boost"
   ]
  },
  {
   "cell_type": "markdown",
   "metadata": {},
   "source": [
    "##### PCA95 - n_components=0.95"
   ]
  },
  {
   "cell_type": "code",
   "execution_count": 51,
   "metadata": {},
   "outputs": [
    {
     "name": "stderr",
     "output_type": "stream",
     "text": [
      "C:\\Users\\Inons\\anaconda3\\lib\\site-packages\\xgboost\\sklearn.py:1146: UserWarning: The use of label encoder in XGBClassifier is deprecated and will be removed in a future release. To remove this warning, do the following: 1) Pass option use_label_encoder=False when constructing XGBClassifier object; and 2) Encode your labels (y) as integers starting with 0, i.e. 0, 1, 2, ..., [num_class - 1].\n",
      "  warnings.warn(label_encoder_deprecation_msg, UserWarning)\n"
     ]
    },
    {
     "name": "stdout",
     "output_type": "stream",
     "text": [
      "[03:08:33] WARNING: C:/Users/Administrator/workspace/xgboost-win64_release_1.4.0/src/learner.cc:1095: Starting in XGBoost 1.3.0, the default evaluation metric used with the objective 'multi:softprob' was changed from 'merror' to 'mlogloss'. Explicitly set eval_metric if you'd like to restore the old behavior.\n",
      "Accuracy of PCA95:  0.8843\n"
     ]
    }
   ],
   "source": [
    "xgB = XGBClassifier(random_state=42,n_jobs=-1)\n",
    "xgB.fit(X_train_transformed,y_train)\n",
    "xgB_score =  xgB.score(X_test_transformed,y_test)\n",
    "print(\"Accuracy of PCA95: \",xgB_score)"
   ]
  },
  {
   "cell_type": "markdown",
   "metadata": {},
   "source": [
    "##### PCA49 - 49 dimensions"
   ]
  },
  {
   "cell_type": "code",
   "execution_count": 52,
   "metadata": {},
   "outputs": [
    {
     "name": "stdout",
     "output_type": "stream",
     "text": [
      "[03:21:38] WARNING: C:/Users/Administrator/workspace/xgboost-win64_release_1.4.0/src/learner.cc:1095: Starting in XGBoost 1.3.0, the default evaluation metric used with the objective 'multi:softprob' was changed from 'merror' to 'mlogloss'. Explicitly set eval_metric if you'd like to restore the old behavior.\n",
      "Accuracy of PCA49:  0.8788\n"
     ]
    }
   ],
   "source": [
    "xgB_49d = XGBClassifier(random_state=42,n_jobs=-1)\n",
    "xgB_49d.fit(X_train_transformed_49d,y_train)\n",
    "xgB_49d_score=xgB_49d.score(X_test_transformed_49d,y_test)\n",
    "print(\"Accuracy of PCA49: \", xgB_49d_score)"
   ]
  },
  {
   "cell_type": "markdown",
   "metadata": {},
   "source": [
    "##### Clasifier evaluation"
   ]
  },
  {
   "cell_type": "code",
   "execution_count": 59,
   "metadata": {},
   "outputs": [
    {
     "data": {
      "text/html": [
       "<div>\n",
       "<style scoped>\n",
       "    .dataframe tbody tr th:only-of-type {\n",
       "        vertical-align: middle;\n",
       "    }\n",
       "\n",
       "    .dataframe tbody tr th {\n",
       "        vertical-align: top;\n",
       "    }\n",
       "\n",
       "    .dataframe thead th {\n",
       "        text-align: right;\n",
       "    }\n",
       "</style>\n",
       "<table border=\"1\" class=\"dataframe\">\n",
       "  <thead>\n",
       "    <tr style=\"text-align: right;\">\n",
       "      <th></th>\n",
       "      <th>Model</th>\n",
       "      <th>PCA95</th>\n",
       "      <th>PCA49</th>\n",
       "      <th>PCA95 &amp; K-Means</th>\n",
       "      <th>PCA49 &amp; K-Means</th>\n",
       "    </tr>\n",
       "  </thead>\n",
       "  <tbody>\n",
       "    <tr>\n",
       "      <th>0</th>\n",
       "      <td>XGBoostClassifier</td>\n",
       "      <td>0.8843</td>\n",
       "      <td>0.8788</td>\n",
       "      <td>0</td>\n",
       "      <td>0</td>\n",
       "    </tr>\n",
       "  </tbody>\n",
       "</table>\n",
       "</div>"
      ],
      "text/plain": [
       "               Model   PCA95   PCA49  PCA95 & K-Means  PCA49 & K-Means\n",
       "0  XGBoostClassifier  0.8843  0.8788                0                0"
      ]
     },
     "execution_count": 59,
     "metadata": {},
     "output_type": "execute_result"
    }
   ],
   "source": [
    "xgB_pipe_score=0\n",
    "xgB_49d_pipe_score=0\n",
    "xgBScores = pd.DataFrame({\n",
    "    'Model':['XGBoostClassifier'],\n",
    "    'PCA95':[xgB_score],\n",
    "    'PCA49':[xgB_49d_score],\n",
    "    'PCA95 & K-Means':[xgB_pipe_score],\n",
    "    'PCA49 & K-Means':[xgB_49d_pipe_score]})\n",
    "xgBScores"
   ]
  },
  {
   "cell_type": "markdown",
   "metadata": {},
   "source": [
    "### Stacking"
   ]
  },
  {
   "cell_type": "markdown",
   "metadata": {},
   "source": [
    "##### PCA95 - n_components=0.95"
   ]
  },
  {
   "cell_type": "code",
   "execution_count": null,
   "metadata": {},
   "outputs": [],
   "source": [
    "estimators=[\n",
    "    ('Knn',Knn),\n",
    "    ('Logistic Regression',logR),\n",
    "    ('Random Forest',RFor),\n",
    "    ('Gradient Boosting',gradB)]\n",
    "Stk = StackingClassifier(estimators = estimators,final_estimator=xgB)\n",
    "Stk.fit(X_train_transformed,y_train)\n",
    "\n",
    "Stk_score =  Stk.score(X_test_transformed,y_test)\n",
    "PredicStk = Stk.predict(X_test_transformed)\n",
    "#evaluate predictions\n",
    "confmat = confusion_matrix(y_test, PredicStk)\n",
    "sns.heatmap(confmat, annot = True, fmt = \"d\")\n",
    "class_rep1 = classification_report(y_test, PredicStk)\n",
    "acc_score1 = accuracy_score(y_test, PredicStk)\n",
    "print(class_rep1)\n",
    "print(\"Accuracy of PCA95: \", acc_score1)"
   ]
  },
  {
   "cell_type": "markdown",
   "metadata": {},
   "source": [
    "##### PCA49 - 49 dimensions"
   ]
  },
  {
   "cell_type": "code",
   "execution_count": null,
   "metadata": {},
   "outputs": [],
   "source": [
    "estimators_49d=[\n",
    "    ('Knn',Knn_49d),\n",
    "    ('Logistic Regression',logR_49d),\n",
    "    ('Random Forest',RFor_49d),\n",
    "    ('Gradient Boosting',gradB_49d)]\n",
    "Stk_49d = StackingClassifier(estimators = estimators_49d,final_estimator=xgB_49d)\n",
    "Stk_49d.fit(X_train_transformed,y_train)\n",
    "\n",
    "Stk_49d_score =  Stk_49d.score(X_test_transformed,y_test)\n",
    "PredicStk_49d = Stk_49d.predict(X_test_transformed)\n",
    "#evaluate predictions\n",
    "confmat = confusion_matrix(y_test, PredicStk_49d)\n",
    "sns.heatmap(confmat, annot = True, fmt = \"d\")\n",
    "class_rep1 = classification_report(y_test, PredicStk_49d)\n",
    "acc_score2 = accuracy_score(y_test, PredicStk_49d)\n",
    "print(class_rep1)\n",
    "print(\"Accuracy of PCA49: \", acc_score2)"
   ]
  },
  {
   "cell_type": "markdown",
   "metadata": {},
   "source": [
    "##### Clasifier evaluation"
   ]
  },
  {
   "cell_type": "code",
   "execution_count": null,
   "metadata": {},
   "outputs": [],
   "source": [
    "Stk_pipe_score=0\n",
    "Stk_49d_pipe_score=0\n",
    "StkScores = pd.DataFrame({\n",
    "    'Model':['StackingClassifier'],\n",
    "    'PCA95':[Stk_score],\n",
    "    'PCA49':[Stk_49d_score],\n",
    "    'PCA95 & K-Means':[Stk_pipe_score],\n",
    "    'PCA49 & K-Means':[Stk_49d_pipe_score]})\n",
    "StkScores"
   ]
  },
  {
   "cell_type": "markdown",
   "metadata": {},
   "source": [
    "### Hard Voting"
   ]
  },
  {
   "cell_type": "markdown",
   "metadata": {},
   "source": [
    "##### PCA95 - n_components=0.95"
   ]
  },
  {
   "cell_type": "code",
   "execution_count": null,
   "metadata": {},
   "outputs": [],
   "source": [
    "estimators=[\n",
    "    ('Knn',Knn),\n",
    "    ('Logistic Regression',logR),\n",
    "    ('Random Forest',RFor),\n",
    "    ('Gradient Boosting',gradB),\n",
    "    ('XG Boost', xgB)]\n",
    "votHard = VotingClassifier(estimators=estimators, voting='hard')\n",
    "votHard.fit(X_train_transformed,y_train)\n",
    "\n",
    "votHard_score =  votHard.score(X_test_transformed,y_test)\n",
    "PredicvotHard = votHard.predict(X_test_transformed)\n",
    "print(\"Accuracy of PCA95: \", votHard_score)"
   ]
  },
  {
   "cell_type": "markdown",
   "metadata": {},
   "source": [
    "##### PCA49 - 49 dimensions"
   ]
  },
  {
   "cell_type": "code",
   "execution_count": null,
   "metadata": {},
   "outputs": [],
   "source": [
    "estimators_49d=[\n",
    "    ('Knn',Knn_49d),\n",
    "    ('Logistic Regression',logR_49d),\n",
    "    ('Random Forest',RFor_49d),\n",
    "    ('Gradient Boosting',gradB_49d),\n",
    "    ('XG Boost', xgB_49d)]\n",
    "votHard_49d = VotingClassifier(estimators=estimators_49d, voting='hard')\n",
    "votHard_49d.fit(X_train_transformed,y_train)\n",
    "\n",
    "votHard_49d_score =  votHard_49d.score(X_test_transformed,y_test)\n",
    "PredicvotHard_49d = votHard_49d.predict(X_test_transformed)\n",
    "print(\"Accuracy of PCA49: \", votHard_49d_score)"
   ]
  },
  {
   "cell_type": "markdown",
   "metadata": {},
   "source": [
    "##### Clasifier evaluation"
   ]
  },
  {
   "cell_type": "code",
   "execution_count": null,
   "metadata": {},
   "outputs": [],
   "source": [
    "votHard_pipe_score=0\n",
    "votHard_49d_pipe_score=0\n",
    "votHardScores = pd.DataFrame({\n",
    "    'Model':['StackingClassifier'],\n",
    "    'PCA95':[votHard_score],\n",
    "    'PCA49':[votHard_49d_score],\n",
    "    'PCA95 & K-Means':[votHard_pipe_score],\n",
    "    'PCA49 & K-Means':[votHard_49d_pipe_score]})\n",
    "votHardScores"
   ]
  },
  {
   "cell_type": "markdown",
   "metadata": {},
   "source": [
    "### Soft Voting"
   ]
  },
  {
   "cell_type": "markdown",
   "metadata": {},
   "source": [
    "##### PCA95 - n_components=0.95"
   ]
  },
  {
   "cell_type": "code",
   "execution_count": null,
   "metadata": {},
   "outputs": [],
   "source": [
    "estimators=[\n",
    "    ('Knn',Knn),\n",
    "    ('Logistic Regression',logR),\n",
    "    ('Random Forest',RFor),\n",
    "    ('Gradient Boosting',gradB),\n",
    "    ('XG Boost', xgB)]\n",
    "votSoft = VotingClassifier(estimators=estimators, voting='soft')\n",
    "votSoft.fit(X_train_transformed,y_train)\n",
    "\n",
    "votSoft_score =  votSoft.score(X_test_transformed,y_test)\n",
    "PredicvotSoft = votSoft.predict(X_test_transformed)\n",
    "print(\"Accuracy of PCA49: \", votSoft_score)"
   ]
  },
  {
   "cell_type": "markdown",
   "metadata": {},
   "source": [
    "##### PCA49 - 49 dimensions"
   ]
  },
  {
   "cell_type": "code",
   "execution_count": null,
   "metadata": {},
   "outputs": [],
   "source": [
    "estimators_49d=[\n",
    "    ('Knn',Knn_49d),\n",
    "    ('Logistic Regression',logR_49d),\n",
    "    ('Random Forest',RFor_49d),\n",
    "    ('Gradient Boosting',gradB_49d),\n",
    "    ('XG Boost', xgB_49d)]\n",
    "votSoft_49d = VotingClassifier(estimators=estimators_49d, voting='soft')\n",
    "votSoft_49d.fit(X_train_transformed,y_train)\n",
    "\n",
    "votSoft_49d_score =  votSoft_49d.score(X_test_transformed,y_test)\n",
    "PredicvotSoft = votSoft_49d.predict(X_test_transformed)\n",
    "print(\"Accuracy of PCA49: \", votSoft_49d_score)"
   ]
  },
  {
   "cell_type": "markdown",
   "metadata": {},
   "source": [
    "##### Clasifier evaluation"
   ]
  },
  {
   "cell_type": "code",
   "execution_count": null,
   "metadata": {},
   "outputs": [],
   "source": [
    "votSoft_pipe_score=0\n",
    "votSoft_49d_pipe_score=0\n",
    "votSoftScores = pd.DataFrame({\n",
    "    'Model':['StackingClassifier'],\n",
    "    'PCA95':[votSoft_score],\n",
    "    'PCA49':[votSoft_49d_score],\n",
    "    'PCA95 & K-Means':[votSoft_pipe_score],\n",
    "    'PCA49 & K-Means':[votSoft_49d_pipe_score]})\n",
    "votSoftScores"
   ]
  },
  {
   "cell_type": "markdown",
   "metadata": {},
   "source": [
    "## Model Evaluation"
   ]
  },
  {
   "cell_type": "code",
   "execution_count": null,
   "metadata": {},
   "outputs": [],
   "source": [
    "Final_Scores = pd.DataFrame({\n",
    "    'Model': ['SVC', 'KNeighborsClassifier', 'DecisionTreeClassifier','RandomForestClassifier','AdaBoostClassifier','GaussianNB'],\n",
    "    'Score': [acc_score1, knn_score, dt_score, rf_score, ada_score, gau_score]})\n",
    "models.sort_values(by='Score', ascending=False)"
   ]
  },
  {
   "cell_type": "code",
   "execution_count": null,
   "metadata": {},
   "outputs": [],
   "source": []
  }
 ],
 "metadata": {
  "kernelspec": {
   "display_name": "Python 3",
   "language": "python",
   "name": "python3"
  },
  "language_info": {
   "codemirror_mode": {
    "name": "ipython",
    "version": 3
   },
   "file_extension": ".py",
   "mimetype": "text/x-python",
   "name": "python",
   "nbconvert_exporter": "python",
   "pygments_lexer": "ipython3",
   "version": "3.8.5"
  }
 },
 "nbformat": 4,
 "nbformat_minor": 4
}
