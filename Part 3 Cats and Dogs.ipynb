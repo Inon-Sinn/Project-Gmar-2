{
 "cells": [
  {
   "cell_type": "markdown",
   "metadata": {},
   "source": [
    "<center><h1>Cats and Dogs<j1><center>"
   ]
  },
  {
   "cell_type": "markdown",
   "metadata": {},
   "source": [
    "#### What is the Dogs vs. Cats dataset\n",
    "\n",
    "This is a dataset with 25000 pictures of cats and dogs\n",
    "\n",
    "#### What is the goal if this Model?\n",
    "\n",
    "We want to help a the pc to be able to diffrence between a Dog and a Cat."
   ]
  },
  {
   "cell_type": "markdown",
   "metadata": {},
   "source": [
    "### Feature description\n",
    "\n",
    "There are no features we only get the pictures, so the goal is to turn the pictures we get into a dataFrame\n",
    "with 2 kinds of features, pixel and Label\n",
    "\n",
    "#### pixel1 - pixel???\n",
    "each feature contain a number between 0 and 256 representing a color of the grayscale, all pixel togheter make the whole picture\n",
    "\n",
    "#### Label\n",
    "contains 0 or 1 while 0 represents Cats and 1 dogs.\n",
    "The model will try to predict the label of each picture"
   ]
  },
  {
   "cell_type": "markdown",
   "metadata": {},
   "source": [
    "## Libraries"
   ]
  },
  {
   "cell_type": "code",
   "execution_count": 3,
   "metadata": {},
   "outputs": [],
   "source": [
    "import numpy as np\n",
    "import pandas as pd\n",
    "import seaborn as sns\n",
    "%matplotlib inline\n",
    "import matplotlib\n",
    "import matplotlib.pyplot as plt\n",
    "import os\n",
    "import cv2\n",
    "\n",
    "import warnings\n",
    "warnings.filterwarnings('ignore')"
   ]
  },
  {
   "cell_type": "markdown",
   "metadata": {},
   "source": [
    "## Get the Data"
   ]
  },
  {
   "cell_type": "markdown",
   "metadata": {},
   "source": [
    "We only got an order filled with pictures of cats and dogs; so we will have to turn them into a dataframe"
   ]
  },
  {
   "cell_type": "markdown",
   "metadata": {},
   "source": [
    "### First Look\n",
    "Lets have a look at the pictures and then decide which size we want for the pictures"
   ]
  },
  {
   "cell_type": "code",
   "execution_count": null,
   "metadata": {},
   "outputs": [],
   "source": []
  }
 ],
 "metadata": {
  "kernelspec": {
   "display_name": "Python 3",
   "language": "python",
   "name": "python3"
  },
  "language_info": {
   "codemirror_mode": {
    "name": "ipython",
    "version": 3
   },
   "file_extension": ".py",
   "mimetype": "text/x-python",
   "name": "python",
   "nbconvert_exporter": "python",
   "pygments_lexer": "ipython3",
   "version": "3.8.5"
  }
 },
 "nbformat": 4,
 "nbformat_minor": 4
}
