{
 "cells": [
  {
   "cell_type": "markdown",
   "metadata": {},
   "source": [
    "<center><h1> Hands Movement<h1><center>"
   ]
  },
  {
   "cell_type": "markdown",
   "metadata": {},
   "source": [
    "#### What is the hands Movement dataset\n",
    "\n",
    "This is a data set of an experiment were 12 peoples hand movments were recorde for a period of time, the recorded hand movments were of a person alone, 2 people moving their hands in sync and 2 people moving their hand however they want.\n",
    "\n",
    "#### What is the goal if this Model?\n",
    "\n",
    "the goal is  to try make a model which can if given frame of time know if the movement was done alone, in sync or spontanious"
   ]
  },
  {
   "attachments": {},
   "cell_type": "markdown",
   "metadata": {},
   "source": [
    "### Feature description\n",
    "\n",
    "**Time:** The time at which the frame was taken\n",
    "\n",
    "**Frame ID:** ID of the Frame\n",
    "\n",
    "**Hand Type** Left or Right hand\n",
    "\n",
    "**hands** how many hands were recorded during this frame\n",
    "\n",
    "**Position X** hand postion on the x axis\n",
    "\n",
    "**Position Y** hand postion on the y axis\n",
    "\n",
    "**Position Z** hand postion on the z axis (height)\n",
    "\n",
    "**Velocity X** hand movement Velocity on the X axis\n",
    "\n",
    "**Velocity Y** hand movement Velocity on the Y axis\n",
    "\n",
    "**Velocity Z** hand movement Velocity on the Z axis\n",
    "\n",
    "**Pitch** hand position (the position of the hand up or down compared to your wrist an example: stop sign would be 1 and puting the hand horizontal would be 0)\n",
    "\n",
    "**Roll** hand position (how much is the hand rolled, holdin your hand horizontal would be 0)\n",
    "\n",
    "**Yaw** hand position (the position of the hand to the rigth or left compared to your wrist)\n",
    "\n",
    "**Wrist Pos X** wrist postion on the x axis\n",
    "\n",
    "**Wrist Pos Y** wrist postion on the y axis\n",
    "\n",
    "**Wrist Pos Z** wrist postion on the z axis\n",
    "\n",
    "**Elbow pos X** wrist postion on the x axis\n",
    "\n",
    "**Elbow pos Y** wrist postion on the y axis\n",
    "\n",
    "**Elbow pos Z** wrist postion on the z axis\n",
    "\n",
    "**Grab Strenth** only has 0,1: 0 for an open hand and 1 for a closed one\n",
    "\n",
    "**Grab Angle** how closed the hand is: 0 for an open hend and 1 for closed one\n",
    "\n",
    "**Pinch Strength** ???"
   ]
  },
  {
   "cell_type": "markdown",
   "metadata": {},
   "source": [
    "## Libraries"
   ]
  },
  {
   "cell_type": "code",
   "execution_count": 5,
   "metadata": {},
   "outputs": [],
   "source": [
    "import numpy as np\n",
    "import pandas as pd\n",
    "import seaborn as sns\n",
    "%matplotlib inline\n",
    "import matplotlib\n",
    "import matplotlib.pyplot as plt\n",
    "import os\n",
    "import cv2\n",
    "import math\n",
    "\n",
    "import warnings\n",
    "warnings.filterwarnings('ignore')"
   ]
  },
  {
   "cell_type": "markdown",
   "metadata": {},
   "source": [
    "## Get the Data"
   ]
  },
  {
   "cell_type": "markdown",
   "metadata": {},
   "source": [
    "### Create a df"
   ]
  },
  {
   "cell_type": "markdown",
   "metadata": {},
   "source": [
    "We will first want to create the data frame so we can work on them, the 7 first second can be deleted from the start"
   ]
  },
  {
   "cell_type": "code",
   "execution_count": 95,
   "metadata": {},
   "outputs": [],
   "source": [
    "def Create_df_without_7_sec(path):\n",
    "    df = pd.read_csv(path)\n",
    "    time_to_drop=math.ceil(df[\"Time\"][0])+7\n",
    "    df=df[df[\"Time\"]>time_to_drop]\n",
    "    return df"
   ]
  },
  {
   "cell_type": "markdown",
   "metadata": {},
   "source": [
    "**Train Set**"
   ]
  },
  {
   "cell_type": "code",
   "execution_count": 172,
   "metadata": {},
   "outputs": [],
   "source": [
    "#Spontan\n",
    "#Evyatar_Spon = Create_df_without_7_sec(\"csv folder/Hand_Movement/Training/Evyatar Cohen/Evyatar636771050011691836Spontan.csv\")\n",
    "Nofar_Spon = Create_df_without_7_sec(\"csv folder/Hand_Movement/Training/Nofar Social_Nuero/Nofar636759792183061005Spontan.csv\")\n",
    "\n",
    "Spon_List_train = [Evyatar_Spon]\n",
    "\n",
    "#Sync\n",
    "#Evyatar_Sync = Create_df_without_7_sec(\"csv folder/Hand_Movement/Training/Evyatar Cohen/Evyatar636771050902934708Sync.csv\")\n",
    "Nofar_Sync = Create_df_without_7_sec(\"csv folder/Hand_Movement/Training/Nofar Social_Nuero/Nofar636759794200223541Sync.csv\")\n",
    "\n",
    "Sync_List_train = [Evyatar_Sync]\n",
    "\n",
    "#Alone\n",
    "#Evyatar_Alone = Create_df_without_7_sec(\"csv folder/Hand_Movement/Training/Evyatar Cohen/Evyatar636771051823980826Alone.csv\")\n",
    "Nofar_Alone = Create_df_without_7_sec(\"csv folder/Hand_Movement/Training/Nofar Social_Nuero/Nofar636759793193137655Alone.csv\")\n",
    "\n",
    "Alone_List_train = [Evyatar_Alone]\n"
   ]
  },
  {
   "cell_type": "markdown",
   "metadata": {},
   "source": [
    "**Test Set:**"
   ]
  },
  {
   "cell_type": "code",
   "execution_count": 65,
   "metadata": {},
   "outputs": [],
   "source": [
    "#Spontan\n",
    "#Evyatar_Spon = Create_df_without_7_sec(\"csv folder/Hand_Movement/Training/Evyatar Cohen/Evyatar636771050011691836Spontan.csv\")\n",
    "\n",
    "Spon_List_test = [Evyatar_Spon]\n",
    "\n",
    "#Sync\n",
    "#Evyatar_Sync = Create_df_without_7_sec(\"csv folder/Hand_Movement/Training/Evyatar Cohen/Evyatar636771050902934708Sync.csv\")\n",
    "\n",
    "Sync_List_test = [Evyatar_Sync]\n",
    "\n",
    "#Alone\n",
    "#Evyatar_Alone = Create_df_without_7_sec(\"csv folder/Hand_Movement/Training/Evyatar Cohen/Evyatar636771051823980826Alone.csv\")\n",
    "\n",
    "Alone_List_test = [Evyatar_Alone]\n"
   ]
  },
  {
   "cell_type": "code",
   "execution_count": 174,
   "metadata": {
    "scrolled": false
   },
   "outputs": [
    {
     "data": {
      "text/html": [
       "<div>\n",
       "<style scoped>\n",
       "    .dataframe tbody tr th:only-of-type {\n",
       "        vertical-align: middle;\n",
       "    }\n",
       "\n",
       "    .dataframe tbody tr th {\n",
       "        vertical-align: top;\n",
       "    }\n",
       "\n",
       "    .dataframe thead th {\n",
       "        text-align: right;\n",
       "    }\n",
       "</style>\n",
       "<table border=\"1\" class=\"dataframe\">\n",
       "  <thead>\n",
       "    <tr style=\"text-align: right;\">\n",
       "      <th></th>\n",
       "      <th>Time</th>\n",
       "      <th>Frame ID</th>\n",
       "      <th>Hand Type</th>\n",
       "      <th># hands</th>\n",
       "      <th>Position X</th>\n",
       "      <th>Position Y</th>\n",
       "      <th>Position Z</th>\n",
       "      <th>Velocity X</th>\n",
       "      <th>Velocity Y</th>\n",
       "      <th>Velocity Z</th>\n",
       "      <th>...</th>\n",
       "      <th>Yaw</th>\n",
       "      <th>Wrist Pos X</th>\n",
       "      <th>Wrist Pos Y</th>\n",
       "      <th>Wrist Pos Z</th>\n",
       "      <th>Elbow pos X</th>\n",
       "      <th>Elbow Pos Y</th>\n",
       "      <th>Elbow Pos Z</th>\n",
       "      <th>Grab Strenth</th>\n",
       "      <th>Grab Angle</th>\n",
       "      <th>Pinch Strength</th>\n",
       "    </tr>\n",
       "  </thead>\n",
       "  <tbody>\n",
       "    <tr>\n",
       "      <th>926</th>\n",
       "      <td>93.00004</td>\n",
       "      <td>11725</td>\n",
       "      <td>right</td>\n",
       "      <td>2</td>\n",
       "      <td>112.1729</td>\n",
       "      <td>165.6832</td>\n",
       "      <td>69.03363</td>\n",
       "      <td>46.50423</td>\n",
       "      <td>-171.1805</td>\n",
       "      <td>30.09819</td>\n",
       "      <td>...</td>\n",
       "      <td>-0.965512</td>\n",
       "      <td>172.9886</td>\n",
       "      <td>182.2604</td>\n",
       "      <td>101.70350</td>\n",
       "      <td>369.5180</td>\n",
       "      <td>63.23082</td>\n",
       "      <td>217.1309</td>\n",
       "      <td>0.0</td>\n",
       "      <td>0.378158</td>\n",
       "      <td>0.0</td>\n",
       "    </tr>\n",
       "    <tr>\n",
       "      <th>927</th>\n",
       "      <td>93.00004</td>\n",
       "      <td>11725</td>\n",
       "      <td>left</td>\n",
       "      <td>2</td>\n",
       "      <td>-174.1331</td>\n",
       "      <td>185.0220</td>\n",
       "      <td>79.45733</td>\n",
       "      <td>73.58780</td>\n",
       "      <td>-179.8639</td>\n",
       "      <td>169.64290</td>\n",
       "      <td>...</td>\n",
       "      <td>1.917869</td>\n",
       "      <td>-224.7415</td>\n",
       "      <td>139.7812</td>\n",
       "      <td>56.73923</td>\n",
       "      <td>-398.2293</td>\n",
       "      <td>-44.49225</td>\n",
       "      <td>102.1335</td>\n",
       "      <td>0.0</td>\n",
       "      <td>0.263475</td>\n",
       "      <td>0.0</td>\n",
       "    </tr>\n",
       "    <tr>\n",
       "      <th>928</th>\n",
       "      <td>93.01683</td>\n",
       "      <td>11727</td>\n",
       "      <td>right</td>\n",
       "      <td>2</td>\n",
       "      <td>111.6897</td>\n",
       "      <td>161.5403</td>\n",
       "      <td>68.15795</td>\n",
       "      <td>-27.29169</td>\n",
       "      <td>-231.8569</td>\n",
       "      <td>-47.43299</td>\n",
       "      <td>...</td>\n",
       "      <td>-0.964016</td>\n",
       "      <td>171.9324</td>\n",
       "      <td>178.7851</td>\n",
       "      <td>101.13750</td>\n",
       "      <td>359.0345</td>\n",
       "      <td>53.75314</td>\n",
       "      <td>225.5366</td>\n",
       "      <td>0.0</td>\n",
       "      <td>0.421244</td>\n",
       "      <td>0.0</td>\n",
       "    </tr>\n",
       "    <tr>\n",
       "      <th>929</th>\n",
       "      <td>93.01683</td>\n",
       "      <td>11727</td>\n",
       "      <td>left</td>\n",
       "      <td>2</td>\n",
       "      <td>-173.3174</td>\n",
       "      <td>182.4539</td>\n",
       "      <td>82.47641</td>\n",
       "      <td>44.02934</td>\n",
       "      <td>-141.0067</td>\n",
       "      <td>176.16080</td>\n",
       "      <td>...</td>\n",
       "      <td>1.929541</td>\n",
       "      <td>-224.8252</td>\n",
       "      <td>138.8770</td>\n",
       "      <td>58.69298</td>\n",
       "      <td>-395.1419</td>\n",
       "      <td>-48.83277</td>\n",
       "      <td>101.9668</td>\n",
       "      <td>0.0</td>\n",
       "      <td>0.241042</td>\n",
       "      <td>0.0</td>\n",
       "    </tr>\n",
       "    <tr>\n",
       "      <th>930</th>\n",
       "      <td>93.03379</td>\n",
       "      <td>11729</td>\n",
       "      <td>right</td>\n",
       "      <td>2</td>\n",
       "      <td>111.4815</td>\n",
       "      <td>158.0019</td>\n",
       "      <td>67.43507</td>\n",
       "      <td>-11.62146</td>\n",
       "      <td>-201.5034</td>\n",
       "      <td>-45.16769</td>\n",
       "      <td>...</td>\n",
       "      <td>-0.969727</td>\n",
       "      <td>171.2532</td>\n",
       "      <td>176.6963</td>\n",
       "      <td>100.26620</td>\n",
       "      <td>352.6319</td>\n",
       "      <td>54.04668</td>\n",
       "      <td>235.0779</td>\n",
       "      <td>0.0</td>\n",
       "      <td>0.457663</td>\n",
       "      <td>0.0</td>\n",
       "    </tr>\n",
       "  </tbody>\n",
       "</table>\n",
       "<p>5 rows × 22 columns</p>\n",
       "</div>"
      ],
      "text/plain": [
       "         Time   Frame ID  Hand Type   # hands   Position X   Position Y  \\\n",
       "926  93.00004      11725      right         2     112.1729     165.6832   \n",
       "927  93.00004      11725       left         2    -174.1331     185.0220   \n",
       "928  93.01683      11727      right         2     111.6897     161.5403   \n",
       "929  93.01683      11727       left         2    -173.3174     182.4539   \n",
       "930  93.03379      11729      right         2     111.4815     158.0019   \n",
       "\n",
       "      Position Z   Velocity X   Velocity Y   Velocity Z  ...       Yaw  \\\n",
       "926     69.03363     46.50423    -171.1805     30.09819  ... -0.965512   \n",
       "927     79.45733     73.58780    -179.8639    169.64290  ...  1.917869   \n",
       "928     68.15795    -27.29169    -231.8569    -47.43299  ... -0.964016   \n",
       "929     82.47641     44.02934    -141.0067    176.16080  ...  1.929541   \n",
       "930     67.43507    -11.62146    -201.5034    -45.16769  ... -0.969727   \n",
       "\n",
       "      Wrist Pos X   Wrist Pos Y   Wrist Pos Z   Elbow pos X   Elbow Pos Y  \\\n",
       "926      172.9886      182.2604     101.70350      369.5180      63.23082   \n",
       "927     -224.7415      139.7812      56.73923     -398.2293     -44.49225   \n",
       "928      171.9324      178.7851     101.13750      359.0345      53.75314   \n",
       "929     -224.8252      138.8770      58.69298     -395.1419     -48.83277   \n",
       "930      171.2532      176.6963     100.26620      352.6319      54.04668   \n",
       "\n",
       "      Elbow Pos Z   Grab Strenth   Grab Angle   Pinch Strength  \n",
       "926      217.1309            0.0     0.378158              0.0  \n",
       "927      102.1335            0.0     0.263475              0.0  \n",
       "928      225.5366            0.0     0.421244              0.0  \n",
       "929      101.9668            0.0     0.241042              0.0  \n",
       "930      235.0779            0.0     0.457663              0.0  \n",
       "\n",
       "[5 rows x 22 columns]"
      ]
     },
     "execution_count": 174,
     "metadata": {},
     "output_type": "execute_result"
    }
   ],
   "source": [
    "Nofar_Spon.head()"
   ]
  },
  {
   "cell_type": "markdown",
   "metadata": {},
   "source": [
    "We can See that the index doesnt start at 1 so it worked"
   ]
  },
  {
   "cell_type": "markdown",
   "metadata": {},
   "source": [
    "### Combine data frames of the same type"
   ]
  },
  {
   "cell_type": "markdown",
   "metadata": {},
   "source": [
    "**Train Set**"
   ]
  },
  {
   "cell_type": "code",
   "execution_count": 175,
   "metadata": {
    "scrolled": true
   },
   "outputs": [
    {
     "name": "stdout",
     "output_type": "stream",
     "text": [
      "Shape of Spontan train data frame:  (8136, 22)\n",
      "Shape of Sync train data frame:  (8152, 22)\n",
      "Shape of Alone train data frame:  (4032, 22)\n"
     ]
    }
   ],
   "source": [
    "Spon_df_train = pd.concat(Spon_List_train)\n",
    "Sync_df_train = pd.concat(Sync_List_train)\n",
    "Alone_df_train = pd.concat(Alone_List_train)\n",
    "#check if it worked\n",
    "print(\"Shape of Spontan train data frame: \",Spon_df_train.shape)\n",
    "print(\"Shape of Sync train data frame: \",Sync_df_train.shape)\n",
    "print(\"Shape of Alone train data frame: \",Alone_df_train.shape)"
   ]
  },
  {
   "cell_type": "markdown",
   "metadata": {},
   "source": [
    "**Test Set:**"
   ]
  },
  {
   "cell_type": "code",
   "execution_count": null,
   "metadata": {},
   "outputs": [],
   "source": [
    "Spon_df_test = pd.concat(Spon_List_test)\n",
    "Sync_df_test = pd.concat(Sync_List_test)\n",
    "Alone_df_test = pd.concat(Alone_List_test)\n",
    "#check if it worked\n",
    "print(\"Shape of Spontan test data frame: \",Spon_df_test.shape)\n",
    "print(\"Shape of Sync test data frame: \",Sync_df_test.shape)\n",
    "print(\"Shape of Alone test data frame: \",Alone_df_test.shape)"
   ]
  },
  {
   "cell_type": "markdown",
   "metadata": {},
   "source": [
    "### Data Cleaning"
   ]
  },
  {
   "cell_type": "code",
   "execution_count": 176,
   "metadata": {},
   "outputs": [],
   "source": [
    "def Cleaning_Spon_Sync(df):\n",
    "    df2 = df[df[' # hands'] == 2]\n",
    "    return df2"
   ]
  },
  {
   "cell_type": "code",
   "execution_count": 177,
   "metadata": {},
   "outputs": [],
   "source": [
    "def Cleaning_Alone(df):\n",
    "    df2 = df[df[' Hand Type'] == 'left']\n",
    "    df3 = df2[df[' # hands'] == 1]\n",
    "    return df3"
   ]
  },
  {
   "cell_type": "code",
   "execution_count": 178,
   "metadata": {},
   "outputs": [],
   "source": [
    "def Cleaning_Right_hand(df):\n",
    "    df2 = df[df[' Hand Type'] == 'right']\n",
    "    df3 = df2[df[' # hands'] == 1]\n",
    "    return df3"
   ]
  },
  {
   "cell_type": "markdown",
   "metadata": {},
   "source": [
    "**Right Hand Set**"
   ]
  },
  {
   "cell_type": "code",
   "execution_count": 179,
   "metadata": {},
   "outputs": [],
   "source": [
    "Right_Hand = pd.read_csv('csv folder/Hand_Movement/HandRight.csv')\n",
    "Right_Hand = Cleaning_Right_hand(Right_Hand)"
   ]
  },
  {
   "cell_type": "code",
   "execution_count": 180,
   "metadata": {
    "scrolled": false
   },
   "outputs": [
    {
     "data": {
      "text/html": [
       "<div>\n",
       "<style scoped>\n",
       "    .dataframe tbody tr th:only-of-type {\n",
       "        vertical-align: middle;\n",
       "    }\n",
       "\n",
       "    .dataframe tbody tr th {\n",
       "        vertical-align: top;\n",
       "    }\n",
       "\n",
       "    .dataframe thead th {\n",
       "        text-align: right;\n",
       "    }\n",
       "</style>\n",
       "<table border=\"1\" class=\"dataframe\">\n",
       "  <thead>\n",
       "    <tr style=\"text-align: right;\">\n",
       "      <th></th>\n",
       "      <th>Time</th>\n",
       "      <th>Frame ID</th>\n",
       "      <th>Hand Type</th>\n",
       "      <th># hands</th>\n",
       "      <th>Position X</th>\n",
       "      <th>Position Y</th>\n",
       "      <th>Position Z</th>\n",
       "      <th>Velocity X</th>\n",
       "      <th>Velocity Y</th>\n",
       "      <th>Velocity Z</th>\n",
       "      <th>...</th>\n",
       "      <th>Yaw</th>\n",
       "      <th>Wrist Pos X</th>\n",
       "      <th>Wrist Pos Y</th>\n",
       "      <th>Wrist Pos Z</th>\n",
       "      <th>Elbow pos X</th>\n",
       "      <th>Elbow Pos Y</th>\n",
       "      <th>Elbow Pos Z</th>\n",
       "      <th>Grab Strenth</th>\n",
       "      <th>Grab Angle</th>\n",
       "      <th>Pinch Strength</th>\n",
       "    </tr>\n",
       "  </thead>\n",
       "  <tbody>\n",
       "    <tr>\n",
       "      <th>0</th>\n",
       "      <td>128.2883</td>\n",
       "      <td>15478</td>\n",
       "      <td>right</td>\n",
       "      <td>1</td>\n",
       "      <td>15.671670</td>\n",
       "      <td>226.2064</td>\n",
       "      <td>20.264700</td>\n",
       "      <td>34.26665</td>\n",
       "      <td>-195.214700</td>\n",
       "      <td>-35.043020</td>\n",
       "      <td>...</td>\n",
       "      <td>-0.277800</td>\n",
       "      <td>46.88831</td>\n",
       "      <td>207.3548</td>\n",
       "      <td>86.23589</td>\n",
       "      <td>203.8337</td>\n",
       "      <td>49.33507</td>\n",
       "      <td>237.4553</td>\n",
       "      <td>0.0</td>\n",
       "      <td>0.206389</td>\n",
       "      <td>0.0</td>\n",
       "    </tr>\n",
       "    <tr>\n",
       "      <th>1</th>\n",
       "      <td>128.3048</td>\n",
       "      <td>15480</td>\n",
       "      <td>right</td>\n",
       "      <td>1</td>\n",
       "      <td>16.241190</td>\n",
       "      <td>222.9389</td>\n",
       "      <td>20.117810</td>\n",
       "      <td>36.16443</td>\n",
       "      <td>-180.093900</td>\n",
       "      <td>-4.052799</td>\n",
       "      <td>...</td>\n",
       "      <td>-0.277763</td>\n",
       "      <td>47.54861</td>\n",
       "      <td>205.6568</td>\n",
       "      <td>86.42250</td>\n",
       "      <td>203.9553</td>\n",
       "      <td>47.88272</td>\n",
       "      <td>238.4482</td>\n",
       "      <td>0.0</td>\n",
       "      <td>0.243050</td>\n",
       "      <td>0.0</td>\n",
       "    </tr>\n",
       "    <tr>\n",
       "      <th>2</th>\n",
       "      <td>128.3218</td>\n",
       "      <td>15482</td>\n",
       "      <td>right</td>\n",
       "      <td>1</td>\n",
       "      <td>16.724610</td>\n",
       "      <td>220.9709</td>\n",
       "      <td>19.949720</td>\n",
       "      <td>26.35298</td>\n",
       "      <td>-95.088190</td>\n",
       "      <td>-11.157620</td>\n",
       "      <td>...</td>\n",
       "      <td>-0.278792</td>\n",
       "      <td>48.15030</td>\n",
       "      <td>204.5182</td>\n",
       "      <td>86.35149</td>\n",
       "      <td>204.6231</td>\n",
       "      <td>45.35921</td>\n",
       "      <td>236.8544</td>\n",
       "      <td>0.0</td>\n",
       "      <td>0.281134</td>\n",
       "      <td>0.0</td>\n",
       "    </tr>\n",
       "    <tr>\n",
       "      <th>3</th>\n",
       "      <td>128.3384</td>\n",
       "      <td>15484</td>\n",
       "      <td>right</td>\n",
       "      <td>1</td>\n",
       "      <td>17.090160</td>\n",
       "      <td>219.7124</td>\n",
       "      <td>19.676790</td>\n",
       "      <td>19.46804</td>\n",
       "      <td>-61.755180</td>\n",
       "      <td>-21.303780</td>\n",
       "      <td>...</td>\n",
       "      <td>-0.279768</td>\n",
       "      <td>48.64175</td>\n",
       "      <td>203.9989</td>\n",
       "      <td>86.16056</td>\n",
       "      <td>204.9939</td>\n",
       "      <td>44.18692</td>\n",
       "      <td>236.0927</td>\n",
       "      <td>0.0</td>\n",
       "      <td>0.277691</td>\n",
       "      <td>0.0</td>\n",
       "    </tr>\n",
       "    <tr>\n",
       "      <th>4</th>\n",
       "      <td>128.3551</td>\n",
       "      <td>15486</td>\n",
       "      <td>right</td>\n",
       "      <td>1</td>\n",
       "      <td>17.460170</td>\n",
       "      <td>219.3652</td>\n",
       "      <td>19.131280</td>\n",
       "      <td>21.94964</td>\n",
       "      <td>-8.355943</td>\n",
       "      <td>-35.081790</td>\n",
       "      <td>...</td>\n",
       "      <td>-0.278629</td>\n",
       "      <td>48.93135</td>\n",
       "      <td>203.3777</td>\n",
       "      <td>85.59017</td>\n",
       "      <td>204.5952</td>\n",
       "      <td>42.68003</td>\n",
       "      <td>235.2896</td>\n",
       "      <td>0.0</td>\n",
       "      <td>0.283008</td>\n",
       "      <td>0.0</td>\n",
       "    </tr>\n",
       "    <tr>\n",
       "      <th>...</th>\n",
       "      <td>...</td>\n",
       "      <td>...</td>\n",
       "      <td>...</td>\n",
       "      <td>...</td>\n",
       "      <td>...</td>\n",
       "      <td>...</td>\n",
       "      <td>...</td>\n",
       "      <td>...</td>\n",
       "      <td>...</td>\n",
       "      <td>...</td>\n",
       "      <td>...</td>\n",
       "      <td>...</td>\n",
       "      <td>...</td>\n",
       "      <td>...</td>\n",
       "      <td>...</td>\n",
       "      <td>...</td>\n",
       "      <td>...</td>\n",
       "      <td>...</td>\n",
       "      <td>...</td>\n",
       "      <td>...</td>\n",
       "      <td>...</td>\n",
       "    </tr>\n",
       "    <tr>\n",
       "      <th>4807</th>\n",
       "      <td>208.1942</td>\n",
       "      <td>24687</td>\n",
       "      <td>right</td>\n",
       "      <td>1</td>\n",
       "      <td>-15.404800</td>\n",
       "      <td>208.0276</td>\n",
       "      <td>9.980799</td>\n",
       "      <td>167.86240</td>\n",
       "      <td>510.085200</td>\n",
       "      <td>-105.529500</td>\n",
       "      <td>...</td>\n",
       "      <td>-0.282299</td>\n",
       "      <td>NaN</td>\n",
       "      <td>NaN</td>\n",
       "      <td>NaN</td>\n",
       "      <td>NaN</td>\n",
       "      <td>NaN</td>\n",
       "      <td>NaN</td>\n",
       "      <td>0.0</td>\n",
       "      <td>0.503490</td>\n",
       "      <td>0.0</td>\n",
       "    </tr>\n",
       "    <tr>\n",
       "      <th>4808</th>\n",
       "      <td>208.2108</td>\n",
       "      <td>24689</td>\n",
       "      <td>right</td>\n",
       "      <td>1</td>\n",
       "      <td>-12.678650</td>\n",
       "      <td>218.1196</td>\n",
       "      <td>9.314082</td>\n",
       "      <td>145.00970</td>\n",
       "      <td>562.359400</td>\n",
       "      <td>-20.707010</td>\n",
       "      <td>...</td>\n",
       "      <td>-0.263492</td>\n",
       "      <td>NaN</td>\n",
       "      <td>NaN</td>\n",
       "      <td>NaN</td>\n",
       "      <td>NaN</td>\n",
       "      <td>NaN</td>\n",
       "      <td>NaN</td>\n",
       "      <td>0.0</td>\n",
       "      <td>0.403687</td>\n",
       "      <td>0.0</td>\n",
       "    </tr>\n",
       "    <tr>\n",
       "      <th>4809</th>\n",
       "      <td>208.2276</td>\n",
       "      <td>24691</td>\n",
       "      <td>right</td>\n",
       "      <td>1</td>\n",
       "      <td>-9.643562</td>\n",
       "      <td>228.2807</td>\n",
       "      <td>9.722980</td>\n",
       "      <td>180.42160</td>\n",
       "      <td>591.901900</td>\n",
       "      <td>28.880570</td>\n",
       "      <td>...</td>\n",
       "      <td>-0.234336</td>\n",
       "      <td>NaN</td>\n",
       "      <td>NaN</td>\n",
       "      <td>NaN</td>\n",
       "      <td>NaN</td>\n",
       "      <td>NaN</td>\n",
       "      <td>NaN</td>\n",
       "      <td>0.0</td>\n",
       "      <td>0.310940</td>\n",
       "      <td>0.0</td>\n",
       "    </tr>\n",
       "    <tr>\n",
       "      <th>4810</th>\n",
       "      <td>208.2443</td>\n",
       "      <td>24692</td>\n",
       "      <td>right</td>\n",
       "      <td>1</td>\n",
       "      <td>-7.980715</td>\n",
       "      <td>233.5056</td>\n",
       "      <td>10.419080</td>\n",
       "      <td>192.45930</td>\n",
       "      <td>604.734400</td>\n",
       "      <td>80.566980</td>\n",
       "      <td>...</td>\n",
       "      <td>-0.222084</td>\n",
       "      <td>NaN</td>\n",
       "      <td>NaN</td>\n",
       "      <td>NaN</td>\n",
       "      <td>NaN</td>\n",
       "      <td>NaN</td>\n",
       "      <td>NaN</td>\n",
       "      <td>0.0</td>\n",
       "      <td>0.286526</td>\n",
       "      <td>0.0</td>\n",
       "    </tr>\n",
       "    <tr>\n",
       "      <th>4811</th>\n",
       "      <td>208.2619</td>\n",
       "      <td>24694</td>\n",
       "      <td>right</td>\n",
       "      <td>1</td>\n",
       "      <td>-4.468731</td>\n",
       "      <td>243.8388</td>\n",
       "      <td>12.266750</td>\n",
       "      <td>212.20430</td>\n",
       "      <td>589.477800</td>\n",
       "      <td>133.989800</td>\n",
       "      <td>...</td>\n",
       "      <td>-0.208401</td>\n",
       "      <td>NaN</td>\n",
       "      <td>NaN</td>\n",
       "      <td>NaN</td>\n",
       "      <td>NaN</td>\n",
       "      <td>NaN</td>\n",
       "      <td>NaN</td>\n",
       "      <td>0.0</td>\n",
       "      <td>0.237838</td>\n",
       "      <td>0.0</td>\n",
       "    </tr>\n",
       "  </tbody>\n",
       "</table>\n",
       "<p>4698 rows × 22 columns</p>\n",
       "</div>"
      ],
      "text/plain": [
       "          Time   Frame ID  Hand Type   # hands   Position X   Position Y  \\\n",
       "0     128.2883      15478      right         1    15.671670     226.2064   \n",
       "1     128.3048      15480      right         1    16.241190     222.9389   \n",
       "2     128.3218      15482      right         1    16.724610     220.9709   \n",
       "3     128.3384      15484      right         1    17.090160     219.7124   \n",
       "4     128.3551      15486      right         1    17.460170     219.3652   \n",
       "...        ...        ...        ...       ...          ...          ...   \n",
       "4807  208.1942      24687      right         1   -15.404800     208.0276   \n",
       "4808  208.2108      24689      right         1   -12.678650     218.1196   \n",
       "4809  208.2276      24691      right         1    -9.643562     228.2807   \n",
       "4810  208.2443      24692      right         1    -7.980715     233.5056   \n",
       "4811  208.2619      24694      right         1    -4.468731     243.8388   \n",
       "\n",
       "       Position Z   Velocity X   Velocity Y   Velocity Z  ...       Yaw  \\\n",
       "0       20.264700     34.26665  -195.214700   -35.043020  ... -0.277800   \n",
       "1       20.117810     36.16443  -180.093900    -4.052799  ... -0.277763   \n",
       "2       19.949720     26.35298   -95.088190   -11.157620  ... -0.278792   \n",
       "3       19.676790     19.46804   -61.755180   -21.303780  ... -0.279768   \n",
       "4       19.131280     21.94964    -8.355943   -35.081790  ... -0.278629   \n",
       "...           ...          ...          ...          ...  ...       ...   \n",
       "4807     9.980799    167.86240   510.085200  -105.529500  ... -0.282299   \n",
       "4808     9.314082    145.00970   562.359400   -20.707010  ... -0.263492   \n",
       "4809     9.722980    180.42160   591.901900    28.880570  ... -0.234336   \n",
       "4810    10.419080    192.45930   604.734400    80.566980  ... -0.222084   \n",
       "4811    12.266750    212.20430   589.477800   133.989800  ... -0.208401   \n",
       "\n",
       "       Wrist Pos X   Wrist Pos Y   Wrist Pos Z   Elbow pos X   Elbow Pos Y  \\\n",
       "0         46.88831      207.3548      86.23589      203.8337      49.33507   \n",
       "1         47.54861      205.6568      86.42250      203.9553      47.88272   \n",
       "2         48.15030      204.5182      86.35149      204.6231      45.35921   \n",
       "3         48.64175      203.9989      86.16056      204.9939      44.18692   \n",
       "4         48.93135      203.3777      85.59017      204.5952      42.68003   \n",
       "...            ...           ...           ...           ...           ...   \n",
       "4807           NaN           NaN           NaN           NaN           NaN   \n",
       "4808           NaN           NaN           NaN           NaN           NaN   \n",
       "4809           NaN           NaN           NaN           NaN           NaN   \n",
       "4810           NaN           NaN           NaN           NaN           NaN   \n",
       "4811           NaN           NaN           NaN           NaN           NaN   \n",
       "\n",
       "       Elbow Pos Z   Grab Strenth   Grab Angle   Pinch Strength  \n",
       "0         237.4553            0.0     0.206389              0.0  \n",
       "1         238.4482            0.0     0.243050              0.0  \n",
       "2         236.8544            0.0     0.281134              0.0  \n",
       "3         236.0927            0.0     0.277691              0.0  \n",
       "4         235.2896            0.0     0.283008              0.0  \n",
       "...            ...            ...          ...              ...  \n",
       "4807           NaN            0.0     0.503490              0.0  \n",
       "4808           NaN            0.0     0.403687              0.0  \n",
       "4809           NaN            0.0     0.310940              0.0  \n",
       "4810           NaN            0.0     0.286526              0.0  \n",
       "4811           NaN            0.0     0.237838              0.0  \n",
       "\n",
       "[4698 rows x 22 columns]"
      ]
     },
     "execution_count": 180,
     "metadata": {},
     "output_type": "execute_result"
    }
   ],
   "source": [
    "Right_Hand"
   ]
  },
  {
   "cell_type": "markdown",
   "metadata": {},
   "source": [
    "**Train Set**"
   ]
  },
  {
   "cell_type": "code",
   "execution_count": 181,
   "metadata": {},
   "outputs": [],
   "source": [
    "Spon_df_train = Cleaning_Spon_Sync(Spon_df_train)\n",
    "Sync_df_train = Cleaning_Spon_Sync(Sync_df_train)\n",
    "Alone_df_train = Cleaning_Alone(Alone_df_train)"
   ]
  },
  {
   "cell_type": "markdown",
   "metadata": {},
   "source": [
    "**Test Set:**"
   ]
  },
  {
   "cell_type": "code",
   "execution_count": null,
   "metadata": {},
   "outputs": [],
   "source": [
    "Spon_df_test = Cleaning_Spon_Sync(Spon_df_test)\n",
    "Sync_df_test = Cleaning_Spon_Sync(Sync_df_test)\n",
    "Alone_df_test = Cleaning_Alone(Alone_df_test)"
   ]
  },
  {
   "cell_type": "markdown",
   "metadata": {},
   "source": [
    "### Combine Right and left hand"
   ]
  },
  {
   "cell_type": "code",
   "execution_count": 182,
   "metadata": {},
   "outputs": [],
   "source": [
    "def Combine_Hands_Spon_Sync(df):\n",
    "    hand_Type = df.groupby(df[' Hand Type'])\n",
    "    right = hand_Type.get_group(\"right\")\n",
    "    left = hand_Type.get_group(\"left\")\n",
    "    df = pd.merge(left, right, how='left', on= ' Frame ID')\n",
    "    return df"
   ]
  },
  {
   "cell_type": "code",
   "execution_count": 183,
   "metadata": {},
   "outputs": [],
   "source": [
    "def Combine_Hands_Alone(df,Right_Hand):\n",
    "    Right_Hand = Right_Hand.reset_index(drop=True)\n",
    "    df=df.reset_index(drop=True)\n",
    "    df= pd.merge(df,Right_Hand,left_index=True,right_index=True,how='left')\n",
    "    return df"
   ]
  },
  {
   "cell_type": "markdown",
   "metadata": {},
   "source": [
    "**Right Hand Set**"
   ]
  },
  {
   "cell_type": "code",
   "execution_count": 184,
   "metadata": {},
   "outputs": [
    {
     "name": "stdout",
     "output_type": "stream",
     "text": [
      "Shape of Alone:  (3948, 22)  ,Compared to the Shape Right Hand  (4698, 22)\n"
     ]
    }
   ],
   "source": [
    "print(\"Shape of Alone: \",Alone_df_train.shape,\" ,Compared to the Shape Right Hand \",Right_Hand.shape)"
   ]
  },
  {
   "cell_type": "markdown",
   "metadata": {},
   "source": [
    "We have to make Right_Hand Artfically bigger"
   ]
  },
  {
   "cell_type": "code",
   "execution_count": 185,
   "metadata": {},
   "outputs": [],
   "source": [
    "New_HandRight = pd.DataFrame()\n",
    "for i in range(9):\n",
    "    New_HandRight = pd.concat([New_HandRight,Right_Hand])"
   ]
  },
  {
   "cell_type": "markdown",
   "metadata": {},
   "source": [
    "**Train Set**"
   ]
  },
  {
   "cell_type": "code",
   "execution_count": 186,
   "metadata": {},
   "outputs": [
    {
     "name": "stdout",
     "output_type": "stream",
     "text": [
      "Shape of Spontan train data frame:  (4069, 43)\n",
      "Shape of Sync train data frame:  (4078, 43)\n",
      "Shape of Alone train data frame:  (3948, 44)\n"
     ]
    }
   ],
   "source": [
    "Spon_df_train = Combine_Hands_Spon_Sync(Spon_df_train)\n",
    "Sync_df_train = Combine_Hands_Spon_Sync(Sync_df_train)\n",
    "Alone_df_train = Combine_Hands_Alone(Alone_df_train,New_HandRight)\n",
    "#check if it worked\n",
    "print(\"Shape of Spontan train data frame: \",Spon_df_train.shape)\n",
    "print(\"Shape of Sync train data frame: \",Sync_df_train.shape)\n",
    "print(\"Shape of Alone train data frame: \",Alone_df_train.shape)"
   ]
  },
  {
   "cell_type": "markdown",
   "metadata": {},
   "source": [
    "**Test Set:**"
   ]
  },
  {
   "cell_type": "code",
   "execution_count": null,
   "metadata": {},
   "outputs": [],
   "source": [
    "Spon_df_test = Cleaning_Spon_Sync(Spon_df_test)\n",
    "Sync_df_test = Cleaning_Spon_Sync(Sync_df_test)\n",
    "Alone_df_test = Cleaning_Alone(Alone_df_test,New_HandRight)\n",
    "#check if it worked\n",
    "print(\"Shape of Spontan test data frame: \",Spon_df_test.shape)\n",
    "print(\"Shape of Sync test data frame: \",Sync_df_test.shape)\n",
    "print(\"Shape of Alone test data frame: \",Alone_df_test.shape)"
   ]
  },
  {
   "cell_type": "markdown",
   "metadata": {},
   "source": [
    "### Removing features"
   ]
  },
  {
   "cell_type": "markdown",
   "metadata": {},
   "source": [
    "There a few features we need to remove because they will destroy or distrub the models\n",
    "\n",
    "- Frame ID - the iD wont help the model learning anything and could even disturb the model\n",
    "- num hands - if the models the number of hands it will be way to easy to know which is alone\n",
    "- hand Type - every row has left and right after the combination so it is not really helpfull\n",
    "- Time - every row is the data for a frame and it wont matter when it was, the data describing the moment is whats importent"
   ]
  },
  {
   "cell_type": "code",
   "execution_count": 187,
   "metadata": {},
   "outputs": [],
   "source": [
    "def DeleteFeatures_Spon_Sync(df):\n",
    "    df.drop(['Time_x','Time_y',' Frame ID',' Hand Type_x',' Hand Type_y',' # hands_x',' # hands_y'], inplace = True, axis = 1)\n",
    "    return df"
   ]
  },
  {
   "cell_type": "code",
   "execution_count": 188,
   "metadata": {},
   "outputs": [],
   "source": [
    "def DeleteFeatures_Alone(df):\n",
    "    df.drop(['Time_x','Time_y',' Frame ID_x',' Frame ID_y',' Hand Type_x',' Hand Type_y',' # hands_x',' # hands_y'], inplace = True, axis = 1)\n",
    "    return df"
   ]
  },
  {
   "cell_type": "markdown",
   "metadata": {},
   "source": [
    "**Train Set**"
   ]
  },
  {
   "cell_type": "code",
   "execution_count": 189,
   "metadata": {},
   "outputs": [],
   "source": [
    "Spon_df_train = DeleteFeatures_Spon_Sync(Spon_df_train)\n",
    "Sync_df_train = DeleteFeatures_Spon_Sync(Sync_df_train)\n",
    "Alone_df_train = DeleteFeatures_Alone(Alone_df_train)"
   ]
  },
  {
   "cell_type": "code",
   "execution_count": 191,
   "metadata": {},
   "outputs": [
    {
     "data": {
      "text/html": [
       "<div>\n",
       "<style scoped>\n",
       "    .dataframe tbody tr th:only-of-type {\n",
       "        vertical-align: middle;\n",
       "    }\n",
       "\n",
       "    .dataframe tbody tr th {\n",
       "        vertical-align: top;\n",
       "    }\n",
       "\n",
       "    .dataframe thead th {\n",
       "        text-align: right;\n",
       "    }\n",
       "</style>\n",
       "<table border=\"1\" class=\"dataframe\">\n",
       "  <thead>\n",
       "    <tr style=\"text-align: right;\">\n",
       "      <th></th>\n",
       "      <th>Position X_x</th>\n",
       "      <th>Position Y_x</th>\n",
       "      <th>Position Z_x</th>\n",
       "      <th>Velocity X_x</th>\n",
       "      <th>Velocity Y_x</th>\n",
       "      <th>Velocity Z_x</th>\n",
       "      <th>Pitch_x</th>\n",
       "      <th>Roll_x</th>\n",
       "      <th>Yaw_x</th>\n",
       "      <th>Wrist Pos X_x</th>\n",
       "      <th>...</th>\n",
       "      <th>Yaw_y</th>\n",
       "      <th>Wrist Pos X_y</th>\n",
       "      <th>Wrist Pos Y_y</th>\n",
       "      <th>Wrist Pos Z_y</th>\n",
       "      <th>Elbow pos X_y</th>\n",
       "      <th>Elbow Pos Y_y</th>\n",
       "      <th>Elbow Pos Z_y</th>\n",
       "      <th>Grab Strenth_y</th>\n",
       "      <th>Grab Angle_y</th>\n",
       "      <th>Pinch Strength_y</th>\n",
       "    </tr>\n",
       "  </thead>\n",
       "  <tbody>\n",
       "    <tr>\n",
       "      <th>0</th>\n",
       "      <td>-120.9901</td>\n",
       "      <td>233.4971</td>\n",
       "      <td>111.1945</td>\n",
       "      <td>13.72480</td>\n",
       "      <td>16.62460</td>\n",
       "      <td>-36.05895</td>\n",
       "      <td>2.245895</td>\n",
       "      <td>0.896062</td>\n",
       "      <td>2.443295</td>\n",
       "      <td>-156.9168</td>\n",
       "      <td>...</td>\n",
       "      <td>-1.426339</td>\n",
       "      <td>196.5415</td>\n",
       "      <td>202.3501</td>\n",
       "      <td>79.17751</td>\n",
       "      <td>352.0142</td>\n",
       "      <td>5.932353</td>\n",
       "      <td>100.8471</td>\n",
       "      <td>0.0</td>\n",
       "      <td>0.435941</td>\n",
       "      <td>0.0</td>\n",
       "    </tr>\n",
       "    <tr>\n",
       "      <th>1</th>\n",
       "      <td>-120.6852</td>\n",
       "      <td>233.7579</td>\n",
       "      <td>109.8565</td>\n",
       "      <td>12.63542</td>\n",
       "      <td>21.27728</td>\n",
       "      <td>-87.90247</td>\n",
       "      <td>2.231368</td>\n",
       "      <td>0.898995</td>\n",
       "      <td>2.429476</td>\n",
       "      <td>-156.7636</td>\n",
       "      <td>...</td>\n",
       "      <td>-1.368646</td>\n",
       "      <td>198.2091</td>\n",
       "      <td>202.9526</td>\n",
       "      <td>78.34356</td>\n",
       "      <td>348.7110</td>\n",
       "      <td>3.047308</td>\n",
       "      <td>103.0070</td>\n",
       "      <td>0.0</td>\n",
       "      <td>0.432877</td>\n",
       "      <td>0.0</td>\n",
       "    </tr>\n",
       "    <tr>\n",
       "      <th>2</th>\n",
       "      <td>-120.6262</td>\n",
       "      <td>234.0069</td>\n",
       "      <td>107.7924</td>\n",
       "      <td>-12.91048</td>\n",
       "      <td>25.46214</td>\n",
       "      <td>-121.80650</td>\n",
       "      <td>2.217923</td>\n",
       "      <td>0.903613</td>\n",
       "      <td>2.401253</td>\n",
       "      <td>-157.6457</td>\n",
       "      <td>...</td>\n",
       "      <td>-1.301656</td>\n",
       "      <td>198.7160</td>\n",
       "      <td>202.5023</td>\n",
       "      <td>77.00478</td>\n",
       "      <td>344.4654</td>\n",
       "      <td>-0.121636</td>\n",
       "      <td>107.3668</td>\n",
       "      <td>0.0</td>\n",
       "      <td>0.419624</td>\n",
       "      <td>0.0</td>\n",
       "    </tr>\n",
       "    <tr>\n",
       "      <th>3</th>\n",
       "      <td>-120.3041</td>\n",
       "      <td>234.9940</td>\n",
       "      <td>105.7214</td>\n",
       "      <td>28.58613</td>\n",
       "      <td>84.11961</td>\n",
       "      <td>-116.71390</td>\n",
       "      <td>2.202032</td>\n",
       "      <td>0.909588</td>\n",
       "      <td>2.391383</td>\n",
       "      <td>-157.3797</td>\n",
       "      <td>...</td>\n",
       "      <td>-1.226411</td>\n",
       "      <td>199.1423</td>\n",
       "      <td>201.5152</td>\n",
       "      <td>75.27981</td>\n",
       "      <td>337.1216</td>\n",
       "      <td>-5.943414</td>\n",
       "      <td>109.1011</td>\n",
       "      <td>0.0</td>\n",
       "      <td>0.418503</td>\n",
       "      <td>0.0</td>\n",
       "    </tr>\n",
       "    <tr>\n",
       "      <th>4</th>\n",
       "      <td>-120.2516</td>\n",
       "      <td>237.1003</td>\n",
       "      <td>103.8627</td>\n",
       "      <td>-27.60667</td>\n",
       "      <td>153.09450</td>\n",
       "      <td>-95.06477</td>\n",
       "      <td>2.184623</td>\n",
       "      <td>0.915921</td>\n",
       "      <td>2.379576</td>\n",
       "      <td>-157.4027</td>\n",
       "      <td>...</td>\n",
       "      <td>-1.145465</td>\n",
       "      <td>198.7193</td>\n",
       "      <td>199.6836</td>\n",
       "      <td>73.00286</td>\n",
       "      <td>330.5596</td>\n",
       "      <td>-11.418840</td>\n",
       "      <td>108.7120</td>\n",
       "      <td>0.0</td>\n",
       "      <td>0.405120</td>\n",
       "      <td>0.0</td>\n",
       "    </tr>\n",
       "  </tbody>\n",
       "</table>\n",
       "<p>5 rows × 36 columns</p>\n",
       "</div>"
      ],
      "text/plain": [
       "    Position X_x   Position Y_x   Position Z_x   Velocity X_x   Velocity Y_x  \\\n",
       "0      -120.9901       233.4971       111.1945       13.72480       16.62460   \n",
       "1      -120.6852       233.7579       109.8565       12.63542       21.27728   \n",
       "2      -120.6262       234.0069       107.7924      -12.91048       25.46214   \n",
       "3      -120.3041       234.9940       105.7214       28.58613       84.11961   \n",
       "4      -120.2516       237.1003       103.8627      -27.60667      153.09450   \n",
       "\n",
       "    Velocity Z_x   Pitch_x    Roll_x     Yaw_x   Wrist Pos X_x  ...     Yaw_y  \\\n",
       "0      -36.05895  2.245895  0.896062  2.443295       -156.9168  ... -1.426339   \n",
       "1      -87.90247  2.231368  0.898995  2.429476       -156.7636  ... -1.368646   \n",
       "2     -121.80650  2.217923  0.903613  2.401253       -157.6457  ... -1.301656   \n",
       "3     -116.71390  2.202032  0.909588  2.391383       -157.3797  ... -1.226411   \n",
       "4      -95.06477  2.184623  0.915921  2.379576       -157.4027  ... -1.145465   \n",
       "\n",
       "    Wrist Pos X_y   Wrist Pos Y_y   Wrist Pos Z_y   Elbow pos X_y  \\\n",
       "0        196.5415        202.3501        79.17751        352.0142   \n",
       "1        198.2091        202.9526        78.34356        348.7110   \n",
       "2        198.7160        202.5023        77.00478        344.4654   \n",
       "3        199.1423        201.5152        75.27981        337.1216   \n",
       "4        198.7193        199.6836        73.00286        330.5596   \n",
       "\n",
       "    Elbow Pos Y_y   Elbow Pos Z_y   Grab Strenth_y   Grab Angle_y  \\\n",
       "0        5.932353        100.8471              0.0       0.435941   \n",
       "1        3.047308        103.0070              0.0       0.432877   \n",
       "2       -0.121636        107.3668              0.0       0.419624   \n",
       "3       -5.943414        109.1011              0.0       0.418503   \n",
       "4      -11.418840        108.7120              0.0       0.405120   \n",
       "\n",
       "    Pinch Strength_y  \n",
       "0                0.0  \n",
       "1                0.0  \n",
       "2                0.0  \n",
       "3                0.0  \n",
       "4                0.0  \n",
       "\n",
       "[5 rows x 36 columns]"
      ]
     },
     "execution_count": 191,
     "metadata": {},
     "output_type": "execute_result"
    }
   ],
   "source": [
    "Spon_df_train.head()"
   ]
  },
  {
   "cell_type": "markdown",
   "metadata": {},
   "source": [
    "**Test Set:**"
   ]
  },
  {
   "cell_type": "code",
   "execution_count": null,
   "metadata": {},
   "outputs": [],
   "source": [
    "Spon_df_test = DeleteFeatures_Spon_Sync(Spon_df_test)\n",
    "Sync_df_test = DeleteFeatures_Spon_Sync(Sync_df_test)\n",
    "Alone_df_test = DeleteFeatures_Alone(Alone_df_test)"
   ]
  },
  {
   "cell_type": "markdown",
   "metadata": {},
   "source": [
    "### Adding Label"
   ]
  },
  {
   "cell_type": "code",
   "execution_count": 192,
   "metadata": {},
   "outputs": [],
   "source": [
    "def Label_Spon(df):\n",
    "    df.insert(loc=1,column='label', value = 1)\n",
    "    return df"
   ]
  },
  {
   "cell_type": "code",
   "execution_count": 193,
   "metadata": {},
   "outputs": [],
   "source": [
    "def Label_Sync(df):\n",
    "    df.insert(loc=1,column='label', value = 2)\n",
    "    return df"
   ]
  },
  {
   "cell_type": "code",
   "execution_count": 194,
   "metadata": {},
   "outputs": [],
   "source": [
    "def Label_Alone(df):\n",
    "    df.insert(loc=1,column='label', value = 3)\n",
    "    return df"
   ]
  },
  {
   "cell_type": "markdown",
   "metadata": {},
   "source": [
    "**Train Set**"
   ]
  },
  {
   "cell_type": "code",
   "execution_count": 198,
   "metadata": {},
   "outputs": [],
   "source": [
    "Spon_df_train = Label_Spon(Spon_df_train)\n",
    "Sync_df_train = Label_Sync(Sync_df_train)\n",
    "Alone_df_train = Label_Alone(Alone_df_train)"
   ]
  },
  {
   "cell_type": "code",
   "execution_count": 200,
   "metadata": {
    "scrolled": false
   },
   "outputs": [
    {
     "data": {
      "text/html": [
       "<div>\n",
       "<style scoped>\n",
       "    .dataframe tbody tr th:only-of-type {\n",
       "        vertical-align: middle;\n",
       "    }\n",
       "\n",
       "    .dataframe tbody tr th {\n",
       "        vertical-align: top;\n",
       "    }\n",
       "\n",
       "    .dataframe thead th {\n",
       "        text-align: right;\n",
       "    }\n",
       "</style>\n",
       "<table border=\"1\" class=\"dataframe\">\n",
       "  <thead>\n",
       "    <tr style=\"text-align: right;\">\n",
       "      <th></th>\n",
       "      <th>Position X_x</th>\n",
       "      <th>label</th>\n",
       "      <th>Position Y_x</th>\n",
       "      <th>Position Z_x</th>\n",
       "      <th>Velocity X_x</th>\n",
       "      <th>Velocity Y_x</th>\n",
       "      <th>Velocity Z_x</th>\n",
       "      <th>Pitch_x</th>\n",
       "      <th>Roll_x</th>\n",
       "      <th>Yaw_x</th>\n",
       "      <th>...</th>\n",
       "      <th>Yaw_y</th>\n",
       "      <th>Wrist Pos X_y</th>\n",
       "      <th>Wrist Pos Y_y</th>\n",
       "      <th>Wrist Pos Z_y</th>\n",
       "      <th>Elbow pos X_y</th>\n",
       "      <th>Elbow Pos Y_y</th>\n",
       "      <th>Elbow Pos Z_y</th>\n",
       "      <th>Grab Strenth_y</th>\n",
       "      <th>Grab Angle_y</th>\n",
       "      <th>Pinch Strength_y</th>\n",
       "    </tr>\n",
       "  </thead>\n",
       "  <tbody>\n",
       "    <tr>\n",
       "      <th>0</th>\n",
       "      <td>-85.08522</td>\n",
       "      <td>3</td>\n",
       "      <td>222.6438</td>\n",
       "      <td>103.57570</td>\n",
       "      <td>258.7664</td>\n",
       "      <td>-292.7327</td>\n",
       "      <td>-311.5475</td>\n",
       "      <td>2.070810</td>\n",
       "      <td>0.310204</td>\n",
       "      <td>1.794112</td>\n",
       "      <td>...</td>\n",
       "      <td>-0.277800</td>\n",
       "      <td>46.88831</td>\n",
       "      <td>207.3548</td>\n",
       "      <td>86.23589</td>\n",
       "      <td>203.8337</td>\n",
       "      <td>49.33507</td>\n",
       "      <td>237.4553</td>\n",
       "      <td>0.0</td>\n",
       "      <td>0.206389</td>\n",
       "      <td>0.0</td>\n",
       "    </tr>\n",
       "    <tr>\n",
       "      <th>1</th>\n",
       "      <td>-79.64585</td>\n",
       "      <td>3</td>\n",
       "      <td>215.0029</td>\n",
       "      <td>97.35830</td>\n",
       "      <td>325.7987</td>\n",
       "      <td>-443.0362</td>\n",
       "      <td>-356.4362</td>\n",
       "      <td>2.119173</td>\n",
       "      <td>0.265026</td>\n",
       "      <td>1.791789</td>\n",
       "      <td>...</td>\n",
       "      <td>-0.277763</td>\n",
       "      <td>47.54861</td>\n",
       "      <td>205.6568</td>\n",
       "      <td>86.42250</td>\n",
       "      <td>203.9553</td>\n",
       "      <td>47.88272</td>\n",
       "      <td>238.4482</td>\n",
       "      <td>0.0</td>\n",
       "      <td>0.243050</td>\n",
       "      <td>0.0</td>\n",
       "    </tr>\n",
       "    <tr>\n",
       "      <th>2</th>\n",
       "      <td>-77.00866</td>\n",
       "      <td>3</td>\n",
       "      <td>210.4713</td>\n",
       "      <td>94.14806</td>\n",
       "      <td>301.6342</td>\n",
       "      <td>-518.3123</td>\n",
       "      <td>-367.1778</td>\n",
       "      <td>2.157780</td>\n",
       "      <td>0.240737</td>\n",
       "      <td>1.797294</td>\n",
       "      <td>...</td>\n",
       "      <td>-0.278792</td>\n",
       "      <td>48.15030</td>\n",
       "      <td>204.5182</td>\n",
       "      <td>86.35149</td>\n",
       "      <td>204.6231</td>\n",
       "      <td>45.35921</td>\n",
       "      <td>236.8544</td>\n",
       "      <td>0.0</td>\n",
       "      <td>0.281134</td>\n",
       "      <td>0.0</td>\n",
       "    </tr>\n",
       "    <tr>\n",
       "      <th>3</th>\n",
       "      <td>-72.60887</td>\n",
       "      <td>3</td>\n",
       "      <td>201.3980</td>\n",
       "      <td>88.68137</td>\n",
       "      <td>308.2110</td>\n",
       "      <td>-494.3976</td>\n",
       "      <td>-273.4683</td>\n",
       "      <td>2.251470</td>\n",
       "      <td>0.176647</td>\n",
       "      <td>1.796813</td>\n",
       "      <td>...</td>\n",
       "      <td>-0.279768</td>\n",
       "      <td>48.64175</td>\n",
       "      <td>203.9989</td>\n",
       "      <td>86.16056</td>\n",
       "      <td>204.9939</td>\n",
       "      <td>44.18692</td>\n",
       "      <td>236.0927</td>\n",
       "      <td>0.0</td>\n",
       "      <td>0.277691</td>\n",
       "      <td>0.0</td>\n",
       "    </tr>\n",
       "    <tr>\n",
       "      <th>4</th>\n",
       "      <td>-67.46555</td>\n",
       "      <td>3</td>\n",
       "      <td>192.7061</td>\n",
       "      <td>84.36688</td>\n",
       "      <td>326.2769</td>\n",
       "      <td>-600.0226</td>\n",
       "      <td>-279.9649</td>\n",
       "      <td>2.392350</td>\n",
       "      <td>0.114381</td>\n",
       "      <td>1.801773</td>\n",
       "      <td>...</td>\n",
       "      <td>-0.278629</td>\n",
       "      <td>48.93135</td>\n",
       "      <td>203.3777</td>\n",
       "      <td>85.59017</td>\n",
       "      <td>204.5952</td>\n",
       "      <td>42.68003</td>\n",
       "      <td>235.2896</td>\n",
       "      <td>0.0</td>\n",
       "      <td>0.283008</td>\n",
       "      <td>0.0</td>\n",
       "    </tr>\n",
       "  </tbody>\n",
       "</table>\n",
       "<p>5 rows × 37 columns</p>\n",
       "</div>"
      ],
      "text/plain": [
       "    Position X_x  label   Position Y_x   Position Z_x   Velocity X_x  \\\n",
       "0      -85.08522      3       222.6438      103.57570       258.7664   \n",
       "1      -79.64585      3       215.0029       97.35830       325.7987   \n",
       "2      -77.00866      3       210.4713       94.14806       301.6342   \n",
       "3      -72.60887      3       201.3980       88.68137       308.2110   \n",
       "4      -67.46555      3       192.7061       84.36688       326.2769   \n",
       "\n",
       "    Velocity Y_x   Velocity Z_x   Pitch_x    Roll_x     Yaw_x  ...     Yaw_y  \\\n",
       "0      -292.7327      -311.5475  2.070810  0.310204  1.794112  ... -0.277800   \n",
       "1      -443.0362      -356.4362  2.119173  0.265026  1.791789  ... -0.277763   \n",
       "2      -518.3123      -367.1778  2.157780  0.240737  1.797294  ... -0.278792   \n",
       "3      -494.3976      -273.4683  2.251470  0.176647  1.796813  ... -0.279768   \n",
       "4      -600.0226      -279.9649  2.392350  0.114381  1.801773  ... -0.278629   \n",
       "\n",
       "    Wrist Pos X_y   Wrist Pos Y_y   Wrist Pos Z_y   Elbow pos X_y  \\\n",
       "0        46.88831        207.3548        86.23589        203.8337   \n",
       "1        47.54861        205.6568        86.42250        203.9553   \n",
       "2        48.15030        204.5182        86.35149        204.6231   \n",
       "3        48.64175        203.9989        86.16056        204.9939   \n",
       "4        48.93135        203.3777        85.59017        204.5952   \n",
       "\n",
       "    Elbow Pos Y_y   Elbow Pos Z_y   Grab Strenth_y   Grab Angle_y  \\\n",
       "0        49.33507        237.4553              0.0       0.206389   \n",
       "1        47.88272        238.4482              0.0       0.243050   \n",
       "2        45.35921        236.8544              0.0       0.281134   \n",
       "3        44.18692        236.0927              0.0       0.277691   \n",
       "4        42.68003        235.2896              0.0       0.283008   \n",
       "\n",
       "    Pinch Strength_y  \n",
       "0                0.0  \n",
       "1                0.0  \n",
       "2                0.0  \n",
       "3                0.0  \n",
       "4                0.0  \n",
       "\n",
       "[5 rows x 37 columns]"
      ]
     },
     "execution_count": 200,
     "metadata": {},
     "output_type": "execute_result"
    }
   ],
   "source": [
    "Alone_df_train.head()"
   ]
  },
  {
   "cell_type": "markdown",
   "metadata": {},
   "source": [
    "**Test Set:**"
   ]
  },
  {
   "cell_type": "code",
   "execution_count": null,
   "metadata": {},
   "outputs": [],
   "source": [
    "Spon_df_test = Label_Spon(Spon_df_test)\n",
    "Sync_df_test = Label_Sync(Sync_df_test)\n",
    "Alone_df_test = Label_Alone(Alone_df_test)"
   ]
  },
  {
   "cell_type": "markdown",
   "metadata": {},
   "source": [
    "### Combining Data frames"
   ]
  },
  {
   "cell_type": "markdown",
   "metadata": {},
   "source": [
    "**Train Set**"
   ]
  },
  {
   "cell_type": "code",
   "execution_count": 201,
   "metadata": {},
   "outputs": [
    {
     "name": "stdout",
     "output_type": "stream",
     "text": [
      "Shape of the Train Data frame:  (12095, 37)\n"
     ]
    }
   ],
   "source": [
    "Train_dfs = [Spon_df_train,Sync_df_train,Alone_df_train]\n",
    "train = pd.concat(Train_dfs)\n",
    "print(\"Shape of the Train Data frame: \",train.shape)"
   ]
  },
  {
   "cell_type": "markdown",
   "metadata": {},
   "source": [
    "**Test Set:**"
   ]
  },
  {
   "cell_type": "code",
   "execution_count": null,
   "metadata": {},
   "outputs": [],
   "source": [
    "Test_dfs = [Spon_df_test,Sync_df_test,Alone_df_test]\n",
    "test = pd.concat(Test_dfs)\n",
    "print(\"Shape of the Test Data frame: \",test.shape)"
   ]
  },
  {
   "cell_type": "markdown",
   "metadata": {},
   "source": [
    "### Final Touch\n",
    "we should not take every thing, there should be a time diffrence the rows so the machine learning can see the diffrence time makes better"
   ]
  },
  {
   "cell_type": "markdown",
   "metadata": {},
   "source": [
    "**Train Set**"
   ]
  },
  {
   "cell_type": "code",
   "execution_count": 202,
   "metadata": {},
   "outputs": [
    {
     "data": {
      "text/html": [
       "<div>\n",
       "<style scoped>\n",
       "    .dataframe tbody tr th:only-of-type {\n",
       "        vertical-align: middle;\n",
       "    }\n",
       "\n",
       "    .dataframe tbody tr th {\n",
       "        vertical-align: top;\n",
       "    }\n",
       "\n",
       "    .dataframe thead th {\n",
       "        text-align: right;\n",
       "    }\n",
       "</style>\n",
       "<table border=\"1\" class=\"dataframe\">\n",
       "  <thead>\n",
       "    <tr style=\"text-align: right;\">\n",
       "      <th></th>\n",
       "      <th>Position X_x</th>\n",
       "      <th>label</th>\n",
       "      <th>Position Y_x</th>\n",
       "      <th>Position Z_x</th>\n",
       "      <th>Velocity X_x</th>\n",
       "      <th>Velocity Y_x</th>\n",
       "      <th>Velocity Z_x</th>\n",
       "      <th>Pitch_x</th>\n",
       "      <th>Roll_x</th>\n",
       "      <th>Yaw_x</th>\n",
       "      <th>...</th>\n",
       "      <th>Yaw_y</th>\n",
       "      <th>Wrist Pos X_y</th>\n",
       "      <th>Wrist Pos Y_y</th>\n",
       "      <th>Wrist Pos Z_y</th>\n",
       "      <th>Elbow pos X_y</th>\n",
       "      <th>Elbow Pos Y_y</th>\n",
       "      <th>Elbow Pos Z_y</th>\n",
       "      <th>Grab Strenth_y</th>\n",
       "      <th>Grab Angle_y</th>\n",
       "      <th>Pinch Strength_y</th>\n",
       "    </tr>\n",
       "  </thead>\n",
       "  <tbody>\n",
       "    <tr>\n",
       "      <th>0</th>\n",
       "      <td>-120.9901</td>\n",
       "      <td>1</td>\n",
       "      <td>233.4971</td>\n",
       "      <td>111.19450</td>\n",
       "      <td>13.724800</td>\n",
       "      <td>16.62460</td>\n",
       "      <td>-36.058950</td>\n",
       "      <td>2.245895</td>\n",
       "      <td>0.896062</td>\n",
       "      <td>2.443295</td>\n",
       "      <td>...</td>\n",
       "      <td>-1.426339</td>\n",
       "      <td>196.54150</td>\n",
       "      <td>202.3501</td>\n",
       "      <td>79.17751</td>\n",
       "      <td>352.0142</td>\n",
       "      <td>5.932353</td>\n",
       "      <td>100.8471</td>\n",
       "      <td>0.000000</td>\n",
       "      <td>0.435941</td>\n",
       "      <td>0.000000</td>\n",
       "    </tr>\n",
       "    <tr>\n",
       "      <th>1</th>\n",
       "      <td>-120.8008</td>\n",
       "      <td>1</td>\n",
       "      <td>241.3125</td>\n",
       "      <td>102.40210</td>\n",
       "      <td>-23.646120</td>\n",
       "      <td>228.61040</td>\n",
       "      <td>-95.037460</td>\n",
       "      <td>2.165358</td>\n",
       "      <td>0.907764</td>\n",
       "      <td>2.338571</td>\n",
       "      <td>...</td>\n",
       "      <td>-1.065760</td>\n",
       "      <td>197.92430</td>\n",
       "      <td>197.6431</td>\n",
       "      <td>70.18703</td>\n",
       "      <td>327.0169</td>\n",
       "      <td>-15.443070</td>\n",
       "      <td>104.1074</td>\n",
       "      <td>0.000000</td>\n",
       "      <td>0.448658</td>\n",
       "      <td>0.000000</td>\n",
       "    </tr>\n",
       "    <tr>\n",
       "      <th>2</th>\n",
       "      <td>-120.5548</td>\n",
       "      <td>1</td>\n",
       "      <td>255.9027</td>\n",
       "      <td>92.60551</td>\n",
       "      <td>40.424920</td>\n",
       "      <td>217.22600</td>\n",
       "      <td>-148.474700</td>\n",
       "      <td>2.067071</td>\n",
       "      <td>0.926493</td>\n",
       "      <td>2.243386</td>\n",
       "      <td>...</td>\n",
       "      <td>-0.735775</td>\n",
       "      <td>194.10460</td>\n",
       "      <td>187.1925</td>\n",
       "      <td>55.54297</td>\n",
       "      <td>351.0478</td>\n",
       "      <td>-3.882342</td>\n",
       "      <td>101.1552</td>\n",
       "      <td>0.189583</td>\n",
       "      <td>1.020048</td>\n",
       "      <td>0.000000</td>\n",
       "    </tr>\n",
       "    <tr>\n",
       "      <th>3</th>\n",
       "      <td>-122.0487</td>\n",
       "      <td>1</td>\n",
       "      <td>276.0147</td>\n",
       "      <td>76.93995</td>\n",
       "      <td>-0.572427</td>\n",
       "      <td>208.35580</td>\n",
       "      <td>-217.390600</td>\n",
       "      <td>1.938174</td>\n",
       "      <td>0.936479</td>\n",
       "      <td>2.093880</td>\n",
       "      <td>...</td>\n",
       "      <td>-0.459121</td>\n",
       "      <td>188.68300</td>\n",
       "      <td>175.9269</td>\n",
       "      <td>41.16344</td>\n",
       "      <td>313.8484</td>\n",
       "      <td>-27.516200</td>\n",
       "      <td>119.6858</td>\n",
       "      <td>0.056103</td>\n",
       "      <td>0.868108</td>\n",
       "      <td>0.000000</td>\n",
       "    </tr>\n",
       "    <tr>\n",
       "      <th>4</th>\n",
       "      <td>-122.9406</td>\n",
       "      <td>1</td>\n",
       "      <td>289.6123</td>\n",
       "      <td>59.58008</td>\n",
       "      <td>-10.571240</td>\n",
       "      <td>166.56460</td>\n",
       "      <td>-170.305900</td>\n",
       "      <td>1.799684</td>\n",
       "      <td>1.011487</td>\n",
       "      <td>1.956363</td>\n",
       "      <td>...</td>\n",
       "      <td>-0.260620</td>\n",
       "      <td>185.58970</td>\n",
       "      <td>172.2741</td>\n",
       "      <td>33.65371</td>\n",
       "      <td>287.2656</td>\n",
       "      <td>-30.986680</td>\n",
       "      <td>141.2098</td>\n",
       "      <td>0.130465</td>\n",
       "      <td>1.098361</td>\n",
       "      <td>0.000000</td>\n",
       "    </tr>\n",
       "    <tr>\n",
       "      <th>...</th>\n",
       "      <td>...</td>\n",
       "      <td>...</td>\n",
       "      <td>...</td>\n",
       "      <td>...</td>\n",
       "      <td>...</td>\n",
       "      <td>...</td>\n",
       "      <td>...</td>\n",
       "      <td>...</td>\n",
       "      <td>...</td>\n",
       "      <td>...</td>\n",
       "      <td>...</td>\n",
       "      <td>...</td>\n",
       "      <td>...</td>\n",
       "      <td>...</td>\n",
       "      <td>...</td>\n",
       "      <td>...</td>\n",
       "      <td>...</td>\n",
       "      <td>...</td>\n",
       "      <td>...</td>\n",
       "      <td>...</td>\n",
       "      <td>...</td>\n",
       "    </tr>\n",
       "    <tr>\n",
       "      <th>2414</th>\n",
       "      <td>-101.5491</td>\n",
       "      <td>3</td>\n",
       "      <td>207.9393</td>\n",
       "      <td>29.29619</td>\n",
       "      <td>-28.004490</td>\n",
       "      <td>255.10330</td>\n",
       "      <td>20.493780</td>\n",
       "      <td>1.468792</td>\n",
       "      <td>0.278809</td>\n",
       "      <td>1.540820</td>\n",
       "      <td>...</td>\n",
       "      <td>-0.099138</td>\n",
       "      <td>29.85371</td>\n",
       "      <td>135.9945</td>\n",
       "      <td>51.18493</td>\n",
       "      <td>131.5080</td>\n",
       "      <td>58.993210</td>\n",
       "      <td>291.1895</td>\n",
       "      <td>0.000000</td>\n",
       "      <td>0.203809</td>\n",
       "      <td>0.000000</td>\n",
       "    </tr>\n",
       "    <tr>\n",
       "      <th>2415</th>\n",
       "      <td>-105.2769</td>\n",
       "      <td>3</td>\n",
       "      <td>225.5970</td>\n",
       "      <td>29.45939</td>\n",
       "      <td>-70.554130</td>\n",
       "      <td>248.87260</td>\n",
       "      <td>9.633136</td>\n",
       "      <td>1.534533</td>\n",
       "      <td>0.288571</td>\n",
       "      <td>1.559921</td>\n",
       "      <td>...</td>\n",
       "      <td>-0.111482</td>\n",
       "      <td>28.57614</td>\n",
       "      <td>143.1370</td>\n",
       "      <td>66.34518</td>\n",
       "      <td>136.6357</td>\n",
       "      <td>52.553620</td>\n",
       "      <td>298.6871</td>\n",
       "      <td>0.000000</td>\n",
       "      <td>0.223859</td>\n",
       "      <td>0.000000</td>\n",
       "    </tr>\n",
       "    <tr>\n",
       "      <th>2416</th>\n",
       "      <td>-105.7652</td>\n",
       "      <td>3</td>\n",
       "      <td>226.9232</td>\n",
       "      <td>27.97449</td>\n",
       "      <td>-11.579100</td>\n",
       "      <td>-99.58132</td>\n",
       "      <td>-44.295560</td>\n",
       "      <td>1.087544</td>\n",
       "      <td>0.136872</td>\n",
       "      <td>1.488394</td>\n",
       "      <td>...</td>\n",
       "      <td>-0.160974</td>\n",
       "      <td>23.85195</td>\n",
       "      <td>165.7114</td>\n",
       "      <td>101.66940</td>\n",
       "      <td>159.2857</td>\n",
       "      <td>37.539360</td>\n",
       "      <td>299.3930</td>\n",
       "      <td>0.000000</td>\n",
       "      <td>0.396521</td>\n",
       "      <td>0.000000</td>\n",
       "    </tr>\n",
       "    <tr>\n",
       "      <th>2417</th>\n",
       "      <td>-105.6855</td>\n",
       "      <td>3</td>\n",
       "      <td>218.1592</td>\n",
       "      <td>26.43787</td>\n",
       "      <td>34.370490</td>\n",
       "      <td>-184.69860</td>\n",
       "      <td>-18.356330</td>\n",
       "      <td>0.761610</td>\n",
       "      <td>0.083840</td>\n",
       "      <td>1.468131</td>\n",
       "      <td>...</td>\n",
       "      <td>-0.185212</td>\n",
       "      <td>17.14493</td>\n",
       "      <td>192.2495</td>\n",
       "      <td>150.28490</td>\n",
       "      <td>159.7084</td>\n",
       "      <td>3.204254</td>\n",
       "      <td>283.6066</td>\n",
       "      <td>0.000000</td>\n",
       "      <td>0.590791</td>\n",
       "      <td>0.000000</td>\n",
       "    </tr>\n",
       "    <tr>\n",
       "      <th>2418</th>\n",
       "      <td>-101.2948</td>\n",
       "      <td>3</td>\n",
       "      <td>192.3239</td>\n",
       "      <td>22.01563</td>\n",
       "      <td>36.506280</td>\n",
       "      <td>-347.60420</td>\n",
       "      <td>-48.244880</td>\n",
       "      <td>1.290916</td>\n",
       "      <td>0.235682</td>\n",
       "      <td>1.498363</td>\n",
       "      <td>...</td>\n",
       "      <td>-0.187951</td>\n",
       "      <td>11.93189</td>\n",
       "      <td>209.2886</td>\n",
       "      <td>189.59100</td>\n",
       "      <td>145.5957</td>\n",
       "      <td>-18.260930</td>\n",
       "      <td>254.1178</td>\n",
       "      <td>0.463131</td>\n",
       "      <td>1.554768</td>\n",
       "      <td>0.257827</td>\n",
       "    </tr>\n",
       "  </tbody>\n",
       "</table>\n",
       "<p>2419 rows × 37 columns</p>\n",
       "</div>"
      ],
      "text/plain": [
       "       Position X_x  label   Position Y_x   Position Z_x   Velocity X_x  \\\n",
       "0         -120.9901      1       233.4971      111.19450      13.724800   \n",
       "1         -120.8008      1       241.3125      102.40210     -23.646120   \n",
       "2         -120.5548      1       255.9027       92.60551      40.424920   \n",
       "3         -122.0487      1       276.0147       76.93995      -0.572427   \n",
       "4         -122.9406      1       289.6123       59.58008     -10.571240   \n",
       "...             ...    ...            ...            ...            ...   \n",
       "2414      -101.5491      3       207.9393       29.29619     -28.004490   \n",
       "2415      -105.2769      3       225.5970       29.45939     -70.554130   \n",
       "2416      -105.7652      3       226.9232       27.97449     -11.579100   \n",
       "2417      -105.6855      3       218.1592       26.43787      34.370490   \n",
       "2418      -101.2948      3       192.3239       22.01563      36.506280   \n",
       "\n",
       "       Velocity Y_x   Velocity Z_x   Pitch_x    Roll_x     Yaw_x  ...  \\\n",
       "0          16.62460     -36.058950  2.245895  0.896062  2.443295  ...   \n",
       "1         228.61040     -95.037460  2.165358  0.907764  2.338571  ...   \n",
       "2         217.22600    -148.474700  2.067071  0.926493  2.243386  ...   \n",
       "3         208.35580    -217.390600  1.938174  0.936479  2.093880  ...   \n",
       "4         166.56460    -170.305900  1.799684  1.011487  1.956363  ...   \n",
       "...             ...            ...       ...       ...       ...  ...   \n",
       "2414      255.10330      20.493780  1.468792  0.278809  1.540820  ...   \n",
       "2415      248.87260       9.633136  1.534533  0.288571  1.559921  ...   \n",
       "2416      -99.58132     -44.295560  1.087544  0.136872  1.488394  ...   \n",
       "2417     -184.69860     -18.356330  0.761610  0.083840  1.468131  ...   \n",
       "2418     -347.60420     -48.244880  1.290916  0.235682  1.498363  ...   \n",
       "\n",
       "         Yaw_y   Wrist Pos X_y   Wrist Pos Y_y   Wrist Pos Z_y  \\\n",
       "0    -1.426339       196.54150        202.3501        79.17751   \n",
       "1    -1.065760       197.92430        197.6431        70.18703   \n",
       "2    -0.735775       194.10460        187.1925        55.54297   \n",
       "3    -0.459121       188.68300        175.9269        41.16344   \n",
       "4    -0.260620       185.58970        172.2741        33.65371   \n",
       "...        ...             ...             ...             ...   \n",
       "2414 -0.099138        29.85371        135.9945        51.18493   \n",
       "2415 -0.111482        28.57614        143.1370        66.34518   \n",
       "2416 -0.160974        23.85195        165.7114       101.66940   \n",
       "2417 -0.185212        17.14493        192.2495       150.28490   \n",
       "2418 -0.187951        11.93189        209.2886       189.59100   \n",
       "\n",
       "       Elbow pos X_y   Elbow Pos Y_y   Elbow Pos Z_y   Grab Strenth_y  \\\n",
       "0           352.0142        5.932353        100.8471         0.000000   \n",
       "1           327.0169      -15.443070        104.1074         0.000000   \n",
       "2           351.0478       -3.882342        101.1552         0.189583   \n",
       "3           313.8484      -27.516200        119.6858         0.056103   \n",
       "4           287.2656      -30.986680        141.2098         0.130465   \n",
       "...              ...             ...             ...              ...   \n",
       "2414        131.5080       58.993210        291.1895         0.000000   \n",
       "2415        136.6357       52.553620        298.6871         0.000000   \n",
       "2416        159.2857       37.539360        299.3930         0.000000   \n",
       "2417        159.7084        3.204254        283.6066         0.000000   \n",
       "2418        145.5957      -18.260930        254.1178         0.463131   \n",
       "\n",
       "       Grab Angle_y   Pinch Strength_y  \n",
       "0          0.435941           0.000000  \n",
       "1          0.448658           0.000000  \n",
       "2          1.020048           0.000000  \n",
       "3          0.868108           0.000000  \n",
       "4          1.098361           0.000000  \n",
       "...             ...                ...  \n",
       "2414       0.203809           0.000000  \n",
       "2415       0.223859           0.000000  \n",
       "2416       0.396521           0.000000  \n",
       "2417       0.590791           0.000000  \n",
       "2418       1.554768           0.257827  \n",
       "\n",
       "[2419 rows x 37 columns]"
      ]
     },
     "execution_count": 202,
     "metadata": {},
     "output_type": "execute_result"
    }
   ],
   "source": [
    "Train_Copy = train.copy()\n",
    "Train_Copy = Train_Copy.iloc[::5, :]\n",
    "Train_Copy = Train_Copy.reset_index()\n",
    "Train_Copy = Train_Copy.drop(['index'], axis = 1)\n",
    "Train_Copy"
   ]
  },
  {
   "cell_type": "markdown",
   "metadata": {},
   "source": [
    "**Test Set:**"
   ]
  },
  {
   "cell_type": "code",
   "execution_count": null,
   "metadata": {},
   "outputs": [],
   "source": [
    "Test_Copy = test.copy()\n",
    "Test_Copy = Test_Copy.iloc[::5, :]\n",
    "Test_Copy = Test_Copy.reset_index()\n",
    "Test_Copy = Test_Copy.drop(['index'], axis = 1)\n",
    "Test_Copy"
   ]
  },
  {
   "cell_type": "markdown",
   "metadata": {},
   "source": [
    "## Getting insight of the Data"
   ]
  },
  {
   "cell_type": "code",
   "execution_count": 205,
   "metadata": {},
   "outputs": [
    {
     "data": {
      "text/plain": [
       "<function matplotlib.pyplot.show(close=None, block=None)>"
      ]
     },
     "execution_count": 205,
     "metadata": {},
     "output_type": "execute_result"
    },
    {
     "data": {
      "image/png": "[encoded data removed]",
      "text/plain": [
       "<Figure size 1440x1440 with 42 Axes>"
      ]
     },
     "metadata": {
      "needs_background": "light"
     },
     "output_type": "display_data"
    }
   ],
   "source": [
    "train.hist(bins = 50, figsize = (20,20))\n",
    "plt.show"
   ]
  },
  {
   "cell_type": "code",
   "execution_count": null,
   "metadata": {},
   "outputs": [],
   "source": [
    "# Histogram of all numeric features\n",
    "FinalDfHands.hist(bins=50, figsize=(20,15))\n",
    "plt.show()"
   ]
  },
  {
   "cell_type": "markdown",
   "metadata": {},
   "source": [
    "## Create a Test set"
   ]
  },
  {
   "cell_type": "code",
   "execution_count": null,
   "metadata": {},
   "outputs": [],
   "source": [
    "from sklearn.model_selection import train_test_split"
   ]
  },
  {
   "cell_type": "code",
   "execution_count": null,
   "metadata": {},
   "outputs": [],
   "source": [
    "# Make copy to avoid changing original data\n",
    "dfCopy = df.copy()\n",
    "\n",
    "#first lets split the data for training and testing\n",
    "X= dfCopy.drop([\"Target_feature\"],axis =1)\n",
    "y= dfCopy[\"Target_feature\"]\\\n",
    "\n",
    "X_train, X_test, y_train, y_test = train_test_split(X, y,test_size=0.3, random_state=7)"
   ]
  },
  {
   "cell_type": "markdown",
   "metadata": {},
   "source": [
    "## Model Preproccesing"
   ]
  },
  {
   "cell_type": "code",
   "execution_count": 30,
   "metadata": {},
   "outputs": [],
   "source": [
    "from sklearn.pipeline import Pipeline\n",
    "from sklearn.preprocessing import StandardScaler\n",
    "from sklearn.decomposition import PCA"
   ]
  },
  {
   "cell_type": "markdown",
   "metadata": {},
   "source": [
    "We want to use Pca so we need to normalize the data first, Lets creat a pipeline which does it in one go"
   ]
  },
  {
   "cell_type": "markdown",
   "metadata": {},
   "source": [
    "### Preprocessing Pipeline"
   ]
  },
  {
   "cell_type": "markdown",
   "metadata": {},
   "source": [
    "We want use pca so we first have to normalize the data with a scaler."
   ]
  },
  {
   "cell_type": "code",
   "execution_count": 276,
   "metadata": {
    "scrolled": true
   },
   "outputs": [],
   "source": [
    "pre_process = Pipeline([\n",
    "    ('scaler',StandardScaler()),\n",
    "    ('pca',PCA(n_components=0.95))])"
   ]
  },
  {
   "cell_type": "markdown",
   "metadata": {},
   "source": [
    "### Transforming the data"
   ]
  },
  {
   "cell_type": "code",
   "execution_count": null,
   "metadata": {
    "scrolled": true
   },
   "outputs": [],
   "source": [
    "# we will preprocess the data\n",
    "X_train_transformed = pre_process.fit_transform(X_train)\n",
    "X_test_transformed = pre_process.transform(X_test)\n",
    "X_train_transformed"
   ]
  },
  {
   "cell_type": "markdown",
   "metadata": {},
   "source": [
    "## Model Training"
   ]
  },
  {
   "cell_type": "code",
   "execution_count": null,
   "metadata": {},
   "outputs": [],
   "source": [
    "from sklearn.neighbors import KNeighborsClassifier\n",
    "from sklearn.linear_model import LogisticRegression\n",
    "from sklearn.tree import DecisionTreeClassifier\n",
    "from sklearn.ensemble import RandomForestClassifier\n",
    "from sklearn.ensemble import GradientBoostingClassifier\n",
    "from sklearn.ensemble import AdaBoostClassifier\n",
    "from xgboost import XGBClassifier\n",
    "from sklearn.ensemble import BaggingClassifier\n",
    "from sklearn.ensemble import StackingClassifier\n",
    "\n",
    "from sklearn.metrics import confusion_matrix\n",
    "from sklearn.metrics import classification_report\n",
    "from sklearn.metrics import accuracy_score"
   ]
  },
  {
   "cell_type": "markdown",
   "metadata": {},
   "source": [
    "### KNN"
   ]
  },
  {
   "cell_type": "code",
   "execution_count": null,
   "metadata": {},
   "outputs": [],
   "source": [
    "#fit the model\n",
    "Knn = KNeighborsClassifier(n_neighbors=5,n_jobs=-1)\n",
    "Knn.fit(X_train_transformed,y_train)\n",
    "\n",
    "#make predictions\n",
    "PredicKnn = Knn.predict(X_test_transformed)\n",
    "\n",
    "#evaluate predictions\n",
    "confmat = confusion_matrix(y_test, PredicKnn)\n",
    "sns.heatmap(confmat, annot = True, fmt = \"d\")\n",
    "class_rep = classification_report(y_test, PredicKnn)\n",
    "Knn_score = accuracy_score(y_test, PredicKnn)\n",
    "print(class_rep)\n",
    "print(\"Accuracy: \", Knn_score)"
   ]
  },
  {
   "cell_type": "markdown",
   "metadata": {},
   "source": [
    "### Logistic Regression"
   ]
  },
  {
   "cell_type": "code",
   "execution_count": null,
   "metadata": {},
   "outputs": [],
   "source": [
    "#fit the model\n",
    "logR = LogisticRegression(random_state=42, n_jobs=-1)\n",
    "logR.fit(X_train_transformed,y_train)\n",
    "\n",
    "#make predictions\n",
    "PredicLogR = logR.predict(X_test_transformed)\n",
    "\n",
    "#evaluate predictions\n",
    "confmat = confusion_matrix(y_test, PredicLogR)\n",
    "sns.heatmap(confmat, annot = True, fmt = \"d\")\n",
    "class_rep = classification_report(y_test, PredicLogR)\n",
    "logR_score = accuracy_score(y_test, PredicLogR)\n",
    "print(class_rep)\n",
    "print(\"Accuracy: \", logR_score)"
   ]
  },
  {
   "cell_type": "markdown",
   "metadata": {},
   "source": [
    "### Desicion Tree"
   ]
  },
  {
   "cell_type": "code",
   "execution_count": null,
   "metadata": {},
   "outputs": [],
   "source": [
    "#fit the model\n",
    "dTree = DecisionTreeClassifier(random_state=42)\n",
    "dTree.fit(X_train_transformed,y_train)\n",
    "\n",
    "#make predictions\n",
    "PredicDeTree = dTree.predict(X_test_transformed)\n",
    "\n",
    "#evaluate predictions\n",
    "confmat = confusion_matrix(y_test, PredicDeTree)\n",
    "sns.heatmap(confmat, annot = True, fmt = \"d\")\n",
    "class_rep = classification_report(y_test, PredicDeTree)\n",
    "dTree_score = accuracy_score(y_test, PredicDeTree)\n",
    "print(class_rep)\n",
    "print(\"Accuracy: \", dTree_score)"
   ]
  },
  {
   "cell_type": "markdown",
   "metadata": {},
   "source": [
    "### Random Forest"
   ]
  },
  {
   "cell_type": "code",
   "execution_count": null,
   "metadata": {},
   "outputs": [],
   "source": [
    "#fit the model\n",
    "RFor = RandomForestClassifier(random_state=42)\n",
    "RFor.fit(X_train_transformed,y_train)\n",
    "\n",
    "#make predictions\n",
    "PredicRFor = RFor.predict(X_test_transformed)\n",
    "\n",
    "#evaluate predictions\n",
    "confmat = confusion_matrix(y_test, PredicRFor)\n",
    "sns.heatmap(confmat, annot = True, fmt = \"d\")\n",
    "class_rep = classification_report(y_test, PredicRFor)\n",
    "RFor_score = accuracy_score(y_test, PredicRFor)\n",
    "print(class_rep)\n",
    "print(\"Accuracy: \", RFor_score)"
   ]
  },
  {
   "cell_type": "markdown",
   "metadata": {},
   "source": [
    "### Gradient Boost"
   ]
  },
  {
   "cell_type": "code",
   "execution_count": null,
   "metadata": {},
   "outputs": [],
   "source": [
    "#fit the model\n",
    "gradB = GradientBoostingClassifier(random_state=42)\n",
    "gradB.fit(X_train_transformed,y_train)\n",
    "\n",
    "#make predictions\n",
    "PredicGradB = gradB.predict(X_test_transformed)\n",
    "\n",
    "#evaluate predictions\n",
    "confmat = confusion_matrix(y_test, PredicGradB)\n",
    "sns.heatmap(confmat, annot = True, fmt = \"d\")\n",
    "class_rep = classification_report(y_test, PredicGradB)\n",
    "gradB_score = accuracy_score(y_test, PredicGradB)\n",
    "print(class_rep)\n",
    "print(\"Accuracy: \", gradB_score)"
   ]
  },
  {
   "cell_type": "markdown",
   "metadata": {},
   "source": [
    "### Ada Boost"
   ]
  },
  {
   "cell_type": "code",
   "execution_count": null,
   "metadata": {},
   "outputs": [],
   "source": [
    "adaB = AdaBoostClassifier(dTree,random_state=42)\n",
    "adaB.fit(X_train_transformed,y_train)\n",
    "\n",
    "#make predictions\n",
    "PredicAdaB = adaB.predict(X_test_transformed)\n",
    "\n",
    "#evaluate predictions\n",
    "confmat = confusion_matrix(y_test, PredicAdaB)\n",
    "sns.heatmap(confmat, annot = True, fmt = \"d\")\n",
    "class_rep = classification_report(y_test, PredicAdaB)\n",
    "adaB_score = accuracy_score(y_test, PredicAdaB)\n",
    "print(class_rep)\n",
    "print(\"Accuracy: \", adaB_score)"
   ]
  },
  {
   "cell_type": "markdown",
   "metadata": {},
   "source": [
    "### XG boost"
   ]
  },
  {
   "cell_type": "code",
   "execution_count": null,
   "metadata": {},
   "outputs": [],
   "source": [
    "#fit the model\n",
    "xgB = XGBClassifier(random_state=42,n_jobs=-1)\n",
    "xgB.fit(X_train_transformed,y_train)\n",
    "\n",
    "#make predictions\n",
    "PredicXgb = xgB.predict(X_test_transformed)\n",
    "\n",
    "#evaluate predictions\n",
    "confmat = confusion_matrix(y_test, PredicXgb)\n",
    "sns.heatmap(confmat, annot = True, fmt = \"d\")\n",
    "class_rep = classification_report(y_test, PredicXgb)\n",
    "xgB_score = accuracy_score(y_test, PredicXgb)\n",
    "print(class_rep)\n",
    "print(\"Accuracy: \", xgB_score)"
   ]
  },
  {
   "cell_type": "markdown",
   "metadata": {},
   "source": [
    "### Bagging"
   ]
  },
  {
   "cell_type": "code",
   "execution_count": null,
   "metadata": {},
   "outputs": [],
   "source": [
    "#fit the model\n",
    "bagN = BaggingClassifier(Knn)\n",
    "bagN.fit(X_train_transformed,y_train)\n",
    "\n",
    "#make predictions\n",
    "PredicBagN = bagN.predict(X_test_transformed)\n",
    "\n",
    "#evaluate predictions\n",
    "confmat = confusion_matrix(y_test, PredicBagN)\n",
    "sns.heatmap(confmat, annot = True, fmt = \"d\")\n",
    "class_rep = classification_report(y_test, PredicBagN)\n",
    "bagN_score = accuracy_score(y_test, PredicBagN)\n",
    "print(class_rep)\n",
    "print(\"Accuracy: \", bagN_score)"
   ]
  },
  {
   "cell_type": "markdown",
   "metadata": {},
   "source": [
    "### Stacking"
   ]
  },
  {
   "cell_type": "code",
   "execution_count": null,
   "metadata": {},
   "outputs": [],
   "source": [
    "#fit the model\n",
    "estimators=[\n",
    "    ('Logistic Regression',logR_grid_Search),\n",
    "    ('Random Forest',RFor_grid_Search),\n",
    "    ('GRadient Boosting',gradB_grid_Search)]\n",
    "Stk = StackingClassifier(estimators = estimators,final_estimator= xgB_grid_Search)\n",
    "Stk.fit(X_train_transformed,Y_train)\n",
    "\n",
    "#make predictions\n",
    "PredicStk = Stk.predict(X_test_transformed)\n",
    "#evaluate predictions\n",
    "confmat = confusion_matrix(Y_test, PredicStk)\n",
    "sns.heatmap(confmat, annot = True, fmt = \"d\")\n",
    "class_rep = classification_report(Y_test, PredicStk)\n",
    "Stk_score = accuracy_score(Y_test, PredicStk)\n",
    "print(class_rep1)\n",
    "print(\"Accuracy: \", Stk_score)"
   ]
  },
  {
   "cell_type": "markdown",
   "metadata": {},
   "source": [
    "## Model Evaluation"
   ]
  },
  {
   "cell_type": "code",
   "execution_count": null,
   "metadata": {},
   "outputs": [],
   "source": [
    "Scores = pd.DataFrame({\n",
    "    'Model':['KNeighborsClassifier','LogisticRegressionClassifier','DecisionTreeClassifier','RandomForestClassifier','GradientBoostClassifier','AdaBoostClassifier','XGBoostClassifier','BaggingClassifier','StackingClassifier'],\n",
    "    'Accuracy':[Knn_score,logR_score,dTree_score,RFor_score,gradB_score,adaB_score,xgB_score,bagN_score,Stk_score]})\n",
    "Scores"
   ]
  },
  {
   "cell_type": "markdown",
   "metadata": {},
   "source": [
    "### Conclusion"
   ]
  },
  {
   "cell_type": "markdown",
   "metadata": {},
   "source": [
    "**Which is the best classifier?**"
   ]
  },
  {
   "cell_type": "code",
   "execution_count": 315,
   "metadata": {},
   "outputs": [
    {
     "name": "stdout",
     "output_type": "stream",
     "text": [
      "The best Classifier is Stacking with a Accuracy of  0.64736\n"
     ]
    }
   ],
   "source": [
    "print(\"The best Classifier is Stacking with a Accuracy of \",Scores['Accuracy'].max())"
   ]
  },
  {
   "cell_type": "markdown",
   "metadata": {},
   "source": [
    "**Is it really the best classifier?**\n",
    "\n",
    "I think XgBoost is better than Stacking, Accuracy wise Stacking is better but there is only a diffrence of 0.00528 but stacking ran 6 times as long as Xg Boost."
   ]
  }
 ],
 "metadata": {
  "kernelspec": {
   "display_name": "Python 3",
   "language": "python",
   "name": "python3"
  },
  "language_info": {
   "codemirror_mode": {
    "name": "ipython",
    "version": 3
   },
   "file_extension": ".py",
   "mimetype": "text/x-python",
   "name": "python",
   "nbconvert_exporter": "python",
   "pygments_lexer": "ipython3",
   "version": "3.8.5"
  }
 },
 "nbformat": 4,
 "nbformat_minor": 4
}
