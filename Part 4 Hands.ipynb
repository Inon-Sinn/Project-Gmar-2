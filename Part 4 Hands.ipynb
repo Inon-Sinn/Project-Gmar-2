{
 "cells": [
  {
   "cell_type": "markdown",
   "metadata": {},
   "source": [
    "<center><h1> Hands Movement<h1><center>"
   ]
  },
  {
   "cell_type": "markdown",
   "metadata": {},
   "source": [
    "#### What is the hands Movement dataset\n",
    "\n",
    "This is a data set of an experiment were 12 peoples hand movments were recorde for a period of time, the recorded hand movments were of a person alone, 2 people moving their hands in sync and 2 people moving their hand however they want.\n",
    "\n",
    "#### What is the goal if this Model?\n",
    "\n",
    "the goal is  to try make a model which can if given frame of time know if the movement was done alone, in sync or spontanious"
   ]
  },
  {
   "attachments": {},
   "cell_type": "markdown",
   "metadata": {},
   "source": [
    "### Feature description\n",
    "\n",
    "**Time:** The time at which the frame was taken\n",
    "\n",
    "**Frame ID:** ID of the Frame\n",
    "\n",
    "**Hand Type** Left or Right hand\n",
    "\n",
    "**hands** how many hands were recorded during this frame\n",
    "\n",
    "**Position X** hand postion on the x axis\n",
    "\n",
    "**Position Y** hand postion on the y axis\n",
    "\n",
    "**Position Z** hand postion on the z axis (height)\n",
    "\n",
    "**Velocity X** hand movement Velocity on the X axis\n",
    "\n",
    "**Velocity Y** hand movement Velocity on the Y axis\n",
    "\n",
    "**Velocity Z** hand movement Velocity on the Z axis\n",
    "\n",
    "**Pitch** hand position (the position of the hand up or down compared to your wrist an example: stop sign would be 1 and puting the hand horizontal would be 0)\n",
    "\n",
    "**Roll** hand position (how much is the hand rolled, holdin your hand horizontal would be 0)\n",
    "\n",
    "**Yaw** hand position (the position of the hand to the rigth or left compared to your wrist)\n",
    "\n",
    "**Wrist Pos X** wrist postion on the x axis\n",
    "\n",
    "**Wrist Pos Y** wrist postion on the y axis\n",
    "\n",
    "**Wrist Pos Z** wrist postion on the z axis\n",
    "\n",
    "**Elbow pos X** wrist postion on the x axis\n",
    "\n",
    "**Elbow pos Y** wrist postion on the y axis\n",
    "\n",
    "**Elbow pos Z** wrist postion on the z axis\n",
    "\n",
    "**Grab Strenth** only has 0,1: 0 for an open hand and 1 for a closed one\n",
    "\n",
    "**Grab Angle** how closed the hand is: 0 for an open hend and 1 for closed one\n",
    "\n",
    "**Pinch Strength** ???"
   ]
  },
  {
   "cell_type": "markdown",
   "metadata": {},
   "source": [
    "## Libraries"
   ]
  },
  {
   "cell_type": "code",
   "execution_count": 5,
   "metadata": {},
   "outputs": [],
   "source": [
    "import numpy as np\n",
    "import pandas as pd\n",
    "import seaborn as sns\n",
    "%matplotlib inline\n",
    "import matplotlib\n",
    "import matplotlib.pyplot as plt\n",
    "import os\n",
    "import cv2\n",
    "import math\n",
    "\n",
    "import warnings\n",
    "warnings.filterwarnings('ignore')"
   ]
  },
  {
   "cell_type": "markdown",
   "metadata": {},
   "source": [
    "## Get the Data"
   ]
  },
  {
   "cell_type": "markdown",
   "metadata": {},
   "source": [
    "### Create a df"
   ]
  },
  {
   "cell_type": "markdown",
   "metadata": {},
   "source": [
    "We will first want to create the data frame so we can work on them, the 7 first second can be deleted from the start"
   ]
  },
  {
   "cell_type": "code",
   "execution_count": 288,
   "metadata": {},
   "outputs": [],
   "source": [
    "def Create_df_without_7_sec(path):\n",
    "    df = pd.read_csv(path)\n",
    "    time_to_drop=math.ceil(df[\"Time\"][0])+7\n",
    "    df=df[df[\"Time\"]>time_to_drop]\n",
    "    return df"
   ]
  },
  {
   "cell_type": "markdown",
   "metadata": {},
   "source": [
    "**Train Set**"
   ]
  },
  {
   "cell_type": "code",
   "execution_count": 289,
   "metadata": {},
   "outputs": [],
   "source": [
    "#Spontan\n",
    "Evyatar_Spon = Create_df_without_7_sec(\"csv folder/Hand_Movement/Training/Evyatar Cohen/Evyatar636771052727603804Spontan.csv\")\n",
    "Nofar_Spon = Create_df_without_7_sec(\"csv folder/Hand_Movement/Training/Nofar Social_Nuero/Nofar636759795182793299Spontan.csv\")\n",
    "Oriya_Spon = Create_df_without_7_sec(\"csv folder/Hand_Movement/Training/Oriya Social_Nuero/Oriya636759804404113837Spontan.csv\")\n",
    "Orya_Spon = Create_df_without_7_sec(\"csv folder/Hand_Movement/Training/Orya Kalmanovitz/OryaB636771083605535985Spontan.csv\")\n",
    "Revital_Spon = Create_df_without_7_sec(\"csv folder/Hand_Movement/Training/Revital Marbel/Revital636770957038873193Spontan.csv\")\n",
    "Shahar_Spon = Create_df_without_7_sec(\"csv folder/Hand_Movement/Training/Shahar Terner/Sachar636771045591258071Spontan.csv\")\n",
    "Shelly_Spon = Create_df_without_7_sec(\"csv folder/Hand_Movement/Training/Shelly Social_Nuero/Shelly636759787508979097Spontan.csv\")\n",
    "Yael_Spon = Create_df_without_7_sec(\"csv folder/Hand_Movement/Training/Yael Hagai/Yael636771059544754823Spontan.csv\")\n",
    "Yoel_Spon = Create_df_without_7_sec(\"csv folder/Hand_Movement/Training/Yoel Raz/Yoel636760921663075813Spontan.csv\")\n",
    "\n",
    "Spon_List_train = [Evyatar_Spon,Nofar_Spon,Oriya_Spon,Orya_Spon,Revital_Spon,Shahar_Spon,Shelly_Spon,Yael_Spon,Yoel_Spon]\n",
    "\n",
    "#Sync\n",
    "Evyatar_Sync = Create_df_without_7_sec(\"csv folder/Hand_Movement/Training/Evyatar Cohen/Evyatar636771053639929594Sync.csv\")\n",
    "Nofar_Sync = Create_df_without_7_sec(\"csv folder/Hand_Movement/Training/Nofar Social_Nuero/Nofar636759797397919664Sync.csv\")\n",
    "Oriya_Sync = Create_df_without_7_sec(\"csv folder/Hand_Movement/Training/Oriya Social_Nuero/Oriya636759806131350399Sync.csv\")\n",
    "Orya_Sync = Create_df_without_7_sec(\"csv folder/Hand_Movement/Training/Orya Kalmanovitz/OryaB636771084494502229Sync.csv\")\n",
    "Revital_Sync = Create_df_without_7_sec(\"csv folder/Hand_Movement/Training/Revital Marbel/Revital636770957894370062Sync.csv\")\n",
    "Shahar_Sync = Create_df_without_7_sec(\"csv folder/Hand_Movement/Training/Shahar Terner/Sachar636771046527112972Sync.csv\")\n",
    "Shelly_Sync = Create_df_without_7_sec(\"csv folder/Hand_Movement/Training/Shelly Social_Nuero/Shelly636759789526313406Sync.csv\")\n",
    "Yael_Sync = Create_df_without_7_sec(\"csv folder/Hand_Movement/Training/Yael Hagai/Yael636771060699529085Sync.csv\")\n",
    "Yoel_Sync = Create_df_without_7_sec(\"csv folder/Hand_Movement/Training/Yoel Raz/Yoel636760923490742912Sync.csv\")\n",
    "\n",
    "Sync_List_train = [Evyatar_Sync,Nofar_Sync,Oriya_Sync,Orya_Sync,Revital_Sync,Shahar_Sync,Shelly_Sync,Yael_Sync,Yoel_Sync]\n",
    "\n",
    "#Alone\n",
    "Evyatar_Alone = Create_df_without_7_sec(\"csv folder/Hand_Movement/Training/Evyatar Cohen/Evyatar636771054555711409Alone.csv\")\n",
    "Nofar_Alone = Create_df_without_7_sec(\"csv folder/Hand_Movement/Training/Nofar Social_Nuero/Nofar636759796290435160Alone.csv\")\n",
    "Oriya_Alone = Create_df_without_7_sec(\"csv folder/Hand_Movement/Training/Oriya Social_Nuero/Oriya636759805268396661Alone.csv\")\n",
    "Orya_Alone = Create_df_without_7_sec(\"csv folder/Hand_Movement/Training/Orya Kalmanovitz/OryaB636771082736601528Alone.csv\")\n",
    "Revital_Alone = Create_df_without_7_sec(\"csv folder/Hand_Movement/Training/Revital Marbel/Revital636770955999435879Alone.csv\")\n",
    "Shahar_Alone = Create_df_without_7_sec(\"csv folder/Hand_Movement/Training/Shahar Terner/Sachar636771047408504303Alone.csv\")\n",
    "Shelly_Alone = Create_df_without_7_sec(\"csv folder/Hand_Movement/Training/Shelly Social_Nuero/Shelly636759788383205274Alone.csv\")\n",
    "Yael_Alone = Create_df_without_7_sec(\"csv folder/Hand_Movement/Training/Yael Hagai/Yael636771061659067649Alone.csv\")\n",
    "Yoel_Alone = Create_df_without_7_sec(\"csv folder/Hand_Movement/Training/Yoel Raz/Yoel636760922573364655Alone.csv\")\n",
    "\n",
    "Alone_List_train = [Evyatar_Alone,Nofar_Alone,Oriya_Alone,Orya_Alone,Revital_Alone,Shahar_Alone,Shelly_Alone,Yael_Alone,Yoel_Alone]\n"
   ]
  },
  {
   "cell_type": "markdown",
   "metadata": {},
   "source": [
    "**Test Set:**"
   ]
  },
  {
   "cell_type": "code",
   "execution_count": 290,
   "metadata": {},
   "outputs": [],
   "source": [
    "#Spontan\n",
    "Itiel_Spon = Create_df_without_7_sec(\"csv folder/Hand_Movement/Validation/Itiel Lab/Itiel636770940701219076Spontan.csv\")\n",
    "Mor_Spon = Create_df_without_7_sec(\"csv folder/Hand_Movement/Validation/Mor SHerman/Mor636771064635567065Spontan.csv\")\n",
    "Oded_Spon = Create_df_without_7_sec(\"csv folder/Hand_Movement/Validation/Oded Medina/Oded636754670490266956Spontan.csv\")\n",
    "\n",
    "Spon_List_test = [Itiel_Spon,Mor_Spon,Oded_Spon]\n",
    "\n",
    "#Sync\n",
    "Itiel_Sync = Create_df_without_7_sec(\"csv folder/Hand_Movement/Validation/Itiel Lab/Itiel636770941638547912Sync.csv\")\n",
    "Mor_Sync = Create_df_without_7_sec(\"csv folder/Hand_Movement/Validation/Mor SHerman/Mor636771065531910215Sync.csv\")\n",
    "Oded_Sync = Create_df_without_7_sec(\"csv folder/Hand_Movement/Validation/Oded Medina/Oded636754671560850581Sync.csv\")\n",
    "\n",
    "Sync_List_test = [Itiel_Sync,Mor_Sync,Oded_Sync]\n",
    "\n",
    "#Alone\n",
    "Itiel_Alone = Create_df_without_7_sec(\"csv folder/Hand_Movement/Validation/Itiel Lab/Itiel636770942529041679Alone.csv\")\n",
    "Mor_Alone = Create_df_without_7_sec(\"csv folder/Hand_Movement/Validation/Mor SHerman/Mor636771066407626524Alone.csv\")\n",
    "Oded_Alone = Create_df_without_7_sec(\"csv folder/Hand_Movement/Validation/Oded Medina/Oded636754669540564461Alone.csv\")\n",
    "\n",
    "Alone_List_test = [Itiel_Alone,Mor_Alone,Oded_Alone]\n"
   ]
  },
  {
   "cell_type": "markdown",
   "metadata": {},
   "source": [
    "### Combine data frames of the same type"
   ]
  },
  {
   "cell_type": "markdown",
   "metadata": {},
   "source": [
    "**Train Set**"
   ]
  },
  {
   "cell_type": "code",
   "execution_count": 291,
   "metadata": {
    "scrolled": true
   },
   "outputs": [
    {
     "name": "stdout",
     "output_type": "stream",
     "text": [
      "Shape of Spontan train data frame:  (68691, 22)\n",
      "Shape of Sync train data frame:  (68194, 22)\n",
      "Shape of Alone train data frame:  (34823, 22)\n"
     ]
    }
   ],
   "source": [
    "Spon_df_train = pd.concat(Spon_List_train)\n",
    "Sync_df_train = pd.concat(Sync_List_train)\n",
    "Alone_df_train = pd.concat(Alone_List_train)\n",
    "#check if it worked\n",
    "print(\"Shape of Spontan train data frame: \",Spon_df_train.shape)\n",
    "print(\"Shape of Sync train data frame: \",Sync_df_train.shape)\n",
    "print(\"Shape of Alone train data frame: \",Alone_df_train.shape)"
   ]
  },
  {
   "cell_type": "markdown",
   "metadata": {},
   "source": [
    "**Test Set:**"
   ]
  },
  {
   "cell_type": "code",
   "execution_count": 292,
   "metadata": {},
   "outputs": [
    {
     "name": "stdout",
     "output_type": "stream",
     "text": [
      "Shape of Spontan test data frame:  (20302, 22)\n",
      "Shape of Sync test data frame:  (20067, 22)\n",
      "Shape of Alone test data frame:  (10360, 22)\n"
     ]
    }
   ],
   "source": [
    "Spon_df_test = pd.concat(Spon_List_test)\n",
    "Sync_df_test = pd.concat(Sync_List_test)\n",
    "Alone_df_test = pd.concat(Alone_List_test)\n",
    "#check if it worked\n",
    "print(\"Shape of Spontan test data frame: \",Spon_df_test.shape)\n",
    "print(\"Shape of Sync test data frame: \",Sync_df_test.shape)\n",
    "print(\"Shape of Alone test data frame: \",Alone_df_test.shape)"
   ]
  },
  {
   "cell_type": "markdown",
   "metadata": {},
   "source": [
    "### Data Cleaning"
   ]
  },
  {
   "cell_type": "code",
   "execution_count": 293,
   "metadata": {},
   "outputs": [],
   "source": [
    "def Cleaning_Spon_Sync(df):\n",
    "    df2 = df[df[' # hands'] == 2]\n",
    "    df2.dropna(axis=0,inplace=True)\n",
    "    return df2"
   ]
  },
  {
   "cell_type": "code",
   "execution_count": 313,
   "metadata": {},
   "outputs": [],
   "source": [
    "def Cleaning_Alone(df):\n",
    "    df2 = df[df[' Hand Type'] == 'left']\n",
    "    df3 = df2[df[' # hands'] == 1]\n",
    "    df3.dropna(axis=0,inplace=True)\n",
    "    return df3"
   ]
  },
  {
   "cell_type": "code",
   "execution_count": 298,
   "metadata": {},
   "outputs": [],
   "source": [
    "def Cleaning_Right_hand(df):\n",
    "    df2 = df[df[' Hand Type'] == 'right']\n",
    "    df3 = df2[df[' # hands'] == 1]\n",
    "    df3.dropna(axis=0,inplace=True)\n",
    "    return df3"
   ]
  },
  {
   "cell_type": "markdown",
   "metadata": {},
   "source": [
    "**Right Hand Set**"
   ]
  },
  {
   "cell_type": "code",
   "execution_count": 299,
   "metadata": {},
   "outputs": [],
   "source": [
    "Right_Hand = pd.read_csv('csv folder/Hand_Movement/HandRight.csv')\n",
    "Right_Hand = Cleaning_Right_hand(Right_Hand)"
   ]
  },
  {
   "cell_type": "code",
   "execution_count": 300,
   "metadata": {
    "scrolled": false
   },
   "outputs": [
    {
     "data": {
      "text/plain": [
       "0"
      ]
     },
     "execution_count": 300,
     "metadata": {},
     "output_type": "execute_result"
    }
   ],
   "source": [
    "Right_Hand.isnull().sum().sum()"
   ]
  },
  {
   "cell_type": "markdown",
   "metadata": {},
   "source": [
    "**Train Set**"
   ]
  },
  {
   "cell_type": "code",
   "execution_count": 311,
   "metadata": {},
   "outputs": [],
   "source": [
    "Spon_df_train = Cleaning_Spon_Sync(Spon_df_train)\n",
    "Sync_df_train = Cleaning_Spon_Sync(Sync_df_train)\n",
    "Alone_df_train = Cleaning_Alone(Alone_df_train)"
   ]
  },
  {
   "cell_type": "markdown",
   "metadata": {},
   "source": [
    "**Test Set:**"
   ]
  },
  {
   "cell_type": "code",
   "execution_count": 314,
   "metadata": {},
   "outputs": [],
   "source": [
    "Spon_df_test = Cleaning_Spon_Sync(Spon_df_test)\n",
    "Sync_df_test = Cleaning_Spon_Sync(Sync_df_test)\n",
    "Alone_df_test = Cleaning_Alone(Alone_df_test)"
   ]
  },
  {
   "cell_type": "markdown",
   "metadata": {},
   "source": [
    "### Combine Right and left hand"
   ]
  },
  {
   "cell_type": "code",
   "execution_count": 319,
   "metadata": {},
   "outputs": [],
   "source": [
    "def Combine_Hands_Spon_Sync(df):\n",
    "    hand_Type = df.groupby(df[' Hand Type'])\n",
    "    right = hand_Type.get_group(\"right\")\n",
    "    left = hand_Type.get_group(\"left\")\n",
    "    df = pd.merge(left, right, how='left', on= ' Frame ID')\n",
    "    return df"
   ]
  },
  {
   "cell_type": "code",
   "execution_count": 320,
   "metadata": {},
   "outputs": [],
   "source": [
    "def Combine_Hands_Alone(df,Right_Hand):\n",
    "    Right_Hand = Right_Hand.reset_index(drop=True)\n",
    "    df=df.reset_index(drop=True)\n",
    "    df= pd.merge(df,Right_Hand,left_index=True,right_index=True,how='left')\n",
    "    return df"
   ]
  },
  {
   "cell_type": "markdown",
   "metadata": {},
   "source": [
    "**Right Hand Set**"
   ]
  },
  {
   "cell_type": "code",
   "execution_count": 321,
   "metadata": {
    "scrolled": true
   },
   "outputs": [
    {
     "name": "stdout",
     "output_type": "stream",
     "text": [
      "Shape of Alone:  (33754, 22)  ,Compared to the Shape Right Hand  (4314, 22)\n"
     ]
    }
   ],
   "source": [
    "print(\"Shape of Alone: \",Alone_df_train.shape,\" ,Compared to the Shape Right Hand \",Right_Hand.shape)"
   ]
  },
  {
   "cell_type": "markdown",
   "metadata": {},
   "source": [
    "We have to make Right_Hand Artfically bigger"
   ]
  },
  {
   "cell_type": "code",
   "execution_count": 322,
   "metadata": {},
   "outputs": [],
   "source": [
    "New_HandRight = pd.DataFrame()\n",
    "for i in range(9):\n",
    "    New_HandRight = pd.concat([New_HandRight,Right_Hand])"
   ]
  },
  {
   "cell_type": "markdown",
   "metadata": {},
   "source": [
    "**Train Set**"
   ]
  },
  {
   "cell_type": "code",
   "execution_count": 323,
   "metadata": {},
   "outputs": [
    {
     "name": "stdout",
     "output_type": "stream",
     "text": [
      "Shape of Spontan train data frame:  (53327, 43)\n",
      "Shape of Sync train data frame:  (45887, 43)\n",
      "Shape of Alone train data frame:  (33754, 44)\n"
     ]
    }
   ],
   "source": [
    "Spon_df_train = Combine_Hands_Spon_Sync(Spon_df_train)\n",
    "Sync_df_train = Combine_Hands_Spon_Sync(Sync_df_train)\n",
    "Alone_df_train = Combine_Hands_Alone(Alone_df_train,New_HandRight)\n",
    "#check if it worked\n",
    "print(\"Shape of Spontan train data frame: \",Spon_df_train.shape)\n",
    "print(\"Shape of Sync train data frame: \",Sync_df_train.shape)\n",
    "print(\"Shape of Alone train data frame: \",Alone_df_train.shape)"
   ]
  },
  {
   "cell_type": "markdown",
   "metadata": {},
   "source": [
    "**Test Set:**"
   ]
  },
  {
   "cell_type": "code",
   "execution_count": 324,
   "metadata": {},
   "outputs": [
    {
     "name": "stdout",
     "output_type": "stream",
     "text": [
      "Shape of Spontan test data frame:  (10119, 43)\n",
      "Shape of Sync test data frame:  (9923, 43)\n",
      "Shape of Alone test data frame:  (9906, 44)\n"
     ]
    }
   ],
   "source": [
    "Spon_df_test = Combine_Hands_Spon_Sync(Spon_df_test)\n",
    "Sync_df_test = Combine_Hands_Spon_Sync(Sync_df_test)\n",
    "Alone_df_test = Combine_Hands_Alone(Alone_df_test,New_HandRight)\n",
    "#check if it worked\n",
    "print(\"Shape of Spontan test data frame: \",Spon_df_test.shape)\n",
    "print(\"Shape of Sync test data frame: \",Sync_df_test.shape)\n",
    "print(\"Shape of Alone test data frame: \",Alone_df_test.shape)"
   ]
  },
  {
   "cell_type": "markdown",
   "metadata": {},
   "source": [
    "### Removing features"
   ]
  },
  {
   "cell_type": "markdown",
   "metadata": {},
   "source": [
    "There a few features we need to remove because they will destroy or distrub the models\n",
    "\n",
    "- Frame ID - the iD wont help the model learning anything and could even disturb the model\n",
    "- num hands - if the models the number of hands it will be way to easy to know which is alone\n",
    "- hand Type - every row has left and right after the combination so it is not really helpfull\n",
    "- Time - every row is the data for a frame and it wont matter when it was, the data describing the moment is whats importent"
   ]
  },
  {
   "cell_type": "code",
   "execution_count": 325,
   "metadata": {},
   "outputs": [],
   "source": [
    "def DeleteFeatures_Spon_Sync(df):\n",
    "    df.drop(['Time_x','Time_y',' Frame ID',' Hand Type_x',' Hand Type_y',' # hands_x',' # hands_y'], inplace = True, axis = 1)\n",
    "    return df"
   ]
  },
  {
   "cell_type": "code",
   "execution_count": 326,
   "metadata": {},
   "outputs": [],
   "source": [
    "def DeleteFeatures_Alone(df):\n",
    "    df.drop(['Time_x','Time_y',' Frame ID_x',' Frame ID_y',' Hand Type_x',' Hand Type_y',' # hands_x',' # hands_y'], inplace = True, axis = 1)\n",
    "    return df"
   ]
  },
  {
   "cell_type": "markdown",
   "metadata": {},
   "source": [
    "**Train Set**"
   ]
  },
  {
   "cell_type": "code",
   "execution_count": 327,
   "metadata": {},
   "outputs": [],
   "source": [
    "Spon_df_train = DeleteFeatures_Spon_Sync(Spon_df_train)\n",
    "Sync_df_train = DeleteFeatures_Spon_Sync(Sync_df_train)\n",
    "Alone_df_train = DeleteFeatures_Alone(Alone_df_train)"
   ]
  },
  {
   "cell_type": "code",
   "execution_count": 328,
   "metadata": {},
   "outputs": [
    {
     "data": {
      "text/html": [
       "<div>\n",
       "<style scoped>\n",
       "    .dataframe tbody tr th:only-of-type {\n",
       "        vertical-align: middle;\n",
       "    }\n",
       "\n",
       "    .dataframe tbody tr th {\n",
       "        vertical-align: top;\n",
       "    }\n",
       "\n",
       "    .dataframe thead th {\n",
       "        text-align: right;\n",
       "    }\n",
       "</style>\n",
       "<table border=\"1\" class=\"dataframe\">\n",
       "  <thead>\n",
       "    <tr style=\"text-align: right;\">\n",
       "      <th></th>\n",
       "      <th>Position X_x</th>\n",
       "      <th>Position Y_x</th>\n",
       "      <th>Position Z_x</th>\n",
       "      <th>Velocity X_x</th>\n",
       "      <th>Velocity Y_x</th>\n",
       "      <th>Velocity Z_x</th>\n",
       "      <th>Pitch_x</th>\n",
       "      <th>Roll_x</th>\n",
       "      <th>Yaw_x</th>\n",
       "      <th>Wrist Pos X_x</th>\n",
       "      <th>...</th>\n",
       "      <th>Yaw_y</th>\n",
       "      <th>Wrist Pos X_y</th>\n",
       "      <th>Wrist Pos Y_y</th>\n",
       "      <th>Wrist Pos Z_y</th>\n",
       "      <th>Elbow pos X_y</th>\n",
       "      <th>Elbow Pos Y_y</th>\n",
       "      <th>Elbow Pos Z_y</th>\n",
       "      <th>Grab Strenth_y</th>\n",
       "      <th>Grab Angle_y</th>\n",
       "      <th>Pinch Strength_y</th>\n",
       "    </tr>\n",
       "  </thead>\n",
       "  <tbody>\n",
       "    <tr>\n",
       "      <th>0</th>\n",
       "      <td>-102.2870</td>\n",
       "      <td>198.3166</td>\n",
       "      <td>-2.122641</td>\n",
       "      <td>-174.57210</td>\n",
       "      <td>379.1468</td>\n",
       "      <td>28.479910</td>\n",
       "      <td>1.423625</td>\n",
       "      <td>0.510471</td>\n",
       "      <td>1.481006</td>\n",
       "      <td>-164.0542</td>\n",
       "      <td>...</td>\n",
       "      <td>-0.563396</td>\n",
       "      <td>191.4088</td>\n",
       "      <td>170.3479</td>\n",
       "      <td>8.976357</td>\n",
       "      <td>323.5327</td>\n",
       "      <td>21.27053</td>\n",
       "      <td>162.7099</td>\n",
       "      <td>1.000000</td>\n",
       "      <td>2.793122</td>\n",
       "      <td>0.329752</td>\n",
       "    </tr>\n",
       "    <tr>\n",
       "      <th>1</th>\n",
       "      <td>-103.8721</td>\n",
       "      <td>201.4944</td>\n",
       "      <td>-2.063620</td>\n",
       "      <td>-178.50250</td>\n",
       "      <td>357.8548</td>\n",
       "      <td>6.646493</td>\n",
       "      <td>1.429039</td>\n",
       "      <td>0.500107</td>\n",
       "      <td>1.486744</td>\n",
       "      <td>-165.7898</td>\n",
       "      <td>...</td>\n",
       "      <td>-0.560823</td>\n",
       "      <td>190.8670</td>\n",
       "      <td>170.1528</td>\n",
       "      <td>9.191355</td>\n",
       "      <td>323.1941</td>\n",
       "      <td>20.16283</td>\n",
       "      <td>161.8589</td>\n",
       "      <td>1.000000</td>\n",
       "      <td>2.704073</td>\n",
       "      <td>0.293775</td>\n",
       "    </tr>\n",
       "    <tr>\n",
       "      <th>2</th>\n",
       "      <td>-106.3691</td>\n",
       "      <td>207.4667</td>\n",
       "      <td>-2.337110</td>\n",
       "      <td>-126.78780</td>\n",
       "      <td>318.5284</td>\n",
       "      <td>-12.872290</td>\n",
       "      <td>1.441357</td>\n",
       "      <td>0.489946</td>\n",
       "      <td>1.496526</td>\n",
       "      <td>-168.4939</td>\n",
       "      <td>...</td>\n",
       "      <td>-0.554623</td>\n",
       "      <td>190.4547</td>\n",
       "      <td>169.7302</td>\n",
       "      <td>10.512530</td>\n",
       "      <td>324.1130</td>\n",
       "      <td>19.09524</td>\n",
       "      <td>161.3746</td>\n",
       "      <td>1.000000</td>\n",
       "      <td>2.422549</td>\n",
       "      <td>0.175940</td>\n",
       "    </tr>\n",
       "    <tr>\n",
       "      <th>3</th>\n",
       "      <td>-107.9509</td>\n",
       "      <td>212.1324</td>\n",
       "      <td>-2.788956</td>\n",
       "      <td>-74.28078</td>\n",
       "      <td>244.4823</td>\n",
       "      <td>-30.771300</td>\n",
       "      <td>1.444497</td>\n",
       "      <td>0.483316</td>\n",
       "      <td>1.499930</td>\n",
       "      <td>-170.1878</td>\n",
       "      <td>...</td>\n",
       "      <td>-0.548808</td>\n",
       "      <td>190.8024</td>\n",
       "      <td>170.2935</td>\n",
       "      <td>12.170700</td>\n",
       "      <td>323.0928</td>\n",
       "      <td>17.14600</td>\n",
       "      <td>161.7030</td>\n",
       "      <td>1.000000</td>\n",
       "      <td>2.101400</td>\n",
       "      <td>0.052777</td>\n",
       "    </tr>\n",
       "    <tr>\n",
       "      <th>4</th>\n",
       "      <td>-109.5427</td>\n",
       "      <td>216.8003</td>\n",
       "      <td>-3.337280</td>\n",
       "      <td>-96.49666</td>\n",
       "      <td>269.5434</td>\n",
       "      <td>-37.723870</td>\n",
       "      <td>1.431969</td>\n",
       "      <td>0.488396</td>\n",
       "      <td>1.491886</td>\n",
       "      <td>-171.4205</td>\n",
       "      <td>...</td>\n",
       "      <td>-0.553877</td>\n",
       "      <td>192.5801</td>\n",
       "      <td>172.1215</td>\n",
       "      <td>12.837430</td>\n",
       "      <td>325.7650</td>\n",
       "      <td>19.51061</td>\n",
       "      <td>162.1241</td>\n",
       "      <td>0.849696</td>\n",
       "      <td>1.878483</td>\n",
       "      <td>0.000000</td>\n",
       "    </tr>\n",
       "  </tbody>\n",
       "</table>\n",
       "<p>5 rows × 36 columns</p>\n",
       "</div>"
      ],
      "text/plain": [
       "    Position X_x   Position Y_x   Position Z_x   Velocity X_x   Velocity Y_x  \\\n",
       "0      -102.2870       198.3166      -2.122641     -174.57210       379.1468   \n",
       "1      -103.8721       201.4944      -2.063620     -178.50250       357.8548   \n",
       "2      -106.3691       207.4667      -2.337110     -126.78780       318.5284   \n",
       "3      -107.9509       212.1324      -2.788956      -74.28078       244.4823   \n",
       "4      -109.5427       216.8003      -3.337280      -96.49666       269.5434   \n",
       "\n",
       "    Velocity Z_x   Pitch_x    Roll_x     Yaw_x   Wrist Pos X_x  ...     Yaw_y  \\\n",
       "0      28.479910  1.423625  0.510471  1.481006       -164.0542  ... -0.563396   \n",
       "1       6.646493  1.429039  0.500107  1.486744       -165.7898  ... -0.560823   \n",
       "2     -12.872290  1.441357  0.489946  1.496526       -168.4939  ... -0.554623   \n",
       "3     -30.771300  1.444497  0.483316  1.499930       -170.1878  ... -0.548808   \n",
       "4     -37.723870  1.431969  0.488396  1.491886       -171.4205  ... -0.553877   \n",
       "\n",
       "    Wrist Pos X_y   Wrist Pos Y_y   Wrist Pos Z_y   Elbow pos X_y  \\\n",
       "0        191.4088        170.3479        8.976357        323.5327   \n",
       "1        190.8670        170.1528        9.191355        323.1941   \n",
       "2        190.4547        169.7302       10.512530        324.1130   \n",
       "3        190.8024        170.2935       12.170700        323.0928   \n",
       "4        192.5801        172.1215       12.837430        325.7650   \n",
       "\n",
       "    Elbow Pos Y_y   Elbow Pos Z_y   Grab Strenth_y   Grab Angle_y  \\\n",
       "0        21.27053        162.7099         1.000000       2.793122   \n",
       "1        20.16283        161.8589         1.000000       2.704073   \n",
       "2        19.09524        161.3746         1.000000       2.422549   \n",
       "3        17.14600        161.7030         1.000000       2.101400   \n",
       "4        19.51061        162.1241         0.849696       1.878483   \n",
       "\n",
       "    Pinch Strength_y  \n",
       "0           0.329752  \n",
       "1           0.293775  \n",
       "2           0.175940  \n",
       "3           0.052777  \n",
       "4           0.000000  \n",
       "\n",
       "[5 rows x 36 columns]"
      ]
     },
     "execution_count": 328,
     "metadata": {},
     "output_type": "execute_result"
    }
   ],
   "source": [
    "Spon_df_train.head()"
   ]
  },
  {
   "cell_type": "markdown",
   "metadata": {},
   "source": [
    "**Test Set:**"
   ]
  },
  {
   "cell_type": "code",
   "execution_count": 329,
   "metadata": {},
   "outputs": [],
   "source": [
    "Spon_df_test = DeleteFeatures_Spon_Sync(Spon_df_test)\n",
    "Sync_df_test = DeleteFeatures_Spon_Sync(Sync_df_test)\n",
    "Alone_df_test = DeleteFeatures_Alone(Alone_df_test)"
   ]
  },
  {
   "cell_type": "markdown",
   "metadata": {},
   "source": [
    "### Adding Label"
   ]
  },
  {
   "cell_type": "code",
   "execution_count": 330,
   "metadata": {},
   "outputs": [],
   "source": [
    "def Label_Spon(df):\n",
    "    df.insert(loc=1,column='label', value = 1)\n",
    "    return df"
   ]
  },
  {
   "cell_type": "code",
   "execution_count": 331,
   "metadata": {},
   "outputs": [],
   "source": [
    "def Label_Sync(df):\n",
    "    df.insert(loc=1,column='label', value = 2)\n",
    "    return df"
   ]
  },
  {
   "cell_type": "code",
   "execution_count": 332,
   "metadata": {},
   "outputs": [],
   "source": [
    "def Label_Alone(df):\n",
    "    df.insert(loc=1,column='label', value = 3)\n",
    "    return df"
   ]
  },
  {
   "cell_type": "markdown",
   "metadata": {},
   "source": [
    "**Train Set**"
   ]
  },
  {
   "cell_type": "code",
   "execution_count": 333,
   "metadata": {},
   "outputs": [],
   "source": [
    "Spon_df_train = Label_Spon(Spon_df_train)\n",
    "Sync_df_train = Label_Sync(Sync_df_train)\n",
    "Alone_df_train = Label_Alone(Alone_df_train)"
   ]
  },
  {
   "cell_type": "code",
   "execution_count": 334,
   "metadata": {
    "scrolled": false
   },
   "outputs": [
    {
     "data": {
      "text/html": [
       "<div>\n",
       "<style scoped>\n",
       "    .dataframe tbody tr th:only-of-type {\n",
       "        vertical-align: middle;\n",
       "    }\n",
       "\n",
       "    .dataframe tbody tr th {\n",
       "        vertical-align: top;\n",
       "    }\n",
       "\n",
       "    .dataframe thead th {\n",
       "        text-align: right;\n",
       "    }\n",
       "</style>\n",
       "<table border=\"1\" class=\"dataframe\">\n",
       "  <thead>\n",
       "    <tr style=\"text-align: right;\">\n",
       "      <th></th>\n",
       "      <th>Position X_x</th>\n",
       "      <th>label</th>\n",
       "      <th>Position Y_x</th>\n",
       "      <th>Position Z_x</th>\n",
       "      <th>Velocity X_x</th>\n",
       "      <th>Velocity Y_x</th>\n",
       "      <th>Velocity Z_x</th>\n",
       "      <th>Pitch_x</th>\n",
       "      <th>Roll_x</th>\n",
       "      <th>Yaw_x</th>\n",
       "      <th>...</th>\n",
       "      <th>Yaw_y</th>\n",
       "      <th>Wrist Pos X_y</th>\n",
       "      <th>Wrist Pos Y_y</th>\n",
       "      <th>Wrist Pos Z_y</th>\n",
       "      <th>Elbow pos X_y</th>\n",
       "      <th>Elbow Pos Y_y</th>\n",
       "      <th>Elbow Pos Z_y</th>\n",
       "      <th>Grab Strenth_y</th>\n",
       "      <th>Grab Angle_y</th>\n",
       "      <th>Pinch Strength_y</th>\n",
       "    </tr>\n",
       "  </thead>\n",
       "  <tbody>\n",
       "    <tr>\n",
       "      <th>0</th>\n",
       "      <td>-46.60518</td>\n",
       "      <td>3</td>\n",
       "      <td>178.0750</td>\n",
       "      <td>-18.75702</td>\n",
       "      <td>5.439669</td>\n",
       "      <td>96.988980</td>\n",
       "      <td>-12.10281</td>\n",
       "      <td>0.670744</td>\n",
       "      <td>2.865586</td>\n",
       "      <td>1.276748</td>\n",
       "      <td>...</td>\n",
       "      <td>-0.277800</td>\n",
       "      <td>46.88831</td>\n",
       "      <td>207.3548</td>\n",
       "      <td>86.23589</td>\n",
       "      <td>203.8337</td>\n",
       "      <td>49.33507</td>\n",
       "      <td>237.4553</td>\n",
       "      <td>0.0</td>\n",
       "      <td>0.206389</td>\n",
       "      <td>0.0</td>\n",
       "    </tr>\n",
       "    <tr>\n",
       "      <th>1</th>\n",
       "      <td>-47.65659</td>\n",
       "      <td>3</td>\n",
       "      <td>180.8680</td>\n",
       "      <td>-18.60894</td>\n",
       "      <td>-88.205730</td>\n",
       "      <td>216.326900</td>\n",
       "      <td>22.97837</td>\n",
       "      <td>0.730817</td>\n",
       "      <td>2.949419</td>\n",
       "      <td>1.289513</td>\n",
       "      <td>...</td>\n",
       "      <td>-0.277763</td>\n",
       "      <td>47.54861</td>\n",
       "      <td>205.6568</td>\n",
       "      <td>86.42250</td>\n",
       "      <td>203.9553</td>\n",
       "      <td>47.88272</td>\n",
       "      <td>238.4482</td>\n",
       "      <td>0.0</td>\n",
       "      <td>0.243050</td>\n",
       "      <td>0.0</td>\n",
       "    </tr>\n",
       "    <tr>\n",
       "      <th>2</th>\n",
       "      <td>-49.63403</td>\n",
       "      <td>3</td>\n",
       "      <td>186.0965</td>\n",
       "      <td>-18.27436</td>\n",
       "      <td>-133.965000</td>\n",
       "      <td>338.190200</td>\n",
       "      <td>17.42292</td>\n",
       "      <td>0.783819</td>\n",
       "      <td>3.000619</td>\n",
       "      <td>1.295304</td>\n",
       "      <td>...</td>\n",
       "      <td>-0.278792</td>\n",
       "      <td>48.15030</td>\n",
       "      <td>204.5182</td>\n",
       "      <td>86.35149</td>\n",
       "      <td>204.6231</td>\n",
       "      <td>45.35921</td>\n",
       "      <td>236.8544</td>\n",
       "      <td>0.0</td>\n",
       "      <td>0.281134</td>\n",
       "      <td>0.0</td>\n",
       "    </tr>\n",
       "    <tr>\n",
       "      <th>3</th>\n",
       "      <td>-51.27046</td>\n",
       "      <td>3</td>\n",
       "      <td>190.2099</td>\n",
       "      <td>-18.01929</td>\n",
       "      <td>-79.817410</td>\n",
       "      <td>174.090800</td>\n",
       "      <td>15.08286</td>\n",
       "      <td>0.811619</td>\n",
       "      <td>3.016540</td>\n",
       "      <td>1.300166</td>\n",
       "      <td>...</td>\n",
       "      <td>-0.279768</td>\n",
       "      <td>48.64175</td>\n",
       "      <td>203.9989</td>\n",
       "      <td>86.16056</td>\n",
       "      <td>204.9939</td>\n",
       "      <td>44.18692</td>\n",
       "      <td>236.0927</td>\n",
       "      <td>0.0</td>\n",
       "      <td>0.277691</td>\n",
       "      <td>0.0</td>\n",
       "    </tr>\n",
       "    <tr>\n",
       "      <th>4</th>\n",
       "      <td>-52.21944</td>\n",
       "      <td>3</td>\n",
       "      <td>190.8335</td>\n",
       "      <td>-17.44433</td>\n",
       "      <td>-46.785630</td>\n",
       "      <td>-4.991557</td>\n",
       "      <td>39.31018</td>\n",
       "      <td>0.845813</td>\n",
       "      <td>3.035643</td>\n",
       "      <td>1.302704</td>\n",
       "      <td>...</td>\n",
       "      <td>-0.278629</td>\n",
       "      <td>48.93135</td>\n",
       "      <td>203.3777</td>\n",
       "      <td>85.59017</td>\n",
       "      <td>204.5952</td>\n",
       "      <td>42.68003</td>\n",
       "      <td>235.2896</td>\n",
       "      <td>0.0</td>\n",
       "      <td>0.283008</td>\n",
       "      <td>0.0</td>\n",
       "    </tr>\n",
       "  </tbody>\n",
       "</table>\n",
       "<p>5 rows × 37 columns</p>\n",
       "</div>"
      ],
      "text/plain": [
       "    Position X_x  label   Position Y_x   Position Z_x   Velocity X_x  \\\n",
       "0      -46.60518      3       178.0750      -18.75702       5.439669   \n",
       "1      -47.65659      3       180.8680      -18.60894     -88.205730   \n",
       "2      -49.63403      3       186.0965      -18.27436    -133.965000   \n",
       "3      -51.27046      3       190.2099      -18.01929     -79.817410   \n",
       "4      -52.21944      3       190.8335      -17.44433     -46.785630   \n",
       "\n",
       "    Velocity Y_x   Velocity Z_x   Pitch_x    Roll_x     Yaw_x  ...     Yaw_y  \\\n",
       "0      96.988980      -12.10281  0.670744  2.865586  1.276748  ... -0.277800   \n",
       "1     216.326900       22.97837  0.730817  2.949419  1.289513  ... -0.277763   \n",
       "2     338.190200       17.42292  0.783819  3.000619  1.295304  ... -0.278792   \n",
       "3     174.090800       15.08286  0.811619  3.016540  1.300166  ... -0.279768   \n",
       "4      -4.991557       39.31018  0.845813  3.035643  1.302704  ... -0.278629   \n",
       "\n",
       "    Wrist Pos X_y   Wrist Pos Y_y   Wrist Pos Z_y   Elbow pos X_y  \\\n",
       "0        46.88831        207.3548        86.23589        203.8337   \n",
       "1        47.54861        205.6568        86.42250        203.9553   \n",
       "2        48.15030        204.5182        86.35149        204.6231   \n",
       "3        48.64175        203.9989        86.16056        204.9939   \n",
       "4        48.93135        203.3777        85.59017        204.5952   \n",
       "\n",
       "    Elbow Pos Y_y   Elbow Pos Z_y   Grab Strenth_y   Grab Angle_y  \\\n",
       "0        49.33507        237.4553              0.0       0.206389   \n",
       "1        47.88272        238.4482              0.0       0.243050   \n",
       "2        45.35921        236.8544              0.0       0.281134   \n",
       "3        44.18692        236.0927              0.0       0.277691   \n",
       "4        42.68003        235.2896              0.0       0.283008   \n",
       "\n",
       "    Pinch Strength_y  \n",
       "0                0.0  \n",
       "1                0.0  \n",
       "2                0.0  \n",
       "3                0.0  \n",
       "4                0.0  \n",
       "\n",
       "[5 rows x 37 columns]"
      ]
     },
     "execution_count": 334,
     "metadata": {},
     "output_type": "execute_result"
    }
   ],
   "source": [
    "Alone_df_train.head()"
   ]
  },
  {
   "cell_type": "markdown",
   "metadata": {},
   "source": [
    "**Test Set:**"
   ]
  },
  {
   "cell_type": "code",
   "execution_count": 335,
   "metadata": {},
   "outputs": [],
   "source": [
    "Spon_df_test = Label_Spon(Spon_df_test)\n",
    "Sync_df_test = Label_Sync(Sync_df_test)\n",
    "Alone_df_test = Label_Alone(Alone_df_test)"
   ]
  },
  {
   "cell_type": "markdown",
   "metadata": {},
   "source": [
    "### Combining Data frames"
   ]
  },
  {
   "cell_type": "markdown",
   "metadata": {},
   "source": [
    "**Train Set**"
   ]
  },
  {
   "cell_type": "code",
   "execution_count": 336,
   "metadata": {},
   "outputs": [
    {
     "name": "stdout",
     "output_type": "stream",
     "text": [
      "Shape of the Train Data frame:  (132968, 37)\n"
     ]
    }
   ],
   "source": [
    "Train_dfs = [Spon_df_train,Sync_df_train,Alone_df_train]\n",
    "train = pd.concat(Train_dfs)\n",
    "print(\"Shape of the Train Data frame: \",train.shape)"
   ]
  },
  {
   "cell_type": "markdown",
   "metadata": {},
   "source": [
    "**Test Set:**"
   ]
  },
  {
   "cell_type": "code",
   "execution_count": 337,
   "metadata": {},
   "outputs": [
    {
     "name": "stdout",
     "output_type": "stream",
     "text": [
      "Shape of the Test Data frame:  (29948, 37)\n"
     ]
    }
   ],
   "source": [
    "Test_dfs = [Spon_df_test,Sync_df_test,Alone_df_test]\n",
    "test = pd.concat(Test_dfs)\n",
    "print(\"Shape of the Test Data frame: \",test.shape)"
   ]
  },
  {
   "cell_type": "markdown",
   "metadata": {},
   "source": [
    "### Final Touch\n",
    "we should not take every thing, there should be a time diffrence bewtween the rows so the machine learning can see the diffrence time makes better"
   ]
  },
  {
   "cell_type": "markdown",
   "metadata": {},
   "source": [
    "**Train Set**"
   ]
  },
  {
   "cell_type": "code",
   "execution_count": 338,
   "metadata": {},
   "outputs": [
    {
     "data": {
      "text/html": [
       "<div>\n",
       "<style scoped>\n",
       "    .dataframe tbody tr th:only-of-type {\n",
       "        vertical-align: middle;\n",
       "    }\n",
       "\n",
       "    .dataframe tbody tr th {\n",
       "        vertical-align: top;\n",
       "    }\n",
       "\n",
       "    .dataframe thead th {\n",
       "        text-align: right;\n",
       "    }\n",
       "</style>\n",
       "<table border=\"1\" class=\"dataframe\">\n",
       "  <thead>\n",
       "    <tr style=\"text-align: right;\">\n",
       "      <th></th>\n",
       "      <th>Position X_x</th>\n",
       "      <th>label</th>\n",
       "      <th>Position Y_x</th>\n",
       "      <th>Position Z_x</th>\n",
       "      <th>Velocity X_x</th>\n",
       "      <th>Velocity Y_x</th>\n",
       "      <th>Velocity Z_x</th>\n",
       "      <th>Pitch_x</th>\n",
       "      <th>Roll_x</th>\n",
       "      <th>Yaw_x</th>\n",
       "      <th>...</th>\n",
       "      <th>Yaw_y</th>\n",
       "      <th>Wrist Pos X_y</th>\n",
       "      <th>Wrist Pos Y_y</th>\n",
       "      <th>Wrist Pos Z_y</th>\n",
       "      <th>Elbow pos X_y</th>\n",
       "      <th>Elbow Pos Y_y</th>\n",
       "      <th>Elbow Pos Z_y</th>\n",
       "      <th>Grab Strenth_y</th>\n",
       "      <th>Grab Angle_y</th>\n",
       "      <th>Pinch Strength_y</th>\n",
       "    </tr>\n",
       "  </thead>\n",
       "  <tbody>\n",
       "    <tr>\n",
       "      <th>0</th>\n",
       "      <td>-102.2870</td>\n",
       "      <td>1</td>\n",
       "      <td>198.3166</td>\n",
       "      <td>-2.122641</td>\n",
       "      <td>-174.572100</td>\n",
       "      <td>379.146800</td>\n",
       "      <td>28.47991</td>\n",
       "      <td>1.423625</td>\n",
       "      <td>0.510471</td>\n",
       "      <td>1.481006</td>\n",
       "      <td>...</td>\n",
       "      <td>-0.563396</td>\n",
       "      <td>191.40880</td>\n",
       "      <td>170.3479</td>\n",
       "      <td>8.976357</td>\n",
       "      <td>323.5327</td>\n",
       "      <td>21.270530</td>\n",
       "      <td>162.7099</td>\n",
       "      <td>1.000000</td>\n",
       "      <td>2.793122</td>\n",
       "      <td>0.329752</td>\n",
       "    </tr>\n",
       "    <tr>\n",
       "      <th>1</th>\n",
       "      <td>-111.0334</td>\n",
       "      <td>1</td>\n",
       "      <td>221.8990</td>\n",
       "      <td>-4.233740</td>\n",
       "      <td>-88.140770</td>\n",
       "      <td>312.680800</td>\n",
       "      <td>-57.56472</td>\n",
       "      <td>1.414351</td>\n",
       "      <td>0.479057</td>\n",
       "      <td>1.483696</td>\n",
       "      <td>...</td>\n",
       "      <td>-0.571620</td>\n",
       "      <td>194.47760</td>\n",
       "      <td>174.5095</td>\n",
       "      <td>12.378550</td>\n",
       "      <td>334.0120</td>\n",
       "      <td>28.212550</td>\n",
       "      <td>162.1857</td>\n",
       "      <td>0.726005</td>\n",
       "      <td>1.746419</td>\n",
       "      <td>0.000000</td>\n",
       "    </tr>\n",
       "    <tr>\n",
       "      <th>2</th>\n",
       "      <td>-114.9668</td>\n",
       "      <td>1</td>\n",
       "      <td>248.1758</td>\n",
       "      <td>-11.774280</td>\n",
       "      <td>-9.856286</td>\n",
       "      <td>300.892600</td>\n",
       "      <td>-100.13740</td>\n",
       "      <td>1.302510</td>\n",
       "      <td>0.343234</td>\n",
       "      <td>1.468192</td>\n",
       "      <td>...</td>\n",
       "      <td>-0.846780</td>\n",
       "      <td>205.32910</td>\n",
       "      <td>192.2522</td>\n",
       "      <td>-1.164861</td>\n",
       "      <td>377.7744</td>\n",
       "      <td>76.749550</td>\n",
       "      <td>141.0905</td>\n",
       "      <td>0.211765</td>\n",
       "      <td>1.101117</td>\n",
       "      <td>0.000000</td>\n",
       "    </tr>\n",
       "    <tr>\n",
       "      <th>3</th>\n",
       "      <td>-113.7012</td>\n",
       "      <td>1</td>\n",
       "      <td>265.1228</td>\n",
       "      <td>-18.019300</td>\n",
       "      <td>-29.714810</td>\n",
       "      <td>232.726900</td>\n",
       "      <td>-112.08070</td>\n",
       "      <td>1.487226</td>\n",
       "      <td>0.126440</td>\n",
       "      <td>1.560127</td>\n",
       "      <td>...</td>\n",
       "      <td>-0.981201</td>\n",
       "      <td>206.53770</td>\n",
       "      <td>202.8605</td>\n",
       "      <td>-7.007293</td>\n",
       "      <td>363.4305</td>\n",
       "      <td>98.060070</td>\n",
       "      <td>159.4749</td>\n",
       "      <td>0.171141</td>\n",
       "      <td>1.188835</td>\n",
       "      <td>0.000000</td>\n",
       "    </tr>\n",
       "    <tr>\n",
       "      <th>4</th>\n",
       "      <td>-112.6701</td>\n",
       "      <td>1</td>\n",
       "      <td>277.2960</td>\n",
       "      <td>-30.252610</td>\n",
       "      <td>4.098410</td>\n",
       "      <td>104.769500</td>\n",
       "      <td>-167.08080</td>\n",
       "      <td>1.457922</td>\n",
       "      <td>0.059495</td>\n",
       "      <td>1.564091</td>\n",
       "      <td>...</td>\n",
       "      <td>-0.983934</td>\n",
       "      <td>203.25410</td>\n",
       "      <td>211.0339</td>\n",
       "      <td>-3.208927</td>\n",
       "      <td>318.1394</td>\n",
       "      <td>142.557900</td>\n",
       "      <td>209.9082</td>\n",
       "      <td>0.134066</td>\n",
       "      <td>1.166122</td>\n",
       "      <td>0.000000</td>\n",
       "    </tr>\n",
       "    <tr>\n",
       "      <th>...</th>\n",
       "      <td>...</td>\n",
       "      <td>...</td>\n",
       "      <td>...</td>\n",
       "      <td>...</td>\n",
       "      <td>...</td>\n",
       "      <td>...</td>\n",
       "      <td>...</td>\n",
       "      <td>...</td>\n",
       "      <td>...</td>\n",
       "      <td>...</td>\n",
       "      <td>...</td>\n",
       "      <td>...</td>\n",
       "      <td>...</td>\n",
       "      <td>...</td>\n",
       "      <td>...</td>\n",
       "      <td>...</td>\n",
       "      <td>...</td>\n",
       "      <td>...</td>\n",
       "      <td>...</td>\n",
       "      <td>...</td>\n",
       "      <td>...</td>\n",
       "    </tr>\n",
       "    <tr>\n",
       "      <th>26589</th>\n",
       "      <td>-114.3659</td>\n",
       "      <td>3</td>\n",
       "      <td>213.2949</td>\n",
       "      <td>31.358430</td>\n",
       "      <td>-114.395200</td>\n",
       "      <td>112.020600</td>\n",
       "      <td>108.55900</td>\n",
       "      <td>1.091780</td>\n",
       "      <td>1.316953</td>\n",
       "      <td>0.604451</td>\n",
       "      <td>...</td>\n",
       "      <td>-0.196009</td>\n",
       "      <td>20.30352</td>\n",
       "      <td>176.7513</td>\n",
       "      <td>44.159360</td>\n",
       "      <td>122.3983</td>\n",
       "      <td>-1.002545</td>\n",
       "      <td>222.9354</td>\n",
       "      <td>0.000000</td>\n",
       "      <td>0.321077</td>\n",
       "      <td>0.000000</td>\n",
       "    </tr>\n",
       "    <tr>\n",
       "      <th>26590</th>\n",
       "      <td>-115.4302</td>\n",
       "      <td>3</td>\n",
       "      <td>214.5807</td>\n",
       "      <td>29.427190</td>\n",
       "      <td>-16.331440</td>\n",
       "      <td>-59.822620</td>\n",
       "      <td>-60.43761</td>\n",
       "      <td>1.074734</td>\n",
       "      <td>1.334178</td>\n",
       "      <td>0.599205</td>\n",
       "      <td>...</td>\n",
       "      <td>-0.449606</td>\n",
       "      <td>17.78373</td>\n",
       "      <td>168.7832</td>\n",
       "      <td>56.397090</td>\n",
       "      <td>150.0344</td>\n",
       "      <td>3.164037</td>\n",
       "      <td>226.8691</td>\n",
       "      <td>0.000000</td>\n",
       "      <td>0.391455</td>\n",
       "      <td>0.000000</td>\n",
       "    </tr>\n",
       "    <tr>\n",
       "      <th>26591</th>\n",
       "      <td>-135.1533</td>\n",
       "      <td>3</td>\n",
       "      <td>221.4743</td>\n",
       "      <td>23.070850</td>\n",
       "      <td>-15.349280</td>\n",
       "      <td>22.321920</td>\n",
       "      <td>-68.53466</td>\n",
       "      <td>1.138973</td>\n",
       "      <td>1.532965</td>\n",
       "      <td>0.138394</td>\n",
       "      <td>...</td>\n",
       "      <td>-0.153955</td>\n",
       "      <td>15.30889</td>\n",
       "      <td>167.8103</td>\n",
       "      <td>69.591630</td>\n",
       "      <td>163.3719</td>\n",
       "      <td>36.890220</td>\n",
       "      <td>256.3632</td>\n",
       "      <td>0.000000</td>\n",
       "      <td>0.500012</td>\n",
       "      <td>0.000000</td>\n",
       "    </tr>\n",
       "    <tr>\n",
       "      <th>26592</th>\n",
       "      <td>-127.6903</td>\n",
       "      <td>3</td>\n",
       "      <td>214.3489</td>\n",
       "      <td>17.686630</td>\n",
       "      <td>10.166750</td>\n",
       "      <td>-1.436222</td>\n",
       "      <td>32.29176</td>\n",
       "      <td>1.091671</td>\n",
       "      <td>1.468609</td>\n",
       "      <td>0.283953</td>\n",
       "      <td>...</td>\n",
       "      <td>-0.107443</td>\n",
       "      <td>12.34609</td>\n",
       "      <td>162.4587</td>\n",
       "      <td>73.419620</td>\n",
       "      <td>159.9848</td>\n",
       "      <td>71.551350</td>\n",
       "      <td>282.8759</td>\n",
       "      <td>0.000000</td>\n",
       "      <td>0.736438</td>\n",
       "      <td>0.000000</td>\n",
       "    </tr>\n",
       "    <tr>\n",
       "      <th>26593</th>\n",
       "      <td>-125.6217</td>\n",
       "      <td>3</td>\n",
       "      <td>215.7428</td>\n",
       "      <td>23.397500</td>\n",
       "      <td>17.454730</td>\n",
       "      <td>-3.217659</td>\n",
       "      <td>31.44669</td>\n",
       "      <td>1.101742</td>\n",
       "      <td>1.429256</td>\n",
       "      <td>0.379251</td>\n",
       "      <td>...</td>\n",
       "      <td>-0.270166</td>\n",
       "      <td>23.40022</td>\n",
       "      <td>194.3584</td>\n",
       "      <td>72.822430</td>\n",
       "      <td>171.9245</td>\n",
       "      <td>49.452400</td>\n",
       "      <td>248.4429</td>\n",
       "      <td>0.143522</td>\n",
       "      <td>1.054166</td>\n",
       "      <td>0.000000</td>\n",
       "    </tr>\n",
       "  </tbody>\n",
       "</table>\n",
       "<p>26594 rows × 37 columns</p>\n",
       "</div>"
      ],
      "text/plain": [
       "        Position X_x  label   Position Y_x   Position Z_x   Velocity X_x  \\\n",
       "0          -102.2870      1       198.3166      -2.122641    -174.572100   \n",
       "1          -111.0334      1       221.8990      -4.233740     -88.140770   \n",
       "2          -114.9668      1       248.1758     -11.774280      -9.856286   \n",
       "3          -113.7012      1       265.1228     -18.019300     -29.714810   \n",
       "4          -112.6701      1       277.2960     -30.252610       4.098410   \n",
       "...              ...    ...            ...            ...            ...   \n",
       "26589      -114.3659      3       213.2949      31.358430    -114.395200   \n",
       "26590      -115.4302      3       214.5807      29.427190     -16.331440   \n",
       "26591      -135.1533      3       221.4743      23.070850     -15.349280   \n",
       "26592      -127.6903      3       214.3489      17.686630      10.166750   \n",
       "26593      -125.6217      3       215.7428      23.397500      17.454730   \n",
       "\n",
       "        Velocity Y_x   Velocity Z_x   Pitch_x    Roll_x     Yaw_x  ...  \\\n",
       "0         379.146800       28.47991  1.423625  0.510471  1.481006  ...   \n",
       "1         312.680800      -57.56472  1.414351  0.479057  1.483696  ...   \n",
       "2         300.892600     -100.13740  1.302510  0.343234  1.468192  ...   \n",
       "3         232.726900     -112.08070  1.487226  0.126440  1.560127  ...   \n",
       "4         104.769500     -167.08080  1.457922  0.059495  1.564091  ...   \n",
       "...              ...            ...       ...       ...       ...  ...   \n",
       "26589     112.020600      108.55900  1.091780  1.316953  0.604451  ...   \n",
       "26590     -59.822620      -60.43761  1.074734  1.334178  0.599205  ...   \n",
       "26591      22.321920      -68.53466  1.138973  1.532965  0.138394  ...   \n",
       "26592      -1.436222       32.29176  1.091671  1.468609  0.283953  ...   \n",
       "26593      -3.217659       31.44669  1.101742  1.429256  0.379251  ...   \n",
       "\n",
       "          Yaw_y   Wrist Pos X_y   Wrist Pos Y_y   Wrist Pos Z_y  \\\n",
       "0     -0.563396       191.40880        170.3479        8.976357   \n",
       "1     -0.571620       194.47760        174.5095       12.378550   \n",
       "2     -0.846780       205.32910        192.2522       -1.164861   \n",
       "3     -0.981201       206.53770        202.8605       -7.007293   \n",
       "4     -0.983934       203.25410        211.0339       -3.208927   \n",
       "...         ...             ...             ...             ...   \n",
       "26589 -0.196009        20.30352        176.7513       44.159360   \n",
       "26590 -0.449606        17.78373        168.7832       56.397090   \n",
       "26591 -0.153955        15.30889        167.8103       69.591630   \n",
       "26592 -0.107443        12.34609        162.4587       73.419620   \n",
       "26593 -0.270166        23.40022        194.3584       72.822430   \n",
       "\n",
       "        Elbow pos X_y   Elbow Pos Y_y   Elbow Pos Z_y   Grab Strenth_y  \\\n",
       "0            323.5327       21.270530        162.7099         1.000000   \n",
       "1            334.0120       28.212550        162.1857         0.726005   \n",
       "2            377.7744       76.749550        141.0905         0.211765   \n",
       "3            363.4305       98.060070        159.4749         0.171141   \n",
       "4            318.1394      142.557900        209.9082         0.134066   \n",
       "...               ...             ...             ...              ...   \n",
       "26589        122.3983       -1.002545        222.9354         0.000000   \n",
       "26590        150.0344        3.164037        226.8691         0.000000   \n",
       "26591        163.3719       36.890220        256.3632         0.000000   \n",
       "26592        159.9848       71.551350        282.8759         0.000000   \n",
       "26593        171.9245       49.452400        248.4429         0.143522   \n",
       "\n",
       "        Grab Angle_y   Pinch Strength_y  \n",
       "0           2.793122           0.329752  \n",
       "1           1.746419           0.000000  \n",
       "2           1.101117           0.000000  \n",
       "3           1.188835           0.000000  \n",
       "4           1.166122           0.000000  \n",
       "...              ...                ...  \n",
       "26589       0.321077           0.000000  \n",
       "26590       0.391455           0.000000  \n",
       "26591       0.500012           0.000000  \n",
       "26592       0.736438           0.000000  \n",
       "26593       1.054166           0.000000  \n",
       "\n",
       "[26594 rows x 37 columns]"
      ]
     },
     "execution_count": 338,
     "metadata": {},
     "output_type": "execute_result"
    }
   ],
   "source": [
    "Train_Copy = train.copy()\n",
    "Train_Copy = Train_Copy.iloc[::5, :]\n",
    "Train_Copy = Train_Copy.reset_index()\n",
    "Train_Copy = Train_Copy.drop(['index'], axis = 1)\n",
    "Train_Copy"
   ]
  },
  {
   "cell_type": "markdown",
   "metadata": {},
   "source": [
    "**Test Set:**"
   ]
  },
  {
   "cell_type": "code",
   "execution_count": 339,
   "metadata": {},
   "outputs": [
    {
     "data": {
      "text/html": [
       "<div>\n",
       "<style scoped>\n",
       "    .dataframe tbody tr th:only-of-type {\n",
       "        vertical-align: middle;\n",
       "    }\n",
       "\n",
       "    .dataframe tbody tr th {\n",
       "        vertical-align: top;\n",
       "    }\n",
       "\n",
       "    .dataframe thead th {\n",
       "        text-align: right;\n",
       "    }\n",
       "</style>\n",
       "<table border=\"1\" class=\"dataframe\">\n",
       "  <thead>\n",
       "    <tr style=\"text-align: right;\">\n",
       "      <th></th>\n",
       "      <th>Position X_x</th>\n",
       "      <th>label</th>\n",
       "      <th>Position Y_x</th>\n",
       "      <th>Position Z_x</th>\n",
       "      <th>Velocity X_x</th>\n",
       "      <th>Velocity Y_x</th>\n",
       "      <th>Velocity Z_x</th>\n",
       "      <th>Pitch_x</th>\n",
       "      <th>Roll_x</th>\n",
       "      <th>Yaw_x</th>\n",
       "      <th>...</th>\n",
       "      <th>Yaw_y</th>\n",
       "      <th>Wrist Pos X_y</th>\n",
       "      <th>Wrist Pos Y_y</th>\n",
       "      <th>Wrist Pos Z_y</th>\n",
       "      <th>Elbow pos X_y</th>\n",
       "      <th>Elbow Pos Y_y</th>\n",
       "      <th>Elbow Pos Z_y</th>\n",
       "      <th>Grab Strenth_y</th>\n",
       "      <th>Grab Angle_y</th>\n",
       "      <th>Pinch Strength_y</th>\n",
       "    </tr>\n",
       "  </thead>\n",
       "  <tbody>\n",
       "    <tr>\n",
       "      <th>0</th>\n",
       "      <td>-156.97650</td>\n",
       "      <td>1</td>\n",
       "      <td>201.4564</td>\n",
       "      <td>36.14886</td>\n",
       "      <td>-178.357800</td>\n",
       "      <td>90.193660</td>\n",
       "      <td>139.007300</td>\n",
       "      <td>0.433322</td>\n",
       "      <td>0.871869</td>\n",
       "      <td>1.202844</td>\n",
       "      <td>...</td>\n",
       "      <td>-0.446870</td>\n",
       "      <td>167.4719</td>\n",
       "      <td>162.4422</td>\n",
       "      <td>38.65091</td>\n",
       "      <td>281.7125</td>\n",
       "      <td>-23.217560</td>\n",
       "      <td>163.8082</td>\n",
       "      <td>0.0</td>\n",
       "      <td>0.000000</td>\n",
       "      <td>0.0</td>\n",
       "    </tr>\n",
       "    <tr>\n",
       "      <th>1</th>\n",
       "      <td>-155.87420</td>\n",
       "      <td>1</td>\n",
       "      <td>206.4794</td>\n",
       "      <td>43.17121</td>\n",
       "      <td>122.709800</td>\n",
       "      <td>6.326851</td>\n",
       "      <td>36.926420</td>\n",
       "      <td>0.631212</td>\n",
       "      <td>0.397699</td>\n",
       "      <td>1.342714</td>\n",
       "      <td>...</td>\n",
       "      <td>-0.444217</td>\n",
       "      <td>171.0828</td>\n",
       "      <td>178.3642</td>\n",
       "      <td>50.85502</td>\n",
       "      <td>279.5784</td>\n",
       "      <td>-26.478050</td>\n",
       "      <td>148.0825</td>\n",
       "      <td>0.0</td>\n",
       "      <td>0.032546</td>\n",
       "      <td>0.0</td>\n",
       "    </tr>\n",
       "    <tr>\n",
       "      <th>2</th>\n",
       "      <td>-153.50380</td>\n",
       "      <td>1</td>\n",
       "      <td>209.3631</td>\n",
       "      <td>48.52747</td>\n",
       "      <td>-8.436534</td>\n",
       "      <td>80.975650</td>\n",
       "      <td>85.756040</td>\n",
       "      <td>1.070392</td>\n",
       "      <td>0.347320</td>\n",
       "      <td>1.421218</td>\n",
       "      <td>...</td>\n",
       "      <td>-0.428619</td>\n",
       "      <td>175.2596</td>\n",
       "      <td>188.2948</td>\n",
       "      <td>62.08353</td>\n",
       "      <td>308.8388</td>\n",
       "      <td>1.946450</td>\n",
       "      <td>165.1162</td>\n",
       "      <td>0.0</td>\n",
       "      <td>0.000000</td>\n",
       "      <td>0.0</td>\n",
       "    </tr>\n",
       "    <tr>\n",
       "      <th>3</th>\n",
       "      <td>-153.67200</td>\n",
       "      <td>1</td>\n",
       "      <td>217.0183</td>\n",
       "      <td>53.88290</td>\n",
       "      <td>-23.187920</td>\n",
       "      <td>115.882300</td>\n",
       "      <td>47.683140</td>\n",
       "      <td>1.241220</td>\n",
       "      <td>0.313590</td>\n",
       "      <td>1.464132</td>\n",
       "      <td>...</td>\n",
       "      <td>-0.442290</td>\n",
       "      <td>178.4757</td>\n",
       "      <td>190.6823</td>\n",
       "      <td>65.61627</td>\n",
       "      <td>337.5593</td>\n",
       "      <td>31.926320</td>\n",
       "      <td>178.1940</td>\n",
       "      <td>0.0</td>\n",
       "      <td>0.000000</td>\n",
       "      <td>0.0</td>\n",
       "    </tr>\n",
       "    <tr>\n",
       "      <th>4</th>\n",
       "      <td>-150.69320</td>\n",
       "      <td>1</td>\n",
       "      <td>220.1934</td>\n",
       "      <td>55.89275</td>\n",
       "      <td>37.328140</td>\n",
       "      <td>53.808510</td>\n",
       "      <td>8.125199</td>\n",
       "      <td>1.454663</td>\n",
       "      <td>0.346119</td>\n",
       "      <td>1.527884</td>\n",
       "      <td>...</td>\n",
       "      <td>-0.473864</td>\n",
       "      <td>179.4405</td>\n",
       "      <td>185.0987</td>\n",
       "      <td>60.95058</td>\n",
       "      <td>315.5419</td>\n",
       "      <td>-1.976919</td>\n",
       "      <td>159.2561</td>\n",
       "      <td>0.0</td>\n",
       "      <td>0.000000</td>\n",
       "      <td>0.0</td>\n",
       "    </tr>\n",
       "    <tr>\n",
       "      <th>...</th>\n",
       "      <td>...</td>\n",
       "      <td>...</td>\n",
       "      <td>...</td>\n",
       "      <td>...</td>\n",
       "      <td>...</td>\n",
       "      <td>...</td>\n",
       "      <td>...</td>\n",
       "      <td>...</td>\n",
       "      <td>...</td>\n",
       "      <td>...</td>\n",
       "      <td>...</td>\n",
       "      <td>...</td>\n",
       "      <td>...</td>\n",
       "      <td>...</td>\n",
       "      <td>...</td>\n",
       "      <td>...</td>\n",
       "      <td>...</td>\n",
       "      <td>...</td>\n",
       "      <td>...</td>\n",
       "      <td>...</td>\n",
       "      <td>...</td>\n",
       "    </tr>\n",
       "    <tr>\n",
       "      <th>5985</th>\n",
       "      <td>-26.97896</td>\n",
       "      <td>3</td>\n",
       "      <td>296.7349</td>\n",
       "      <td>55.70233</td>\n",
       "      <td>-27.701310</td>\n",
       "      <td>44.818310</td>\n",
       "      <td>7.264846</td>\n",
       "      <td>0.409665</td>\n",
       "      <td>-0.111903</td>\n",
       "      <td>1.020852</td>\n",
       "      <td>...</td>\n",
       "      <td>0.031373</td>\n",
       "      <td>113.3407</td>\n",
       "      <td>175.3525</td>\n",
       "      <td>132.45410</td>\n",
       "      <td>205.5294</td>\n",
       "      <td>68.712940</td>\n",
       "      <td>368.1739</td>\n",
       "      <td>0.0</td>\n",
       "      <td>0.511823</td>\n",
       "      <td>0.0</td>\n",
       "    </tr>\n",
       "    <tr>\n",
       "      <th>5986</th>\n",
       "      <td>-33.70744</td>\n",
       "      <td>3</td>\n",
       "      <td>306.9808</td>\n",
       "      <td>61.53012</td>\n",
       "      <td>-27.371520</td>\n",
       "      <td>-24.677850</td>\n",
       "      <td>10.144730</td>\n",
       "      <td>0.784442</td>\n",
       "      <td>0.162835</td>\n",
       "      <td>1.045095</td>\n",
       "      <td>...</td>\n",
       "      <td>0.116033</td>\n",
       "      <td>152.9286</td>\n",
       "      <td>181.1347</td>\n",
       "      <td>138.67260</td>\n",
       "      <td>200.6873</td>\n",
       "      <td>60.261550</td>\n",
       "      <td>380.6300</td>\n",
       "      <td>0.0</td>\n",
       "      <td>0.499285</td>\n",
       "      <td>0.0</td>\n",
       "    </tr>\n",
       "    <tr>\n",
       "      <th>5987</th>\n",
       "      <td>-41.41603</td>\n",
       "      <td>3</td>\n",
       "      <td>296.7560</td>\n",
       "      <td>64.18919</td>\n",
       "      <td>-83.312790</td>\n",
       "      <td>-49.900630</td>\n",
       "      <td>36.096030</td>\n",
       "      <td>1.075055</td>\n",
       "      <td>0.280041</td>\n",
       "      <td>1.148169</td>\n",
       "      <td>...</td>\n",
       "      <td>0.228019</td>\n",
       "      <td>181.3348</td>\n",
       "      <td>180.8903</td>\n",
       "      <td>145.27400</td>\n",
       "      <td>158.9159</td>\n",
       "      <td>33.120250</td>\n",
       "      <td>375.6996</td>\n",
       "      <td>0.0</td>\n",
       "      <td>0.579103</td>\n",
       "      <td>0.0</td>\n",
       "    </tr>\n",
       "    <tr>\n",
       "      <th>5988</th>\n",
       "      <td>-55.31352</td>\n",
       "      <td>3</td>\n",
       "      <td>287.5695</td>\n",
       "      <td>66.18892</td>\n",
       "      <td>-65.303000</td>\n",
       "      <td>-45.324890</td>\n",
       "      <td>-11.329180</td>\n",
       "      <td>1.180923</td>\n",
       "      <td>0.542479</td>\n",
       "      <td>1.070412</td>\n",
       "      <td>...</td>\n",
       "      <td>0.289735</td>\n",
       "      <td>188.1464</td>\n",
       "      <td>177.8251</td>\n",
       "      <td>148.97580</td>\n",
       "      <td>165.9259</td>\n",
       "      <td>32.977290</td>\n",
       "      <td>381.2686</td>\n",
       "      <td>0.0</td>\n",
       "      <td>0.522458</td>\n",
       "      <td>0.0</td>\n",
       "    </tr>\n",
       "    <tr>\n",
       "      <th>5989</th>\n",
       "      <td>-65.33954</td>\n",
       "      <td>3</td>\n",
       "      <td>272.7191</td>\n",
       "      <td>59.17199</td>\n",
       "      <td>-27.796780</td>\n",
       "      <td>-111.888100</td>\n",
       "      <td>-42.745720</td>\n",
       "      <td>1.020301</td>\n",
       "      <td>0.653336</td>\n",
       "      <td>0.758811</td>\n",
       "      <td>...</td>\n",
       "      <td>0.265624</td>\n",
       "      <td>171.0400</td>\n",
       "      <td>173.0208</td>\n",
       "      <td>145.72080</td>\n",
       "      <td>172.0303</td>\n",
       "      <td>21.454690</td>\n",
       "      <td>374.7652</td>\n",
       "      <td>0.0</td>\n",
       "      <td>0.558272</td>\n",
       "      <td>0.0</td>\n",
       "    </tr>\n",
       "  </tbody>\n",
       "</table>\n",
       "<p>5990 rows × 37 columns</p>\n",
       "</div>"
      ],
      "text/plain": [
       "       Position X_x  label   Position Y_x   Position Z_x   Velocity X_x  \\\n",
       "0        -156.97650      1       201.4564       36.14886    -178.357800   \n",
       "1        -155.87420      1       206.4794       43.17121     122.709800   \n",
       "2        -153.50380      1       209.3631       48.52747      -8.436534   \n",
       "3        -153.67200      1       217.0183       53.88290     -23.187920   \n",
       "4        -150.69320      1       220.1934       55.89275      37.328140   \n",
       "...             ...    ...            ...            ...            ...   \n",
       "5985      -26.97896      3       296.7349       55.70233     -27.701310   \n",
       "5986      -33.70744      3       306.9808       61.53012     -27.371520   \n",
       "5987      -41.41603      3       296.7560       64.18919     -83.312790   \n",
       "5988      -55.31352      3       287.5695       66.18892     -65.303000   \n",
       "5989      -65.33954      3       272.7191       59.17199     -27.796780   \n",
       "\n",
       "       Velocity Y_x   Velocity Z_x   Pitch_x    Roll_x     Yaw_x  ...  \\\n",
       "0         90.193660     139.007300  0.433322  0.871869  1.202844  ...   \n",
       "1          6.326851      36.926420  0.631212  0.397699  1.342714  ...   \n",
       "2         80.975650      85.756040  1.070392  0.347320  1.421218  ...   \n",
       "3        115.882300      47.683140  1.241220  0.313590  1.464132  ...   \n",
       "4         53.808510       8.125199  1.454663  0.346119  1.527884  ...   \n",
       "...             ...            ...       ...       ...       ...  ...   \n",
       "5985      44.818310       7.264846  0.409665 -0.111903  1.020852  ...   \n",
       "5986     -24.677850      10.144730  0.784442  0.162835  1.045095  ...   \n",
       "5987     -49.900630      36.096030  1.075055  0.280041  1.148169  ...   \n",
       "5988     -45.324890     -11.329180  1.180923  0.542479  1.070412  ...   \n",
       "5989    -111.888100     -42.745720  1.020301  0.653336  0.758811  ...   \n",
       "\n",
       "         Yaw_y   Wrist Pos X_y   Wrist Pos Y_y   Wrist Pos Z_y  \\\n",
       "0    -0.446870        167.4719        162.4422        38.65091   \n",
       "1    -0.444217        171.0828        178.3642        50.85502   \n",
       "2    -0.428619        175.2596        188.2948        62.08353   \n",
       "3    -0.442290        178.4757        190.6823        65.61627   \n",
       "4    -0.473864        179.4405        185.0987        60.95058   \n",
       "...        ...             ...             ...             ...   \n",
       "5985  0.031373        113.3407        175.3525       132.45410   \n",
       "5986  0.116033        152.9286        181.1347       138.67260   \n",
       "5987  0.228019        181.3348        180.8903       145.27400   \n",
       "5988  0.289735        188.1464        177.8251       148.97580   \n",
       "5989  0.265624        171.0400        173.0208       145.72080   \n",
       "\n",
       "       Elbow pos X_y   Elbow Pos Y_y   Elbow Pos Z_y   Grab Strenth_y  \\\n",
       "0           281.7125      -23.217560        163.8082              0.0   \n",
       "1           279.5784      -26.478050        148.0825              0.0   \n",
       "2           308.8388        1.946450        165.1162              0.0   \n",
       "3           337.5593       31.926320        178.1940              0.0   \n",
       "4           315.5419       -1.976919        159.2561              0.0   \n",
       "...              ...             ...             ...              ...   \n",
       "5985        205.5294       68.712940        368.1739              0.0   \n",
       "5986        200.6873       60.261550        380.6300              0.0   \n",
       "5987        158.9159       33.120250        375.6996              0.0   \n",
       "5988        165.9259       32.977290        381.2686              0.0   \n",
       "5989        172.0303       21.454690        374.7652              0.0   \n",
       "\n",
       "       Grab Angle_y   Pinch Strength_y  \n",
       "0          0.000000                0.0  \n",
       "1          0.032546                0.0  \n",
       "2          0.000000                0.0  \n",
       "3          0.000000                0.0  \n",
       "4          0.000000                0.0  \n",
       "...             ...                ...  \n",
       "5985       0.511823                0.0  \n",
       "5986       0.499285                0.0  \n",
       "5987       0.579103                0.0  \n",
       "5988       0.522458                0.0  \n",
       "5989       0.558272                0.0  \n",
       "\n",
       "[5990 rows x 37 columns]"
      ]
     },
     "execution_count": 339,
     "metadata": {},
     "output_type": "execute_result"
    }
   ],
   "source": [
    "Test_Copy = test.copy()\n",
    "Test_Copy = Test_Copy.iloc[::5, :]\n",
    "Test_Copy = Test_Copy.reset_index()\n",
    "Test_Copy = Test_Copy.drop(['index'], axis = 1)\n",
    "Test_Copy"
   ]
  },
  {
   "cell_type": "markdown",
   "metadata": {},
   "source": [
    "## Visualization of the Data"
   ]
  },
  {
   "cell_type": "code",
   "execution_count": 255,
   "metadata": {},
   "outputs": [
    {
     "data": {
      "text/plain": [
       "<function matplotlib.pyplot.show(close=None, block=None)>"
      ]
     },
     "execution_count": 255,
     "metadata": {},
     "output_type": "execute_result"
    },
    {
     "data": {
      "image/png": "[encoded data removed]",
      "text/plain": [
       "<Figure size 1440x1440 with 42 Axes>"
      ]
     },
     "metadata": {
      "needs_background": "light"
     },
     "output_type": "display_data"
    }
   ],
   "source": [
    "train.hist(bins = 50, figsize = (20,20))\n",
    "plt.show"
   ]
  },
  {
   "cell_type": "markdown",
   "metadata": {},
   "source": [
    "## Create a Test set"
   ]
  },
  {
   "cell_type": "code",
   "execution_count": 341,
   "metadata": {},
   "outputs": [],
   "source": [
    "from sklearn.model_selection import train_test_split\n",
    "from sklearn.utils import shuffle"
   ]
  },
  {
   "cell_type": "code",
   "execution_count": 342,
   "metadata": {},
   "outputs": [],
   "source": [
    "Train_Copy = shuffle(Train_Copy)\n",
    "Test_Copy = shuffle(Test_Copy)"
   ]
  },
  {
   "cell_type": "code",
   "execution_count": 343,
   "metadata": {},
   "outputs": [],
   "source": [
    "X_train= Train_Copy.drop([\"label\"],axis =1)\n",
    "y_train= Train_Copy[\"label\"]\n",
    "\n",
    "\n",
    "X_test = Test_Copy.drop([\"label\"],axis =1)\n",
    "y_test= Test_Copy[\"label\"]"
   ]
  },
  {
   "cell_type": "markdown",
   "metadata": {},
   "source": [
    "## Model Preproccesing"
   ]
  },
  {
   "cell_type": "code",
   "execution_count": 278,
   "metadata": {},
   "outputs": [],
   "source": [
    "from sklearn.pipeline import Pipeline\n",
    "from sklearn.preprocessing import StandardScaler\n",
    "from sklearn.decomposition import PCA"
   ]
  },
  {
   "cell_type": "markdown",
   "metadata": {},
   "source": [
    "We want to use Pca so we need to normalize the data first, Lets creat a pipeline which does it in one go"
   ]
  },
  {
   "cell_type": "markdown",
   "metadata": {},
   "source": [
    "### Preprocessing Pipeline"
   ]
  },
  {
   "cell_type": "markdown",
   "metadata": {},
   "source": [
    "We want use pca so we first have to normalize the data with a scaler."
   ]
  },
  {
   "cell_type": "code",
   "execution_count": 345,
   "metadata": {
    "scrolled": true
   },
   "outputs": [],
   "source": [
    "pre_process = Pipeline([\n",
    "    ('scaler',StandardScaler()),\n",
    "    ('pca',PCA(n_components=0.95))])"
   ]
  },
  {
   "cell_type": "markdown",
   "metadata": {},
   "source": [
    "### Transforming the data"
   ]
  },
  {
   "cell_type": "code",
   "execution_count": 346,
   "metadata": {
    "scrolled": true
   },
   "outputs": [
    {
     "data": {
      "text/plain": [
       "array([[ 4.92028029e+00,  1.94304210e-02,  5.16830439e-01, ...,\n",
       "         3.67070557e-01, -1.48489003e-01,  2.45153195e-01],\n",
       "       [ 2.49507646e+00, -8.65532405e-01,  1.66707660e+00, ...,\n",
       "        -2.01408662e+00,  1.09689531e+00,  1.14287367e+00],\n",
       "       [ 4.06420519e+00,  1.11176965e+00, -1.88307231e+00, ...,\n",
       "        -4.54189610e-01, -1.75731384e-01, -2.25441979e-01],\n",
       "       ...,\n",
       "       [-1.94234598e+00,  1.80687722e-01,  7.40221226e-01, ...,\n",
       "         5.96477470e-01, -7.52971891e-01, -9.59845878e-01],\n",
       "       [ 5.87888485e-01, -2.28637910e+00,  7.25394503e-01, ...,\n",
       "         3.26042640e-01,  9.70970839e-01, -8.42392207e-01],\n",
       "       [ 1.95908546e-01, -3.89484806e+00,  2.73431557e+00, ...,\n",
       "         2.00308586e-01, -2.46071266e-01, -3.68853532e-04]])"
      ]
     },
     "execution_count": 346,
     "metadata": {},
     "output_type": "execute_result"
    }
   ],
   "source": [
    "# we will preprocess the data\n",
    "X_train_transformed = pre_process.fit_transform(X_train)\n",
    "X_test_transformed = pre_process.transform(X_test)\n",
    "X_train_transformed"
   ]
  },
  {
   "cell_type": "markdown",
   "metadata": {},
   "source": [
    "## Model Training"
   ]
  },
  {
   "cell_type": "markdown",
   "metadata": {},
   "source": [
    "The Result of **Model Training** are in an orderly manner in **Model Evaluation**"
   ]
  },
  {
   "cell_type": "code",
   "execution_count": 368,
   "metadata": {},
   "outputs": [],
   "source": [
    "from sklearn.neighbors import KNeighborsClassifier\n",
    "from sklearn.linear_model import LogisticRegression\n",
    "from sklearn.tree import DecisionTreeClassifier\n",
    "from sklearn.ensemble import RandomForestClassifier\n",
    "from sklearn.ensemble import GradientBoostingClassifier\n",
    "from sklearn.ensemble import AdaBoostClassifier\n",
    "from xgboost import XGBClassifier\n",
    "from sklearn.ensemble import BaggingClassifier\n",
    "from sklearn.ensemble import StackingClassifier\n",
    "from sklearn.ensemble import VotingClassifier\n",
    "\n",
    "from sklearn.metrics import confusion_matrix\n",
    "from sklearn.metrics import classification_report\n",
    "from sklearn.metrics import accuracy_score\n",
    "\n",
    "from sklearn.model_selection import cross_val_score\n",
    "from sklearn.model_selection import GridSearchCV, KFold"
   ]
  },
  {
   "cell_type": "markdown",
   "metadata": {},
   "source": [
    "This next function prints out the Result of the grid search in an orderly manner\n",
    "- On the list of all the result, the first acuracy score is of the train set and the second of the test set, so that it is possible to see if there is overfitting"
   ]
  },
  {
   "cell_type": "code",
   "execution_count": 372,
   "metadata": {},
   "outputs": [],
   "source": [
    "kf = KFold(n_splits=3, shuffle=True, random_state=42)\n",
    "\n",
    "def grid_search(model, grid_param):\n",
    "    print(\"Obtaining Best Model for {}\".format(model.__class__.__name__))\n",
    "    grid_search = GridSearchCV(model, grid_param, cv=kf, scoring='accuracy', return_train_score=True, n_jobs=-1)\n",
    "    grid_search.fit(X_train_transformed, y_train)\n",
    "    \n",
    "    print(\"Best Parameters: \", grid_search.best_params_)\n",
    "    print(\"Best Scores: \", grid_search.best_score_)\n",
    "    \n",
    "    cvres = grid_search.cv_results_\n",
    "    print(\"\\nResults for each run of {}...\".format(model.__class__.__name__))\n",
    "    for train_mean_score, test_mean_score, params in zip(cvres[\"mean_train_score\"], cvres[\"mean_test_score\"], cvres[\"params\"]):\n",
    "        print(train_mean_score, test_mean_score, params)\n",
    "        \n",
    "    return grid_search.best_estimator_"
   ]
  },
  {
   "cell_type": "markdown",
   "metadata": {},
   "source": [
    "### KNN"
   ]
  },
  {
   "cell_type": "code",
   "execution_count": 348,
   "metadata": {
    "scrolled": false
   },
   "outputs": [
    {
     "name": "stdout",
     "output_type": "stream",
     "text": [
      "              precision    recall  f1-score   support\n",
      "\n",
      "           1       0.81      0.82      0.82      2024\n",
      "           2       0.81      0.81      0.81      1985\n",
      "           3       1.00      0.98      0.99      1981\n",
      "\n",
      "    accuracy                           0.87      5990\n",
      "   macro avg       0.87      0.87      0.87      5990\n",
      "weighted avg       0.87      0.87      0.87      5990\n",
      "\n",
      "Accuracy:  0.8721202003338898\n"
     ]
    },
    {
     "data": {
      "image/png": "[encoded data removed]",
      "text/plain": [
       "<Figure size 432x288 with 2 Axes>"
      ]
     },
     "metadata": {
      "needs_background": "light"
     },
     "output_type": "display_data"
    }
   ],
   "source": [
    "#fit the model\n",
    "Knn = KNeighborsClassifier(n_neighbors=5,n_jobs=-1)\n",
    "Knn.fit(X_train_transformed,y_train)\n",
    "\n",
    "#make predictions\n",
    "PredicKnn = Knn.predict(X_test_transformed)\n",
    "\n",
    "#evaluate predictions\n",
    "confmat = confusion_matrix(y_test, PredicKnn)\n",
    "sns.heatmap(confmat, annot = True, fmt = \"d\")\n",
    "class_rep = classification_report(y_test, PredicKnn)\n",
    "Knn_score = accuracy_score(y_test, PredicKnn)\n",
    "print(class_rep)\n",
    "print(\"Accuracy: \", Knn_score)"
   ]
  },
  {
   "cell_type": "markdown",
   "metadata": {},
   "source": [
    "#### Grid Search"
   ]
  },
  {
   "cell_type": "code",
   "execution_count": 370,
   "metadata": {},
   "outputs": [
    {
     "name": "stdout",
     "output_type": "stream",
     "text": [
      "Obtaining Best Model for KNeighborsClassifier\n",
      "Best Parameters:  {'algorithm': 'auto', 'n_neighbors': 4}\n",
      "Best Scores:  0.9674361731319902\n",
      "\n",
      "Results for each run of KNeighborsClassifier...\n",
      "0.9852316381709452 0.9674361731319902 {'algorithm': 'auto', 'n_neighbors': 4}\n",
      "0.9782093662852878 0.9631494904873508 {'algorithm': 'auto', 'n_neighbors': 6}\n",
      "0.9721929711658248 0.9589755827190991 {'algorithm': 'auto', 'n_neighbors': 8}\n",
      "0.9672670569488048 0.955328082619935 {'algorithm': 'auto', 'n_neighbors': 10}\n",
      "0.9623787296455582 0.9522070821066857 {'algorithm': 'auto', 'n_neighbors': 12}\n",
      "0.9585150906810584 0.9490484593290311 {'algorithm': 'auto', 'n_neighbors': 14}\n",
      "0.955309467048156 0.9455138613757079 {'algorithm': 'auto', 'n_neighbors': 16}\n",
      "0.9526678985319462 0.9438216867289283 {'algorithm': 'auto', 'n_neighbors': 18}\n",
      "0.9852316381709452 0.9674361731319902 {'algorithm': 'kd_tree', 'n_neighbors': 4}\n",
      "0.9782093662852878 0.9631494904873508 {'algorithm': 'kd_tree', 'n_neighbors': 6}\n",
      "0.9721929711658248 0.9589755827190991 {'algorithm': 'kd_tree', 'n_neighbors': 8}\n",
      "0.9672670569488048 0.955328082619935 {'algorithm': 'kd_tree', 'n_neighbors': 10}\n",
      "0.9623787296455582 0.9522070821066857 {'algorithm': 'kd_tree', 'n_neighbors': 12}\n",
      "0.9585150906810584 0.9490484593290311 {'algorithm': 'kd_tree', 'n_neighbors': 14}\n",
      "0.955309467048156 0.9455138613757079 {'algorithm': 'kd_tree', 'n_neighbors': 16}\n",
      "0.9526678985319462 0.9438216867289283 {'algorithm': 'kd_tree', 'n_neighbors': 18}\n"
     ]
    }
   ],
   "source": [
    "Knn_param_grid = [{'n_neighbors':[4,6,8,10,12,14,16,18], 'algorithm':['auto', 'kd_tree']}]\n",
    "Knn_grid_Search = grid_search(Knn, Knn_param_grid)"
   ]
  },
  {
   "cell_type": "code",
   "execution_count": 375,
   "metadata": {},
   "outputs": [],
   "source": [
    "Knn_grid_Search.n_neighbors = 18\n",
    "Knn_grid_Search.algorithm = 'auto'"
   ]
  },
  {
   "cell_type": "markdown",
   "metadata": {},
   "source": [
    "#### Result of Grid Search"
   ]
  },
  {
   "cell_type": "code",
   "execution_count": 376,
   "metadata": {},
   "outputs": [
    {
     "name": "stdout",
     "output_type": "stream",
     "text": [
      "              precision    recall  f1-score   support\n",
      "\n",
      "           1       0.80      0.87      0.83      2024\n",
      "           2       0.84      0.79      0.81      1985\n",
      "           3       1.00      0.98      0.99      1981\n",
      "\n",
      "    accuracy                           0.88      5990\n",
      "   macro avg       0.88      0.88      0.88      5990\n",
      "weighted avg       0.88      0.88      0.88      5990\n",
      "\n",
      "Accuracy:  0.8774624373956594\n"
     ]
    },
    {
     "data": {
      "image/png": "[encoded data removed]",
      "text/plain": [
       "<Figure size 432x288 with 2 Axes>"
      ]
     },
     "metadata": {
      "needs_background": "light"
     },
     "output_type": "display_data"
    }
   ],
   "source": [
    "PredicKnn2 = Knn_grid_Search.predict(X_test_transformed)\n",
    "\n",
    "#evaluate predictions\n",
    "confmat = confusion_matrix(y_test, PredicKnn2)\n",
    "sns.heatmap(confmat, annot = True, fmt = \"d\")\n",
    "class_rep = classification_report(y_test, PredicKnn2)\n",
    "Knn_score2 = accuracy_score(y_test, PredicKnn2)\n",
    "print(class_rep)\n",
    "print(\"Accuracy: \", Knn_score2)"
   ]
  },
  {
   "cell_type": "markdown",
   "metadata": {},
   "source": [
    "### Logistic Regression"
   ]
  },
  {
   "cell_type": "code",
   "execution_count": 349,
   "metadata": {
    "scrolled": false
   },
   "outputs": [
    {
     "name": "stdout",
     "output_type": "stream",
     "text": [
      "              precision    recall  f1-score   support\n",
      "\n",
      "           1       0.70      0.94      0.80      2024\n",
      "           2       0.90      0.60      0.72      1985\n",
      "           3       1.00      1.00      1.00      1981\n",
      "\n",
      "    accuracy                           0.84      5990\n",
      "   macro avg       0.87      0.84      0.84      5990\n",
      "weighted avg       0.87      0.84      0.84      5990\n",
      "\n",
      "Accuracy:  0.8440734557595994\n"
     ]
    },
    {
     "data": {
      "image/png": "[encoded data removed]",
      "text/plain": [
       "<Figure size 432x288 with 2 Axes>"
      ]
     },
     "metadata": {
      "needs_background": "light"
     },
     "output_type": "display_data"
    }
   ],
   "source": [
    "#fit the model\n",
    "logR = LogisticRegression(random_state=42, n_jobs=-1)\n",
    "logR.fit(X_train_transformed,y_train)\n",
    "\n",
    "#make predictions\n",
    "PredicLogR = logR.predict(X_test_transformed)\n",
    "\n",
    "#evaluate predictions\n",
    "confmat = confusion_matrix(y_test, PredicLogR)\n",
    "sns.heatmap(confmat, annot = True, fmt = \"d\")\n",
    "class_rep = classification_report(y_test, PredicLogR)\n",
    "logR_score = accuracy_score(y_test, PredicLogR)\n",
    "print(class_rep)\n",
    "print(\"Accuracy: \", logR_score)"
   ]
  },
  {
   "cell_type": "markdown",
   "metadata": {},
   "source": [
    "### Desicion Tree"
   ]
  },
  {
   "cell_type": "code",
   "execution_count": 350,
   "metadata": {},
   "outputs": [
    {
     "name": "stdout",
     "output_type": "stream",
     "text": [
      "              precision    recall  f1-score   support\n",
      "\n",
      "           1       0.70      0.82      0.76      2024\n",
      "           2       0.77      0.65      0.71      1985\n",
      "           3       0.99      0.97      0.98      1981\n",
      "\n",
      "    accuracy                           0.82      5990\n",
      "   macro avg       0.82      0.82      0.82      5990\n",
      "weighted avg       0.82      0.82      0.82      5990\n",
      "\n",
      "Accuracy:  0.8158597662771285\n"
     ]
    },
    {
     "data": {
      "image/png": "[encoded data removed]",
      "text/plain": [
       "<Figure size 432x288 with 2 Axes>"
      ]
     },
     "metadata": {
      "needs_background": "light"
     },
     "output_type": "display_data"
    }
   ],
   "source": [
    "#fit the model\n",
    "dTree = DecisionTreeClassifier(random_state=42)\n",
    "dTree.fit(X_train_transformed,y_train)\n",
    "\n",
    "#make predictions\n",
    "PredicDeTree = dTree.predict(X_test_transformed)\n",
    "\n",
    "#evaluate predictions\n",
    "confmat = confusion_matrix(y_test, PredicDeTree)\n",
    "sns.heatmap(confmat, annot = True, fmt = \"d\")\n",
    "class_rep = classification_report(y_test, PredicDeTree)\n",
    "dTree_score = accuracy_score(y_test, PredicDeTree)\n",
    "print(class_rep)\n",
    "print(\"Accuracy: \", dTree_score)"
   ]
  },
  {
   "cell_type": "markdown",
   "metadata": {},
   "source": [
    "### Random Forest"
   ]
  },
  {
   "cell_type": "code",
   "execution_count": 351,
   "metadata": {},
   "outputs": [
    {
     "name": "stdout",
     "output_type": "stream",
     "text": [
      "              precision    recall  f1-score   support\n",
      "\n",
      "           1       0.73      0.96      0.83      2024\n",
      "           2       0.94      0.64      0.76      1985\n",
      "           3       1.00      0.99      0.99      1981\n",
      "\n",
      "    accuracy                           0.87      5990\n",
      "   macro avg       0.89      0.86      0.86      5990\n",
      "weighted avg       0.89      0.87      0.86      5990\n",
      "\n",
      "Accuracy:  0.8654424040066778\n"
     ]
    },
    {
     "data": {
      "image/png": "[encoded data removed]",
      "text/plain": [
       "<Figure size 432x288 with 2 Axes>"
      ]
     },
     "metadata": {
      "needs_background": "light"
     },
     "output_type": "display_data"
    }
   ],
   "source": [
    "#fit the model\n",
    "RFor = RandomForestClassifier(random_state=42)\n",
    "RFor.fit(X_train_transformed,y_train)\n",
    "\n",
    "#make predictions\n",
    "PredicRFor = RFor.predict(X_test_transformed)\n",
    "\n",
    "#evaluate predictions\n",
    "confmat = confusion_matrix(y_test, PredicRFor)\n",
    "sns.heatmap(confmat, annot = True, fmt = \"d\")\n",
    "class_rep = classification_report(y_test, PredicRFor)\n",
    "RFor_score = accuracy_score(y_test, PredicRFor)\n",
    "print(class_rep)\n",
    "print(\"Accuracy: \", RFor_score)"
   ]
  },
  {
   "cell_type": "markdown",
   "metadata": {},
   "source": [
    "#### Grid Search"
   ]
  },
  {
   "cell_type": "code",
   "execution_count": 397,
   "metadata": {},
   "outputs": [
    {
     "name": "stdout",
     "output_type": "stream",
     "text": [
      "Obtaining Best Model for RandomForestClassifier\n",
      "Best Parameters:  {'max_depth': 14, 'max_features': 'sqrt'}\n",
      "Best Scores:  0.9329548200273795\n",
      "\n",
      "Results for each run of RandomForestClassifier...\n",
      "0.9379558832058149 0.8932843560955447 {'max_depth': 9, 'max_features': None}\n",
      "0.936132263956761 0.8997142676312627 {'max_depth': 9, 'max_features': 'sqrt'}\n",
      "0.936132263956761 0.8997142676312627 {'max_depth': 9, 'max_features': 'auto'}\n",
      "0.9805970645919132 0.9159586223829429 {'max_depth': 12, 'max_features': None}\n",
      "0.9822516222625253 0.9229150334981941 {'max_depth': 12, 'max_features': 'sqrt'}\n",
      "0.9822516222625253 0.9229150334981941 {'max_depth': 12, 'max_features': 'auto'}\n",
      "0.9909565777616719 0.922990337411758 {'max_depth': 14, 'max_features': None}\n",
      "0.9941152072377605 0.9329548200273795 {'max_depth': 14, 'max_features': 'sqrt'}\n",
      "0.9941152072377605 0.9329548200273795 {'max_depth': 14, 'max_features': 'auto'}\n"
     ]
    }
   ],
   "source": [
    "RFor_param_grid = [{'max_depth':[9, 12, 14], 'max_features':[None, 'sqrt', 'auto']}]\n",
    "RFor_grid_Search = grid_search(RFor, RFor_param_grid)"
   ]
  },
  {
   "cell_type": "markdown",
   "metadata": {},
   "source": [
    "#### Result of Grid Search"
   ]
  },
  {
   "cell_type": "code",
   "execution_count": 398,
   "metadata": {},
   "outputs": [
    {
     "name": "stdout",
     "output_type": "stream",
     "text": [
      "              precision    recall  f1-score   support\n",
      "\n",
      "           1       0.73      0.96      0.83      2024\n",
      "           2       0.93      0.64      0.76      1985\n",
      "           3       1.00      0.99      0.99      1981\n",
      "\n",
      "    accuracy                           0.86      5990\n",
      "   macro avg       0.89      0.86      0.86      5990\n",
      "weighted avg       0.88      0.86      0.86      5990\n",
      "\n",
      "Accuracy:  0.86110183639399\n"
     ]
    },
    {
     "data": {
      "image/png": "[encoded data removed]",
      "text/plain": [
       "<Figure size 432x288 with 2 Axes>"
      ]
     },
     "metadata": {
      "needs_background": "light"
     },
     "output_type": "display_data"
    }
   ],
   "source": [
    "PredicRFor2 = RFor_grid_Search.predict(X_test_transformed)\n",
    "\n",
    "#evaluate predictions\n",
    "confmat = confusion_matrix(y_test, PredicRFor2)\n",
    "sns.heatmap(confmat, annot = True, fmt = \"d\")\n",
    "class_rep = classification_report(y_test, PredicRFor2)\n",
    "RFor_score2 = accuracy_score(y_test, PredicRFor2)\n",
    "print(class_rep)\n",
    "print(\"Accuracy: \", RFor_score2)"
   ]
  },
  {
   "cell_type": "markdown",
   "metadata": {},
   "source": [
    "actually worse than without grid searchm"
   ]
  },
  {
   "cell_type": "markdown",
   "metadata": {},
   "source": [
    "### Gradient Boost"
   ]
  },
  {
   "cell_type": "code",
   "execution_count": 352,
   "metadata": {},
   "outputs": [
    {
     "name": "stdout",
     "output_type": "stream",
     "text": [
      "              precision    recall  f1-score   support\n",
      "\n",
      "           1       0.72      0.94      0.81      2024\n",
      "           2       0.91      0.62      0.74      1985\n",
      "           3       1.00      0.99      0.99      1981\n",
      "\n",
      "    accuracy                           0.85      5990\n",
      "   macro avg       0.87      0.85      0.85      5990\n",
      "weighted avg       0.87      0.85      0.85      5990\n",
      "\n",
      "Accuracy:  0.8524207011686143\n"
     ]
    },
    {
     "data": {
      "image/png": "[encoded data removed]",
      "text/plain": [
       "<Figure size 432x288 with 2 Axes>"
      ]
     },
     "metadata": {
      "needs_background": "light"
     },
     "output_type": "display_data"
    }
   ],
   "source": [
    "#fit the model\n",
    "gradB = GradientBoostingClassifier(random_state=42)\n",
    "gradB.fit(X_train_transformed,y_train)\n",
    "\n",
    "#make predictions\n",
    "PredicGradB = gradB.predict(X_test_transformed)\n",
    "\n",
    "#evaluate predictions\n",
    "confmat = confusion_matrix(y_test, PredicGradB)\n",
    "sns.heatmap(confmat, annot = True, fmt = \"d\")\n",
    "class_rep = classification_report(y_test, PredicGradB)\n",
    "gradB_score = accuracy_score(y_test, PredicGradB)\n",
    "print(class_rep)\n",
    "print(\"Accuracy: \", gradB_score)"
   ]
  },
  {
   "cell_type": "markdown",
   "metadata": {},
   "source": [
    "#### Grid Search"
   ]
  },
  {
   "cell_type": "code",
   "execution_count": 386,
   "metadata": {},
   "outputs": [
    {
     "name": "stdout",
     "output_type": "stream",
     "text": [
      "Obtaining Best Model for GradientBoostingClassifier\n",
      "Best Parameters:  {'max_depth': 16, 'max_features': 'sqrt'}\n",
      "Best Scores:  0.9553282312301855\n",
      "\n",
      "Results for each run of GradientBoostingClassifier...\n",
      "0.9174061824940981 0.8961044265737635 {'max_depth': 3, 'max_features': None}\n",
      "0.9097729227478215 0.8886215540569431 {'max_depth': 3, 'max_features': 'sqrt'}\n",
      "0.9174061824940981 0.8961044265737635 {'max_depth': 3, 'max_features': 'auto'}\n",
      "1.0 0.9501391714058247 {'max_depth': 8, 'max_features': None}\n",
      "0.9998871915393156 0.9523577183626846 {'max_depth': 8, 'max_features': 'sqrt'}\n",
      "1.0 0.9501391714058247 {'max_depth': 8, 'max_features': 'auto'}\n",
      "1.0 0.9388208218205562 {'max_depth': 16, 'max_features': None}\n",
      "1.0 0.9553282312301855 {'max_depth': 16, 'max_features': 'sqrt'}\n",
      "1.0 0.9388208218205562 {'max_depth': 16, 'max_features': 'auto'}\n"
     ]
    }
   ],
   "source": [
    "gradB_param_grid = [{'max_depth':[3, 8, 16], 'max_features':[None, 'sqrt', 'auto']}]\n",
    "gradB_grid_Search = grid_search(gradB, gradB_param_grid)"
   ]
  },
  {
   "cell_type": "code",
   "execution_count": 388,
   "metadata": {},
   "outputs": [],
   "source": [
    "gradB_grid_Search.max_depth = 3\n",
    "gradB_grid_Search.max_features = 'sqrt'"
   ]
  },
  {
   "cell_type": "markdown",
   "metadata": {},
   "source": [
    "#### Result of Grid Search"
   ]
  },
  {
   "cell_type": "code",
   "execution_count": 389,
   "metadata": {},
   "outputs": [
    {
     "name": "stdout",
     "output_type": "stream",
     "text": [
      "              precision    recall  f1-score   support\n",
      "\n",
      "           1       0.74      0.96      0.84      2024\n",
      "           2       0.93      0.66      0.77      1985\n",
      "           3       1.00      0.99      0.99      1981\n",
      "\n",
      "    accuracy                           0.87      5990\n",
      "   macro avg       0.89      0.87      0.87      5990\n",
      "weighted avg       0.89      0.87      0.87      5990\n",
      "\n",
      "Accuracy:  0.8706176961602671\n"
     ]
    },
    {
     "data": {
      "image/png": "[encoded data removed]",
      "text/plain": [
       "<Figure size 432x288 with 2 Axes>"
      ]
     },
     "metadata": {
      "needs_background": "light"
     },
     "output_type": "display_data"
    }
   ],
   "source": [
    "PredicGradB2 = gradB_grid_Search.predict(X_test_transformed)\n",
    "\n",
    "#evaluate predictions\n",
    "confmat = confusion_matrix(y_test, PredicGradB2)\n",
    "sns.heatmap(confmat, annot = True, fmt = \"d\")\n",
    "class_rep = classification_report(y_test, PredicGradB2)\n",
    "gradB_score2 = accuracy_score(y_test, PredicGradB2)\n",
    "print(class_rep)\n",
    "print(\"Accuracy: \", gradB_score2)"
   ]
  },
  {
   "cell_type": "markdown",
   "metadata": {},
   "source": [
    "### Ada Boost"
   ]
  },
  {
   "cell_type": "code",
   "execution_count": 353,
   "metadata": {},
   "outputs": [
    {
     "name": "stdout",
     "output_type": "stream",
     "text": [
      "              precision    recall  f1-score   support\n",
      "\n",
      "           1       0.70      0.83      0.76      2024\n",
      "           2       0.77      0.65      0.71      1985\n",
      "           3       0.99      0.97      0.98      1981\n",
      "\n",
      "    accuracy                           0.82      5990\n",
      "   macro avg       0.82      0.82      0.82      5990\n",
      "weighted avg       0.82      0.82      0.82      5990\n",
      "\n",
      "Accuracy:  0.8155258764607679\n"
     ]
    },
    {
     "data": {
      "image/png": "[encoded data removed]",
      "text/plain": [
       "<Figure size 432x288 with 2 Axes>"
      ]
     },
     "metadata": {
      "needs_background": "light"
     },
     "output_type": "display_data"
    }
   ],
   "source": [
    "adaB = AdaBoostClassifier(dTree,random_state=42)\n",
    "adaB.fit(X_train_transformed,y_train)\n",
    "\n",
    "#make predictions\n",
    "PredicAdaB = adaB.predict(X_test_transformed)\n",
    "\n",
    "#evaluate predictions\n",
    "confmat = confusion_matrix(y_test, PredicAdaB)\n",
    "sns.heatmap(confmat, annot = True, fmt = \"d\")\n",
    "class_rep = classification_report(y_test, PredicAdaB)\n",
    "adaB_score = accuracy_score(y_test, PredicAdaB)\n",
    "print(class_rep)\n",
    "print(\"Accuracy: \", adaB_score)"
   ]
  },
  {
   "cell_type": "markdown",
   "metadata": {},
   "source": [
    "### XG boost"
   ]
  },
  {
   "cell_type": "code",
   "execution_count": 354,
   "metadata": {},
   "outputs": [
    {
     "name": "stdout",
     "output_type": "stream",
     "text": [
      "[09:44:53] WARNING: C:/Users/Administrator/workspace/xgboost-win64_release_1.4.0/src/learner.cc:1095: Starting in XGBoost 1.3.0, the default evaluation metric used with the objective 'multi:softprob' was changed from 'merror' to 'mlogloss'. Explicitly set eval_metric if you'd like to restore the old behavior.\n",
      "              precision    recall  f1-score   support\n",
      "\n",
      "           1       0.75      0.90      0.82      2024\n",
      "           2       0.87      0.70      0.78      1985\n",
      "           3       1.00      0.99      1.00      1981\n",
      "\n",
      "    accuracy                           0.87      5990\n",
      "   macro avg       0.87      0.87      0.86      5990\n",
      "weighted avg       0.87      0.87      0.86      5990\n",
      "\n",
      "Accuracy:  0.8656093489148581\n"
     ]
    },
    {
     "data": {
      "image/png": "[encoded data removed]",
      "text/plain": [
       "<Figure size 432x288 with 2 Axes>"
      ]
     },
     "metadata": {
      "needs_background": "light"
     },
     "output_type": "display_data"
    }
   ],
   "source": [
    "#fit the model\n",
    "xgB = XGBClassifier(random_state=42,n_jobs=-1)\n",
    "xgB.fit(X_train_transformed,y_train)\n",
    "\n",
    "#make predictions\n",
    "PredicXgb = xgB.predict(X_test_transformed)\n",
    "\n",
    "#evaluate predictions\n",
    "confmat = confusion_matrix(y_test, PredicXgb)\n",
    "sns.heatmap(confmat, annot = True, fmt = \"d\")\n",
    "class_rep = classification_report(y_test, PredicXgb)\n",
    "xgB_score = accuracy_score(y_test, PredicXgb)\n",
    "print(class_rep)\n",
    "print(\"Accuracy: \", xgB_score)"
   ]
  },
  {
   "cell_type": "markdown",
   "metadata": {},
   "source": [
    "#### Grid Search"
   ]
  },
  {
   "cell_type": "code",
   "execution_count": 383,
   "metadata": {},
   "outputs": [
    {
     "name": "stdout",
     "output_type": "stream",
     "text": [
      "Obtaining Best Model for XGBClassifier\n",
      "[10:50:11] WARNING: C:/Users/Administrator/workspace/xgboost-win64_release_1.4.0/src/learner.cc:1095: Starting in XGBoost 1.3.0, the default evaluation metric used with the objective 'multi:softprob' was changed from 'merror' to 'mlogloss'. Explicitly set eval_metric if you'd like to restore the old behavior.\n",
      "Best Parameters:  {'learning_rate': 1, 'max_depth': 8}\n",
      "Best Scores:  0.957208466277489\n",
      "\n",
      "Results for each run of XGBClassifier...\n",
      "0.842953268639968 0.8299615870291298 {'learning_rate': 0.01, 'max_depth': 4}\n",
      "0.9366398389337088 0.8945250254010721 {'learning_rate': 0.01, 'max_depth': 8}\n",
      "0.9972174096840644 0.9224262325373992 {'learning_rate': 0.01, 'max_depth': 16}\n",
      "0.933669249716261 0.9069340006502132 {'learning_rate': 0.1, 'max_depth': 4}\n",
      "0.997161018709212 0.9464165568838094 {'learning_rate': 0.1, 'max_depth': 8}\n",
      "1.0 0.952771338427801 {'learning_rate': 0.1, 'max_depth': 16}\n",
      "0.999849589426047 0.9416410492526283 {'learning_rate': 1, 'max_depth': 4}\n",
      "1.0 0.957208466277489 {'learning_rate': 1, 'max_depth': 8}\n",
      "1.0 0.9554787584593885 {'learning_rate': 1, 'max_depth': 16}\n"
     ]
    }
   ],
   "source": [
    "xgB_param_grid = [{'max_depth':[4, 8, 16], 'learning_rate':[0.01, 0.1, 1]}]\n",
    "xgB_grid_Search = grid_search(xgB, xgB_param_grid)"
   ]
  },
  {
   "cell_type": "code",
   "execution_count": 384,
   "metadata": {},
   "outputs": [],
   "source": [
    "xgB_grid_Search.max_depth = 8\n",
    "xgB_grid_Search.learning_rate = 0.01"
   ]
  },
  {
   "cell_type": "markdown",
   "metadata": {},
   "source": [
    "#### Result of Grid Search"
   ]
  },
  {
   "cell_type": "code",
   "execution_count": 385,
   "metadata": {},
   "outputs": [
    {
     "name": "stdout",
     "output_type": "stream",
     "text": [
      "              precision    recall  f1-score   support\n",
      "\n",
      "           1       0.77      0.89      0.82      2024\n",
      "           2       0.86      0.72      0.79      1985\n",
      "           3       1.00      1.00      1.00      1981\n",
      "\n",
      "    accuracy                           0.87      5990\n",
      "   macro avg       0.88      0.87      0.87      5990\n",
      "weighted avg       0.88      0.87      0.87      5990\n",
      "\n",
      "Accuracy:  0.8701168614357262\n"
     ]
    },
    {
     "data": {
      "image/png": "[encoded data removed]",
      "text/plain": [
       "<Figure size 432x288 with 2 Axes>"
      ]
     },
     "metadata": {
      "needs_background": "light"
     },
     "output_type": "display_data"
    }
   ],
   "source": [
    "PredicXgb2 = xgB_grid_Search.predict(X_test_transformed)\n",
    "\n",
    "#evaluate predictions\n",
    "confmat = confusion_matrix(y_test, PredicXgb2)\n",
    "sns.heatmap(confmat, annot = True, fmt = \"d\")\n",
    "class_rep = classification_report(y_test, PredicXgb2)\n",
    "xgB_score2 = accuracy_score(y_test, PredicXgb2)\n",
    "print(class_rep)\n",
    "print(\"Accuracy: \", xgB_score2)"
   ]
  },
  {
   "cell_type": "markdown",
   "metadata": {},
   "source": [
    "### Bagging"
   ]
  },
  {
   "cell_type": "code",
   "execution_count": 355,
   "metadata": {},
   "outputs": [
    {
     "name": "stdout",
     "output_type": "stream",
     "text": [
      "              precision    recall  f1-score   support\n",
      "\n",
      "           1       0.81      0.83      0.82      2024\n",
      "           2       0.82      0.81      0.82      1985\n",
      "           3       1.00      0.98      0.99      1981\n",
      "\n",
      "    accuracy                           0.88      5990\n",
      "   macro avg       0.88      0.88      0.88      5990\n",
      "weighted avg       0.88      0.88      0.88      5990\n",
      "\n",
      "Accuracy:  0.8759599332220367\n"
     ]
    },
    {
     "data": {
      "image/png": "[encoded data removed]",
      "text/plain": [
       "<Figure size 432x288 with 2 Axes>"
      ]
     },
     "metadata": {
      "needs_background": "light"
     },
     "output_type": "display_data"
    }
   ],
   "source": [
    "#fit the model\n",
    "bagN = BaggingClassifier(Knn)\n",
    "bagN.fit(X_train_transformed,y_train)\n",
    "\n",
    "#make predictions\n",
    "PredicBagN = bagN.predict(X_test_transformed)\n",
    "\n",
    "#evaluate predictions\n",
    "confmat = confusion_matrix(y_test, PredicBagN)\n",
    "sns.heatmap(confmat, annot = True, fmt = \"d\")\n",
    "class_rep = classification_report(y_test, PredicBagN)\n",
    "bagN_score = accuracy_score(y_test, PredicBagN)\n",
    "print(class_rep)\n",
    "print(\"Accuracy: \", bagN_score)"
   ]
  },
  {
   "cell_type": "markdown",
   "metadata": {},
   "source": [
    "#### Result of Using a Model which underwent Grid Search"
   ]
  },
  {
   "cell_type": "code",
   "execution_count": 380,
   "metadata": {},
   "outputs": [
    {
     "name": "stdout",
     "output_type": "stream",
     "text": [
      "              precision    recall  f1-score   support\n",
      "\n",
      "           1       0.81      0.85      0.83      2024\n",
      "           2       0.83      0.80      0.82      1985\n",
      "           3       1.00      0.98      0.99      1981\n",
      "\n",
      "    accuracy                           0.88      5990\n",
      "   macro avg       0.88      0.88      0.88      5990\n",
      "weighted avg       0.88      0.88      0.88      5990\n",
      "\n",
      "Accuracy:  0.8777963272120201\n"
     ]
    },
    {
     "data": {
      "image/png": "[encoded data removed]",
      "text/plain": [
       "<Figure size 432x288 with 2 Axes>"
      ]
     },
     "metadata": {
      "needs_background": "light"
     },
     "output_type": "display_data"
    }
   ],
   "source": [
    "\n",
    "#fit the model\n",
    "bagN2 = BaggingClassifier(Knn_grid_Search)\n",
    "bagN2.fit(X_train_transformed,y_train)\n",
    "\n",
    "#make predictions\n",
    "PredicBagN2 = bagN2.predict(X_test_transformed)\n",
    "\n",
    "#evaluate predictions\n",
    "confmat = confusion_matrix(y_test, PredicBagN2)\n",
    "sns.heatmap(confmat, annot = True, fmt = \"d\")\n",
    "class_rep = classification_report(y_test, PredicBagN2)\n",
    "bagN_score2 = accuracy_score(y_test, PredicBagN2)\n",
    "print(class_rep)\n",
    "print(\"Accuracy: \", bagN_score2)"
   ]
  },
  {
   "cell_type": "markdown",
   "metadata": {},
   "source": [
    "### Stacking"
   ]
  },
  {
   "cell_type": "code",
   "execution_count": 358,
   "metadata": {},
   "outputs": [
    {
     "name": "stdout",
     "output_type": "stream",
     "text": [
      "[09:57:22] WARNING: C:/Users/Administrator/workspace/xgboost-win64_release_1.4.0/src/learner.cc:1095: Starting in XGBoost 1.3.0, the default evaluation metric used with the objective 'multi:softprob' was changed from 'merror' to 'mlogloss'. Explicitly set eval_metric if you'd like to restore the old behavior.\n",
      "[10:02:12] WARNING: C:/Users/Administrator/workspace/xgboost-win64_release_1.4.0/src/learner.cc:1095: Starting in XGBoost 1.3.0, the default evaluation metric used with the objective 'multi:softprob' was changed from 'merror' to 'mlogloss'. Explicitly set eval_metric if you'd like to restore the old behavior.\n",
      "[10:02:24] WARNING: C:/Users/Administrator/workspace/xgboost-win64_release_1.4.0/src/learner.cc:1095: Starting in XGBoost 1.3.0, the default evaluation metric used with the objective 'multi:softprob' was changed from 'merror' to 'mlogloss'. Explicitly set eval_metric if you'd like to restore the old behavior.\n",
      "[10:02:38] WARNING: C:/Users/Administrator/workspace/xgboost-win64_release_1.4.0/src/learner.cc:1095: Starting in XGBoost 1.3.0, the default evaluation metric used with the objective 'multi:softprob' was changed from 'merror' to 'mlogloss'. Explicitly set eval_metric if you'd like to restore the old behavior.\n",
      "[10:02:52] WARNING: C:/Users/Administrator/workspace/xgboost-win64_release_1.4.0/src/learner.cc:1095: Starting in XGBoost 1.3.0, the default evaluation metric used with the objective 'multi:softprob' was changed from 'merror' to 'mlogloss'. Explicitly set eval_metric if you'd like to restore the old behavior.\n",
      "[10:03:05] WARNING: C:/Users/Administrator/workspace/xgboost-win64_release_1.4.0/src/learner.cc:1095: Starting in XGBoost 1.3.0, the default evaluation metric used with the objective 'multi:softprob' was changed from 'merror' to 'mlogloss'. Explicitly set eval_metric if you'd like to restore the old behavior.\n",
      "              precision    recall  f1-score   support\n",
      "\n",
      "           1       0.81      0.87      0.84      2024\n",
      "           2       0.85      0.79      0.82      1985\n",
      "           3       1.00      0.99      1.00      1981\n",
      "\n",
      "    accuracy                           0.89      5990\n",
      "   macro avg       0.89      0.89      0.89      5990\n",
      "weighted avg       0.89      0.89      0.89      5990\n",
      "\n",
      "Accuracy:  0.8858096828046744\n"
     ]
    },
    {
     "data": {
      "image/png": "[encoded data removed]",
      "text/plain": [
       "<Figure size 432x288 with 2 Axes>"
      ]
     },
     "metadata": {
      "needs_background": "light"
     },
     "output_type": "display_data"
    }
   ],
   "source": [
    "#fit the model\n",
    "estimators=[\n",
    "    ('KNN',Knn),\n",
    "    ('Random Forest',RFor),\n",
    "    ('GRadient Boosting',gradB),\n",
    "    ('XG Boosting',xgB)]\n",
    "Stk = StackingClassifier(estimators = estimators,final_estimator= bagN)\n",
    "Stk.fit(X_train_transformed,y_train)\n",
    "\n",
    "#make predictions\n",
    "PredicStk = Stk.predict(X_test_transformed)\n",
    "#evaluate predictions\n",
    "confmat = confusion_matrix(y_test, PredicStk)\n",
    "sns.heatmap(confmat, annot = True, fmt = \"d\")\n",
    "class_rep = classification_report(y_test, PredicStk)\n",
    "Stk_score = accuracy_score(y_test, PredicStk)\n",
    "print(class_rep)\n",
    "print(\"Accuracy: \", Stk_score)"
   ]
  },
  {
   "cell_type": "markdown",
   "metadata": {},
   "source": [
    "#### Result of Using a Model which underwent Grid Search"
   ]
  },
  {
   "cell_type": "code",
   "execution_count": 401,
   "metadata": {},
   "outputs": [
    {
     "name": "stdout",
     "output_type": "stream",
     "text": [
      "[11:28:29] WARNING: C:/Users/Administrator/workspace/xgboost-win64_release_1.4.0/src/learner.cc:1095: Starting in XGBoost 1.3.0, the default evaluation metric used with the objective 'multi:softprob' was changed from 'merror' to 'mlogloss'. Explicitly set eval_metric if you'd like to restore the old behavior.\n",
      "[11:30:04] WARNING: C:/Users/Administrator/workspace/xgboost-win64_release_1.4.0/src/learner.cc:1095: Starting in XGBoost 1.3.0, the default evaluation metric used with the objective 'multi:softprob' was changed from 'merror' to 'mlogloss'. Explicitly set eval_metric if you'd like to restore the old behavior.\n",
      "[11:30:22] WARNING: C:/Users/Administrator/workspace/xgboost-win64_release_1.4.0/src/learner.cc:1095: Starting in XGBoost 1.3.0, the default evaluation metric used with the objective 'multi:softprob' was changed from 'merror' to 'mlogloss'. Explicitly set eval_metric if you'd like to restore the old behavior.\n",
      "[11:30:40] WARNING: C:/Users/Administrator/workspace/xgboost-win64_release_1.4.0/src/learner.cc:1095: Starting in XGBoost 1.3.0, the default evaluation metric used with the objective 'multi:softprob' was changed from 'merror' to 'mlogloss'. Explicitly set eval_metric if you'd like to restore the old behavior.\n",
      "[11:30:59] WARNING: C:/Users/Administrator/workspace/xgboost-win64_release_1.4.0/src/learner.cc:1095: Starting in XGBoost 1.3.0, the default evaluation metric used with the objective 'multi:softprob' was changed from 'merror' to 'mlogloss'. Explicitly set eval_metric if you'd like to restore the old behavior.\n",
      "[11:31:18] WARNING: C:/Users/Administrator/workspace/xgboost-win64_release_1.4.0/src/learner.cc:1095: Starting in XGBoost 1.3.0, the default evaluation metric used with the objective 'multi:softprob' was changed from 'merror' to 'mlogloss'. Explicitly set eval_metric if you'd like to restore the old behavior.\n",
      "              precision    recall  f1-score   support\n",
      "\n",
      "           1       0.78      0.90      0.84      2024\n",
      "           2       0.88      0.74      0.81      1985\n",
      "           3       1.00      0.99      1.00      1981\n",
      "\n",
      "    accuracy                           0.88      5990\n",
      "   macro avg       0.89      0.88      0.88      5990\n",
      "weighted avg       0.89      0.88      0.88      5990\n",
      "\n",
      "Accuracy:  0.8803005008347246\n"
     ]
    },
    {
     "data": {
      "image/png": "[encoded data removed]",
      "text/plain": [
       "<Figure size 432x288 with 2 Axes>"
      ]
     },
     "metadata": {
      "needs_background": "light"
     },
     "output_type": "display_data"
    }
   ],
   "source": [
    "#fit the model\n",
    "estimators=[\n",
    "    ('KNN',Knn_grid_Search),\n",
    "    ('Random Forest',RFor),\n",
    "    ('GRadient Boosting',gradB_grid_Search),\n",
    "    ('XG Boosting',xgB_grid_Search)]\n",
    "Stk2 = StackingClassifier(estimators = estimators,final_estimator= bagN2)\n",
    "Stk2.fit(X_train_transformed,y_train)\n",
    "\n",
    "#make predictions\n",
    "PredicStk2 = Stk2.predict(X_test_transformed)\n",
    "#evaluate predictions\n",
    "confmat = confusion_matrix(y_test, PredicStk2)\n",
    "sns.heatmap(confmat, annot = True, fmt = \"d\")\n",
    "class_rep = classification_report(y_test, PredicStk2)\n",
    "Stk_score2 = accuracy_score(y_test, PredicStk2)\n",
    "print(class_rep)\n",
    "print(\"Accuracy: \", Stk_score2)"
   ]
  },
  {
   "cell_type": "markdown",
   "metadata": {},
   "source": [
    "### Voting"
   ]
  },
  {
   "cell_type": "code",
   "execution_count": 364,
   "metadata": {},
   "outputs": [],
   "source": [
    "estimatorsVot=[\n",
    "    ('KNN',Knn),\n",
    "    ('Random Forest',RFor),\n",
    "    ('GRadient Boosting',gradB),\n",
    "    ('XG Boosting',xgB),\n",
    "    ('Bagging',bagN)]"
   ]
  },
  {
   "cell_type": "code",
   "execution_count": 403,
   "metadata": {},
   "outputs": [],
   "source": [
    "estimatorsVot2=[\n",
    "    ('KNN',Knn_grid_Search),\n",
    "    ('Random Forest',RFor),\n",
    "    ('GRadient Boosting',gradB_grid_Search),\n",
    "    ('XG Boosting',xgB_grid_Search),\n",
    "    ('Bagging',bagN2)]"
   ]
  },
  {
   "cell_type": "markdown",
   "metadata": {},
   "source": [
    "### Voting - Hard"
   ]
  },
  {
   "cell_type": "code",
   "execution_count": 365,
   "metadata": {
    "scrolled": false
   },
   "outputs": [
    {
     "name": "stdout",
     "output_type": "stream",
     "text": [
      "[10:05:22] WARNING: C:/Users/Administrator/workspace/xgboost-win64_release_1.4.0/src/learner.cc:1095: Starting in XGBoost 1.3.0, the default evaluation metric used with the objective 'multi:softprob' was changed from 'merror' to 'mlogloss'. Explicitly set eval_metric if you'd like to restore the old behavior.\n",
      "              precision    recall  f1-score   support\n",
      "\n",
      "           1       0.76      0.94      0.84      2024\n",
      "           2       0.91      0.70      0.79      1985\n",
      "           3       1.00      0.99      1.00      1981\n",
      "\n",
      "    accuracy                           0.88      5990\n",
      "   macro avg       0.89      0.88      0.88      5990\n",
      "weighted avg       0.89      0.88      0.88      5990\n",
      "\n",
      "Accuracy:  0.8774624373956594\n"
     ]
    },
    {
     "data": {
      "image/png": "[encoded data removed]",
      "text/plain": [
       "<Figure size 432x288 with 2 Axes>"
      ]
     },
     "metadata": {
      "needs_background": "light"
     },
     "output_type": "display_data"
    }
   ],
   "source": [
    "#fit the model\n",
    "votH = VotingClassifier(estimators = estimatorsVot, voting='hard')\n",
    "votH.fit(X_train_transformed,y_train)\n",
    "\n",
    "#make predictions\n",
    "PredicVotH = votH.predict(X_test_transformed)\n",
    "\n",
    "#evaluate predictions\n",
    "confmat = confusion_matrix(y_test, PredicVotH)\n",
    "sns.heatmap(confmat, annot = True, fmt = \"d\")\n",
    "class_rep = classification_report(y_test, PredicVotH)\n",
    "votH_score = accuracy_score(y_test, PredicVotH)\n",
    "print(class_rep)\n",
    "print(\"Accuracy: \", votH_score)"
   ]
  },
  {
   "cell_type": "markdown",
   "metadata": {},
   "source": [
    "#### Result of Using a Model which underwent Grid Search"
   ]
  },
  {
   "cell_type": "code",
   "execution_count": 404,
   "metadata": {},
   "outputs": [
    {
     "name": "stdout",
     "output_type": "stream",
     "text": [
      "[11:32:27] WARNING: C:/Users/Administrator/workspace/xgboost-win64_release_1.4.0/src/learner.cc:1095: Starting in XGBoost 1.3.0, the default evaluation metric used with the objective 'multi:softprob' was changed from 'merror' to 'mlogloss'. Explicitly set eval_metric if you'd like to restore the old behavior.\n",
      "              precision    recall  f1-score   support\n",
      "\n",
      "           1       0.74      0.95      0.83      2024\n",
      "           2       0.92      0.67      0.78      1985\n",
      "           3       1.00      0.99      0.99      1981\n",
      "\n",
      "    accuracy                           0.87      5990\n",
      "   macro avg       0.89      0.87      0.87      5990\n",
      "weighted avg       0.89      0.87      0.87      5990\n",
      "\n",
      "Accuracy:  0.8711185308848081\n"
     ]
    },
    {
     "data": {
      "image/png": "[encoded data removed]",
      "text/plain": [
       "<Figure size 432x288 with 2 Axes>"
      ]
     },
     "metadata": {
      "needs_background": "light"
     },
     "output_type": "display_data"
    }
   ],
   "source": [
    "#fit the model\n",
    "votH2 = VotingClassifier(estimators = estimatorsVot2, voting='hard')\n",
    "votH2.fit(X_train_transformed,y_train)\n",
    "\n",
    "#make predictions\n",
    "PredicVotH2 = votH2.predict(X_test_transformed)\n",
    "\n",
    "#evaluate predictions\n",
    "confmat = confusion_matrix(y_test, PredicVotH2)\n",
    "sns.heatmap(confmat, annot = True, fmt = \"d\")\n",
    "class_rep = classification_report(y_test, PredicVotH2)\n",
    "votH_score2 = accuracy_score(y_test, PredicVotH2)\n",
    "print(class_rep)\n",
    "print(\"Accuracy: \", votH_score2)"
   ]
  },
  {
   "cell_type": "markdown",
   "metadata": {},
   "source": [
    "### Voting - Soft"
   ]
  },
  {
   "cell_type": "code",
   "execution_count": 366,
   "metadata": {},
   "outputs": [
    {
     "name": "stdout",
     "output_type": "stream",
     "text": [
      "[10:07:06] WARNING: C:/Users/Administrator/workspace/xgboost-win64_release_1.4.0/src/learner.cc:1095: Starting in XGBoost 1.3.0, the default evaluation metric used with the objective 'multi:softprob' was changed from 'merror' to 'mlogloss'. Explicitly set eval_metric if you'd like to restore the old behavior.\n",
      "              precision    recall  f1-score   support\n",
      "\n",
      "           1       0.78      0.92      0.85      2024\n",
      "           2       0.90      0.74      0.81      1985\n",
      "           3       1.00      1.00      1.00      1981\n",
      "\n",
      "    accuracy                           0.89      5990\n",
      "   macro avg       0.89      0.89      0.89      5990\n",
      "weighted avg       0.89      0.89      0.88      5990\n",
      "\n",
      "Accuracy:  0.8858096828046744\n"
     ]
    },
    {
     "data": {
      "image/png": "[encoded data removed]",
      "text/plain": [
       "<Figure size 432x288 with 2 Axes>"
      ]
     },
     "metadata": {
      "needs_background": "light"
     },
     "output_type": "display_data"
    }
   ],
   "source": [
    "#fit the model\n",
    "votS = VotingClassifier(estimators = estimatorsVot, voting='soft')\n",
    "votS.fit(X_train_transformed,y_train)\n",
    "\n",
    "#make predictions\n",
    "PredicVotS = votS.predict(X_test_transformed)\n",
    "\n",
    "#evaluate predictions\n",
    "confmat = confusion_matrix(y_test, PredicVotS)\n",
    "sns.heatmap(confmat, annot = True, fmt = \"d\")\n",
    "class_rep = classification_report(y_test, PredicVotS)\n",
    "votS_score = accuracy_score(y_test, PredicVotS)\n",
    "print(class_rep)\n",
    "print(\"Accuracy: \", votS_score)"
   ]
  },
  {
   "cell_type": "markdown",
   "metadata": {},
   "source": [
    "#### Result of Using a Model which underwent Grid Search"
   ]
  },
  {
   "cell_type": "code",
   "execution_count": 405,
   "metadata": {},
   "outputs": [
    {
     "name": "stdout",
     "output_type": "stream",
     "text": [
      "[11:33:37] WARNING: C:/Users/Administrator/workspace/xgboost-win64_release_1.4.0/src/learner.cc:1095: Starting in XGBoost 1.3.0, the default evaluation metric used with the objective 'multi:softprob' was changed from 'merror' to 'mlogloss'. Explicitly set eval_metric if you'd like to restore the old behavior.\n",
      "              precision    recall  f1-score   support\n",
      "\n",
      "           1       0.77      0.93      0.84      2024\n",
      "           2       0.90      0.71      0.80      1985\n",
      "           3       1.00      0.99      1.00      1981\n",
      "\n",
      "    accuracy                           0.88      5990\n",
      "   macro avg       0.89      0.88      0.88      5990\n",
      "weighted avg       0.89      0.88      0.88      5990\n",
      "\n",
      "Accuracy:  0.8786310517529216\n"
     ]
    },
    {
     "data": {
      "image/png": "[encoded data removed]",
      "text/plain": [
       "<Figure size 432x288 with 2 Axes>"
      ]
     },
     "metadata": {
      "needs_background": "light"
     },
     "output_type": "display_data"
    }
   ],
   "source": [
    "#fit the model\n",
    "votS2 = VotingClassifier(estimators = estimatorsVot2, voting='soft')\n",
    "votS2.fit(X_train_transformed,y_train)\n",
    "\n",
    "#make predictions\n",
    "PredicVotS2 = votS2.predict(X_test_transformed)\n",
    "\n",
    "#evaluate predictions\n",
    "confmat = confusion_matrix(y_test, PredicVotS2)\n",
    "sns.heatmap(confmat, annot = True, fmt = \"d\")\n",
    "class_rep = classification_report(y_test, PredicVotS2)\n",
    "votS_score2 = accuracy_score(y_test, PredicVotS2)\n",
    "print(class_rep)\n",
    "print(\"Accuracy: \", votS_score2)"
   ]
  },
  {
   "cell_type": "markdown",
   "metadata": {},
   "source": [
    "## Model Evaluation"
   ]
  },
  {
   "cell_type": "code",
   "execution_count": 390,
   "metadata": {},
   "outputs": [
    {
     "data": {
      "text/html": [
       "<div>\n",
       "<style scoped>\n",
       "    .dataframe tbody tr th:only-of-type {\n",
       "        vertical-align: middle;\n",
       "    }\n",
       "\n",
       "    .dataframe tbody tr th {\n",
       "        vertical-align: top;\n",
       "    }\n",
       "\n",
       "    .dataframe thead th {\n",
       "        text-align: right;\n",
       "    }\n",
       "</style>\n",
       "<table border=\"1\" class=\"dataframe\">\n",
       "  <thead>\n",
       "    <tr style=\"text-align: right;\">\n",
       "      <th></th>\n",
       "      <th>Model</th>\n",
       "      <th>Accuracy</th>\n",
       "    </tr>\n",
       "  </thead>\n",
       "  <tbody>\n",
       "    <tr>\n",
       "      <th>0</th>\n",
       "      <td>KNeighborsClassifier</td>\n",
       "      <td>0.877462</td>\n",
       "    </tr>\n",
       "    <tr>\n",
       "      <th>1</th>\n",
       "      <td>LogisticRegressionClassifier</td>\n",
       "      <td>0.844073</td>\n",
       "    </tr>\n",
       "    <tr>\n",
       "      <th>2</th>\n",
       "      <td>DecisionTreeClassifier</td>\n",
       "      <td>0.815860</td>\n",
       "    </tr>\n",
       "    <tr>\n",
       "      <th>3</th>\n",
       "      <td>RandomForestClassifier</td>\n",
       "      <td>0.865442</td>\n",
       "    </tr>\n",
       "    <tr>\n",
       "      <th>4</th>\n",
       "      <td>GradientBoostClassifier</td>\n",
       "      <td>0.870618</td>\n",
       "    </tr>\n",
       "    <tr>\n",
       "      <th>5</th>\n",
       "      <td>AdaBoostClassifier</td>\n",
       "      <td>0.815526</td>\n",
       "    </tr>\n",
       "    <tr>\n",
       "      <th>6</th>\n",
       "      <td>XGBoostClassifier</td>\n",
       "      <td>0.870117</td>\n",
       "    </tr>\n",
       "    <tr>\n",
       "      <th>7</th>\n",
       "      <td>BaggingClassifier</td>\n",
       "      <td>0.877796</td>\n",
       "    </tr>\n",
       "    <tr>\n",
       "      <th>8</th>\n",
       "      <td>StackingClassifier</td>\n",
       "      <td>0.885810</td>\n",
       "    </tr>\n",
       "    <tr>\n",
       "      <th>9</th>\n",
       "      <td>VotingClassifier(Hard)</td>\n",
       "      <td>0.877462</td>\n",
       "    </tr>\n",
       "    <tr>\n",
       "      <th>10</th>\n",
       "      <td>VotingClassifier(Soft)</td>\n",
       "      <td>0.885810</td>\n",
       "    </tr>\n",
       "  </tbody>\n",
       "</table>\n",
       "</div>"
      ],
      "text/plain": [
       "                           Model  Accuracy\n",
       "0           KNeighborsClassifier  0.877462\n",
       "1   LogisticRegressionClassifier  0.844073\n",
       "2         DecisionTreeClassifier  0.815860\n",
       "3         RandomForestClassifier  0.865442\n",
       "4        GradientBoostClassifier  0.870618\n",
       "5             AdaBoostClassifier  0.815526\n",
       "6              XGBoostClassifier  0.870117\n",
       "7              BaggingClassifier  0.877796\n",
       "8             StackingClassifier  0.885810\n",
       "9         VotingClassifier(Hard)  0.877462\n",
       "10        VotingClassifier(Soft)  0.885810"
      ]
     },
     "execution_count": 390,
     "metadata": {},
     "output_type": "execute_result"
    }
   ],
   "source": [
    "Scores = pd.DataFrame({\n",
    "    'Model':['KNeighborsClassifier','LogisticRegressionClassifier','DecisionTreeClassifier','RandomForestClassifier','GradientBoostClassifier','AdaBoostClassifier','XGBoostClassifier','BaggingClassifier','StackingClassifier','VotingClassifier(Hard)','VotingClassifier(Soft)'],\n",
    "    'Accuracy':[Knn_score2,logR_score,dTree_score,RFor_score,gradB_score2,adaB_score,xgB_score2,bagN_score2,Stk_score,votH_score,votS_score]})\n",
    "Scores"
   ]
  },
  {
   "cell_type": "markdown",
   "metadata": {},
   "source": [
    "### Conclusion"
   ]
  },
  {
   "cell_type": "markdown",
   "metadata": {},
   "source": [
    "**Which is the best classifier?**"
   ]
  },
  {
   "cell_type": "code",
   "execution_count": 378,
   "metadata": {
    "scrolled": true
   },
   "outputs": [
    {
     "name": "stdout",
     "output_type": "stream",
     "text": [
      "The best Classifier is Stacking with a Accuracy of  0.8858096828046744\n"
     ]
    }
   ],
   "source": [
    "print(\"The best Classifier is Stacking with a Accuracy of \",Scores['Accuracy'].max())"
   ]
  },
  {
   "cell_type": "markdown",
   "metadata": {},
   "source": [
    "**What did we Learn?**"
   ]
  },
  {
   "cell_type": "markdown",
   "metadata": {},
   "source": [
    "For the best Models the F1 score for label 3 is 100% while for label 1,2 its in the 80's which shows that understanding if someone is alone or company of another is a lot easier for the model to know then if is someone doing actions Spontanious or in Sync"
   ]
  }
 ],
 "metadata": {
  "kernelspec": {
   "display_name": "Python 3",
   "language": "python",
   "name": "python3"
  },
  "language_info": {
   "codemirror_mode": {
    "name": "ipython",
    "version": 3
   },
   "file_extension": ".py",
   "mimetype": "text/x-python",
   "name": "python",
   "nbconvert_exporter": "python",
   "pygments_lexer": "ipython3",
   "version": "3.8.5"
  }
 },
 "nbformat": 4,
 "nbformat_minor": 4
}
