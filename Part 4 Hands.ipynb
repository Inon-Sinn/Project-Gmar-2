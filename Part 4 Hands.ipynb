{
 "cells": [
  {
   "cell_type": "markdown",
   "metadata": {},
   "source": [
    "<center><h1> Hands Movement<h1><center>"
   ]
  },
  {
   "cell_type": "markdown",
   "metadata": {},
   "source": [
    "#### What is the hands Movement dataset\n",
    "\n",
    "This is a data set of an experiment were 12 peoples hand movments were recorde for a period of time, the recorded hand movments were of a person alone, 2 people moving their hands in sync and 2 people moving their hand however they want.\n",
    "\n",
    "#### What is the goal if this Model?\n",
    "\n",
    "the goal is  to try make a model which can if given frame of time know if the movement was done alone, in sync or spontanious"
   ]
  },
  {
   "attachments": {},
   "cell_type": "markdown",
   "metadata": {},
   "source": [
    "### Feature description\n",
    "\n",
    "**Time:** The time at which the frame was taken\n",
    "\n",
    "**Frame ID:** ID of the Frame\n",
    "\n",
    "**Hand Type** Left or Right hand\n",
    "\n",
    "**hands** how many hands were recorded during this frame\n",
    "\n",
    "**Position X** hand postion on the x axis\n",
    "\n",
    "**Position Y** hand postion on the y axis\n",
    "\n",
    "**Position Z** hand postion on the z axis (height)\n",
    "\n",
    "**Velocity X** hand movement Velocity on the X axis\n",
    "\n",
    "**Velocity Y** hand movement Velocity on the Y axis\n",
    "\n",
    "**Velocity Z** hand movement Velocity on the Z axis\n",
    "\n",
    "**Pitch** hand position (the position of the hand up or down compared to your wrist an example: stop sign would be 1 and puting the hand horizontal would be 0)\n",
    "\n",
    "**Roll** hand position (how much is the hand rolled, holdin your hand horizontal would be 0)\n",
    "\n",
    "**Yaw** hand position (the position of the hand to the rigth or left compared to your wrist)\n",
    "\n",
    "**Wrist Pos X** wrist postion on the x axis\n",
    "\n",
    "**Wrist Pos Y** wrist postion on the y axis\n",
    "\n",
    "**Wrist Pos Z** wrist postion on the z axis\n",
    "\n",
    "**Elbow pos X** wrist postion on the x axis\n",
    "\n",
    "**Elbow pos Y** wrist postion on the y axis\n",
    "\n",
    "**Elbow pos Z** wrist postion on the z axis\n",
    "\n",
    "**Grab Strenth** only has 0,1: 0 for an open hand and 1 for a closed one\n",
    "\n",
    "**Grab Angle** how closed the hand is: 0 for an open hend and 1 for closed one\n",
    "\n",
    "**Pinch Strength** ???"
   ]
  },
  {
   "cell_type": "markdown",
   "metadata": {},
   "source": [
    "## Libraries"
   ]
  },
  {
   "cell_type": "code",
   "execution_count": null,
   "metadata": {},
   "outputs": [],
   "source": []
  },
  {
   "cell_type": "markdown",
   "metadata": {},
   "source": [
    "## Get the Data"
   ]
  },
  {
   "cell_type": "code",
   "execution_count": null,
   "metadata": {},
   "outputs": [],
   "source": []
  },
  {
   "cell_type": "markdown",
   "metadata": {},
   "source": [
    "## Create a Test set"
   ]
  },
  {
   "cell_type": "code",
   "execution_count": null,
   "metadata": {},
   "outputs": [],
   "source": []
  },
  {
   "cell_type": "markdown",
   "metadata": {},
   "source": [
    "## Model Preproccesing"
   ]
  },
  {
   "cell_type": "code",
   "execution_count": null,
   "metadata": {},
   "outputs": [],
   "source": []
  },
  {
   "cell_type": "markdown",
   "metadata": {},
   "source": [
    "## Model Training"
   ]
  },
  {
   "cell_type": "code",
   "execution_count": null,
   "metadata": {},
   "outputs": [],
   "source": []
  },
  {
   "cell_type": "markdown",
   "metadata": {},
   "source": [
    "## Model Evaluation"
   ]
  },
  {
   "cell_type": "code",
   "execution_count": null,
   "metadata": {},
   "outputs": [],
   "source": []
  }
 ],
 "metadata": {
  "kernelspec": {
   "display_name": "Python 3",
   "language": "python",
   "name": "python3"
  },
  "language_info": {
   "codemirror_mode": {
    "name": "ipython",
    "version": 3
   },
   "file_extension": ".py",
   "mimetype": "text/x-python",
   "name": "python",
   "nbconvert_exporter": "python",
   "pygments_lexer": "ipython3",
   "version": "3.8.5"
  }
 },
 "nbformat": 4,
 "nbformat_minor": 4
}
